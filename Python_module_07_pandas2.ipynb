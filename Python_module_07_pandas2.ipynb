{
 "cells": [
  {
   "cell_type": "markdown",
   "id": "a8796c25-b087-424e-8e53-327138d9f783",
   "metadata": {},
   "source": [
    "# *Python Module 7 : Advanced DataFrames*"
   ]
  },
  {
   "cell_type": "markdown",
   "id": "2b800772-1377-4117-a358-959eb402ad52",
   "metadata": {
    "tags": []
   },
   "source": [
    "## Pandas DataFrames Review"
   ]
  },
  {
   "cell_type": "markdown",
   "id": "506e9743-d463-4707-9324-79abc6876e95",
   "metadata": {},
   "source": [
    "### Import the pandas module as `pd`"
   ]
  },
  {
   "cell_type": "code",
   "execution_count": 3,
   "id": "682a9799-9dc0-4b42-bcd0-04708ff34b33",
   "metadata": {},
   "outputs": [],
   "source": [
    "import pandas as pd"
   ]
  },
  {
   "cell_type": "markdown",
   "id": "6d31448f-f41d-4400-b695-074ce272ea9c",
   "metadata": {},
   "source": [
    "### Read and View data"
   ]
  },
  {
   "cell_type": "code",
   "execution_count": 5,
   "id": "08e01cd1-c8ae-4f87-8882-001345b5ca40",
   "metadata": {},
   "outputs": [],
   "source": [
    "df = pd.read_csv('data/pizza_with_borough.csv')"
   ]
  },
  {
   "cell_type": "code",
   "execution_count": 6,
   "id": "9bab1168-3e51-4a0b-aed4-29eb943f5365",
   "metadata": {},
   "outputs": [
    {
     "data": {
      "text/plain": [
       "Index(['Name', 'location_lat', 'location_lng', 'Date',\n",
       "       'Date Expanded (times in EST)', 'Year', 'Price as number', 'Price',\n",
       "       'Style', 'borough', 'street', 'city', 'state', 'country'],\n",
       "      dtype='object')"
      ]
     },
     "execution_count": 6,
     "metadata": {},
     "output_type": "execute_result"
    }
   ],
   "source": [
    "df.columns"
   ]
  },
  {
   "cell_type": "code",
   "execution_count": 7,
   "id": "a7405fce-f307-44a1-84af-f0afc5057ae8",
   "metadata": {},
   "outputs": [
    {
     "data": {
      "text/html": [
       "<div>\n",
       "<style scoped>\n",
       "    .dataframe tbody tr th:only-of-type {\n",
       "        vertical-align: middle;\n",
       "    }\n",
       "\n",
       "    .dataframe tbody tr th {\n",
       "        vertical-align: top;\n",
       "    }\n",
       "\n",
       "    .dataframe thead th {\n",
       "        text-align: right;\n",
       "    }\n",
       "</style>\n",
       "<table border=\"1\" class=\"dataframe\">\n",
       "  <thead>\n",
       "    <tr style=\"text-align: right;\">\n",
       "      <th></th>\n",
       "      <th>location_lat</th>\n",
       "      <th>location_lng</th>\n",
       "      <th>Year</th>\n",
       "      <th>Price as number</th>\n",
       "    </tr>\n",
       "  </thead>\n",
       "  <tbody>\n",
       "    <tr>\n",
       "      <th>count</th>\n",
       "      <td>466.000000</td>\n",
       "      <td>466.000000</td>\n",
       "      <td>466.000000</td>\n",
       "      <td>466.000000</td>\n",
       "    </tr>\n",
       "    <tr>\n",
       "      <th>mean</th>\n",
       "      <td>40.718921</td>\n",
       "      <td>-73.943040</td>\n",
       "      <td>2017.373391</td>\n",
       "      <td>2.685343</td>\n",
       "    </tr>\n",
       "    <tr>\n",
       "      <th>std</th>\n",
       "      <td>0.063688</td>\n",
       "      <td>0.076291</td>\n",
       "      <td>3.013600</td>\n",
       "      <td>0.803061</td>\n",
       "    </tr>\n",
       "    <tr>\n",
       "      <th>min</th>\n",
       "      <td>40.525698</td>\n",
       "      <td>-74.201928</td>\n",
       "      <td>2014.000000</td>\n",
       "      <td>1.000000</td>\n",
       "    </tr>\n",
       "    <tr>\n",
       "      <th>25%</th>\n",
       "      <td>40.686295</td>\n",
       "      <td>-73.989927</td>\n",
       "      <td>2015.000000</td>\n",
       "      <td>2.250000</td>\n",
       "    </tr>\n",
       "    <tr>\n",
       "      <th>50%</th>\n",
       "      <td>40.718706</td>\n",
       "      <td>-73.964310</td>\n",
       "      <td>2016.000000</td>\n",
       "      <td>2.750000</td>\n",
       "    </tr>\n",
       "    <tr>\n",
       "      <th>75%</th>\n",
       "      <td>40.754684</td>\n",
       "      <td>-73.908135</td>\n",
       "      <td>2021.000000</td>\n",
       "      <td>3.000000</td>\n",
       "    </tr>\n",
       "    <tr>\n",
       "      <th>max</th>\n",
       "      <td>40.903661</td>\n",
       "      <td>-73.699830</td>\n",
       "      <td>2022.000000</td>\n",
       "      <td>6.530000</td>\n",
       "    </tr>\n",
       "  </tbody>\n",
       "</table>\n",
       "</div>"
      ],
      "text/plain": [
       "       location_lat  location_lng         Year  Price as number\n",
       "count    466.000000    466.000000   466.000000       466.000000\n",
       "mean      40.718921    -73.943040  2017.373391         2.685343\n",
       "std        0.063688      0.076291     3.013600         0.803061\n",
       "min       40.525698    -74.201928  2014.000000         1.000000\n",
       "25%       40.686295    -73.989927  2015.000000         2.250000\n",
       "50%       40.718706    -73.964310  2016.000000         2.750000\n",
       "75%       40.754684    -73.908135  2021.000000         3.000000\n",
       "max       40.903661    -73.699830  2022.000000         6.530000"
      ]
     },
     "execution_count": 7,
     "metadata": {},
     "output_type": "execute_result"
    }
   ],
   "source": [
    "df.describe()"
   ]
  },
  {
   "cell_type": "code",
   "execution_count": 8,
   "id": "697fd386-99d9-43e7-b026-e99cd90ffe51",
   "metadata": {},
   "outputs": [
    {
     "data": {
      "text/html": [
       "<div>\n",
       "<style scoped>\n",
       "    .dataframe tbody tr th:only-of-type {\n",
       "        vertical-align: middle;\n",
       "    }\n",
       "\n",
       "    .dataframe tbody tr th {\n",
       "        vertical-align: top;\n",
       "    }\n",
       "\n",
       "    .dataframe thead th {\n",
       "        text-align: right;\n",
       "    }\n",
       "</style>\n",
       "<table border=\"1\" class=\"dataframe\">\n",
       "  <thead>\n",
       "    <tr style=\"text-align: right;\">\n",
       "      <th></th>\n",
       "      <th>Name</th>\n",
       "      <th>location_lat</th>\n",
       "      <th>location_lng</th>\n",
       "      <th>Date</th>\n",
       "      <th>Date Expanded (times in EST)</th>\n",
       "      <th>Year</th>\n",
       "      <th>Price as number</th>\n",
       "      <th>Price</th>\n",
       "      <th>Style</th>\n",
       "      <th>borough</th>\n",
       "      <th>street</th>\n",
       "      <th>city</th>\n",
       "      <th>state</th>\n",
       "      <th>country</th>\n",
       "    </tr>\n",
       "  </thead>\n",
       "  <tbody>\n",
       "    <tr>\n",
       "      <th>0</th>\n",
       "      <td>Angelos Pizza</td>\n",
       "      <td>40.623254</td>\n",
       "      <td>-73.937922</td>\n",
       "      <td>2022-1014</td>\n",
       "      <td>Oct 14th 2022, 5:57:51 pm</td>\n",
       "      <td>2022</td>\n",
       "      <td>3.00</td>\n",
       "      <td>$3.00</td>\n",
       "      <td>Plain</td>\n",
       "      <td>Brooklyn</td>\n",
       "      <td>Flatbush Avenue</td>\n",
       "      <td>City of New York</td>\n",
       "      <td>New York</td>\n",
       "      <td>United States</td>\n",
       "    </tr>\n",
       "    <tr>\n",
       "      <th>1</th>\n",
       "      <td>Ozone Pizzeria</td>\n",
       "      <td>40.680892</td>\n",
       "      <td>-73.842631</td>\n",
       "      <td>2022-1008</td>\n",
       "      <td>Oct 8th 2022, 6:48:59 pm</td>\n",
       "      <td>2022</td>\n",
       "      <td>3.00</td>\n",
       "      <td>$3.00</td>\n",
       "      <td>Plain</td>\n",
       "      <td>Queens</td>\n",
       "      <td>Liberty Avenue</td>\n",
       "      <td>City of New York</td>\n",
       "      <td>New York</td>\n",
       "      <td>United States</td>\n",
       "    </tr>\n",
       "    <tr>\n",
       "      <th>2</th>\n",
       "      <td>Pino Pizza</td>\n",
       "      <td>40.600015</td>\n",
       "      <td>-73.999455</td>\n",
       "      <td>2022-1003</td>\n",
       "      <td>Oct 3rd 2022, 5:47:23 pm</td>\n",
       "      <td>2022</td>\n",
       "      <td>2.75</td>\n",
       "      <td>$2.75</td>\n",
       "      <td>Plain</td>\n",
       "      <td>Brooklyn</td>\n",
       "      <td>21st Avenue</td>\n",
       "      <td>City of New York</td>\n",
       "      <td>New York</td>\n",
       "      <td>United States</td>\n",
       "    </tr>\n",
       "  </tbody>\n",
       "</table>\n",
       "</div>"
      ],
      "text/plain": [
       "             Name  location_lat  location_lng       Date  \\\n",
       "0   Angelos Pizza     40.623254    -73.937922  2022-1014   \n",
       "1  Ozone Pizzeria     40.680892    -73.842631  2022-1008   \n",
       "2      Pino Pizza     40.600015    -73.999455  2022-1003   \n",
       "\n",
       "  Date Expanded (times in EST)  Year  Price as number   Price  Style  \\\n",
       "0    Oct 14th 2022, 5:57:51 pm  2022             3.00  $3.00   Plain   \n",
       "1     Oct 8th 2022, 6:48:59 pm  2022             3.00  $3.00   Plain   \n",
       "2     Oct 3rd 2022, 5:47:23 pm  2022             2.75  $2.75   Plain   \n",
       "\n",
       "    borough           street              city     state        country  \n",
       "0  Brooklyn  Flatbush Avenue  City of New York  New York  United States  \n",
       "1    Queens   Liberty Avenue  City of New York  New York  United States  \n",
       "2  Brooklyn      21st Avenue  City of New York  New York  United States  "
      ]
     },
     "execution_count": 8,
     "metadata": {},
     "output_type": "execute_result"
    }
   ],
   "source": [
    "df.head(3)"
   ]
  },
  {
   "cell_type": "code",
   "execution_count": 9,
   "id": "e94f3b83-4cc3-4512-8a91-aada0072200b",
   "metadata": {},
   "outputs": [
    {
     "data": {
      "text/html": [
       "<div>\n",
       "<style scoped>\n",
       "    .dataframe tbody tr th:only-of-type {\n",
       "        vertical-align: middle;\n",
       "    }\n",
       "\n",
       "    .dataframe tbody tr th {\n",
       "        vertical-align: top;\n",
       "    }\n",
       "\n",
       "    .dataframe thead th {\n",
       "        text-align: right;\n",
       "    }\n",
       "</style>\n",
       "<table border=\"1\" class=\"dataframe\">\n",
       "  <thead>\n",
       "    <tr style=\"text-align: right;\">\n",
       "      <th></th>\n",
       "      <th>Name</th>\n",
       "      <th>location_lat</th>\n",
       "      <th>location_lng</th>\n",
       "      <th>Date</th>\n",
       "      <th>Date Expanded (times in EST)</th>\n",
       "      <th>Year</th>\n",
       "      <th>Price as number</th>\n",
       "      <th>Price</th>\n",
       "      <th>Style</th>\n",
       "      <th>borough</th>\n",
       "      <th>street</th>\n",
       "      <th>city</th>\n",
       "      <th>state</th>\n",
       "      <th>country</th>\n",
       "    </tr>\n",
       "  </thead>\n",
       "  <tbody>\n",
       "    <tr>\n",
       "      <th>463</th>\n",
       "      <td>Alphonso's Pizzeria &amp; Trattoria - Pizza Shack</td>\n",
       "      <td>40.714338</td>\n",
       "      <td>-73.981708</td>\n",
       "      <td>2014-0810</td>\n",
       "      <td>Aug 10th 2014, 3:03:13 pm</td>\n",
       "      <td>2014</td>\n",
       "      <td>2.25</td>\n",
       "      <td>$2.25</td>\n",
       "      <td>Plain</td>\n",
       "      <td>Manhattan</td>\n",
       "      <td>Grand Street</td>\n",
       "      <td>City of New York</td>\n",
       "      <td>New York</td>\n",
       "      <td>United States</td>\n",
       "    </tr>\n",
       "    <tr>\n",
       "      <th>464</th>\n",
       "      <td>Frank's Pizza</td>\n",
       "      <td>40.617720</td>\n",
       "      <td>-73.931740</td>\n",
       "      <td>2014-0809</td>\n",
       "      <td>Aug 9th 2014, 6:17:39 pm</td>\n",
       "      <td>2014</td>\n",
       "      <td>2.55</td>\n",
       "      <td>$2.55</td>\n",
       "      <td>Plain</td>\n",
       "      <td>Brooklyn</td>\n",
       "      <td>Flatbush Avenue</td>\n",
       "      <td>City of New York</td>\n",
       "      <td>New York</td>\n",
       "      <td>United States</td>\n",
       "    </tr>\n",
       "    <tr>\n",
       "      <th>465</th>\n",
       "      <td>Bona Pizza</td>\n",
       "      <td>40.640977</td>\n",
       "      <td>-73.956270</td>\n",
       "      <td>2014-0809</td>\n",
       "      <td>Aug 9th 2014, 1:31:51 pm</td>\n",
       "      <td>2014</td>\n",
       "      <td>2.00</td>\n",
       "      <td>$2.00</td>\n",
       "      <td>Plain</td>\n",
       "      <td>Brooklyn</td>\n",
       "      <td>Flatbush Avenue</td>\n",
       "      <td>City of New York</td>\n",
       "      <td>New York</td>\n",
       "      <td>United States</td>\n",
       "    </tr>\n",
       "  </tbody>\n",
       "</table>\n",
       "</div>"
      ],
      "text/plain": [
       "                                              Name  location_lat  \\\n",
       "463  Alphonso's Pizzeria & Trattoria - Pizza Shack     40.714338   \n",
       "464                                  Frank's Pizza     40.617720   \n",
       "465                                     Bona Pizza     40.640977   \n",
       "\n",
       "     location_lng       Date Date Expanded (times in EST)  Year  \\\n",
       "463    -73.981708  2014-0810    Aug 10th 2014, 3:03:13 pm  2014   \n",
       "464    -73.931740  2014-0809     Aug 9th 2014, 6:17:39 pm  2014   \n",
       "465    -73.956270  2014-0809     Aug 9th 2014, 1:31:51 pm  2014   \n",
       "\n",
       "     Price as number   Price  Style    borough           street  \\\n",
       "463             2.25  $2.25   Plain  Manhattan     Grand Street   \n",
       "464             2.55  $2.55   Plain   Brooklyn  Flatbush Avenue   \n",
       "465             2.00  $2.00   Plain   Brooklyn  Flatbush Avenue   \n",
       "\n",
       "                 city     state        country  \n",
       "463  City of New York  New York  United States  \n",
       "464  City of New York  New York  United States  \n",
       "465  City of New York  New York  United States  "
      ]
     },
     "execution_count": 9,
     "metadata": {},
     "output_type": "execute_result"
    }
   ],
   "source": [
    "df.tail(3)"
   ]
  },
  {
   "cell_type": "markdown",
   "id": "5a61f8bb-bcde-4b76-a9b3-6cc41f5aa1d0",
   "metadata": {},
   "source": [
    "#### **Row Index Slicing**"
   ]
  },
  {
   "cell_type": "code",
   "execution_count": 10,
   "id": "d659829d-89c9-456c-8ed0-e8e75d7456f1",
   "metadata": {},
   "outputs": [
    {
     "data": {
      "text/html": [
       "<div>\n",
       "<style scoped>\n",
       "    .dataframe tbody tr th:only-of-type {\n",
       "        vertical-align: middle;\n",
       "    }\n",
       "\n",
       "    .dataframe tbody tr th {\n",
       "        vertical-align: top;\n",
       "    }\n",
       "\n",
       "    .dataframe thead th {\n",
       "        text-align: right;\n",
       "    }\n",
       "</style>\n",
       "<table border=\"1\" class=\"dataframe\">\n",
       "  <thead>\n",
       "    <tr style=\"text-align: right;\">\n",
       "      <th></th>\n",
       "      <th>Name</th>\n",
       "      <th>location_lat</th>\n",
       "      <th>location_lng</th>\n",
       "      <th>Date</th>\n",
       "      <th>Date Expanded (times in EST)</th>\n",
       "      <th>Year</th>\n",
       "      <th>Price as number</th>\n",
       "      <th>Price</th>\n",
       "      <th>Style</th>\n",
       "      <th>borough</th>\n",
       "      <th>street</th>\n",
       "      <th>city</th>\n",
       "      <th>state</th>\n",
       "      <th>country</th>\n",
       "    </tr>\n",
       "  </thead>\n",
       "  <tbody>\n",
       "    <tr>\n",
       "      <th>0</th>\n",
       "      <td>Angelos Pizza</td>\n",
       "      <td>40.623254</td>\n",
       "      <td>-73.937922</td>\n",
       "      <td>2022-1014</td>\n",
       "      <td>Oct 14th 2022, 5:57:51 pm</td>\n",
       "      <td>2022</td>\n",
       "      <td>3.00</td>\n",
       "      <td>$3.00</td>\n",
       "      <td>Plain</td>\n",
       "      <td>Brooklyn</td>\n",
       "      <td>Flatbush Avenue</td>\n",
       "      <td>City of New York</td>\n",
       "      <td>New York</td>\n",
       "      <td>United States</td>\n",
       "    </tr>\n",
       "    <tr>\n",
       "      <th>10</th>\n",
       "      <td>Ciro Pizza Cafe</td>\n",
       "      <td>40.533289</td>\n",
       "      <td>-74.192775</td>\n",
       "      <td>2022-0812</td>\n",
       "      <td>Aug 12th 2022, 9:34:49 pm</td>\n",
       "      <td>2022</td>\n",
       "      <td>2.50</td>\n",
       "      <td>$2.50</td>\n",
       "      <td>Plain</td>\n",
       "      <td>Staten Island</td>\n",
       "      <td>Huguenot Avenue</td>\n",
       "      <td>City of New York</td>\n",
       "      <td>New York</td>\n",
       "      <td>United States</td>\n",
       "    </tr>\n",
       "    <tr>\n",
       "      <th>20</th>\n",
       "      <td>Enzo's Pizzeria</td>\n",
       "      <td>40.684213</td>\n",
       "      <td>-73.859342</td>\n",
       "      <td>2022-0527</td>\n",
       "      <td>May 27th 2022, 8:14:56 pm</td>\n",
       "      <td>2022</td>\n",
       "      <td>3.26</td>\n",
       "      <td>$3.26</td>\n",
       "      <td>Plain</td>\n",
       "      <td>Queens</td>\n",
       "      <td>81st Street</td>\n",
       "      <td>City of New York</td>\n",
       "      <td>New York</td>\n",
       "      <td>United States</td>\n",
       "    </tr>\n",
       "    <tr>\n",
       "      <th>30</th>\n",
       "      <td>Villa Rustica Ristorante &amp; Pizzeria</td>\n",
       "      <td>40.739964</td>\n",
       "      <td>-73.758249</td>\n",
       "      <td>2022-0416</td>\n",
       "      <td>Apr 16th 2022, 5:59:19 pm</td>\n",
       "      <td>2022</td>\n",
       "      <td>3.50</td>\n",
       "      <td>$3.50</td>\n",
       "      <td>Plain</td>\n",
       "      <td>Queens</td>\n",
       "      <td>Bell Boulevard</td>\n",
       "      <td>City of New York</td>\n",
       "      <td>New York</td>\n",
       "      <td>United States</td>\n",
       "    </tr>\n",
       "    <tr>\n",
       "      <th>40</th>\n",
       "      <td>Sal Pizza</td>\n",
       "      <td>40.704507</td>\n",
       "      <td>-73.919242</td>\n",
       "      <td>2022-0205</td>\n",
       "      <td>Feb 5th 2022, 10:41:00 pm</td>\n",
       "      <td>2022</td>\n",
       "      <td>2.75</td>\n",
       "      <td>$2.75</td>\n",
       "      <td>Plain</td>\n",
       "      <td>Brooklyn</td>\n",
       "      <td>Wyckoff Avenue</td>\n",
       "      <td>City of New York</td>\n",
       "      <td>New York</td>\n",
       "      <td>United States</td>\n",
       "    </tr>\n",
       "    <tr>\n",
       "      <th>50</th>\n",
       "      <td>Sam's Famous Pizza 116th</td>\n",
       "      <td>40.798309</td>\n",
       "      <td>-73.941632</td>\n",
       "      <td>2022-0115</td>\n",
       "      <td>Jan 15th 2022, 9:00:23 pm</td>\n",
       "      <td>2022</td>\n",
       "      <td>3.00</td>\n",
       "      <td>$3.00</td>\n",
       "      <td>Plain</td>\n",
       "      <td>Manhattan</td>\n",
       "      <td>East 116th Street</td>\n",
       "      <td>City of New York</td>\n",
       "      <td>New York</td>\n",
       "      <td>United States</td>\n",
       "    </tr>\n",
       "    <tr>\n",
       "      <th>60</th>\n",
       "      <td>Brothers pizza shop</td>\n",
       "      <td>40.867260</td>\n",
       "      <td>-73.896390</td>\n",
       "      <td>2021-1221</td>\n",
       "      <td>Dec 21st 2021, 6:37:26 pm</td>\n",
       "      <td>2021</td>\n",
       "      <td>2.50</td>\n",
       "      <td>$2.50</td>\n",
       "      <td>Plain</td>\n",
       "      <td>The Bronx</td>\n",
       "      <td>East Kingsbridge Road</td>\n",
       "      <td>City of New York</td>\n",
       "      <td>New York</td>\n",
       "      <td>United States</td>\n",
       "    </tr>\n",
       "    <tr>\n",
       "      <th>70</th>\n",
       "      <td>Joe's Pizza &amp; Pasta</td>\n",
       "      <td>40.760163</td>\n",
       "      <td>-73.731491</td>\n",
       "      <td>2021-1119</td>\n",
       "      <td>Nov 19th 2021, 2:41:16 pm</td>\n",
       "      <td>2021</td>\n",
       "      <td>3.00</td>\n",
       "      <td>$3.00</td>\n",
       "      <td>Plain</td>\n",
       "      <td>Queens</td>\n",
       "      <td>Marathon Parkway</td>\n",
       "      <td>City of New York</td>\n",
       "      <td>New York</td>\n",
       "      <td>United States</td>\n",
       "    </tr>\n",
       "    <tr>\n",
       "      <th>80</th>\n",
       "      <td>La Bona Pizza &amp; Pasta</td>\n",
       "      <td>40.673700</td>\n",
       "      <td>-73.882830</td>\n",
       "      <td>2021-1016</td>\n",
       "      <td>Oct 16th 2021, 6:58:35 pm</td>\n",
       "      <td>2021</td>\n",
       "      <td>2.75</td>\n",
       "      <td>$2.75</td>\n",
       "      <td>Plain</td>\n",
       "      <td>Brooklyn</td>\n",
       "      <td>Pitkin Avenue</td>\n",
       "      <td>City of New York</td>\n",
       "      <td>New York</td>\n",
       "      <td>United States</td>\n",
       "    </tr>\n",
       "    <tr>\n",
       "      <th>90</th>\n",
       "      <td>Belmora Pizza &amp; Restaurant</td>\n",
       "      <td>40.760950</td>\n",
       "      <td>-73.968790</td>\n",
       "      <td>2021-0811</td>\n",
       "      <td>Aug 11th 2021, 9:32:05 pm</td>\n",
       "      <td>2021</td>\n",
       "      <td>3.20</td>\n",
       "      <td>$3.20</td>\n",
       "      <td>Plain</td>\n",
       "      <td>Manhattan</td>\n",
       "      <td>East 57th Street</td>\n",
       "      <td>City of New York</td>\n",
       "      <td>New York</td>\n",
       "      <td>United States</td>\n",
       "    </tr>\n",
       "    <tr>\n",
       "      <th>100</th>\n",
       "      <td>Hank's Pizza</td>\n",
       "      <td>40.709436</td>\n",
       "      <td>-74.012025</td>\n",
       "      <td>2021-0707</td>\n",
       "      <td>Jul 7th 2021, 7:32:56 pm</td>\n",
       "      <td>2021</td>\n",
       "      <td>3.25</td>\n",
       "      <td>$3.25</td>\n",
       "      <td>Plain</td>\n",
       "      <td>Manhattan</td>\n",
       "      <td>Cedar Street</td>\n",
       "      <td>City of New York</td>\n",
       "      <td>New York</td>\n",
       "      <td>United States</td>\n",
       "    </tr>\n",
       "  </tbody>\n",
       "</table>\n",
       "</div>"
      ],
      "text/plain": [
       "                                    Name  location_lat  location_lng  \\\n",
       "0                          Angelos Pizza     40.623254    -73.937922   \n",
       "10                       Ciro Pizza Cafe     40.533289    -74.192775   \n",
       "20                       Enzo's Pizzeria     40.684213    -73.859342   \n",
       "30   Villa Rustica Ristorante & Pizzeria     40.739964    -73.758249   \n",
       "40                             Sal Pizza     40.704507    -73.919242   \n",
       "50              Sam's Famous Pizza 116th     40.798309    -73.941632   \n",
       "60                   Brothers pizza shop     40.867260    -73.896390   \n",
       "70                   Joe's Pizza & Pasta     40.760163    -73.731491   \n",
       "80                 La Bona Pizza & Pasta     40.673700    -73.882830   \n",
       "90            Belmora Pizza & Restaurant     40.760950    -73.968790   \n",
       "100                         Hank's Pizza     40.709436    -74.012025   \n",
       "\n",
       "          Date Date Expanded (times in EST)  Year  Price as number   Price  \\\n",
       "0    2022-1014    Oct 14th 2022, 5:57:51 pm  2022             3.00  $3.00    \n",
       "10   2022-0812    Aug 12th 2022, 9:34:49 pm  2022             2.50  $2.50    \n",
       "20   2022-0527    May 27th 2022, 8:14:56 pm  2022             3.26  $3.26    \n",
       "30   2022-0416    Apr 16th 2022, 5:59:19 pm  2022             3.50  $3.50    \n",
       "40   2022-0205    Feb 5th 2022, 10:41:00 pm  2022             2.75  $2.75    \n",
       "50   2022-0115    Jan 15th 2022, 9:00:23 pm  2022             3.00  $3.00    \n",
       "60   2021-1221    Dec 21st 2021, 6:37:26 pm  2021             2.50  $2.50    \n",
       "70   2021-1119    Nov 19th 2021, 2:41:16 pm  2021             3.00  $3.00    \n",
       "80   2021-1016    Oct 16th 2021, 6:58:35 pm  2021             2.75  $2.75    \n",
       "90   2021-0811    Aug 11th 2021, 9:32:05 pm  2021             3.20  $3.20    \n",
       "100  2021-0707     Jul 7th 2021, 7:32:56 pm  2021             3.25  $3.25    \n",
       "\n",
       "     Style        borough                 street              city     state  \\\n",
       "0    Plain       Brooklyn        Flatbush Avenue  City of New York  New York   \n",
       "10   Plain  Staten Island        Huguenot Avenue  City of New York  New York   \n",
       "20   Plain         Queens            81st Street  City of New York  New York   \n",
       "30   Plain         Queens         Bell Boulevard  City of New York  New York   \n",
       "40   Plain       Brooklyn         Wyckoff Avenue  City of New York  New York   \n",
       "50   Plain      Manhattan      East 116th Street  City of New York  New York   \n",
       "60   Plain      The Bronx  East Kingsbridge Road  City of New York  New York   \n",
       "70   Plain         Queens       Marathon Parkway  City of New York  New York   \n",
       "80   Plain       Brooklyn          Pitkin Avenue  City of New York  New York   \n",
       "90   Plain      Manhattan       East 57th Street  City of New York  New York   \n",
       "100  Plain      Manhattan           Cedar Street  City of New York  New York   \n",
       "\n",
       "           country  \n",
       "0    United States  \n",
       "10   United States  \n",
       "20   United States  \n",
       "30   United States  \n",
       "40   United States  \n",
       "50   United States  \n",
       "60   United States  \n",
       "70   United States  \n",
       "80   United States  \n",
       "90   United States  \n",
       "100  United States  "
      ]
     },
     "execution_count": 10,
     "metadata": {},
     "output_type": "execute_result"
    }
   ],
   "source": [
    "df.loc[0:100:10] "
   ]
  },
  {
   "cell_type": "markdown",
   "id": "761142f4-0720-4689-8d98-66d88133494d",
   "metadata": {},
   "source": [
    "#### **Conditional with loc[]**"
   ]
  },
  {
   "cell_type": "code",
   "execution_count": 11,
   "id": "a3fc3e72-0580-44ec-bdb8-71dbb4d4db5e",
   "metadata": {},
   "outputs": [
    {
     "data": {
      "text/html": [
       "<div>\n",
       "<style scoped>\n",
       "    .dataframe tbody tr th:only-of-type {\n",
       "        vertical-align: middle;\n",
       "    }\n",
       "\n",
       "    .dataframe tbody tr th {\n",
       "        vertical-align: top;\n",
       "    }\n",
       "\n",
       "    .dataframe thead th {\n",
       "        text-align: right;\n",
       "    }\n",
       "</style>\n",
       "<table border=\"1\" class=\"dataframe\">\n",
       "  <thead>\n",
       "    <tr style=\"text-align: right;\">\n",
       "      <th></th>\n",
       "      <th>Name</th>\n",
       "      <th>location_lat</th>\n",
       "      <th>location_lng</th>\n",
       "      <th>Date</th>\n",
       "      <th>Date Expanded (times in EST)</th>\n",
       "      <th>Year</th>\n",
       "      <th>Price as number</th>\n",
       "      <th>Price</th>\n",
       "      <th>Style</th>\n",
       "      <th>borough</th>\n",
       "      <th>street</th>\n",
       "      <th>city</th>\n",
       "      <th>state</th>\n",
       "      <th>country</th>\n",
       "    </tr>\n",
       "  </thead>\n",
       "  <tbody>\n",
       "    <tr>\n",
       "      <th>1</th>\n",
       "      <td>Ozone Pizzeria</td>\n",
       "      <td>40.680892</td>\n",
       "      <td>-73.842631</td>\n",
       "      <td>2022-1008</td>\n",
       "      <td>Oct 8th 2022, 6:48:59 pm</td>\n",
       "      <td>2022</td>\n",
       "      <td>3.00</td>\n",
       "      <td>$3.00</td>\n",
       "      <td>Plain</td>\n",
       "      <td>Queens</td>\n",
       "      <td>Liberty Avenue</td>\n",
       "      <td>City of New York</td>\n",
       "      <td>New York</td>\n",
       "      <td>United States</td>\n",
       "    </tr>\n",
       "    <tr>\n",
       "      <th>3</th>\n",
       "      <td>La Rondine</td>\n",
       "      <td>40.713335</td>\n",
       "      <td>-73.829410</td>\n",
       "      <td>2022-0924</td>\n",
       "      <td>Sep 24th 2022, 6:34:19 pm</td>\n",
       "      <td>2022</td>\n",
       "      <td>3.25</td>\n",
       "      <td>$3.25</td>\n",
       "      <td>Plain</td>\n",
       "      <td>Queens</td>\n",
       "      <td>Queens Boulevard</td>\n",
       "      <td>City of New York</td>\n",
       "      <td>New York</td>\n",
       "      <td>United States</td>\n",
       "    </tr>\n",
       "    <tr>\n",
       "      <th>13</th>\n",
       "      <td>Galleria pizza</td>\n",
       "      <td>40.684326</td>\n",
       "      <td>-73.845000</td>\n",
       "      <td>2022-0723</td>\n",
       "      <td>Jul 23rd 2022, 9:20:46 pm</td>\n",
       "      <td>2022</td>\n",
       "      <td>3.00</td>\n",
       "      <td>$3.00</td>\n",
       "      <td>Plain</td>\n",
       "      <td>Queens</td>\n",
       "      <td>Woodhaven Boulevard</td>\n",
       "      <td>City of New York</td>\n",
       "      <td>New York</td>\n",
       "      <td>United States</td>\n",
       "    </tr>\n",
       "    <tr>\n",
       "      <th>19</th>\n",
       "      <td>Joe and Johns Pizzeria</td>\n",
       "      <td>40.700352</td>\n",
       "      <td>-73.899439</td>\n",
       "      <td>2022-0528</td>\n",
       "      <td>May 28th 2022, 5:18:46 pm</td>\n",
       "      <td>2022</td>\n",
       "      <td>3.00</td>\n",
       "      <td>$3.00</td>\n",
       "      <td>Plain</td>\n",
       "      <td>Queens</td>\n",
       "      <td>Myrtle Avenue</td>\n",
       "      <td>City of New York</td>\n",
       "      <td>New York</td>\n",
       "      <td>United States</td>\n",
       "    </tr>\n",
       "    <tr>\n",
       "      <th>20</th>\n",
       "      <td>Enzo's Pizzeria</td>\n",
       "      <td>40.684213</td>\n",
       "      <td>-73.859342</td>\n",
       "      <td>2022-0527</td>\n",
       "      <td>May 27th 2022, 8:14:56 pm</td>\n",
       "      <td>2022</td>\n",
       "      <td>3.26</td>\n",
       "      <td>$3.26</td>\n",
       "      <td>Plain</td>\n",
       "      <td>Queens</td>\n",
       "      <td>81st Street</td>\n",
       "      <td>City of New York</td>\n",
       "      <td>New York</td>\n",
       "      <td>United States</td>\n",
       "    </tr>\n",
       "    <tr>\n",
       "      <th>...</th>\n",
       "      <td>...</td>\n",
       "      <td>...</td>\n",
       "      <td>...</td>\n",
       "      <td>...</td>\n",
       "      <td>...</td>\n",
       "      <td>...</td>\n",
       "      <td>...</td>\n",
       "      <td>...</td>\n",
       "      <td>...</td>\n",
       "      <td>...</td>\n",
       "      <td>...</td>\n",
       "      <td>...</td>\n",
       "      <td>...</td>\n",
       "      <td>...</td>\n",
       "    </tr>\n",
       "    <tr>\n",
       "      <th>427</th>\n",
       "      <td>Domenick's Pizza</td>\n",
       "      <td>40.705144</td>\n",
       "      <td>-73.809707</td>\n",
       "      <td>2014-0919</td>\n",
       "      <td>Sep 19th 2014, 1:22:02 pm</td>\n",
       "      <td>2014</td>\n",
       "      <td>2.00</td>\n",
       "      <td>$2.00</td>\n",
       "      <td>Plain</td>\n",
       "      <td>Queens</td>\n",
       "      <td>Sutphin Boulevard</td>\n",
       "      <td>City of New York</td>\n",
       "      <td>New York</td>\n",
       "      <td>United States</td>\n",
       "    </tr>\n",
       "    <tr>\n",
       "      <th>430</th>\n",
       "      <td>Margherita Pizza Inc</td>\n",
       "      <td>40.704531</td>\n",
       "      <td>-73.796793</td>\n",
       "      <td>2014-0914</td>\n",
       "      <td>Sep 14th 2014, 5:07:17 pm</td>\n",
       "      <td>2014</td>\n",
       "      <td>3.00</td>\n",
       "      <td>$3.00</td>\n",
       "      <td>Plain</td>\n",
       "      <td>Queens</td>\n",
       "      <td>Jamaica Avenue</td>\n",
       "      <td>City of New York</td>\n",
       "      <td>New York</td>\n",
       "      <td>United States</td>\n",
       "    </tr>\n",
       "    <tr>\n",
       "      <th>434</th>\n",
       "      <td>Pisa Pizzeria</td>\n",
       "      <td>40.701391</td>\n",
       "      <td>-73.888150</td>\n",
       "      <td>2014-0908</td>\n",
       "      <td>Sep 8th 2014, 12:01:04 pm</td>\n",
       "      <td>2014</td>\n",
       "      <td>2.50</td>\n",
       "      <td>$2.50</td>\n",
       "      <td>Plain</td>\n",
       "      <td>Queens</td>\n",
       "      <td>Myrtle Avenue</td>\n",
       "      <td>City of New York</td>\n",
       "      <td>New York</td>\n",
       "      <td>United States</td>\n",
       "    </tr>\n",
       "    <tr>\n",
       "      <th>438</th>\n",
       "      <td>Royal Pizza Myrtle Ave</td>\n",
       "      <td>40.699737</td>\n",
       "      <td>-73.908246</td>\n",
       "      <td>2014-0903</td>\n",
       "      <td>Sep 3rd 2014, 7:27:03 pm</td>\n",
       "      <td>2014</td>\n",
       "      <td>2.50</td>\n",
       "      <td>$2.50</td>\n",
       "      <td>Plain</td>\n",
       "      <td>Queens</td>\n",
       "      <td>Myrtle Avenue</td>\n",
       "      <td>City of New York</td>\n",
       "      <td>New York</td>\n",
       "      <td>United States</td>\n",
       "    </tr>\n",
       "    <tr>\n",
       "      <th>445</th>\n",
       "      <td>69 pizzeria</td>\n",
       "      <td>40.737014</td>\n",
       "      <td>-73.895640</td>\n",
       "      <td>2014-0827</td>\n",
       "      <td>Aug 27th 2014, 2:48:38 pm</td>\n",
       "      <td>2014</td>\n",
       "      <td>2.25</td>\n",
       "      <td>$2.25</td>\n",
       "      <td>Plain</td>\n",
       "      <td>Queens</td>\n",
       "      <td>50th Avenue</td>\n",
       "      <td>City of New York</td>\n",
       "      <td>New York</td>\n",
       "      <td>United States</td>\n",
       "    </tr>\n",
       "  </tbody>\n",
       "</table>\n",
       "<p>86 rows × 14 columns</p>\n",
       "</div>"
      ],
      "text/plain": [
       "                       Name  location_lat  location_lng       Date  \\\n",
       "1            Ozone Pizzeria     40.680892    -73.842631  2022-1008   \n",
       "3                La Rondine     40.713335    -73.829410  2022-0924   \n",
       "13           Galleria pizza     40.684326    -73.845000  2022-0723   \n",
       "19   Joe and Johns Pizzeria     40.700352    -73.899439  2022-0528   \n",
       "20          Enzo's Pizzeria     40.684213    -73.859342  2022-0527   \n",
       "..                      ...           ...           ...        ...   \n",
       "427        Domenick's Pizza     40.705144    -73.809707  2014-0919   \n",
       "430    Margherita Pizza Inc     40.704531    -73.796793  2014-0914   \n",
       "434           Pisa Pizzeria     40.701391    -73.888150  2014-0908   \n",
       "438  Royal Pizza Myrtle Ave     40.699737    -73.908246  2014-0903   \n",
       "445             69 pizzeria     40.737014    -73.895640  2014-0827   \n",
       "\n",
       "    Date Expanded (times in EST)  Year  Price as number   Price  Style  \\\n",
       "1       Oct 8th 2022, 6:48:59 pm  2022             3.00  $3.00   Plain   \n",
       "3      Sep 24th 2022, 6:34:19 pm  2022             3.25  $3.25   Plain   \n",
       "13     Jul 23rd 2022, 9:20:46 pm  2022             3.00  $3.00   Plain   \n",
       "19     May 28th 2022, 5:18:46 pm  2022             3.00  $3.00   Plain   \n",
       "20     May 27th 2022, 8:14:56 pm  2022             3.26  $3.26   Plain   \n",
       "..                           ...   ...              ...     ...    ...   \n",
       "427    Sep 19th 2014, 1:22:02 pm  2014             2.00  $2.00   Plain   \n",
       "430    Sep 14th 2014, 5:07:17 pm  2014             3.00  $3.00   Plain   \n",
       "434    Sep 8th 2014, 12:01:04 pm  2014             2.50  $2.50   Plain   \n",
       "438     Sep 3rd 2014, 7:27:03 pm  2014             2.50  $2.50   Plain   \n",
       "445    Aug 27th 2014, 2:48:38 pm  2014             2.25  $2.25   Plain   \n",
       "\n",
       "    borough               street              city     state        country  \n",
       "1    Queens       Liberty Avenue  City of New York  New York  United States  \n",
       "3    Queens     Queens Boulevard  City of New York  New York  United States  \n",
       "13   Queens  Woodhaven Boulevard  City of New York  New York  United States  \n",
       "19   Queens        Myrtle Avenue  City of New York  New York  United States  \n",
       "20   Queens          81st Street  City of New York  New York  United States  \n",
       "..      ...                  ...               ...       ...            ...  \n",
       "427  Queens    Sutphin Boulevard  City of New York  New York  United States  \n",
       "430  Queens       Jamaica Avenue  City of New York  New York  United States  \n",
       "434  Queens        Myrtle Avenue  City of New York  New York  United States  \n",
       "438  Queens        Myrtle Avenue  City of New York  New York  United States  \n",
       "445  Queens          50th Avenue  City of New York  New York  United States  \n",
       "\n",
       "[86 rows x 14 columns]"
      ]
     },
     "execution_count": 11,
     "metadata": {},
     "output_type": "execute_result"
    }
   ],
   "source": [
    "df.loc[df['borough'] == 'Queens']"
   ]
  },
  {
   "cell_type": "markdown",
   "id": "13bcc9ed-e185-4444-bd57-96cb0d006799",
   "metadata": {},
   "source": [
    "## **Cleaning Data**"
   ]
  },
  {
   "cell_type": "markdown",
   "id": "8b9d9e59-a7f4-4d40-a9a4-c33846fe20c7",
   "metadata": {},
   "source": [
    "#### **Identifying Nulls**"
   ]
  },
  {
   "cell_type": "code",
   "execution_count": 12,
   "id": "d6ada37d-ef36-4c72-b5f9-05465209a2c5",
   "metadata": {},
   "outputs": [
    {
     "data": {
      "text/plain": [
       "Name                            0\n",
       "location_lat                    0\n",
       "location_lng                    0\n",
       "Date                            0\n",
       "Date Expanded (times in EST)    0\n",
       "Year                            0\n",
       "Price as number                 0\n",
       "Price                           0\n",
       "Style                           0\n",
       "borough                         3\n",
       "street                          0\n",
       "city                            4\n",
       "state                           0\n",
       "country                         0\n",
       "dtype: int64"
      ]
     },
     "execution_count": 12,
     "metadata": {},
     "output_type": "execute_result"
    }
   ],
   "source": [
    "df.isnull().sum() # .sum() tells us how many Nulls there are in the dataframe by column"
   ]
  },
  {
   "cell_type": "code",
   "execution_count": 13,
   "id": "fc7493d9-a08c-4596-ab1e-df9d35be3b71",
   "metadata": {},
   "outputs": [
    {
     "data": {
      "text/plain": [
       "7"
      ]
     },
     "execution_count": 13,
     "metadata": {},
     "output_type": "execute_result"
    }
   ],
   "source": [
    "df.isnull().sum().sum() # 2 sums gives us a total aggregate of nulls"
   ]
  },
  {
   "cell_type": "markdown",
   "id": "c3b4918a-9925-4884-9164-e6fe8db4bead",
   "metadata": {},
   "source": [
    "#### **Replacing Nulls**"
   ]
  },
  {
   "cell_type": "code",
   "execution_count": 14,
   "id": "263124cb-e856-42a0-a75d-5e5689624652",
   "metadata": {},
   "outputs": [],
   "source": [
    "df_nonull = df.fillna(value = 0)"
   ]
  },
  {
   "cell_type": "code",
   "execution_count": 15,
   "id": "a231ef20-7e9a-4d02-81ce-97ee82eb978a",
   "metadata": {},
   "outputs": [
    {
     "data": {
      "text/plain": [
       "0"
      ]
     },
     "execution_count": 15,
     "metadata": {},
     "output_type": "execute_result"
    }
   ],
   "source": [
    "df_nonull.isnull().sum().sum()"
   ]
  },
  {
   "cell_type": "code",
   "execution_count": 16,
   "id": "572ade41-8cbc-43ae-adc1-751f9ac7cf99",
   "metadata": {},
   "outputs": [
    {
     "name": "stdout",
     "output_type": "stream",
     "text": [
      "<class 'pandas.core.frame.DataFrame'>\n",
      "RangeIndex: 466 entries, 0 to 465\n",
      "Data columns (total 14 columns):\n",
      " #   Column                        Non-Null Count  Dtype  \n",
      "---  ------                        --------------  -----  \n",
      " 0   Name                          466 non-null    object \n",
      " 1   location_lat                  466 non-null    float64\n",
      " 2   location_lng                  466 non-null    float64\n",
      " 3   Date                          466 non-null    object \n",
      " 4   Date Expanded (times in EST)  466 non-null    object \n",
      " 5   Year                          466 non-null    int64  \n",
      " 6   Price as number               466 non-null    float64\n",
      " 7   Price                         466 non-null    object \n",
      " 8   Style                         466 non-null    object \n",
      " 9   borough                       466 non-null    object \n",
      " 10  street                        466 non-null    object \n",
      " 11  city                          466 non-null    object \n",
      " 12  state                         466 non-null    object \n",
      " 13  country                       466 non-null    object \n",
      "dtypes: float64(3), int64(1), object(10)\n",
      "memory usage: 51.1+ KB\n"
     ]
    }
   ],
   "source": [
    "df_nonull.info()"
   ]
  },
  {
   "cell_type": "markdown",
   "id": "726d1c12-f60b-42c4-87d2-a50085732c29",
   "metadata": {},
   "source": [
    "#### **Removing Nulls** "
   ]
  },
  {
   "cell_type": "code",
   "execution_count": 17,
   "id": "5904e8f8-de77-4a6c-9716-943b5225a1b4",
   "metadata": {},
   "outputs": [],
   "source": [
    "df_dropped = df.dropna()"
   ]
  },
  {
   "cell_type": "code",
   "execution_count": 18,
   "id": "a73ccf50-c2c6-4038-8709-1d14f64df901",
   "metadata": {},
   "outputs": [
    {
     "name": "stdout",
     "output_type": "stream",
     "text": [
      "<class 'pandas.core.frame.DataFrame'>\n",
      "Int64Index: 462 entries, 0 to 465\n",
      "Data columns (total 14 columns):\n",
      " #   Column                        Non-Null Count  Dtype  \n",
      "---  ------                        --------------  -----  \n",
      " 0   Name                          462 non-null    object \n",
      " 1   location_lat                  462 non-null    float64\n",
      " 2   location_lng                  462 non-null    float64\n",
      " 3   Date                          462 non-null    object \n",
      " 4   Date Expanded (times in EST)  462 non-null    object \n",
      " 5   Year                          462 non-null    int64  \n",
      " 6   Price as number               462 non-null    float64\n",
      " 7   Price                         462 non-null    object \n",
      " 8   Style                         462 non-null    object \n",
      " 9   borough                       462 non-null    object \n",
      " 10  street                        462 non-null    object \n",
      " 11  city                          462 non-null    object \n",
      " 12  state                         462 non-null    object \n",
      " 13  country                       462 non-null    object \n",
      "dtypes: float64(3), int64(1), object(10)\n",
      "memory usage: 54.1+ KB\n"
     ]
    }
   ],
   "source": [
    "df_dropped.info()"
   ]
  },
  {
   "cell_type": "markdown",
   "id": "82042779-ff7e-41f8-9210-db61c4e94fc6",
   "metadata": {
    "tags": []
   },
   "source": [
    "#### **Identifying Duplicates**"
   ]
  },
  {
   "cell_type": "code",
   "execution_count": 19,
   "id": "a5015b3b-d101-4d35-8d49-87a149e2f0d7",
   "metadata": {},
   "outputs": [
    {
     "data": {
      "text/plain": [
       "2"
      ]
     },
     "execution_count": 19,
     "metadata": {},
     "output_type": "execute_result"
    }
   ],
   "source": [
    "df.duplicated().sum()"
   ]
  },
  {
   "cell_type": "markdown",
   "id": "95a89888-7e07-4fe9-97ff-3e2418677ca5",
   "metadata": {},
   "source": [
    "#### **Extract duplicates**"
   ]
  },
  {
   "cell_type": "code",
   "execution_count": 20,
   "id": "7854fc9e-86fe-44e6-9995-2b2fce545a81",
   "metadata": {},
   "outputs": [
    {
     "data": {
      "text/html": [
       "<div>\n",
       "<style scoped>\n",
       "    .dataframe tbody tr th:only-of-type {\n",
       "        vertical-align: middle;\n",
       "    }\n",
       "\n",
       "    .dataframe tbody tr th {\n",
       "        vertical-align: top;\n",
       "    }\n",
       "\n",
       "    .dataframe thead th {\n",
       "        text-align: right;\n",
       "    }\n",
       "</style>\n",
       "<table border=\"1\" class=\"dataframe\">\n",
       "  <thead>\n",
       "    <tr style=\"text-align: right;\">\n",
       "      <th></th>\n",
       "      <th>Name</th>\n",
       "      <th>location_lat</th>\n",
       "      <th>location_lng</th>\n",
       "      <th>Date</th>\n",
       "      <th>Date Expanded (times in EST)</th>\n",
       "      <th>Year</th>\n",
       "      <th>Price as number</th>\n",
       "      <th>Price</th>\n",
       "      <th>Style</th>\n",
       "      <th>borough</th>\n",
       "      <th>street</th>\n",
       "      <th>city</th>\n",
       "      <th>state</th>\n",
       "      <th>country</th>\n",
       "    </tr>\n",
       "  </thead>\n",
       "  <tbody>\n",
       "    <tr>\n",
       "      <th>34</th>\n",
       "      <td>Marinara Pizza</td>\n",
       "      <td>40.729778</td>\n",
       "      <td>-73.986505</td>\n",
       "      <td>2022-0322</td>\n",
       "      <td>Mar 22nd 2022, 7:55:54 pm</td>\n",
       "      <td>2022</td>\n",
       "      <td>4.90</td>\n",
       "      <td>$4.90</td>\n",
       "      <td>Pepperoni</td>\n",
       "      <td>Manhattan</td>\n",
       "      <td>2nd Avenue</td>\n",
       "      <td>City of New York</td>\n",
       "      <td>New York</td>\n",
       "      <td>United States</td>\n",
       "    </tr>\n",
       "    <tr>\n",
       "      <th>165</th>\n",
       "      <td>Slice of Brooklyn</td>\n",
       "      <td>40.656910</td>\n",
       "      <td>-74.001430</td>\n",
       "      <td>2019-0807</td>\n",
       "      <td>Aug 7th 2019, 1:41:03 pm</td>\n",
       "      <td>2019</td>\n",
       "      <td>2.25</td>\n",
       "      <td>$2.25</td>\n",
       "      <td>Plain</td>\n",
       "      <td>Kings County</td>\n",
       "      <td>4th Avenue</td>\n",
       "      <td>City of New York</td>\n",
       "      <td>New York</td>\n",
       "      <td>United States</td>\n",
       "    </tr>\n",
       "  </tbody>\n",
       "</table>\n",
       "</div>"
      ],
      "text/plain": [
       "                  Name  location_lat  location_lng       Date  \\\n",
       "34      Marinara Pizza     40.729778    -73.986505  2022-0322   \n",
       "165  Slice of Brooklyn     40.656910    -74.001430  2019-0807   \n",
       "\n",
       "    Date Expanded (times in EST)  Year  Price as number   Price      Style  \\\n",
       "34     Mar 22nd 2022, 7:55:54 pm  2022             4.90  $4.90   Pepperoni   \n",
       "165     Aug 7th 2019, 1:41:03 pm  2019             2.25  $2.25       Plain   \n",
       "\n",
       "          borough      street              city     state        country  \n",
       "34      Manhattan  2nd Avenue  City of New York  New York  United States  \n",
       "165  Kings County  4th Avenue  City of New York  New York  United States  "
      ]
     },
     "execution_count": 20,
     "metadata": {},
     "output_type": "execute_result"
    }
   ],
   "source": [
    "#df.loc[df.duplicated()]\n",
    "df.loc[df.duplicated()]\n"
   ]
  },
  {
   "cell_type": "markdown",
   "id": "9955079c-5174-41cb-a3e9-6ec5f96f6542",
   "metadata": {},
   "source": [
    "#### **Removing Duplicates**"
   ]
  },
  {
   "cell_type": "code",
   "execution_count": 21,
   "id": "e2ee3266-a2e6-499c-8e1b-3563b496e8f9",
   "metadata": {},
   "outputs": [],
   "source": [
    "df_nodupes = df.drop_duplicates()"
   ]
  },
  {
   "cell_type": "code",
   "execution_count": 22,
   "id": "f9f1b230-2c67-42ea-8e37-53804205ddc1",
   "metadata": {},
   "outputs": [
    {
     "data": {
      "text/plain": [
       "0"
      ]
     },
     "execution_count": 22,
     "metadata": {},
     "output_type": "execute_result"
    }
   ],
   "source": [
    "df_nodupes.duplicated().sum()"
   ]
  },
  {
   "cell_type": "markdown",
   "id": "ce9360fb-389d-4cab-9e2d-145affed3c26",
   "metadata": {},
   "source": [
    "# **Transforming data**"
   ]
  },
  {
   "cell_type": "markdown",
   "id": "dc64b8a2-613f-48ad-8d68-fd1030057ea4",
   "metadata": {},
   "source": [
    "#### **Removing columns**"
   ]
  },
  {
   "cell_type": "code",
   "execution_count": 23,
   "id": "05856fa7-f447-4d3e-861b-b1069019564a",
   "metadata": {},
   "outputs": [
    {
     "data": {
      "text/plain": [
       "Index(['Name', 'location_lat', 'location_lng', 'Date',\n",
       "       'Date Expanded (times in EST)', 'Year', 'Price as number', 'Price',\n",
       "       'Style', 'borough', 'street', 'city', 'state', 'country'],\n",
       "      dtype='object')"
      ]
     },
     "execution_count": 23,
     "metadata": {},
     "output_type": "execute_result"
    }
   ],
   "source": [
    "df.columns"
   ]
  },
  {
   "cell_type": "code",
   "execution_count": 25,
   "id": "3422470b-8889-4b92-a3cd-843c776360da",
   "metadata": {},
   "outputs": [
    {
     "name": "stdout",
     "output_type": "stream",
     "text": [
      "<class 'pandas.core.frame.DataFrame'>\n",
      "RangeIndex: 466 entries, 0 to 465\n",
      "Data columns (total 11 columns):\n",
      " #   Column                        Non-Null Count  Dtype  \n",
      "---  ------                        --------------  -----  \n",
      " 0   Name                          466 non-null    object \n",
      " 1   Date                          466 non-null    object \n",
      " 2   Date Expanded (times in EST)  466 non-null    object \n",
      " 3   Year                          466 non-null    int64  \n",
      " 4   Price as number               466 non-null    float64\n",
      " 5   Price                         466 non-null    object \n",
      " 6   Style                         466 non-null    object \n",
      " 7   borough                       463 non-null    object \n",
      " 8   street                        466 non-null    object \n",
      " 9   city                          462 non-null    object \n",
      " 10  state                         466 non-null    object \n",
      "dtypes: float64(1), int64(1), object(9)\n",
      "memory usage: 40.2+ KB\n"
     ]
    }
   ],
   "source": [
    "df_lean = df.drop(columns =['location_lat', 'location_lng', 'country'])\n",
    "df_lean.info()"
   ]
  },
  {
   "cell_type": "markdown",
   "id": "db0c8e9b-f001-4c13-9041-478a5263473e",
   "metadata": {},
   "source": [
    "## Search and replace"
   ]
  },
  {
   "cell_type": "code",
   "execution_count": null,
   "id": "812b669d-4149-4f7f-bfe9-1753b66a7267",
   "metadata": {},
   "outputs": [],
   "source": [
    "# What should we do with disparate borough names?"
   ]
  },
  {
   "cell_type": "code",
   "execution_count": 26,
   "id": "e8763cf1-e351-4d9c-8933-037335bf4d3b",
   "metadata": {},
   "outputs": [
    {
     "data": {
      "text/plain": [
       "array(['Brooklyn', 'Queens', 'Manhattan', 'The Bronx', 'Staten Island',\n",
       "       'Kings County', nan, 'Queens County'], dtype=object)"
      ]
     },
     "execution_count": 26,
     "metadata": {},
     "output_type": "execute_result"
    }
   ],
   "source": [
    "df.borough.unique()"
   ]
  },
  {
   "cell_type": "code",
   "execution_count": 27,
   "id": "a94833cd-3a23-4ed1-99c7-008ee5f68698",
   "metadata": {},
   "outputs": [
    {
     "data": {
      "text/plain": [
       "array(['Brooklyn', 'Queens', 'Manhattan', 'Bronx', 'Staten Island', nan],\n",
       "      dtype=object)"
      ]
     },
     "execution_count": 27,
     "metadata": {},
     "output_type": "execute_result"
    }
   ],
   "source": [
    "df = df.replace('The Bronx','Bronx', regex=True)\n",
    "df = df.replace('Queens County','Queens', regex=True)\n",
    "df = df.replace('Kings County','Brooklyn', regex=True)\n",
    "df.borough.unique()"
   ]
  },
  {
   "cell_type": "markdown",
   "id": "9d76f256-407a-49e9-afbf-d105dcfec2bb",
   "metadata": {},
   "source": [
    "## **Joins**"
   ]
  },
  {
   "cell_type": "markdown",
   "id": "86cd2d04-9f38-4cc0-af3e-d3ae3bec45da",
   "metadata": {},
   "source": [
    "Join columns with other DataFrame either on index or on a key column. Efficiently join multiple DataFrame objects by index at once by passing a list. Left join by default.\n",
    "\n",
    "* Uses the first row of the right table as index"
   ]
  },
  {
   "cell_type": "markdown",
   "id": "d303d060-24cd-4c8c-bb11-19ed8f51c478",
   "metadata": {},
   "source": [
    "[For more information on joins click here](https://pandas.pydata.org/docs/reference/api/pandas.DataFrame.join.html)"
   ]
  },
  {
   "cell_type": "code",
   "execution_count": 29,
   "id": "660b7b8d-1771-48ad-ad62-69278c6a82ca",
   "metadata": {},
   "outputs": [],
   "source": [
    "df_NYC_pop = pd.read_json('data/NYCPopulation.json')"
   ]
  },
  {
   "cell_type": "code",
   "execution_count": 30,
   "id": "277cc079-b331-4f65-8561-3fb97b080f38",
   "metadata": {},
   "outputs": [
    {
     "data": {
      "text/html": [
       "<div>\n",
       "<style scoped>\n",
       "    .dataframe tbody tr th:only-of-type {\n",
       "        vertical-align: middle;\n",
       "    }\n",
       "\n",
       "    .dataframe tbody tr th {\n",
       "        vertical-align: top;\n",
       "    }\n",
       "\n",
       "    .dataframe thead th {\n",
       "        text-align: right;\n",
       "    }\n",
       "</style>\n",
       "<table border=\"1\" class=\"dataframe\">\n",
       "  <thead>\n",
       "    <tr style=\"text-align: right;\">\n",
       "      <th></th>\n",
       "      <th>Group</th>\n",
       "      <th>borough</th>\n",
       "      <th>1950</th>\n",
       "      <th>1950 - Boro share of NYC total</th>\n",
       "      <th>2020 Population</th>\n",
       "      <th>2020 - Boro share of NYC total</th>\n",
       "    </tr>\n",
       "  </thead>\n",
       "  <tbody>\n",
       "    <tr>\n",
       "      <th>0</th>\n",
       "      <td>Total Population</td>\n",
       "      <td>NYC Total</td>\n",
       "      <td>7891957</td>\n",
       "      <td>100.00</td>\n",
       "      <td>8550971</td>\n",
       "      <td>100.00</td>\n",
       "    </tr>\n",
       "    <tr>\n",
       "      <th>1</th>\n",
       "      <td>Total Population</td>\n",
       "      <td>Bronx</td>\n",
       "      <td>1451277</td>\n",
       "      <td>18.39</td>\n",
       "      <td>1446788</td>\n",
       "      <td>16.92</td>\n",
       "    </tr>\n",
       "    <tr>\n",
       "      <th>2</th>\n",
       "      <td>Total Population</td>\n",
       "      <td>Brooklyn</td>\n",
       "      <td>2738175</td>\n",
       "      <td>34.70</td>\n",
       "      <td>2648452</td>\n",
       "      <td>30.97</td>\n",
       "    </tr>\n",
       "    <tr>\n",
       "      <th>3</th>\n",
       "      <td>Total Population</td>\n",
       "      <td>Manhattan</td>\n",
       "      <td>1960101</td>\n",
       "      <td>24.84</td>\n",
       "      <td>1638281</td>\n",
       "      <td>19.16</td>\n",
       "    </tr>\n",
       "    <tr>\n",
       "      <th>4</th>\n",
       "      <td>Total Population</td>\n",
       "      <td>Queens</td>\n",
       "      <td>1550849</td>\n",
       "      <td>19.65</td>\n",
       "      <td>2330295</td>\n",
       "      <td>27.25</td>\n",
       "    </tr>\n",
       "    <tr>\n",
       "      <th>5</th>\n",
       "      <td>Total Population</td>\n",
       "      <td>Staten Island</td>\n",
       "      <td>191555</td>\n",
       "      <td>2.43</td>\n",
       "      <td>487155</td>\n",
       "      <td>5.70</td>\n",
       "    </tr>\n",
       "  </tbody>\n",
       "</table>\n",
       "</div>"
      ],
      "text/plain": [
       "              Group        borough     1950  1950 - Boro share of NYC total  \\\n",
       "0  Total Population      NYC Total  7891957                          100.00   \n",
       "1  Total Population          Bronx  1451277                           18.39   \n",
       "2  Total Population       Brooklyn  2738175                           34.70   \n",
       "3  Total Population      Manhattan  1960101                           24.84   \n",
       "4  Total Population         Queens  1550849                           19.65   \n",
       "5  Total Population  Staten Island   191555                            2.43   \n",
       "\n",
       "   2020 Population  2020 - Boro share of NYC total  \n",
       "0          8550971                          100.00  \n",
       "1          1446788                           16.92  \n",
       "2          2648452                           30.97  \n",
       "3          1638281                           19.16  \n",
       "4          2330295                           27.25  \n",
       "5           487155                            5.70  "
      ]
     },
     "execution_count": 30,
     "metadata": {},
     "output_type": "execute_result"
    }
   ],
   "source": [
    "df_NYC_pop.head(6)"
   ]
  },
  {
   "cell_type": "code",
   "execution_count": 31,
   "id": "fcf509bd-1718-4122-957b-24ac8e0e38b7",
   "metadata": {},
   "outputs": [
    {
     "data": {
      "text/html": [
       "<div>\n",
       "<style scoped>\n",
       "    .dataframe tbody tr th:only-of-type {\n",
       "        vertical-align: middle;\n",
       "    }\n",
       "\n",
       "    .dataframe tbody tr th {\n",
       "        vertical-align: top;\n",
       "    }\n",
       "\n",
       "    .dataframe thead th {\n",
       "        text-align: right;\n",
       "    }\n",
       "</style>\n",
       "<table border=\"1\" class=\"dataframe\">\n",
       "  <thead>\n",
       "    <tr style=\"text-align: right;\">\n",
       "      <th></th>\n",
       "      <th>Name</th>\n",
       "      <th>location_lat</th>\n",
       "      <th>location_lng</th>\n",
       "      <th>Date</th>\n",
       "      <th>Date Expanded (times in EST)</th>\n",
       "      <th>Year</th>\n",
       "      <th>Price as number</th>\n",
       "      <th>Price</th>\n",
       "      <th>Style</th>\n",
       "      <th>borough</th>\n",
       "      <th>street</th>\n",
       "      <th>city</th>\n",
       "      <th>state</th>\n",
       "      <th>country</th>\n",
       "      <th>Group</th>\n",
       "      <th>1950</th>\n",
       "      <th>1950 - Boro share of NYC total</th>\n",
       "      <th>2020 Population</th>\n",
       "      <th>2020 - Boro share of NYC total</th>\n",
       "    </tr>\n",
       "  </thead>\n",
       "  <tbody>\n",
       "    <tr>\n",
       "      <th>0</th>\n",
       "      <td>Angelos Pizza</td>\n",
       "      <td>40.623254</td>\n",
       "      <td>-73.937922</td>\n",
       "      <td>2022-1014</td>\n",
       "      <td>Oct 14th 2022, 5:57:51 pm</td>\n",
       "      <td>2022</td>\n",
       "      <td>3.00</td>\n",
       "      <td>$3.00</td>\n",
       "      <td>Plain</td>\n",
       "      <td>Brooklyn</td>\n",
       "      <td>Flatbush Avenue</td>\n",
       "      <td>City of New York</td>\n",
       "      <td>New York</td>\n",
       "      <td>United States</td>\n",
       "      <td>Total Population</td>\n",
       "      <td>2738175</td>\n",
       "      <td>34.70</td>\n",
       "      <td>2648452</td>\n",
       "      <td>30.97</td>\n",
       "    </tr>\n",
       "    <tr>\n",
       "      <th>2</th>\n",
       "      <td>Pino Pizza</td>\n",
       "      <td>40.600015</td>\n",
       "      <td>-73.999455</td>\n",
       "      <td>2022-1003</td>\n",
       "      <td>Oct 3rd 2022, 5:47:23 pm</td>\n",
       "      <td>2022</td>\n",
       "      <td>2.75</td>\n",
       "      <td>$2.75</td>\n",
       "      <td>Plain</td>\n",
       "      <td>Brooklyn</td>\n",
       "      <td>21st Avenue</td>\n",
       "      <td>City of New York</td>\n",
       "      <td>New York</td>\n",
       "      <td>United States</td>\n",
       "      <td>Total Population</td>\n",
       "      <td>2738175</td>\n",
       "      <td>34.70</td>\n",
       "      <td>2648452</td>\n",
       "      <td>30.97</td>\n",
       "    </tr>\n",
       "    <tr>\n",
       "      <th>7</th>\n",
       "      <td>N &amp; D Pizza</td>\n",
       "      <td>40.600463</td>\n",
       "      <td>-73.943072</td>\n",
       "      <td>2022-0905</td>\n",
       "      <td>Sep 5th 2022, 4:37:08 pm</td>\n",
       "      <td>2022</td>\n",
       "      <td>3.35</td>\n",
       "      <td>$3.35</td>\n",
       "      <td>Plain</td>\n",
       "      <td>Brooklyn</td>\n",
       "      <td>Avenue U</td>\n",
       "      <td>City of New York</td>\n",
       "      <td>New York</td>\n",
       "      <td>United States</td>\n",
       "      <td>Total Population</td>\n",
       "      <td>2738175</td>\n",
       "      <td>34.70</td>\n",
       "      <td>2648452</td>\n",
       "      <td>30.97</td>\n",
       "    </tr>\n",
       "    <tr>\n",
       "      <th>16</th>\n",
       "      <td>Gravesend Pizza</td>\n",
       "      <td>40.655616</td>\n",
       "      <td>-74.003371</td>\n",
       "      <td>2022-0708</td>\n",
       "      <td>Jul 8th 2022, 7:25:09 pm</td>\n",
       "      <td>2022</td>\n",
       "      <td>3.00</td>\n",
       "      <td>$3.00</td>\n",
       "      <td>Plain</td>\n",
       "      <td>Brooklyn</td>\n",
       "      <td>34th Street</td>\n",
       "      <td>City of New York</td>\n",
       "      <td>New York</td>\n",
       "      <td>United States</td>\n",
       "      <td>Total Population</td>\n",
       "      <td>2738175</td>\n",
       "      <td>34.70</td>\n",
       "      <td>2648452</td>\n",
       "      <td>30.97</td>\n",
       "    </tr>\n",
       "    <tr>\n",
       "      <th>17</th>\n",
       "      <td>Jojo's Pizza</td>\n",
       "      <td>40.655045</td>\n",
       "      <td>-73.916051</td>\n",
       "      <td>2022-0701</td>\n",
       "      <td>Jul 1st 2022, 5:24:33 pm</td>\n",
       "      <td>2022</td>\n",
       "      <td>3.00</td>\n",
       "      <td>$3.00</td>\n",
       "      <td>Plain</td>\n",
       "      <td>Brooklyn</td>\n",
       "      <td>Church Avenue</td>\n",
       "      <td>City of New York</td>\n",
       "      <td>New York</td>\n",
       "      <td>United States</td>\n",
       "      <td>Total Population</td>\n",
       "      <td>2738175</td>\n",
       "      <td>34.70</td>\n",
       "      <td>2648452</td>\n",
       "      <td>30.97</td>\n",
       "    </tr>\n",
       "    <tr>\n",
       "      <th>...</th>\n",
       "      <td>...</td>\n",
       "      <td>...</td>\n",
       "      <td>...</td>\n",
       "      <td>...</td>\n",
       "      <td>...</td>\n",
       "      <td>...</td>\n",
       "      <td>...</td>\n",
       "      <td>...</td>\n",
       "      <td>...</td>\n",
       "      <td>...</td>\n",
       "      <td>...</td>\n",
       "      <td>...</td>\n",
       "      <td>...</td>\n",
       "      <td>...</td>\n",
       "      <td>...</td>\n",
       "      <td>...</td>\n",
       "      <td>...</td>\n",
       "      <td>...</td>\n",
       "      <td>...</td>\n",
       "    </tr>\n",
       "    <tr>\n",
       "      <th>273</th>\n",
       "      <td>Tony's Original's</td>\n",
       "      <td>40.638290</td>\n",
       "      <td>-74.079380</td>\n",
       "      <td>2015-1224</td>\n",
       "      <td>Dec 24th 2015, 2:34:11 pm</td>\n",
       "      <td>2015</td>\n",
       "      <td>2.00</td>\n",
       "      <td>$2.00</td>\n",
       "      <td>Plain</td>\n",
       "      <td>Staten Island</td>\n",
       "      <td>Corson Avenue</td>\n",
       "      <td>City of New York</td>\n",
       "      <td>New York</td>\n",
       "      <td>United States</td>\n",
       "      <td>Total Population</td>\n",
       "      <td>191555</td>\n",
       "      <td>2.43</td>\n",
       "      <td>487155</td>\n",
       "      <td>5.70</td>\n",
       "    </tr>\n",
       "    <tr>\n",
       "      <th>336</th>\n",
       "      <td>Nunzio's Pizzeria</td>\n",
       "      <td>40.577940</td>\n",
       "      <td>-74.102590</td>\n",
       "      <td>2015-0506</td>\n",
       "      <td>May 6th 2015, 4:34:45 pm</td>\n",
       "      <td>2015</td>\n",
       "      <td>2.00</td>\n",
       "      <td>$2.00</td>\n",
       "      <td>Plain</td>\n",
       "      <td>Staten Island</td>\n",
       "      <td>Hylan Boulevard</td>\n",
       "      <td>City of New York</td>\n",
       "      <td>New York</td>\n",
       "      <td>United States</td>\n",
       "      <td>Total Population</td>\n",
       "      <td>191555</td>\n",
       "      <td>2.43</td>\n",
       "      <td>487155</td>\n",
       "      <td>5.70</td>\n",
       "    </tr>\n",
       "    <tr>\n",
       "      <th>382</th>\n",
       "      <td>Crispy Pizza</td>\n",
       "      <td>40.644571</td>\n",
       "      <td>-74.098385</td>\n",
       "      <td>2014-1128</td>\n",
       "      <td>Nov 28th 2014, 1:17:14 pm</td>\n",
       "      <td>2014</td>\n",
       "      <td>2.00</td>\n",
       "      <td>$2.00</td>\n",
       "      <td>Plain</td>\n",
       "      <td>Staten Island</td>\n",
       "      <td>Clinton Avenue</td>\n",
       "      <td>City of New York</td>\n",
       "      <td>New York</td>\n",
       "      <td>United States</td>\n",
       "      <td>Total Population</td>\n",
       "      <td>191555</td>\n",
       "      <td>2.43</td>\n",
       "      <td>487155</td>\n",
       "      <td>5.70</td>\n",
       "    </tr>\n",
       "    <tr>\n",
       "      <th>409</th>\n",
       "      <td>Domenico's Pizza &amp; Pasta, Amboy Road</td>\n",
       "      <td>40.525698</td>\n",
       "      <td>-74.201928</td>\n",
       "      <td>2014-1018</td>\n",
       "      <td>Oct 18th 2014, 10:44:30 pm</td>\n",
       "      <td>2014</td>\n",
       "      <td>2.50</td>\n",
       "      <td>$2.50</td>\n",
       "      <td>Plain</td>\n",
       "      <td>Staten Island</td>\n",
       "      <td>Amboy Road</td>\n",
       "      <td>City of New York</td>\n",
       "      <td>New York</td>\n",
       "      <td>United States</td>\n",
       "      <td>Total Population</td>\n",
       "      <td>191555</td>\n",
       "      <td>2.43</td>\n",
       "      <td>487155</td>\n",
       "      <td>5.70</td>\n",
       "    </tr>\n",
       "    <tr>\n",
       "      <th>419</th>\n",
       "      <td>Pronto Pizza</td>\n",
       "      <td>40.640550</td>\n",
       "      <td>-74.116110</td>\n",
       "      <td>2014-0928</td>\n",
       "      <td>Sep 28th 2014, 12:30:45 pm</td>\n",
       "      <td>2014</td>\n",
       "      <td>2.50</td>\n",
       "      <td>$2.50</td>\n",
       "      <td>Plain</td>\n",
       "      <td>Staten Island</td>\n",
       "      <td>Markham Drive</td>\n",
       "      <td>City of New York</td>\n",
       "      <td>New York</td>\n",
       "      <td>United States</td>\n",
       "      <td>Total Population</td>\n",
       "      <td>191555</td>\n",
       "      <td>2.43</td>\n",
       "      <td>487155</td>\n",
       "      <td>5.70</td>\n",
       "    </tr>\n",
       "  </tbody>\n",
       "</table>\n",
       "<p>463 rows × 19 columns</p>\n",
       "</div>"
      ],
      "text/plain": [
       "                                     Name  location_lat  location_lng  \\\n",
       "0                           Angelos Pizza     40.623254    -73.937922   \n",
       "2                              Pino Pizza     40.600015    -73.999455   \n",
       "7                             N & D Pizza     40.600463    -73.943072   \n",
       "16                        Gravesend Pizza     40.655616    -74.003371   \n",
       "17                           Jojo's Pizza     40.655045    -73.916051   \n",
       "..                                    ...           ...           ...   \n",
       "273                     Tony's Original's     40.638290    -74.079380   \n",
       "336                     Nunzio's Pizzeria     40.577940    -74.102590   \n",
       "382                          Crispy Pizza     40.644571    -74.098385   \n",
       "409  Domenico's Pizza & Pasta, Amboy Road     40.525698    -74.201928   \n",
       "419                          Pronto Pizza     40.640550    -74.116110   \n",
       "\n",
       "          Date Date Expanded (times in EST)  Year  Price as number   Price  \\\n",
       "0    2022-1014    Oct 14th 2022, 5:57:51 pm  2022             3.00  $3.00    \n",
       "2    2022-1003     Oct 3rd 2022, 5:47:23 pm  2022             2.75  $2.75    \n",
       "7    2022-0905     Sep 5th 2022, 4:37:08 pm  2022             3.35  $3.35    \n",
       "16   2022-0708     Jul 8th 2022, 7:25:09 pm  2022             3.00  $3.00    \n",
       "17   2022-0701     Jul 1st 2022, 5:24:33 pm  2022             3.00  $3.00    \n",
       "..         ...                          ...   ...              ...     ...   \n",
       "273  2015-1224    Dec 24th 2015, 2:34:11 pm  2015             2.00  $2.00    \n",
       "336  2015-0506     May 6th 2015, 4:34:45 pm  2015             2.00  $2.00    \n",
       "382  2014-1128    Nov 28th 2014, 1:17:14 pm  2014             2.00  $2.00    \n",
       "409  2014-1018   Oct 18th 2014, 10:44:30 pm  2014             2.50  $2.50    \n",
       "419  2014-0928   Sep 28th 2014, 12:30:45 pm  2014             2.50  $2.50    \n",
       "\n",
       "     Style        borough           street              city     state  \\\n",
       "0    Plain       Brooklyn  Flatbush Avenue  City of New York  New York   \n",
       "2    Plain       Brooklyn      21st Avenue  City of New York  New York   \n",
       "7    Plain       Brooklyn         Avenue U  City of New York  New York   \n",
       "16   Plain       Brooklyn      34th Street  City of New York  New York   \n",
       "17   Plain       Brooklyn    Church Avenue  City of New York  New York   \n",
       "..     ...            ...              ...               ...       ...   \n",
       "273  Plain  Staten Island    Corson Avenue  City of New York  New York   \n",
       "336  Plain  Staten Island  Hylan Boulevard  City of New York  New York   \n",
       "382  Plain  Staten Island   Clinton Avenue  City of New York  New York   \n",
       "409  Plain  Staten Island       Amboy Road  City of New York  New York   \n",
       "419  Plain  Staten Island    Markham Drive  City of New York  New York   \n",
       "\n",
       "           country             Group     1950  1950 - Boro share of NYC total  \\\n",
       "0    United States  Total Population  2738175                           34.70   \n",
       "2    United States  Total Population  2738175                           34.70   \n",
       "7    United States  Total Population  2738175                           34.70   \n",
       "16   United States  Total Population  2738175                           34.70   \n",
       "17   United States  Total Population  2738175                           34.70   \n",
       "..             ...               ...      ...                             ...   \n",
       "273  United States  Total Population   191555                            2.43   \n",
       "336  United States  Total Population   191555                            2.43   \n",
       "382  United States  Total Population   191555                            2.43   \n",
       "409  United States  Total Population   191555                            2.43   \n",
       "419  United States  Total Population   191555                            2.43   \n",
       "\n",
       "     2020 Population  2020 - Boro share of NYC total  \n",
       "0            2648452                           30.97  \n",
       "2            2648452                           30.97  \n",
       "7            2648452                           30.97  \n",
       "16           2648452                           30.97  \n",
       "17           2648452                           30.97  \n",
       "..               ...                             ...  \n",
       "273           487155                            5.70  \n",
       "336           487155                            5.70  \n",
       "382           487155                            5.70  \n",
       "409           487155                            5.70  \n",
       "419           487155                            5.70  \n",
       "\n",
       "[463 rows x 19 columns]"
      ]
     },
     "execution_count": 31,
     "metadata": {},
     "output_type": "execute_result"
    }
   ],
   "source": [
    "joined_df = df.join(df_NYC_pop.set_index('borough'), on='borough', how = 'inner')\n",
    "joined_df"
   ]
  },
  {
   "cell_type": "markdown",
   "id": "fc72bc3d-5e46-404b-a21a-22b29a949174",
   "metadata": {},
   "source": [
    "\n",
    "`how` accepts arguments that define how the tables are joined.\n",
    "\n",
    "- left: use calling frame’s index (or column if on is specified)\n",
    "- right: use other’s index.\n",
    "- outer: form union of calling frame’s index (or column if on is specified) with other’s index, and sort it. lexicographically.\n",
    "- inner: form intersection of calling frame’s index (or column if on is specified) with other’s index, preserving the order of the calling’s one.\n",
    "- cross: creates the cartesian product from both frames, preserves the order of the left keys."
   ]
  },
  {
   "cell_type": "markdown",
   "id": "90cb0bbb-1eff-48bf-8235-35ce44c98fd0",
   "metadata": {},
   "source": [
    "## **Merge**"
   ]
  },
  {
   "cell_type": "markdown",
   "id": "82c8533c-b2b9-42a8-ae38-c6a237370d53",
   "metadata": {},
   "source": [
    "- For combining data on common columns\n",
    "- More flexible, and more complex than the Join method\n",
    "- Requires common column names\n",
    "- Side by side merge\n",
    "- Inner join by default"
   ]
  },
  {
   "cell_type": "code",
   "execution_count": 32,
   "id": "69673637-a84b-4270-aa18-c39d919dda16",
   "metadata": {},
   "outputs": [
    {
     "data": {
      "text/html": [
       "<div>\n",
       "<style scoped>\n",
       "    .dataframe tbody tr th:only-of-type {\n",
       "        vertical-align: middle;\n",
       "    }\n",
       "\n",
       "    .dataframe tbody tr th {\n",
       "        vertical-align: top;\n",
       "    }\n",
       "\n",
       "    .dataframe thead th {\n",
       "        text-align: right;\n",
       "    }\n",
       "</style>\n",
       "<table border=\"1\" class=\"dataframe\">\n",
       "  <thead>\n",
       "    <tr style=\"text-align: right;\">\n",
       "      <th></th>\n",
       "      <th>Name</th>\n",
       "      <th>location_lat</th>\n",
       "      <th>location_lng</th>\n",
       "      <th>Date</th>\n",
       "      <th>Date Expanded (times in EST)</th>\n",
       "      <th>Year</th>\n",
       "      <th>Price as number</th>\n",
       "      <th>Price</th>\n",
       "      <th>Style</th>\n",
       "      <th>borough</th>\n",
       "      <th>street</th>\n",
       "      <th>city</th>\n",
       "      <th>state</th>\n",
       "      <th>country</th>\n",
       "      <th>Group</th>\n",
       "      <th>1950</th>\n",
       "      <th>1950 - Boro share of NYC total</th>\n",
       "      <th>2020 Population</th>\n",
       "      <th>2020 - Boro share of NYC total</th>\n",
       "    </tr>\n",
       "  </thead>\n",
       "  <tbody>\n",
       "    <tr>\n",
       "      <th>0</th>\n",
       "      <td>Angelos Pizza</td>\n",
       "      <td>40.623254</td>\n",
       "      <td>-73.937922</td>\n",
       "      <td>2022-1014</td>\n",
       "      <td>Oct 14th 2022, 5:57:51 pm</td>\n",
       "      <td>2022</td>\n",
       "      <td>3.00</td>\n",
       "      <td>$3.00</td>\n",
       "      <td>Plain</td>\n",
       "      <td>Brooklyn</td>\n",
       "      <td>Flatbush Avenue</td>\n",
       "      <td>City of New York</td>\n",
       "      <td>New York</td>\n",
       "      <td>United States</td>\n",
       "      <td>Total Population</td>\n",
       "      <td>2738175</td>\n",
       "      <td>34.7</td>\n",
       "      <td>2648452</td>\n",
       "      <td>30.97</td>\n",
       "    </tr>\n",
       "    <tr>\n",
       "      <th>1</th>\n",
       "      <td>Pino Pizza</td>\n",
       "      <td>40.600015</td>\n",
       "      <td>-73.999455</td>\n",
       "      <td>2022-1003</td>\n",
       "      <td>Oct 3rd 2022, 5:47:23 pm</td>\n",
       "      <td>2022</td>\n",
       "      <td>2.75</td>\n",
       "      <td>$2.75</td>\n",
       "      <td>Plain</td>\n",
       "      <td>Brooklyn</td>\n",
       "      <td>21st Avenue</td>\n",
       "      <td>City of New York</td>\n",
       "      <td>New York</td>\n",
       "      <td>United States</td>\n",
       "      <td>Total Population</td>\n",
       "      <td>2738175</td>\n",
       "      <td>34.7</td>\n",
       "      <td>2648452</td>\n",
       "      <td>30.97</td>\n",
       "    </tr>\n",
       "    <tr>\n",
       "      <th>2</th>\n",
       "      <td>N &amp; D Pizza</td>\n",
       "      <td>40.600463</td>\n",
       "      <td>-73.943072</td>\n",
       "      <td>2022-0905</td>\n",
       "      <td>Sep 5th 2022, 4:37:08 pm</td>\n",
       "      <td>2022</td>\n",
       "      <td>3.35</td>\n",
       "      <td>$3.35</td>\n",
       "      <td>Plain</td>\n",
       "      <td>Brooklyn</td>\n",
       "      <td>Avenue U</td>\n",
       "      <td>City of New York</td>\n",
       "      <td>New York</td>\n",
       "      <td>United States</td>\n",
       "      <td>Total Population</td>\n",
       "      <td>2738175</td>\n",
       "      <td>34.7</td>\n",
       "      <td>2648452</td>\n",
       "      <td>30.97</td>\n",
       "    </tr>\n",
       "  </tbody>\n",
       "</table>\n",
       "</div>"
      ],
      "text/plain": [
       "            Name  location_lat  location_lng       Date  \\\n",
       "0  Angelos Pizza     40.623254    -73.937922  2022-1014   \n",
       "1     Pino Pizza     40.600015    -73.999455  2022-1003   \n",
       "2    N & D Pizza     40.600463    -73.943072  2022-0905   \n",
       "\n",
       "  Date Expanded (times in EST)  Year  Price as number   Price  Style  \\\n",
       "0    Oct 14th 2022, 5:57:51 pm  2022             3.00  $3.00   Plain   \n",
       "1     Oct 3rd 2022, 5:47:23 pm  2022             2.75  $2.75   Plain   \n",
       "2     Sep 5th 2022, 4:37:08 pm  2022             3.35  $3.35   Plain   \n",
       "\n",
       "    borough           street              city     state        country  \\\n",
       "0  Brooklyn  Flatbush Avenue  City of New York  New York  United States   \n",
       "1  Brooklyn      21st Avenue  City of New York  New York  United States   \n",
       "2  Brooklyn         Avenue U  City of New York  New York  United States   \n",
       "\n",
       "              Group     1950  1950 - Boro share of NYC total  2020 Population  \\\n",
       "0  Total Population  2738175                            34.7          2648452   \n",
       "1  Total Population  2738175                            34.7          2648452   \n",
       "2  Total Population  2738175                            34.7          2648452   \n",
       "\n",
       "   2020 - Boro share of NYC total  \n",
       "0                           30.97  \n",
       "1                           30.97  \n",
       "2                           30.97  "
      ]
     },
     "execution_count": 32,
     "metadata": {},
     "output_type": "execute_result"
    }
   ],
   "source": [
    "merged = pd.merge(df, df_NYC_pop)\n",
    "merged.head(3)"
   ]
  },
  {
   "cell_type": "markdown",
   "id": "2fed659f-1565-41c8-9e32-0bcc393803fb",
   "metadata": {},
   "source": [
    "## **Pivot Table**"
   ]
  },
  {
   "cell_type": "markdown",
   "id": "eccc1ca8-abc7-4e60-b09f-898e07ff1cb6",
   "metadata": {},
   "source": [
    "Produce a “pivot” table based on column values. Uses unique values from specified index / columns to form axes of the resulting DataFrame. This function does not support data aggregation, multiple values will result in a MultiIndex in the columns. "
   ]
  },
  {
   "cell_type": "markdown",
   "id": "e3c1840a-ca94-4e1f-9692-65cdc85083a2",
   "metadata": {},
   "source": [
    "- `df.pivot()` reshapes data based on columns "
   ]
  },
  {
   "cell_type": "markdown",
   "id": "3af44e9c-797f-416c-9673-0f06425980bd",
   "metadata": {},
   "source": [
    "[For more information about df.pivot() click here](https://pandas.pydata.org/docs/reference/api/pandas.DataFrame.pivot.html)"
   ]
  },
  {
   "cell_type": "markdown",
   "id": "5bde5d7d-b029-416b-81e8-397c65fd8a0d",
   "metadata": {},
   "source": [
    "- `df.pivot_table()` creates a pivot table as a dataframe allowing aggregation and tabulation"
   ]
  },
  {
   "cell_type": "markdown",
   "id": "8bb29f87-add7-4cef-9a1b-61db513edd2c",
   "metadata": {},
   "source": [
    "[For more information about df.pivot_table() click here](https://pandas.pydata.org/docs/reference/api/pandas.DataFrame.pivot_table.html)"
   ]
  },
  {
   "cell_type": "code",
   "execution_count": 33,
   "id": "c31a7ad0-84ad-4b9f-b764-b45888474b72",
   "metadata": {},
   "outputs": [
    {
     "data": {
      "text/html": [
       "<div>\n",
       "<style scoped>\n",
       "    .dataframe tbody tr th:only-of-type {\n",
       "        vertical-align: middle;\n",
       "    }\n",
       "\n",
       "    .dataframe tbody tr th {\n",
       "        vertical-align: top;\n",
       "    }\n",
       "\n",
       "    .dataframe thead th {\n",
       "        text-align: right;\n",
       "    }\n",
       "</style>\n",
       "<table border=\"1\" class=\"dataframe\">\n",
       "  <thead>\n",
       "    <tr style=\"text-align: right;\">\n",
       "      <th></th>\n",
       "      <th>Name</th>\n",
       "      <th>location_lat</th>\n",
       "      <th>location_lng</th>\n",
       "      <th>Date</th>\n",
       "      <th>Date Expanded (times in EST)</th>\n",
       "      <th>Year</th>\n",
       "      <th>Price as number</th>\n",
       "      <th>Price</th>\n",
       "      <th>Style</th>\n",
       "      <th>borough</th>\n",
       "      <th>street</th>\n",
       "      <th>city</th>\n",
       "      <th>state</th>\n",
       "      <th>country</th>\n",
       "      <th>Group</th>\n",
       "      <th>1950</th>\n",
       "      <th>1950 - Boro share of NYC total</th>\n",
       "      <th>2020 Population</th>\n",
       "      <th>2020 - Boro share of NYC total</th>\n",
       "    </tr>\n",
       "  </thead>\n",
       "  <tbody>\n",
       "    <tr>\n",
       "      <th>0</th>\n",
       "      <td>Angelos Pizza</td>\n",
       "      <td>40.623254</td>\n",
       "      <td>-73.937922</td>\n",
       "      <td>2022-1014</td>\n",
       "      <td>Oct 14th 2022, 5:57:51 pm</td>\n",
       "      <td>2022</td>\n",
       "      <td>3.0</td>\n",
       "      <td>$3.00</td>\n",
       "      <td>Plain</td>\n",
       "      <td>Brooklyn</td>\n",
       "      <td>Flatbush Avenue</td>\n",
       "      <td>City of New York</td>\n",
       "      <td>New York</td>\n",
       "      <td>United States</td>\n",
       "      <td>Total Population</td>\n",
       "      <td>2738175</td>\n",
       "      <td>34.7</td>\n",
       "      <td>2648452</td>\n",
       "      <td>30.97</td>\n",
       "    </tr>\n",
       "  </tbody>\n",
       "</table>\n",
       "</div>"
      ],
      "text/plain": [
       "            Name  location_lat  location_lng       Date  \\\n",
       "0  Angelos Pizza     40.623254    -73.937922  2022-1014   \n",
       "\n",
       "  Date Expanded (times in EST)  Year  Price as number   Price  Style  \\\n",
       "0    Oct 14th 2022, 5:57:51 pm  2022              3.0  $3.00   Plain   \n",
       "\n",
       "    borough           street              city     state        country  \\\n",
       "0  Brooklyn  Flatbush Avenue  City of New York  New York  United States   \n",
       "\n",
       "              Group     1950  1950 - Boro share of NYC total  2020 Population  \\\n",
       "0  Total Population  2738175                            34.7          2648452   \n",
       "\n",
       "   2020 - Boro share of NYC total  \n",
       "0                           30.97  "
      ]
     },
     "execution_count": 33,
     "metadata": {},
     "output_type": "execute_result"
    }
   ],
   "source": [
    "joined_df.head(1)"
   ]
  },
  {
   "cell_type": "markdown",
   "id": "f1108597-66b6-46b0-a00f-a78297f952a6",
   "metadata": {},
   "source": [
    "There are 2 pivot_table methods.  One is a dataframe method, the other is a more generic Pandas method"
   ]
  },
  {
   "cell_type": "code",
   "execution_count": 34,
   "id": "8aeb3440-0fc3-4959-aec8-b5579513dfce",
   "metadata": {},
   "outputs": [
    {
     "data": {
      "text/html": [
       "<div>\n",
       "<style scoped>\n",
       "    .dataframe tbody tr th:only-of-type {\n",
       "        vertical-align: middle;\n",
       "    }\n",
       "\n",
       "    .dataframe tbody tr th {\n",
       "        vertical-align: top;\n",
       "    }\n",
       "\n",
       "    .dataframe thead th {\n",
       "        text-align: right;\n",
       "    }\n",
       "</style>\n",
       "<table border=\"1\" class=\"dataframe\">\n",
       "  <thead>\n",
       "    <tr style=\"text-align: right;\">\n",
       "      <th></th>\n",
       "      <th>Price as number</th>\n",
       "    </tr>\n",
       "    <tr>\n",
       "      <th>borough</th>\n",
       "      <th></th>\n",
       "    </tr>\n",
       "  </thead>\n",
       "  <tbody>\n",
       "    <tr>\n",
       "      <th>Bronx</th>\n",
       "      <td>2.881429</td>\n",
       "    </tr>\n",
       "    <tr>\n",
       "      <th>Brooklyn</th>\n",
       "      <td>2.620294</td>\n",
       "    </tr>\n",
       "    <tr>\n",
       "      <th>Manhattan</th>\n",
       "      <td>2.726489</td>\n",
       "    </tr>\n",
       "    <tr>\n",
       "      <th>Queens</th>\n",
       "      <td>2.630341</td>\n",
       "    </tr>\n",
       "    <tr>\n",
       "      <th>Staten Island</th>\n",
       "      <td>2.519375</td>\n",
       "    </tr>\n",
       "  </tbody>\n",
       "</table>\n",
       "</div>"
      ],
      "text/plain": [
       "               Price as number\n",
       "borough                       \n",
       "Bronx                 2.881429\n",
       "Brooklyn              2.620294\n",
       "Manhattan             2.726489\n",
       "Queens                2.630341\n",
       "Staten Island         2.519375"
      ]
     },
     "execution_count": 34,
     "metadata": {},
     "output_type": "execute_result"
    }
   ],
   "source": [
    "# This is the pandas method without columns\n",
    "pivot_df = pd.pivot_table(df, index='borough', values='Price as number')      \n",
    "pivot_df"
   ]
  },
  {
   "cell_type": "code",
   "execution_count": 35,
   "id": "bd9a6477-a8bb-4c98-8069-f8c7d0780806",
   "metadata": {},
   "outputs": [
    {
     "data": {
      "text/html": [
       "<div>\n",
       "<style scoped>\n",
       "    .dataframe tbody tr th:only-of-type {\n",
       "        vertical-align: middle;\n",
       "    }\n",
       "\n",
       "    .dataframe tbody tr th {\n",
       "        vertical-align: top;\n",
       "    }\n",
       "\n",
       "    .dataframe thead th {\n",
       "        text-align: right;\n",
       "    }\n",
       "</style>\n",
       "<table border=\"1\" class=\"dataframe\">\n",
       "  <thead>\n",
       "    <tr style=\"text-align: right;\">\n",
       "      <th></th>\n",
       "      <th>count</th>\n",
       "      <th>mean</th>\n",
       "      <th>median</th>\n",
       "      <th>std</th>\n",
       "      <th>sum</th>\n",
       "    </tr>\n",
       "    <tr>\n",
       "      <th>borough</th>\n",
       "      <th></th>\n",
       "      <th></th>\n",
       "      <th></th>\n",
       "      <th></th>\n",
       "      <th></th>\n",
       "    </tr>\n",
       "  </thead>\n",
       "  <tbody>\n",
       "    <tr>\n",
       "      <th>Bronx</th>\n",
       "      <td>35</td>\n",
       "      <td>2.881429</td>\n",
       "      <td>3.00</td>\n",
       "      <td>0.599152</td>\n",
       "      <td>100.85</td>\n",
       "    </tr>\n",
       "    <tr>\n",
       "      <th>Brooklyn</th>\n",
       "      <td>136</td>\n",
       "      <td>2.620294</td>\n",
       "      <td>2.75</td>\n",
       "      <td>0.671044</td>\n",
       "      <td>356.36</td>\n",
       "    </tr>\n",
       "    <tr>\n",
       "      <th>Manhattan</th>\n",
       "      <td>188</td>\n",
       "      <td>2.726489</td>\n",
       "      <td>2.75</td>\n",
       "      <td>1.010681</td>\n",
       "      <td>512.58</td>\n",
       "    </tr>\n",
       "    <tr>\n",
       "      <th>Queens</th>\n",
       "      <td>88</td>\n",
       "      <td>2.630341</td>\n",
       "      <td>2.70</td>\n",
       "      <td>0.556034</td>\n",
       "      <td>231.47</td>\n",
       "    </tr>\n",
       "    <tr>\n",
       "      <th>Staten Island</th>\n",
       "      <td>16</td>\n",
       "      <td>2.519375</td>\n",
       "      <td>2.50</td>\n",
       "      <td>0.552877</td>\n",
       "      <td>40.31</td>\n",
       "    </tr>\n",
       "  </tbody>\n",
       "</table>\n",
       "</div>"
      ],
      "text/plain": [
       "               count      mean  median       std     sum\n",
       "borough                                                 \n",
       "Bronx             35  2.881429    3.00  0.599152  100.85\n",
       "Brooklyn         136  2.620294    2.75  0.671044  356.36\n",
       "Manhattan        188  2.726489    2.75  1.010681  512.58\n",
       "Queens            88  2.630341    2.70  0.556034  231.47\n",
       "Staten Island     16  2.519375    2.50  0.552877   40.31"
      ]
     },
     "execution_count": 35,
     "metadata": {},
     "output_type": "execute_result"
    }
   ],
   "source": [
    "pivot_df = pd.pivot_table(df, index='borough', values='Price as number', aggfunc=('mean', 'median', 'sum', 'std', 'count'))      \n",
    "pivot_df"
   ]
  },
  {
   "cell_type": "code",
   "execution_count": 36,
   "id": "80e2dd7f-76ef-46b1-89b4-a3112e8be0c0",
   "metadata": {},
   "outputs": [
    {
     "data": {
      "text/html": [
       "<div>\n",
       "<style scoped>\n",
       "    .dataframe tbody tr th:only-of-type {\n",
       "        vertical-align: middle;\n",
       "    }\n",
       "\n",
       "    .dataframe tbody tr th {\n",
       "        vertical-align: top;\n",
       "    }\n",
       "\n",
       "    .dataframe thead th {\n",
       "        text-align: right;\n",
       "    }\n",
       "</style>\n",
       "<table border=\"1\" class=\"dataframe\">\n",
       "  <thead>\n",
       "    <tr style=\"text-align: right;\">\n",
       "      <th>Style</th>\n",
       "      <th>Grandma</th>\n",
       "      <th>Jumbo</th>\n",
       "      <th>Margherita</th>\n",
       "      <th>Meatball</th>\n",
       "      <th>Pepperoni</th>\n",
       "      <th>Plain</th>\n",
       "      <th>Sicilian</th>\n",
       "      <th>Stuffed Crust Plain</th>\n",
       "      <th>White</th>\n",
       "    </tr>\n",
       "    <tr>\n",
       "      <th>borough</th>\n",
       "      <th></th>\n",
       "      <th></th>\n",
       "      <th></th>\n",
       "      <th></th>\n",
       "      <th></th>\n",
       "      <th></th>\n",
       "      <th></th>\n",
       "      <th></th>\n",
       "      <th></th>\n",
       "    </tr>\n",
       "  </thead>\n",
       "  <tbody>\n",
       "    <tr>\n",
       "      <th>Bronx</th>\n",
       "      <td>0</td>\n",
       "      <td>5.0</td>\n",
       "      <td>0</td>\n",
       "      <td>0</td>\n",
       "      <td>4.35</td>\n",
       "      <td>2.772727</td>\n",
       "      <td>0</td>\n",
       "      <td>0</td>\n",
       "      <td>0</td>\n",
       "    </tr>\n",
       "    <tr>\n",
       "      <th>Brooklyn</th>\n",
       "      <td>0</td>\n",
       "      <td>0</td>\n",
       "      <td>4.0</td>\n",
       "      <td>4.0</td>\n",
       "      <td>3.37</td>\n",
       "      <td>2.483333</td>\n",
       "      <td>2.5</td>\n",
       "      <td>3.5</td>\n",
       "      <td>4.0</td>\n",
       "    </tr>\n",
       "    <tr>\n",
       "      <th>Manhattan</th>\n",
       "      <td>4.6</td>\n",
       "      <td>5.5</td>\n",
       "      <td>3.75</td>\n",
       "      <td>0</td>\n",
       "      <td>3.870811</td>\n",
       "      <td>2.387143</td>\n",
       "      <td>0</td>\n",
       "      <td>0</td>\n",
       "      <td>0</td>\n",
       "    </tr>\n",
       "    <tr>\n",
       "      <th>Queens</th>\n",
       "      <td>0</td>\n",
       "      <td>0</td>\n",
       "      <td>0</td>\n",
       "      <td>0</td>\n",
       "      <td>4.0</td>\n",
       "      <td>2.582976</td>\n",
       "      <td>2.5</td>\n",
       "      <td>0</td>\n",
       "      <td>0</td>\n",
       "    </tr>\n",
       "    <tr>\n",
       "      <th>Staten Island</th>\n",
       "      <td>0</td>\n",
       "      <td>0</td>\n",
       "      <td>0</td>\n",
       "      <td>0</td>\n",
       "      <td>0</td>\n",
       "      <td>2.433333</td>\n",
       "      <td>3.81</td>\n",
       "      <td>0</td>\n",
       "      <td>0</td>\n",
       "    </tr>\n",
       "  </tbody>\n",
       "</table>\n",
       "</div>"
      ],
      "text/plain": [
       "Style         Grandma Jumbo Margherita Meatball Pepperoni     Plain Sicilian  \\\n",
       "borough                                                                        \n",
       "Bronx               0   5.0          0        0      4.35  2.772727        0   \n",
       "Brooklyn            0     0        4.0      4.0      3.37  2.483333      2.5   \n",
       "Manhattan         4.6   5.5       3.75        0  3.870811  2.387143        0   \n",
       "Queens              0     0          0        0       4.0  2.582976      2.5   \n",
       "Staten Island       0     0          0        0         0  2.433333     3.81   \n",
       "\n",
       "Style         Stuffed Crust Plain White  \n",
       "borough                                  \n",
       "Bronx                           0     0  \n",
       "Brooklyn                      3.5   4.0  \n",
       "Manhattan                       0     0  \n",
       "Queens                          0     0  \n",
       "Staten Island                   0     0  "
      ]
     },
     "execution_count": 36,
     "metadata": {},
     "output_type": "execute_result"
    }
   ],
   "source": [
    "# This is the pandas method\n",
    "pivot_df = pd.pivot_table(df, index='borough', values='Price as number', columns='Style')      \n",
    "pivot_df = pivot_df.fillna(value = \"0\")\n",
    "pivot_df"
   ]
  },
  {
   "cell_type": "code",
   "execution_count": 37,
   "id": "8a376952-9426-4a4d-ab92-b6509300686e",
   "metadata": {
    "tags": []
   },
   "outputs": [
    {
     "data": {
      "text/html": [
       "<div>\n",
       "<style scoped>\n",
       "    .dataframe tbody tr th:only-of-type {\n",
       "        vertical-align: middle;\n",
       "    }\n",
       "\n",
       "    .dataframe tbody tr th {\n",
       "        vertical-align: top;\n",
       "    }\n",
       "\n",
       "    .dataframe thead th {\n",
       "        text-align: right;\n",
       "    }\n",
       "</style>\n",
       "<table border=\"1\" class=\"dataframe\">\n",
       "  <thead>\n",
       "    <tr style=\"text-align: right;\">\n",
       "      <th></th>\n",
       "      <th>Price as number</th>\n",
       "    </tr>\n",
       "    <tr>\n",
       "      <th>borough</th>\n",
       "      <th></th>\n",
       "    </tr>\n",
       "  </thead>\n",
       "  <tbody>\n",
       "    <tr>\n",
       "      <th>Bronx</th>\n",
       "      <td>2.881429</td>\n",
       "    </tr>\n",
       "    <tr>\n",
       "      <th>Brooklyn</th>\n",
       "      <td>2.620294</td>\n",
       "    </tr>\n",
       "    <tr>\n",
       "      <th>Manhattan</th>\n",
       "      <td>2.726489</td>\n",
       "    </tr>\n",
       "    <tr>\n",
       "      <th>Queens</th>\n",
       "      <td>2.630341</td>\n",
       "    </tr>\n",
       "    <tr>\n",
       "      <th>Staten Island</th>\n",
       "      <td>2.519375</td>\n",
       "    </tr>\n",
       "  </tbody>\n",
       "</table>\n",
       "</div>"
      ],
      "text/plain": [
       "               Price as number\n",
       "borough                       \n",
       "Bronx                 2.881429\n",
       "Brooklyn              2.620294\n",
       "Manhattan             2.726489\n",
       "Queens                2.630341\n",
       "Staten Island         2.519375"
      ]
     },
     "execution_count": 37,
     "metadata": {},
     "output_type": "execute_result"
    }
   ],
   "source": [
    "# this is the dataframe method, different syntax but same functionality\n",
    "pivot_df = df.pivot_table('Price as number', index='borough')      \n",
    "pivot_df"
   ]
  },
  {
   "cell_type": "code",
   "execution_count": 38,
   "id": "2fb9fa48-f50e-4cf3-97fc-5260fc0b6c4b",
   "metadata": {
    "tags": []
   },
   "outputs": [
    {
     "data": {
      "text/html": [
       "<div>\n",
       "<style scoped>\n",
       "    .dataframe tbody tr th:only-of-type {\n",
       "        vertical-align: middle;\n",
       "    }\n",
       "\n",
       "    .dataframe tbody tr th {\n",
       "        vertical-align: top;\n",
       "    }\n",
       "\n",
       "    .dataframe thead th {\n",
       "        text-align: right;\n",
       "    }\n",
       "</style>\n",
       "<table border=\"1\" class=\"dataframe\">\n",
       "  <thead>\n",
       "    <tr style=\"text-align: right;\">\n",
       "      <th>Style</th>\n",
       "      <th>Grandma</th>\n",
       "      <th>Jumbo</th>\n",
       "      <th>Margherita</th>\n",
       "      <th>Meatball</th>\n",
       "      <th>Pepperoni</th>\n",
       "      <th>Plain</th>\n",
       "      <th>Sicilian</th>\n",
       "      <th>Stuffed Crust Plain</th>\n",
       "      <th>White</th>\n",
       "    </tr>\n",
       "    <tr>\n",
       "      <th>borough</th>\n",
       "      <th></th>\n",
       "      <th></th>\n",
       "      <th></th>\n",
       "      <th></th>\n",
       "      <th></th>\n",
       "      <th></th>\n",
       "      <th></th>\n",
       "      <th></th>\n",
       "      <th></th>\n",
       "    </tr>\n",
       "  </thead>\n",
       "  <tbody>\n",
       "    <tr>\n",
       "      <th>Bronx</th>\n",
       "      <td>NaN</td>\n",
       "      <td>5.0</td>\n",
       "      <td>NaN</td>\n",
       "      <td>NaN</td>\n",
       "      <td>4.350000</td>\n",
       "      <td>2.772727</td>\n",
       "      <td>NaN</td>\n",
       "      <td>NaN</td>\n",
       "      <td>NaN</td>\n",
       "    </tr>\n",
       "    <tr>\n",
       "      <th>Brooklyn</th>\n",
       "      <td>NaN</td>\n",
       "      <td>NaN</td>\n",
       "      <td>4.00</td>\n",
       "      <td>4.0</td>\n",
       "      <td>3.370000</td>\n",
       "      <td>2.483333</td>\n",
       "      <td>2.50</td>\n",
       "      <td>3.5</td>\n",
       "      <td>4.0</td>\n",
       "    </tr>\n",
       "    <tr>\n",
       "      <th>Manhattan</th>\n",
       "      <td>4.6</td>\n",
       "      <td>5.5</td>\n",
       "      <td>3.75</td>\n",
       "      <td>NaN</td>\n",
       "      <td>3.870811</td>\n",
       "      <td>2.387143</td>\n",
       "      <td>NaN</td>\n",
       "      <td>NaN</td>\n",
       "      <td>NaN</td>\n",
       "    </tr>\n",
       "    <tr>\n",
       "      <th>Queens</th>\n",
       "      <td>NaN</td>\n",
       "      <td>NaN</td>\n",
       "      <td>NaN</td>\n",
       "      <td>NaN</td>\n",
       "      <td>4.000000</td>\n",
       "      <td>2.582976</td>\n",
       "      <td>2.50</td>\n",
       "      <td>NaN</td>\n",
       "      <td>NaN</td>\n",
       "    </tr>\n",
       "    <tr>\n",
       "      <th>Staten Island</th>\n",
       "      <td>NaN</td>\n",
       "      <td>NaN</td>\n",
       "      <td>NaN</td>\n",
       "      <td>NaN</td>\n",
       "      <td>NaN</td>\n",
       "      <td>2.433333</td>\n",
       "      <td>3.81</td>\n",
       "      <td>NaN</td>\n",
       "      <td>NaN</td>\n",
       "    </tr>\n",
       "  </tbody>\n",
       "</table>\n",
       "</div>"
      ],
      "text/plain": [
       "Style          Grandma  Jumbo  Margherita  Meatball  Pepperoni     Plain  \\\n",
       "borough                                                                    \n",
       "Bronx              NaN    5.0         NaN       NaN   4.350000  2.772727   \n",
       "Brooklyn           NaN    NaN        4.00       4.0   3.370000  2.483333   \n",
       "Manhattan          4.6    5.5        3.75       NaN   3.870811  2.387143   \n",
       "Queens             NaN    NaN         NaN       NaN   4.000000  2.582976   \n",
       "Staten Island      NaN    NaN         NaN       NaN        NaN  2.433333   \n",
       "\n",
       "Style          Sicilian  Stuffed Crust Plain  White  \n",
       "borough                                              \n",
       "Bronx               NaN                  NaN    NaN  \n",
       "Brooklyn           2.50                  3.5    4.0  \n",
       "Manhattan           NaN                  NaN    NaN  \n",
       "Queens             2.50                  NaN    NaN  \n",
       "Staten Island      3.81                  NaN    NaN  "
      ]
     },
     "execution_count": 38,
     "metadata": {},
     "output_type": "execute_result"
    }
   ],
   "source": [
    "#once more with columns\n",
    "pivot_df = df.pivot_table('Price as number', index='borough', columns='Style')      \n",
    "pivot_df"
   ]
  },
  {
   "cell_type": "code",
   "execution_count": 39,
   "id": "1bf3377e-a50e-45dd-b84a-186d8fca400b",
   "metadata": {},
   "outputs": [
    {
     "data": {
      "text/html": [
       "<div>\n",
       "<style scoped>\n",
       "    .dataframe tbody tr th:only-of-type {\n",
       "        vertical-align: middle;\n",
       "    }\n",
       "\n",
       "    .dataframe tbody tr th {\n",
       "        vertical-align: top;\n",
       "    }\n",
       "\n",
       "    .dataframe thead th {\n",
       "        text-align: right;\n",
       "    }\n",
       "</style>\n",
       "<table border=\"1\" class=\"dataframe\">\n",
       "  <thead>\n",
       "    <tr style=\"text-align: right;\">\n",
       "      <th>Style</th>\n",
       "      <th>Grandma</th>\n",
       "      <th>Jumbo</th>\n",
       "      <th>Margherita</th>\n",
       "      <th>Meatball</th>\n",
       "      <th>Pepperoni</th>\n",
       "      <th>Plain</th>\n",
       "      <th>Sicilian</th>\n",
       "      <th>Stuffed Crust Plain</th>\n",
       "      <th>White</th>\n",
       "    </tr>\n",
       "    <tr>\n",
       "      <th>borough</th>\n",
       "      <th></th>\n",
       "      <th></th>\n",
       "      <th></th>\n",
       "      <th></th>\n",
       "      <th></th>\n",
       "      <th></th>\n",
       "      <th></th>\n",
       "      <th></th>\n",
       "      <th></th>\n",
       "    </tr>\n",
       "  </thead>\n",
       "  <tbody>\n",
       "    <tr>\n",
       "      <th>Bronx</th>\n",
       "      <td>0</td>\n",
       "      <td>1</td>\n",
       "      <td>0</td>\n",
       "      <td>0</td>\n",
       "      <td>1</td>\n",
       "      <td>33</td>\n",
       "      <td>0</td>\n",
       "      <td>0</td>\n",
       "      <td>0</td>\n",
       "    </tr>\n",
       "    <tr>\n",
       "      <th>Brooklyn</th>\n",
       "      <td>0</td>\n",
       "      <td>0</td>\n",
       "      <td>1</td>\n",
       "      <td>1</td>\n",
       "      <td>13</td>\n",
       "      <td>117</td>\n",
       "      <td>1</td>\n",
       "      <td>1</td>\n",
       "      <td>2</td>\n",
       "    </tr>\n",
       "    <tr>\n",
       "      <th>Manhattan</th>\n",
       "      <td>2</td>\n",
       "      <td>1</td>\n",
       "      <td>1</td>\n",
       "      <td>0</td>\n",
       "      <td>37</td>\n",
       "      <td>147</td>\n",
       "      <td>0</td>\n",
       "      <td>0</td>\n",
       "      <td>0</td>\n",
       "    </tr>\n",
       "    <tr>\n",
       "      <th>Queens</th>\n",
       "      <td>0</td>\n",
       "      <td>0</td>\n",
       "      <td>0</td>\n",
       "      <td>0</td>\n",
       "      <td>3</td>\n",
       "      <td>84</td>\n",
       "      <td>1</td>\n",
       "      <td>0</td>\n",
       "      <td>0</td>\n",
       "    </tr>\n",
       "    <tr>\n",
       "      <th>Staten Island</th>\n",
       "      <td>0</td>\n",
       "      <td>0</td>\n",
       "      <td>0</td>\n",
       "      <td>0</td>\n",
       "      <td>0</td>\n",
       "      <td>15</td>\n",
       "      <td>1</td>\n",
       "      <td>0</td>\n",
       "      <td>0</td>\n",
       "    </tr>\n",
       "  </tbody>\n",
       "</table>\n",
       "</div>"
      ],
      "text/plain": [
       "Style          Grandma  Jumbo  Margherita  Meatball  Pepperoni  Plain  \\\n",
       "borough                                                                 \n",
       "Bronx                0      1           0         0          1     33   \n",
       "Brooklyn             0      0           1         1         13    117   \n",
       "Manhattan            2      1           1         0         37    147   \n",
       "Queens               0      0           0         0          3     84   \n",
       "Staten Island        0      0           0         0          0     15   \n",
       "\n",
       "Style          Sicilian  Stuffed Crust Plain  White  \n",
       "borough                                              \n",
       "Bronx                 0                    0      0  \n",
       "Brooklyn              1                    1      2  \n",
       "Manhattan             0                    0      0  \n",
       "Queens                1                    0      0  \n",
       "Staten Island         1                    0      0  "
      ]
     },
     "execution_count": 39,
     "metadata": {},
     "output_type": "execute_result"
    }
   ],
   "source": [
    "pd.crosstab(df['borough'], df['Style'])"
   ]
  },
  {
   "cell_type": "code",
   "execution_count": null,
   "id": "8c81f924-418a-46e3-96a0-69a918514e6e",
   "metadata": {},
   "outputs": [],
   "source": []
  },
  {
   "cell_type": "markdown",
   "id": "268ae5fa-eafc-46c6-bad8-4ced31e1bcbd",
   "metadata": {},
   "source": [
    "## **Group By**"
   ]
  },
  {
   "cell_type": "markdown",
   "id": "f8903240-97da-42ad-be1a-d9659b257d93",
   "metadata": {},
   "source": [
    "A groupby operation involves some combination of splitting the object, applying a function, and combining the results. This can be used to group large amounts of data and compute operations on these groups."
   ]
  },
  {
   "cell_type": "code",
   "execution_count": 40,
   "id": "14a97e72-e6ab-455a-a918-5efd36db9cff",
   "metadata": {},
   "outputs": [
    {
     "data": {
      "text/plain": [
       "borough\n",
       "Bronx            2.881429\n",
       "Brooklyn         2.620294\n",
       "Manhattan        2.726489\n",
       "Queens           2.630341\n",
       "Staten Island    2.519375\n",
       "Name: Price as number, dtype: float64"
      ]
     },
     "execution_count": 40,
     "metadata": {},
     "output_type": "execute_result"
    }
   ],
   "source": [
    "# one group \n",
    "df1 = joined_df.groupby('borough')['Price as number'].mean()\n",
    "df1"
   ]
  },
  {
   "cell_type": "code",
   "execution_count": 41,
   "id": "5de3f762-5ea8-42d8-8dff-6c2cf5ee41e3",
   "metadata": {},
   "outputs": [
    {
     "data": {
      "text/plain": [
       "borough        Style              \n",
       "Bronx          Jumbo                  5.000000\n",
       "               Pepperoni              4.350000\n",
       "               Plain                  2.772727\n",
       "Brooklyn       Margherita             4.000000\n",
       "               Meatball               4.000000\n",
       "               Pepperoni              3.370000\n",
       "               Plain                  2.483333\n",
       "               Sicilian               2.500000\n",
       "               Stuffed Crust Plain    3.500000\n",
       "               White                  4.000000\n",
       "Manhattan      Grandma                4.600000\n",
       "               Jumbo                  5.500000\n",
       "               Margherita             3.750000\n",
       "               Pepperoni              3.870811\n",
       "               Plain                  2.387143\n",
       "Queens         Pepperoni              4.000000\n",
       "               Plain                  2.582976\n",
       "               Sicilian               2.500000\n",
       "Staten Island  Plain                  2.433333\n",
       "               Sicilian               3.810000\n",
       "Name: Price as number, dtype: float64"
      ]
     },
     "execution_count": 41,
     "metadata": {},
     "output_type": "execute_result"
    }
   ],
   "source": [
    "# two groups\n",
    "df2 = joined_df.groupby(['borough','Style'])['Price as number'].mean()\n",
    "df2"
   ]
  },
  {
   "cell_type": "markdown",
   "id": "41dc7995-8a80-4fdf-a427-0330457fc3c9",
   "metadata": {},
   "source": [
    "#### **Exporting data**"
   ]
  },
  {
   "cell_type": "code",
   "execution_count": 42,
   "id": "019a751a-5c1a-4c8b-8ed3-43d8893600e9",
   "metadata": {},
   "outputs": [],
   "source": [
    "df.to_csv('data/pizza.csv')"
   ]
  },
  {
   "cell_type": "code",
   "execution_count": 43,
   "id": "14883509-fa2f-4570-8a19-b467c5f9b1cc",
   "metadata": {},
   "outputs": [],
   "source": [
    "df.to_excel('data/pizza.xlsx')"
   ]
  },
  {
   "cell_type": "code",
   "execution_count": 44,
   "id": "2d149902-cf0b-444b-a88f-12cd2fcc5fc4",
   "metadata": {},
   "outputs": [],
   "source": [
    "df.to_json('data/pizza.json')"
   ]
  },
  {
   "cell_type": "code",
   "execution_count": null,
   "id": "d98bae3c-7bc7-4c26-9380-949e2c9665e1",
   "metadata": {},
   "outputs": [],
   "source": []
  },
  {
   "cell_type": "code",
   "execution_count": null,
   "id": "7b07ca2f-535e-4691-8f43-93e483acf179",
   "metadata": {},
   "outputs": [],
   "source": []
  },
  {
   "cell_type": "code",
   "execution_count": null,
   "id": "db2d932f-8ec6-45ad-97ae-941b930009a5",
   "metadata": {},
   "outputs": [],
   "source": [
    " "
   ]
  },
  {
   "cell_type": "code",
   "execution_count": 48,
   "id": "e47b8c44-21c9-44bd-a0c6-6e987fe78485",
   "metadata": {},
   "outputs": [
    {
     "data": {
      "application/vnd.plotly.v1+json": {
       "config": {
        "plotlyServerURL": "https://plot.ly"
       },
       "data": [
        {
         "customdata": [
          [
           "$3.00 ",
           "Brooklyn"
          ],
          [
           "$3.00 ",
           "Queens"
          ],
          [
           "$2.75 ",
           "Brooklyn"
          ],
          [
           "$3.25 ",
           "Queens"
          ],
          [
           "$1.00 ",
           "Manhattan"
          ],
          [
           "$3.50 ",
           "Bronx"
          ],
          [
           "$3.00 ",
           "Bronx"
          ],
          [
           "$3.35 ",
           "Brooklyn"
          ],
          [
           "$3.00 ",
           "Bronx"
          ],
          [
           "$3.50 ",
           "Bronx"
          ],
          [
           "$2.50 ",
           "Staten Island"
          ],
          [
           "$3.81 ",
           "Manhattan"
          ],
          [
           "$3.00 ",
           "Queens"
          ],
          [
           "$3.25 ",
           "Bronx"
          ],
          [
           "$3.00 ",
           "Bronx"
          ],
          [
           "$3.00 ",
           "Brooklyn"
          ],
          [
           "$3.00 ",
           "Brooklyn"
          ],
          [
           "$3.00 ",
           "Manhattan"
          ],
          [
           "$3.00 ",
           "Queens"
          ],
          [
           "$3.26 ",
           "Queens"
          ],
          [
           "$3.00 ",
           "Brooklyn"
          ],
          [
           "$2.75 ",
           "Staten Island"
          ],
          [
           "$3.00 ",
           "Queens"
          ],
          [
           "$3.76 ",
           "Manhattan"
          ],
          [
           "$2.75 ",
           "Brooklyn"
          ],
          [
           "$2.75 ",
           "Brooklyn"
          ],
          [
           "$3.25 ",
           "Queens"
          ],
          [
           "$3.24 ",
           "Queens"
          ],
          [
           "$3.50 ",
           "Queens"
          ],
          [
           "$2.75 ",
           "Bronx"
          ],
          [
           "$2.00 ",
           "Manhattan"
          ],
          [
           "$2.75 ",
           "Queens"
          ],
          [
           "$3.00 ",
           "Queens"
          ],
          [
           "$3.00 ",
           "Brooklyn"
          ],
          [
           "$3.00 ",
           "Brooklyn"
          ],
          [
           "$3.27 ",
           "Queens"
          ],
          [
           "$2.75 ",
           "Brooklyn"
          ],
          [
           "$3.00 ",
           "Brooklyn"
          ],
          [
           "$2.75 ",
           "Brooklyn"
          ],
          [
           "$2.75 ",
           "Manhattan"
          ],
          [
           "$3.00 ",
           "Brooklyn"
          ],
          [
           "$3.00 ",
           "Bronx"
          ],
          [
           "$3.00 ",
           "Bronx"
          ],
          [
           "$3.00 ",
           "Bronx"
          ],
          [
           "$2.50 ",
           "Bronx"
          ],
          [
           "$3.00 ",
           "Manhattan"
          ],
          [
           "$3.00 ",
           "Bronx"
          ],
          [
           "$3.00 ",
           "Bronx"
          ],
          [
           "$2.50 ",
           "Queens"
          ],
          [
           "$3.00 ",
           "Staten Island"
          ],
          [
           "$2.75 ",
           "Queens"
          ],
          [
           "$3.00 ",
           "Queens"
          ],
          [
           "$3.00 ",
           "Queens"
          ],
          [
           "$4.00 ",
           "Brooklyn"
          ],
          [
           "$2.50 ",
           "Bronx"
          ],
          [
           "$3.00 ",
           "Bronx"
          ],
          [
           "$3.25 ",
           "Queens"
          ],
          [
           "$3.50 ",
           "Staten Island"
          ],
          [
           "$3.00 ",
           "Bronx"
          ],
          [
           "$3.50 ",
           "Manhattan"
          ],
          [
           "$3.25 ",
           "Manhattan"
          ],
          [
           "$2.50 ",
           "Brooklyn"
          ],
          [
           "$3.00 ",
           "Brooklyn"
          ],
          [
           "$3.00 ",
           "Queens"
          ],
          [
           "$3.25 ",
           "Bronx"
          ],
          [
           "$3.25 ",
           "Bronx"
          ],
          [
           "$2.75 ",
           "Bronx"
          ],
          [
           "$3.00 ",
           null
          ],
          [
           "$3.00 ",
           "Brooklyn"
          ],
          [
           "$3.00 ",
           "Queens"
          ],
          [
           "$2.75 ",
           "Brooklyn"
          ],
          [
           "$2.50 ",
           "Bronx"
          ],
          [
           "$2.50 ",
           "Staten Island"
          ],
          [
           "$2.75 ",
           "Brooklyn"
          ],
          [
           "$2.75 ",
           "Bronx"
          ],
          [
           "$3.00 ",
           "Queens"
          ],
          [
           "$3.50 ",
           "Queens"
          ],
          [
           "$2.75 ",
           "Brooklyn"
          ],
          [
           "$2.50 ",
           "Queens"
          ],
          [
           "$3.00 ",
           "Brooklyn"
          ],
          [
           "$3.20 ",
           "Manhattan"
          ],
          [
           "$2.00 ",
           "Brooklyn"
          ],
          [
           "$2.00 ",
           "Bronx"
          ],
          [
           "$2.50 ",
           "Manhattan"
          ],
          [
           "$2.75 ",
           "Queens"
          ],
          [
           "$3.00 ",
           "Manhattan"
          ],
          [
           "$4.35 ",
           "Manhattan"
          ],
          [
           "$3.25 ",
           "Manhattan"
          ],
          [
           "$3.27 ",
           "Manhattan"
          ],
          [
           "$3.00 ",
           "Brooklyn"
          ],
          [
           "$3.00 ",
           "Brooklyn"
          ],
          [
           "$3.00 ",
           "Manhattan"
          ],
          [
           "$1.00 ",
           "Brooklyn"
          ],
          [
           "$1.00 ",
           "Manhattan"
          ],
          [
           "$3.27 ",
           "Manhattan"
          ],
          [
           "$2.50 ",
           "Staten Island"
          ],
          [
           "$3.00 ",
           "Brooklyn"
          ],
          [
           "$2.00 ",
           "Queens"
          ],
          [
           "$2.75 ",
           "Staten Island"
          ],
          [
           "$3.00 ",
           "Manhattan"
          ],
          [
           "$1.00 ",
           "Manhattan"
          ],
          [
           "$3.00 ",
           "Brooklyn"
          ],
          [
           "$2.75 ",
           "Queens"
          ],
          [
           "$3.00 ",
           "Brooklyn"
          ],
          [
           "$3.00 ",
           "Brooklyn"
          ],
          [
           "$2.50 ",
           "Brooklyn"
          ],
          [
           "$2.75 ",
           "Queens"
          ],
          [
           "$3.25 ",
           "Manhattan"
          ],
          [
           "$2.50 ",
           "Brooklyn"
          ],
          [
           "$2.50 ",
           "Brooklyn"
          ],
          [
           "$1.00 ",
           "Manhattan"
          ],
          [
           "$2.75 ",
           "Manhattan"
          ],
          [
           "$3.00 ",
           "Bronx"
          ],
          [
           "$1.00 ",
           "Manhattan"
          ],
          [
           "$2.25 ",
           "Queens"
          ],
          [
           "$2.50 ",
           "Manhattan"
          ],
          [
           "$2.50 ",
           "Manhattan"
          ],
          [
           "$2.75 ",
           "Brooklyn"
          ],
          [
           "$2.75 ",
           "Brooklyn"
          ],
          [
           "$2.00 ",
           "Staten Island"
          ],
          [
           "$2.75 ",
           "Queens"
          ],
          [
           "$1.00 ",
           "Queens"
          ],
          [
           "$2.75 ",
           "Brooklyn"
          ],
          [
           "$2.50 ",
           "Queens"
          ],
          [
           "$2.50 ",
           "Queens"
          ],
          [
           "$3.00 ",
           "Queens"
          ],
          [
           "$2.75 ",
           "Brooklyn"
          ],
          [
           "$2.00 ",
           "Staten Island"
          ],
          [
           "$2.25 ",
           "Queens"
          ],
          [
           "$1.00 ",
           "Manhattan"
          ],
          [
           "$2.50 ",
           "Queens"
          ],
          [
           "$2.50 ",
           "Queens"
          ],
          [
           "$2.75 ",
           "Brooklyn"
          ],
          [
           "$2.00 ",
           "Queens"
          ],
          [
           "$2.00 ",
           "Brooklyn"
          ],
          [
           "$3.00 ",
           "Queens"
          ],
          [
           "$2.00 ",
           "Brooklyn"
          ],
          [
           "$2.00 ",
           "Queens"
          ],
          [
           "$2.75 ",
           "Queens"
          ],
          [
           "$1.50 ",
           "Queens"
          ],
          [
           "$3.25 ",
           "Queens"
          ],
          [
           "$2.75 ",
           "Queens"
          ],
          [
           "$2.25 ",
           "Brooklyn"
          ],
          [
           "$2.25 ",
           "Brooklyn"
          ],
          [
           "$2.75 ",
           "Queens"
          ],
          [
           "$1.00 ",
           "Manhattan"
          ],
          [
           "$2.00 ",
           "Brooklyn"
          ],
          [
           "$2.00 ",
           "Queens"
          ],
          [
           "$2.00 ",
           "Queens"
          ],
          [
           "$2.75 ",
           "Manhattan"
          ],
          [
           "$2.50 ",
           "Brooklyn"
          ],
          [
           "$1.00 ",
           "Manhattan"
          ],
          [
           "$2.00 ",
           "Manhattan"
          ],
          [
           "$3.00 ",
           "Manhattan"
          ],
          [
           "$2.75 ",
           "Brooklyn"
          ],
          [
           "$2.75 ",
           "Queens"
          ],
          [
           "$3.00 ",
           "Manhattan"
          ],
          [
           "$2.75 ",
           "Manhattan"
          ],
          [
           "$1.00 ",
           "Brooklyn"
          ],
          [
           "$1.00 ",
           "Manhattan"
          ],
          [
           "$2.00 ",
           "Queens"
          ],
          [
           "$3.00 ",
           "Queens"
          ],
          [
           "$2.65 ",
           "Queens"
          ],
          [
           "$2.50 ",
           "Queens"
          ],
          [
           "$2.75 ",
           "Queens"
          ],
          [
           "$2.50 ",
           "Queens"
          ],
          [
           "$2.75 ",
           "Queens"
          ],
          [
           "$2.00 ",
           "Manhattan"
          ],
          [
           "$2.00 ",
           "Brooklyn"
          ],
          [
           "$2.50 ",
           "Brooklyn"
          ],
          [
           "$3.00 ",
           "Queens"
          ],
          [
           "$2.50 ",
           "Bronx"
          ],
          [
           "$2.50 ",
           "Brooklyn"
          ],
          [
           "$2.65 ",
           "Queens"
          ],
          [
           "$1.00 ",
           "Manhattan"
          ],
          [
           "$2.75 ",
           "Manhattan"
          ],
          [
           "$2.75 ",
           "Queens"
          ],
          [
           "$1.00 ",
           "Manhattan"
          ],
          [
           "$2.75 ",
           "Manhattan"
          ],
          [
           "$2.25 ",
           "Manhattan"
          ],
          [
           "$1.00 ",
           "Manhattan"
          ],
          [
           "$2.75 ",
           "Manhattan"
          ],
          [
           "$2.75 ",
           "Manhattan"
          ],
          [
           "$2.00 ",
           "Manhattan"
          ],
          [
           "$3.00 ",
           "Manhattan"
          ],
          [
           "$1.00 ",
           "Manhattan"
          ],
          [
           "$1.00 ",
           "Manhattan"
          ],
          [
           "$2.50 ",
           "Brooklyn"
          ],
          [
           "$2.50 ",
           "Brooklyn"
          ],
          [
           "$2.75 ",
           "Manhattan"
          ],
          [
           "$2.75 ",
           "Manhattan"
          ],
          [
           "$2.75 ",
           "Manhattan"
          ],
          [
           "$2.00 ",
           "Staten Island"
          ],
          [
           "$2.00 ",
           "Queens"
          ],
          [
           "$2.00 ",
           "Queens"
          ],
          [
           "$2.00 ",
           "Queens"
          ],
          [
           "$2.95 ",
           "Manhattan"
          ],
          [
           "$1.00 ",
           "Brooklyn"
          ],
          [
           "$3.00 ",
           "Queens"
          ],
          [
           "$2.50 ",
           "Queens"
          ],
          [
           "$2.00 ",
           "Brooklyn"
          ],
          [
           "$2.75 ",
           "Manhattan"
          ],
          [
           "$2.25 ",
           "Brooklyn"
          ],
          [
           "$2.45 ",
           "Brooklyn"
          ],
          [
           "$2.25 ",
           "Bronx"
          ],
          [
           "$2.50 ",
           "Bronx"
          ],
          [
           "$2.25 ",
           "Bronx"
          ],
          [
           "$2.75 ",
           "Brooklyn"
          ],
          [
           "$2.50 ",
           "Manhattan"
          ],
          [
           "$3.25 ",
           "Manhattan"
          ],
          [
           "$2.75 ",
           "Manhattan"
          ],
          [
           "$1.00 ",
           "Brooklyn"
          ],
          [
           "$2.75 ",
           "Brooklyn"
          ],
          [
           "$2.50 ",
           "Brooklyn"
          ],
          [
           "$3.00 ",
           "Manhattan"
          ],
          [
           "$2.45 ",
           "Queens"
          ],
          [
           "$1.50 ",
           "Queens"
          ],
          [
           "$2.50 ",
           "Queens"
          ],
          [
           "$2.50 ",
           "Brooklyn"
          ],
          [
           "$3.15 ",
           "Manhattan"
          ],
          [
           "$1.50 ",
           "Brooklyn"
          ],
          [
           "$2.25 ",
           "Manhattan"
          ],
          [
           "$2.50 ",
           "Brooklyn"
          ],
          [
           "$2.50 ",
           "Manhattan"
          ],
          [
           "$2.45 ",
           "Manhattan"
          ],
          [
           "$2.50 ",
           "Manhattan"
          ],
          [
           "$2.50 ",
           "Manhattan"
          ],
          [
           "$2.25 ",
           "Manhattan"
          ],
          [
           "$2.50 ",
           "Manhattan"
          ],
          [
           "$2.50 ",
           "Queens"
          ],
          [
           "$2.00 ",
           "Staten Island"
          ],
          [
           "$3.00 ",
           "Manhattan"
          ],
          [
           "$1.00 ",
           "Manhattan"
          ],
          [
           "$2.75 ",
           "Manhattan"
          ],
          [
           "$2.50 ",
           "Manhattan"
          ],
          [
           "$2.75 ",
           "Manhattan"
          ],
          [
           "$2.25 ",
           "Brooklyn"
          ],
          [
           "$3.00 ",
           "Manhattan"
          ],
          [
           "$2.25 ",
           "Manhattan"
          ],
          [
           "$3.00 ",
           "Manhattan"
          ],
          [
           "$2.50 ",
           "Manhattan"
          ],
          [
           "$1.75 ",
           "Brooklyn"
          ],
          [
           "$2.75 ",
           "Brooklyn"
          ],
          [
           "$3.00 ",
           "Manhattan"
          ],
          [
           "$2.75 ",
           "Manhattan"
          ],
          [
           "$2.25 ",
           "Manhattan"
          ],
          [
           "$2.75 ",
           "Manhattan"
          ],
          [
           "$1.00 ",
           "Manhattan"
          ],
          [
           "$2.85 ",
           "Manhattan"
          ],
          [
           "$2.75 ",
           "Manhattan"
          ],
          [
           "$2.75 ",
           "Manhattan"
          ],
          [
           "$2.25 ",
           "Manhattan"
          ],
          [
           "$1.00 ",
           "Manhattan"
          ],
          [
           "$2.75 ",
           "Manhattan"
          ],
          [
           "$1.75 ",
           "Manhattan"
          ],
          [
           "$2.25 ",
           "Manhattan"
          ],
          [
           "$2.75 ",
           "Manhattan"
          ],
          [
           "$1.50 ",
           "Manhattan"
          ],
          [
           "$2.00 ",
           "Manhattan"
          ],
          [
           "$2.50 ",
           "Manhattan"
          ],
          [
           "$2.50 ",
           "Bronx"
          ],
          [
           "$2.50 ",
           "Bronx"
          ],
          [
           "$2.00 ",
           "Brooklyn"
          ],
          [
           "$3.00 ",
           "Manhattan"
          ],
          [
           "$2.50 ",
           "Manhattan"
          ],
          [
           "$2.50 ",
           "Manhattan"
          ],
          [
           "$2.75 ",
           "Manhattan"
          ],
          [
           "$1.00 ",
           "Manhattan"
          ],
          [
           "$2.50 ",
           "Manhattan"
          ],
          [
           "$1.50 ",
           "Queens"
          ],
          [
           "$2.50 ",
           "Manhattan"
          ],
          [
           "$2.85 ",
           "Manhattan"
          ],
          [
           "$2.75 ",
           "Manhattan"
          ],
          [
           "$1.50 ",
           "Queens"
          ],
          [
           "$2.00 ",
           "Queens"
          ],
          [
           "$2.75 ",
           "Manhattan"
          ],
          [
           "$2.00 ",
           "Brooklyn"
          ],
          [
           "$2.75 ",
           "Manhattan"
          ],
          [
           "$2.00 ",
           "Manhattan"
          ],
          [
           "$2.50 ",
           "Queens"
          ],
          [
           "$1.00 ",
           "Manhattan"
          ],
          [
           "$2.00 ",
           "Staten Island"
          ],
          [
           "$2.75 ",
           "Brooklyn"
          ],
          [
           "$2.25 ",
           "Brooklyn"
          ],
          [
           "$2.25 ",
           "Bronx"
          ],
          [
           "$2.25 ",
           "Bronx"
          ],
          [
           "$2.50 ",
           "Manhattan"
          ],
          [
           "$2.25 ",
           "Brooklyn"
          ],
          [
           "$2.75 ",
           "Brooklyn"
          ],
          [
           "$2.00 ",
           "Brooklyn"
          ],
          [
           "$2.75 ",
           "Brooklyn"
          ],
          [
           "$2.45 ",
           "Queens"
          ],
          [
           "$2.50 ",
           "Queens"
          ],
          [
           "$2.75 ",
           "Brooklyn"
          ],
          [
           "$1.50 ",
           "Brooklyn"
          ],
          [
           "$3.00 ",
           "Queens"
          ],
          [
           "$2.75 ",
           "Brooklyn"
          ],
          [
           "$2.75 ",
           "Brooklyn"
          ],
          [
           "$3.50 ",
           "Brooklyn"
          ],
          [
           "$2.50 ",
           "Manhattan"
          ],
          [
           "$2.00 ",
           "Brooklyn"
          ],
          [
           "$2.25 ",
           "Brooklyn"
          ],
          [
           "$1.00 ",
           "Manhattan"
          ],
          [
           "$4.50 ",
           "Manhattan"
          ],
          [
           "$1.00 ",
           "Manhattan"
          ],
          [
           "$3.00 ",
           "Manhattan"
          ],
          [
           "$2.75 ",
           "Brooklyn"
          ],
          [
           "$2.50 ",
           "Brooklyn"
          ],
          [
           "$2.00 ",
           "Brooklyn"
          ],
          [
           "$2.25 ",
           "Brooklyn"
          ],
          [
           "$1.00 ",
           "Manhattan"
          ],
          [
           "$1.00 ",
           "Brooklyn"
          ],
          [
           "$2.50 ",
           "Brooklyn"
          ],
          [
           "$2.45 ",
           "Brooklyn"
          ],
          [
           "$2.50 ",
           "Manhattan"
          ],
          [
           "$2.75 ",
           "Manhattan"
          ],
          [
           "$2.25 ",
           "Brooklyn"
          ],
          [
           "$1.00 ",
           "Manhattan"
          ],
          [
           "$2.25 ",
           "Brooklyn"
          ],
          [
           "$2.25 ",
           "Manhattan"
          ],
          [
           "$2.85 ",
           "Manhattan"
          ],
          [
           "$2.00 ",
           "Bronx"
          ],
          [
           "$2.25 ",
           "Queens"
          ],
          [
           "$2.00 ",
           "Staten Island"
          ],
          [
           "$1.00 ",
           "Manhattan"
          ],
          [
           "$2.75 ",
           "Queens"
          ],
          [
           "$2.00 ",
           "Brooklyn"
          ],
          [
           "$2.50 ",
           "Manhattan"
          ],
          [
           "$2.75 ",
           "Brooklyn"
          ],
          [
           "$2.71 ",
           "Manhattan"
          ],
          [
           "$2.75 ",
           "Manhattan"
          ],
          [
           "$2.75 ",
           "Manhattan"
          ],
          [
           "$3.00 ",
           "Manhattan"
          ],
          [
           "$1.00 ",
           "Brooklyn"
          ],
          [
           "$2.50 ",
           "Manhattan"
          ],
          [
           "$2.25 ",
           "Manhattan"
          ],
          [
           "$2.50 ",
           "Manhattan"
          ],
          [
           "$1.00 ",
           "Manhattan"
          ],
          [
           "$2.00 ",
           "Brooklyn"
          ],
          [
           "$2.50 ",
           "Brooklyn"
          ],
          [
           "$2.50 ",
           "Manhattan"
          ],
          [
           "$2.00 ",
           "Brooklyn"
          ],
          [
           "$2.75 ",
           "Manhattan"
          ],
          [
           "$2.00 ",
           "Manhattan"
          ],
          [
           "$2.25 ",
           "Brooklyn"
          ],
          [
           "$2.00 ",
           "Brooklyn"
          ],
          [
           "$2.50 ",
           "Brooklyn"
          ],
          [
           "$2.00 ",
           "Brooklyn"
          ],
          [
           "$2.50 ",
           "Staten Island"
          ],
          [
           "$2.50 ",
           "Brooklyn"
          ],
          [
           "$2.00 ",
           "Queens"
          ],
          [
           "$2.50 ",
           "Brooklyn"
          ],
          [
           "$2.75 ",
           "Manhattan"
          ],
          [
           "$2.75 ",
           "Brooklyn"
          ],
          [
           "$2.50 ",
           "Queens"
          ],
          [
           "$2.00 ",
           "Brooklyn"
          ],
          [
           "$2.50 ",
           "Staten Island"
          ],
          [
           "$2.25 ",
           "Queens"
          ],
          [
           "$2.75 ",
           "Brooklyn"
          ],
          [
           "$2.75 ",
           "Brooklyn"
          ],
          [
           "$2.50 ",
           "Queens"
          ],
          [
           "$5.00 ",
           "Brooklyn"
          ],
          [
           "$2.75 ",
           "Queens"
          ],
          [
           "$2.50 ",
           "Manhattan"
          ],
          [
           "$2.00 ",
           "Queens"
          ],
          [
           "$3.00 ",
           "Bronx"
          ],
          [
           "$3.00 ",
           null
          ],
          [
           "$3.00 ",
           "Queens"
          ],
          [
           "$2.75 ",
           "Manhattan"
          ],
          [
           "$1.00 ",
           "Manhattan"
          ],
          [
           "$2.75 ",
           "Manhattan"
          ],
          [
           "$2.50 ",
           "Queens"
          ],
          [
           "$2.85 ",
           "Manhattan"
          ],
          [
           "$2.50 ",
           "Brooklyn"
          ],
          [
           "$2.25 ",
           "Brooklyn"
          ],
          [
           "$2.50 ",
           "Queens"
          ],
          [
           "$2.25 ",
           "Brooklyn"
          ],
          [
           "$2.25 ",
           "Brooklyn"
          ],
          [
           "$2.50 ",
           "Brooklyn"
          ],
          [
           "$2.25 ",
           "Manhattan"
          ],
          [
           "$2.95 ",
           "Manhattan"
          ],
          [
           "$2.50 ",
           "Manhattan"
          ],
          [
           "$2.25 ",
           "Queens"
          ],
          [
           "$1.00 ",
           "Manhattan"
          ],
          [
           "$2.25 ",
           "Manhattan"
          ],
          [
           "$3.00 ",
           "Manhattan"
          ],
          [
           "$2.75 ",
           "Manhattan"
          ],
          [
           "$2.75 ",
           "Manhattan"
          ],
          [
           "$2.25 ",
           "Brooklyn"
          ],
          [
           "$1.09 ",
           "Manhattan"
          ],
          [
           "$3.05 ",
           "Manhattan"
          ],
          [
           "$3.25 ",
           "Brooklyn"
          ],
          [
           "$2.75 ",
           "Brooklyn"
          ],
          [
           "$2.75 ",
           "Manhattan"
          ],
          [
           "$2.75 ",
           "Brooklyn"
          ],
          [
           "$2.25 ",
           "Manhattan"
          ],
          [
           "$2.55 ",
           "Brooklyn"
          ],
          [
           "$2.00 ",
           "Brooklyn"
          ]
         ],
         "hovertemplate": "Style=Plain<br>location_lat=%{lat}<br>location_lng=%{lon}<br>Price=%{customdata[0]}<br>borough=%{customdata[1]}<extra></extra>",
         "lat": [
          40.6232544,
          40.6808917,
          40.6000148,
          40.7133354,
          40.7482509,
          40.8545616,
          40.8631291,
          40.6004632,
          40.9036613,
          40.8676344,
          40.5332892,
          40.7166726,
          40.6843262,
          40.8679105,
          40.865699,
          40.6556156,
          40.6550446,
          40.8048198,
          40.7003521,
          40.6842128,
          40.5768705,
          40.610693,
          40.7434508,
          40.7608035,
          40.6249135,
          40.5989761,
          40.7575064,
          40.7195744,
          40.7399635,
          40.8164641,
          40.717725,
          40.7185614,
          40.7534698,
          40.6461233,
          40.5785196,
          40.7560589,
          40.7045071,
          40.5965296,
          40.654758,
          40.7912008,
          40.6201361,
          40.8691518,
          40.8294396,
          40.8324594,
          40.81692834,
          40.798309,
          40.854174,
          40.85994,
          40.7078242,
          40.61008,
          40.76566391,
          40.7557169,
          40.75577,
          40.6561793,
          40.86726,
          40.86708,
          40.7340393,
          40.55962148,
          40.83381,
          40.7550912,
          40.81668,
          40.65099,
          40.6550694,
          40.76016292,
          40.8890631,
          40.889035,
          40.81153,
          40.6505369,
          40.61735,
          40.57845,
          40.61475744,
          40.84464,
          40.62484,
          40.6737,
          40.82622,
          40.65763,
          40.70453082,
          40.66485,
          40.7020409,
          40.64755,
          40.76095,
          40.64547,
          40.83522,
          40.76623,
          40.75757009,
          40.76944,
          40.7094362,
          40.7094362,
          40.7462825,
          40.71687,
          40.7237277,
          40.7545,
          40.69173293,
          40.746467,
          40.7365892,
          40.63087,
          40.67522,
          40.70416,
          40.5980108,
          40.727429,
          40.7332919,
          40.6931218,
          40.7220677,
          40.64081,
          40.69294,
          40.6827637,
          40.7282673,
          40.7294399,
          40.637601,
          40.6894599,
          40.7269451,
          40.7330887,
          40.87939,
          40.80486,
          40.72201222,
          40.82618,
          40.82611648,
          40.65863,
          40.63114,
          40.64401,
          40.57914,
          40.680109,
          40.701064,
          40.60337636,
          40.596594,
          40.58619,
          40.65585,
          40.6377231,
          40.597955,
          40.71807,
          40.5801496,
          40.5875839,
          40.69332939,
          40.6027254,
          40.63886,
          40.68616,
          40.67435,
          40.70684,
          40.680199,
          40.70373,
          40.70453082,
          40.7183175,
          40.65691,
          40.65691,
          40.57914,
          40.7518124,
          40.69909,
          40.70103,
          40.69088,
          40.70883,
          40.67869,
          40.71885,
          40.71067473,
          40.7116825,
          40.692128,
          40.72538,
          40.7294399,
          40.75576,
          40.69232,
          40.75576,
          40.6744308,
          40.70453082,
          40.72795,
          40.66489,
          40.65763,
          40.6635174,
          40.7093836,
          40.80188,
          40.62614,
          40.6009756,
          40.7043939,
          40.86262,
          40.69294,
          40.71221,
          40.75695,
          40.73214,
          40.7262164,
          40.7651482,
          40.76183,
          40.72374,
          40.75024,
          40.77843,
          40.77149,
          40.802747,
          40.7332899,
          40.75202,
          40.740868,
          40.6992,
          40.66949,
          40.7637799,
          40.74385051,
          40.76559,
          40.64222552,
          40.69498,
          40.680423,
          40.6781657,
          40.76042052,
          40.67429,
          40.65064377,
          40.6739049,
          40.690672,
          40.75882,
          40.65234,
          40.610228,
          40.83679,
          40.8293304,
          40.8142087,
          40.67133,
          40.7803,
          40.77711,
          40.77856,
          40.69244206,
          40.68361,
          40.67686,
          40.75014,
          40.74552183,
          40.74885,
          40.74031,
          40.67882,
          40.71021,
          40.68346,
          40.79684,
          40.64755,
          40.74381,
          40.7451099,
          40.73721,
          40.74875,
          40.74674,
          40.74645,
          40.70031,
          40.63829,
          40.7546051,
          40.7331,
          40.7654294,
          40.7100713,
          40.7238,
          40.70445869,
          40.74505,
          40.7267,
          40.75699,
          40.71573018,
          40.68283,
          40.68606,
          40.74819,
          40.7699814,
          40.78022,
          40.7644499,
          40.71690571,
          40.775197,
          40.7841781,
          40.78761,
          40.79057,
          40.740868,
          40.74297,
          40.79714493,
          40.79844,
          40.70596,
          40.71904,
          40.7213955,
          40.72159,
          40.87531,
          40.87321,
          40.57535,
          40.77174,
          40.77543,
          40.77532,
          40.72914,
          40.73320627,
          40.7384851,
          40.7032122,
          40.72817548,
          40.73087,
          40.72777302,
          40.704277,
          40.7571861,
          40.7496969,
          40.65538,
          40.73331,
          40.71404706,
          40.7589362,
          40.75471,
          40.57794,
          40.7278729,
          40.66439,
          40.852584,
          40.81289,
          40.71502562,
          40.71796,
          40.667662,
          40.7042832,
          40.72646,
          40.71915,
          40.745328,
          40.68002,
          40.701088,
          40.70894,
          40.6717637,
          40.6769775,
          40.6998074,
          40.7138612,
          40.6982,
          40.69047,
          40.73111,
          40.73209,
          40.72919,
          40.7860815,
          40.7149322,
          40.65103,
          40.69661,
          40.67279,
          40.73113,
          40.6803986,
          40.6668856,
          40.70769661,
          40.72925,
          40.76302,
          40.72236,
          40.75814,
          40.69911,
          40.72374,
          40.7237135,
          40.84780692,
          40.76566391,
          40.64457051,
          40.72299,
          40.66023,
          40.69661,
          40.70331,
          40.6974427,
          40.77505,
          40.734771,
          40.71822,
          40.73507,
          40.7042832,
          40.8148961,
          40.81876,
          40.75796,
          40.73061,
          40.6958,
          40.680524,
          40.72254,
          40.70677704,
          40.71822,
          40.713945,
          40.692845,
          40.69661,
          40.69334,
          40.68789,
          40.5256981,
          40.68965,
          40.67385512,
          40.59467782,
          40.7422899,
          40.70224,
          40.76631,
          40.70377,
          40.64055,
          40.7132665,
          40.707952,
          40.69473,
          40.7440727,
          40.62508413,
          40.663039,
          40.73021,
          40.7051442,
          40.88705436,
          40.622787,
          40.70453082,
          40.72929,
          40.71962375,
          40.7671973,
          40.70139127,
          40.72642453,
          40.73364,
          40.66163,
          40.6997372,
          40.69428,
          40.69211,
          40.70859,
          40.730121,
          40.723,
          40.73925,
          40.737014,
          40.72299,
          40.714338,
          40.7786199,
          40.71350162,
          40.7306597,
          40.72555137,
          40.75654884,
          40.7594817,
          40.71561,
          40.715054,
          40.73226681,
          40.6977,
          40.714338,
          40.61772,
          40.64097667
         ],
         "legendgroup": "Plain",
         "lon": [
          -73.9379224,
          -73.8426307,
          -73.9994551,
          -73.8294102,
          -73.9923498,
          -73.8658818,
          -73.8585108,
          -73.9430724,
          -73.8504668,
          -73.8836046,
          -74.1927755,
          -73.9996701,
          -73.8450002,
          -73.9004894,
          -73.864609,
          -74.0033705,
          -73.9160506,
          -73.9547643,
          -73.8994387,
          -73.8593422,
          -73.9846206,
          -74.146137,
          -73.8547152,
          -73.9906251,
          -73.9993503,
          -73.9372106,
          -73.7829253,
          -73.8426559,
          -73.758249,
          -73.9027071,
          -73.9998831,
          -73.7358451,
          -73.8218842,
          -73.9711041,
          -73.958008,
          -73.8785423,
          -73.919242,
          -73.9939644,
          -74.004358,
          -73.9748165,
          -73.9345585,
          -73.8896161,
          -73.87575,
          -73.8610744,
          -73.89787505,
          -73.941632,
          -73.89901,
          -73.89395,
          -73.8030173,
          -74.06334,
          -73.93079401,
          -73.8857946,
          -73.88578,
          -74.00797374,
          -73.89639,
          -73.89603,
          -73.8497391,
          -74.1682369,
          -73.91519,
          -73.9911494,
          -73.946594,
          -73.94882,
          -73.8877085,
          -73.73149091,
          -73.859549,
          -73.859444,
          -73.927071,
          -73.7016973,
          -74.02738,
          -73.84928,
          -73.91270424,
          -73.9073,
          -74.07934,
          -73.88283,
          -73.917751,
          -73.76724,
          -73.79679273,
          -73.92329,
          -73.9066829,
          -73.97392,
          -73.96879,
          -73.99539,
          -73.92016,
          -73.98717,
          -73.91588521,
          -73.9889,
          -74.0120253,
          -74.0120253,
          -73.9936734,
          -73.95892,
          -73.9504086,
          -73.9952799,
          -73.98637801,
          -73.990096,
          -74.0013125,
          -74.12967,
          -73.9631,
          -73.9073,
          -74.0669935,
          -73.979695,
          -74.0028356,
          -73.9889093,
          -73.9042865,
          -73.96493,
          -73.99097,
          -73.9643383,
          -73.7358585,
          -73.98125,
          -73.919525,
          -73.99233,
          -73.9831168,
          -73.9902141,
          -73.90601,
          -73.93816,
          -73.73004226,
          -73.9467,
          -73.95094532,
          -73.98171,
          -73.97703,
          -74.0776,
          -73.83702,
          -73.844141,
          -73.94123,
          -73.75302557,
          -73.754904,
          -73.81542,
          -73.96008,
          -74.0873695,
          -73.766132,
          -73.98586,
          -73.8370727,
          -73.8127052,
          -73.97220254,
          -73.7503447,
          -73.96888,
          -73.82553,
          -74.0071,
          -73.78983,
          -73.845768,
          -73.79706,
          -73.79679273,
          -73.8727355,
          -74.00143,
          -74.00143,
          -73.83702,
          -73.9743737,
          -73.9147,
          -73.76505,
          -73.76194,
          -74.00531,
          -73.86793,
          -74.00036,
          -73.99656346,
          -73.9995925,
          -73.94570415,
          -73.72167,
          -73.98125,
          -73.99052,
          -73.98696,
          -73.99052,
          -73.763588,
          -73.79679273,
          -73.71088,
          -73.73525,
          -73.76724,
          -73.7767928,
          -73.8188509,
          -73.93691,
          -73.97608,
          -74.0005968,
          -73.7971569,
          -73.84324,
          -73.99097,
          -73.90001,
          -73.9935,
          -73.98825,
          -73.8951812,
          -73.9881363,
          -73.96015,
          -73.9879,
          -73.9705,
          -73.94863,
          -73.95309,
          -73.9340882,
          -74.00619,
          -73.97376,
          -73.978965,
          -73.91882,
          -73.99285,
          -73.99224,
          -73.97396489,
          -73.98349,
          -74.07674037,
          -73.84286,
          -73.753499,
          -73.8317404,
          -73.9616057,
          -73.87879,
          -73.83810071,
          -73.8434862,
          -73.869665,
          -73.96543,
          -73.95902,
          -73.922216,
          -73.88908,
          -73.8915024,
          -73.9131972,
          -73.9777,
          -73.95312,
          -73.95716,
          -73.95294,
          -73.98670256,
          -73.99514,
          -73.98619,
          -73.99518,
          -73.90555705,
          -73.87086,
          -73.92373,
          -74.01138,
          -74.01649,
          -73.99002,
          -73.93812,
          -73.97392,
          -74.00295,
          -73.99471,
          -73.98395,
          -73.97614,
          -73.99722,
          -73.98026,
          -73.90613,
          -74.07938,
          -73.9685234,
          -73.99955,
          -73.9909294,
          -74.0103149,
          -74.0045899,
          -73.91924267,
          -73.97821,
          -73.97727,
          -73.96722,
          -74.00505157,
          -73.96439,
          -73.97412,
          -73.97363,
          -73.9517212,
          -73.94672,
          -73.95868,
          -73.99038792,
          -73.980691,
          -73.9524049,
          -73.94429,
          -73.94277,
          -73.978965,
          -74.00368,
          -73.93479109,
          -73.94157,
          -74.00993,
          -73.98466,
          -73.9874383,
          -73.98857,
          -73.87966,
          -73.87897,
          -73.99409,
          -73.95645,
          -73.94773,
          -73.95631,
          -74.005,
          -73.98586035,
          -73.9806696,
          -73.9080984,
          -73.98514688,
          -73.9923699,
          -73.98541376,
          -73.907211,
          -73.9268541,
          -73.9770222,
          -73.9565,
          -73.98763,
          -73.98719928,
          -73.8296299,
          -73.99186,
          -74.10259,
          -73.9528617,
          -73.99674,
          -73.789134,
          -73.90205,
          -74.00775155,
          -73.95746,
          -73.9874192,
          -73.9429234,
          -73.95244,
          -73.83986,
          -73.9033515,
          -73.97786,
          -73.941023,
          -73.83056,
          -73.9838561,
          -73.9725052,
          -73.9284114,
          -74.00388247,
          -73.93769,
          -73.96013,
          -74.00179,
          -73.98391,
          -74.00145,
          -73.9758174,
          -73.9441794,
          -74.00396,
          -73.93491,
          -73.95037,
          -73.98296,
          -73.9495349,
          -73.9813704,
          -73.94348317,
          -73.98434,
          -73.98536,
          -73.94128,
          -73.99234,
          -73.93932,
          -73.9879,
          -73.9849872,
          -73.90714388,
          -73.93079401,
          -74.09838494,
          -73.98549,
          -73.8306099,
          -73.93491,
          -74.01069,
          -73.9675197,
          -73.98088,
          -73.992288,
          -73.99123,
          -73.98612,
          -73.9429234,
          -73.9593332,
          -73.9378,
          -73.96295,
          -73.98123,
          -73.94656,
          -73.974394,
          -73.99239,
          -73.95036416,
          -73.99123,
          -73.989104,
          -73.94033,
          -73.93491,
          -73.96604,
          -73.9815799,
          -74.2019284,
          -73.96544,
          -73.79105453,
          -73.98143284,
          -73.99739,
          -73.95586,
          -73.90881,
          -73.94749,
          -74.11611,
          -73.8290606,
          -73.950806,
          -73.9559,
          -73.9240104,
          -73.96155206,
          -73.840549,
          -73.98069,
          -73.8097067,
          -73.90423987,
          -73.7435809,
          -73.79679273,
          -73.98965,
          -73.98755917,
          -73.9624705,
          -73.88815017,
          -73.99558888,
          -73.95499,
          -73.99334,
          -73.9082459,
          -73.95783,
          -73.94583,
          -73.96116,
          -73.994108,
          -73.99458,
          -74.00312,
          -73.89564,
          -73.98549,
          -73.981708,
          -73.9529045,
          -73.99854598,
          -74.0021707,
          -73.95147023,
          -73.98080221,
          -73.9682781,
          -73.95352,
          -73.9446961,
          -74.00341905,
          -73.9599099,
          -73.981708,
          -73.93174,
          -73.95627033
         ],
         "marker": {
          "color": "#636efa"
         },
         "mode": "markers",
         "name": "Plain",
         "showlegend": true,
         "subplot": "mapbox",
         "type": "scattermapbox"
        },
        {
         "customdata": [
          [
           "$4.35 ",
           "Bronx"
          ],
          [
           "$4.50 ",
           "Brooklyn"
          ],
          [
           "$4.90 ",
           "Manhattan"
          ],
          [
           "$4.90 ",
           "Manhattan"
          ],
          [
           "$4.50 ",
           "Manhattan"
          ],
          [
           "$6.53 ",
           "Manhattan"
          ],
          [
           "$4.25 ",
           "Manhattan"
          ],
          [
           "$4.36 ",
           "Manhattan"
          ],
          [
           "$4.00 ",
           "Manhattan"
          ],
          [
           "$4.36 ",
           "Manhattan"
          ],
          [
           "$3.81 ",
           "Brooklyn"
          ],
          [
           "$4.00 ",
           "Manhattan"
          ],
          [
           "$4.00 ",
           "Brooklyn"
          ],
          [
           "$3.50 ",
           "Brooklyn"
          ],
          [
           "$3.00 ",
           "Brooklyn"
          ],
          [
           "$3.75 ",
           "Brooklyn"
          ],
          [
           "$4.50 ",
           "Queens"
          ],
          [
           "$4.40 ",
           "Manhattan"
          ],
          [
           "$4.25 ",
           "Queens"
          ],
          [
           "$2.50 ",
           "Manhattan"
          ],
          [
           "$4.00 ",
           "Manhattan"
          ],
          [
           "$3.80 ",
           null
          ],
          [
           "$3.25 ",
           "Queens"
          ],
          [
           "$4.08 ",
           "Manhattan"
          ],
          [
           "$3.00 ",
           "Manhattan"
          ],
          [
           "$3.75 ",
           "Manhattan"
          ],
          [
           "$4.50 ",
           "Manhattan"
          ],
          [
           "$3.25 ",
           "Manhattan"
          ],
          [
           "$4.00 ",
           "Manhattan"
          ],
          [
           "$3.85 ",
           "Manhattan"
          ],
          [
           "$3.50 ",
           "Manhattan"
          ],
          [
           "$3.00 ",
           "Brooklyn"
          ],
          [
           "$3.75 ",
           "Manhattan"
          ],
          [
           "$3.25 ",
           "Manhattan"
          ],
          [
           "$3.25 ",
           "Brooklyn"
          ],
          [
           "$3.50 ",
           "Manhattan"
          ],
          [
           "$3.50 ",
           "Manhattan"
          ],
          [
           "$2.50 ",
           "Manhattan"
          ],
          [
           "$4.00 ",
           "Manhattan"
          ],
          [
           "$5.00 ",
           "Manhattan"
          ],
          [
           "$3.00 ",
           "Manhattan"
          ],
          [
           "$3.55 ",
           "Manhattan"
          ],
          [
           "$3.50 ",
           "Manhattan"
          ],
          [
           "$3.79 ",
           "Manhattan"
          ],
          [
           "$3.25 ",
           "Manhattan"
          ],
          [
           "$3.75 ",
           "Manhattan"
          ],
          [
           "$4.00 ",
           "Manhattan"
          ],
          [
           "$2.00 ",
           "Brooklyn"
          ],
          [
           "$3.25 ",
           "Brooklyn"
          ],
          [
           "$3.50 ",
           "Brooklyn"
          ],
          [
           "$3.50 ",
           "Manhattan"
          ],
          [
           "$3.00 ",
           "Manhattan"
          ],
          [
           "$3.00 ",
           "Brooklyn"
          ],
          [
           "$3.75 ",
           "Manhattan"
          ],
          [
           "$3.25 ",
           "Brooklyn"
          ]
         ],
         "hovertemplate": "Style=Pepperoni<br>location_lat=%{lat}<br>location_lng=%{lon}<br>Price=%{customdata[0]}<br>borough=%{customdata[1]}<extra></extra>",
         "lat": [
          40.8855857,
          40.68753,
          40.7297781,
          40.7297781,
          40.75824,
          40.75332,
          40.73602,
          40.71821,
          40.73308,
          40.74241,
          40.6982082,
          40.73021,
          40.6943,
          40.69122,
          40.69022,
          40.68969,
          40.5801496,
          40.7016926,
          40.70453082,
          40.731687,
          40.71350162,
          40.66153,
          40.7185614,
          40.72369,
          40.74381,
          40.71539,
          40.75674,
          40.7398164,
          40.75674,
          40.78806,
          40.76960068,
          40.68683,
          40.7604,
          40.73226681,
          40.72390868,
          40.77783381,
          40.72875,
          40.76329,
          40.71350162,
          40.7438563,
          40.77529,
          40.78152,
          40.77783381,
          40.77505,
          40.76946076,
          40.7366779,
          40.72052,
          40.701088,
          40.6769775,
          40.6867,
          40.7306597,
          40.7398164,
          40.68965,
          40.72011,
          40.72555137
         ],
         "legendgroup": "Pepperoni",
         "lon": [
          -73.9103776,
          -73.954427,
          -73.9865052,
          -73.9865052,
          -73.98063,
          -73.98698,
          -73.99404,
          -73.98815,
          -74.00277,
          -73.98452,
          -73.9770145,
          -73.98069,
          -73.99294,
          -73.99062,
          -73.99227,
          -73.97758,
          -73.8370727,
          -74.01290658,
          -73.79679273,
          -74.001115,
          -73.99854598,
          -73.69983,
          -73.7358451,
          -73.98489,
          -74.00295,
          -73.99153,
          -73.96431,
          -73.9989453,
          -73.96431,
          -73.97707,
          -73.98845172,
          -73.96644,
          -73.99469,
          -74.00341905,
          -73.95038682,
          -73.98249241,
          -74.0001,
          -73.96846,
          -73.99854598,
          -73.9792757,
          -73.94738,
          -73.94886,
          -73.98249241,
          -73.98088,
          -73.95804273,
          -74.00126587,
          -73.99658,
          -73.941023,
          -73.9725052,
          -73.97504,
          -74.0021707,
          -73.9989453,
          -73.96544,
          -74.00358,
          -73.95147023
         ],
         "marker": {
          "color": "#EF553B"
         },
         "mode": "markers",
         "name": "Pepperoni",
         "showlegend": true,
         "subplot": "mapbox",
         "type": "scattermapbox"
        },
        {
         "customdata": [
          [
           "$3.50 ",
           "Brooklyn"
          ]
         ],
         "hovertemplate": "Style=Stuffed Crust Plain<br>location_lat=%{lat}<br>location_lng=%{lon}<br>Price=%{customdata[0]}<br>borough=%{customdata[1]}<extra></extra>",
         "lat": [
          40.60351362
         ],
         "legendgroup": "Stuffed Crust Plain",
         "lon": [
          -73.9865831
         ],
         "marker": {
          "color": "#00cc96"
         },
         "mode": "markers",
         "name": "Stuffed Crust Plain",
         "showlegend": true,
         "subplot": "mapbox",
         "type": "scattermapbox"
        },
        {
         "customdata": [
          [
           "$5.00 ",
           "Bronx"
          ],
          [
           "$5.50 ",
           "Manhattan"
          ]
         ],
         "hovertemplate": "Style=Jumbo<br>location_lat=%{lat}<br>location_lng=%{lon}<br>Price=%{customdata[0]}<br>borough=%{customdata[1]}<extra></extra>",
         "lat": [
          40.822888,
          40.80447
         ],
         "legendgroup": "Jumbo",
         "lon": [
          -73.84862,
          -73.96616
         ],
         "marker": {
          "color": "#ab63fa"
         },
         "mode": "markers",
         "name": "Jumbo",
         "showlegend": true,
         "subplot": "mapbox",
         "type": "scattermapbox"
        },
        {
         "customdata": [
          [
           "$3.81 ",
           "Staten Island"
          ],
          [
           "$2.50 ",
           "Queens"
          ],
          [
           "$2.50 ",
           "Brooklyn"
          ]
         ],
         "hovertemplate": "Style=Sicilian<br>location_lat=%{lat}<br>location_lng=%{lon}<br>Price=%{customdata[0]}<br>borough=%{customdata[1]}<extra></extra>",
         "lat": [
          40.64015042,
          40.76032,
          40.59467782
         ],
         "legendgroup": "Sicilian",
         "lon": [
          -74.0757603,
          -73.82813,
          -73.98143284
         ],
         "marker": {
          "color": "#FFA15A"
         },
         "mode": "markers",
         "name": "Sicilian",
         "showlegend": true,
         "subplot": "mapbox",
         "type": "scattermapbox"
        },
        {
         "customdata": [
          [
           "$4.25 ",
           "Brooklyn"
          ],
          [
           "$3.75 ",
           "Brooklyn"
          ]
         ],
         "hovertemplate": "Style=White<br>location_lat=%{lat}<br>location_lng=%{lon}<br>Price=%{customdata[0]}<br>borough=%{customdata[1]}<extra></extra>",
         "lat": [
          40.71561,
          40.71561
         ],
         "legendgroup": "White",
         "lon": [
          -73.95352,
          -73.95352
         ],
         "marker": {
          "color": "#19d3f3"
         },
         "mode": "markers",
         "name": "White",
         "showlegend": true,
         "subplot": "mapbox",
         "type": "scattermapbox"
        },
        {
         "customdata": [
          [
           "$3.95 ",
           "Manhattan"
          ],
          [
           "$5.25 ",
           "Manhattan"
          ]
         ],
         "hovertemplate": "Style=Grandma<br>location_lat=%{lat}<br>location_lng=%{lon}<br>Price=%{customdata[0]}<br>borough=%{customdata[1]}<extra></extra>",
         "lat": [
          40.72299,
          40.76079
         ],
         "legendgroup": "Grandma",
         "lon": [
          -73.99458,
          -73.96941
         ],
         "marker": {
          "color": "#FF6692"
         },
         "mode": "markers",
         "name": "Grandma",
         "showlegend": true,
         "subplot": "mapbox",
         "type": "scattermapbox"
        },
        {
         "customdata": [
          [
           "$3.75 ",
           "Manhattan"
          ],
          [
           "$4.00 ",
           "Brooklyn"
          ]
         ],
         "hovertemplate": "Style=Margherita<br>location_lat=%{lat}<br>location_lng=%{lon}<br>Price=%{customdata[0]}<br>borough=%{customdata[1]}<extra></extra>",
         "lat": [
          40.741874,
          40.67759
         ],
         "legendgroup": "Margherita",
         "lon": [
          -73.981183,
          -73.99804
         ],
         "marker": {
          "color": "#B6E880"
         },
         "mode": "markers",
         "name": "Margherita",
         "showlegend": true,
         "subplot": "mapbox",
         "type": "scattermapbox"
        },
        {
         "customdata": [
          [
           "$4.00 ",
           "Brooklyn"
          ]
         ],
         "hovertemplate": "Style=Meatball<br>location_lat=%{lat}<br>location_lng=%{lon}<br>Price=%{customdata[0]}<br>borough=%{customdata[1]}<extra></extra>",
         "lat": [
          40.71696
         ],
         "legendgroup": "Meatball",
         "lon": [
          -73.95668
         ],
         "marker": {
          "color": "#FF97FF"
         },
         "mode": "markers",
         "name": "Meatball",
         "showlegend": true,
         "subplot": "mapbox",
         "type": "scattermapbox"
        }
       ],
       "layout": {
        "dragmode": "pan",
        "height": 600,
        "legend": {
         "title": {
          "text": "Style"
         },
         "tracegroupgap": 0
        },
        "mapbox": {
         "bearing": 0,
         "center": {
          "lat": 40.718921397553665,
          "lon": -73.94304032240342
         },
         "domain": {
          "x": [
           0,
           1
          ],
          "y": [
           0,
           1
          ]
         },
         "pitch": 0,
         "style": "open-street-map",
         "zoom": 9.922500000000001
        },
        "margin": {
         "t": 60
        },
        "template": {
         "data": {
          "bar": [
           {
            "error_x": {
             "color": "#2a3f5f"
            },
            "error_y": {
             "color": "#2a3f5f"
            },
            "marker": {
             "line": {
              "color": "#E5ECF6",
              "width": 0.5
             },
             "pattern": {
              "fillmode": "overlay",
              "size": 10,
              "solidity": 0.2
             }
            },
            "type": "bar"
           }
          ],
          "barpolar": [
           {
            "marker": {
             "line": {
              "color": "#E5ECF6",
              "width": 0.5
             },
             "pattern": {
              "fillmode": "overlay",
              "size": 10,
              "solidity": 0.2
             }
            },
            "type": "barpolar"
           }
          ],
          "carpet": [
           {
            "aaxis": {
             "endlinecolor": "#2a3f5f",
             "gridcolor": "white",
             "linecolor": "white",
             "minorgridcolor": "white",
             "startlinecolor": "#2a3f5f"
            },
            "baxis": {
             "endlinecolor": "#2a3f5f",
             "gridcolor": "white",
             "linecolor": "white",
             "minorgridcolor": "white",
             "startlinecolor": "#2a3f5f"
            },
            "type": "carpet"
           }
          ],
          "choropleth": [
           {
            "colorbar": {
             "outlinewidth": 0,
             "ticks": ""
            },
            "type": "choropleth"
           }
          ],
          "contour": [
           {
            "colorbar": {
             "outlinewidth": 0,
             "ticks": ""
            },
            "colorscale": [
             [
              0,
              "#0d0887"
             ],
             [
              0.1111111111111111,
              "#46039f"
             ],
             [
              0.2222222222222222,
              "#7201a8"
             ],
             [
              0.3333333333333333,
              "#9c179e"
             ],
             [
              0.4444444444444444,
              "#bd3786"
             ],
             [
              0.5555555555555556,
              "#d8576b"
             ],
             [
              0.6666666666666666,
              "#ed7953"
             ],
             [
              0.7777777777777778,
              "#fb9f3a"
             ],
             [
              0.8888888888888888,
              "#fdca26"
             ],
             [
              1,
              "#f0f921"
             ]
            ],
            "type": "contour"
           }
          ],
          "contourcarpet": [
           {
            "colorbar": {
             "outlinewidth": 0,
             "ticks": ""
            },
            "type": "contourcarpet"
           }
          ],
          "heatmap": [
           {
            "colorbar": {
             "outlinewidth": 0,
             "ticks": ""
            },
            "colorscale": [
             [
              0,
              "#0d0887"
             ],
             [
              0.1111111111111111,
              "#46039f"
             ],
             [
              0.2222222222222222,
              "#7201a8"
             ],
             [
              0.3333333333333333,
              "#9c179e"
             ],
             [
              0.4444444444444444,
              "#bd3786"
             ],
             [
              0.5555555555555556,
              "#d8576b"
             ],
             [
              0.6666666666666666,
              "#ed7953"
             ],
             [
              0.7777777777777778,
              "#fb9f3a"
             ],
             [
              0.8888888888888888,
              "#fdca26"
             ],
             [
              1,
              "#f0f921"
             ]
            ],
            "type": "heatmap"
           }
          ],
          "heatmapgl": [
           {
            "colorbar": {
             "outlinewidth": 0,
             "ticks": ""
            },
            "colorscale": [
             [
              0,
              "#0d0887"
             ],
             [
              0.1111111111111111,
              "#46039f"
             ],
             [
              0.2222222222222222,
              "#7201a8"
             ],
             [
              0.3333333333333333,
              "#9c179e"
             ],
             [
              0.4444444444444444,
              "#bd3786"
             ],
             [
              0.5555555555555556,
              "#d8576b"
             ],
             [
              0.6666666666666666,
              "#ed7953"
             ],
             [
              0.7777777777777778,
              "#fb9f3a"
             ],
             [
              0.8888888888888888,
              "#fdca26"
             ],
             [
              1,
              "#f0f921"
             ]
            ],
            "type": "heatmapgl"
           }
          ],
          "histogram": [
           {
            "marker": {
             "pattern": {
              "fillmode": "overlay",
              "size": 10,
              "solidity": 0.2
             }
            },
            "type": "histogram"
           }
          ],
          "histogram2d": [
           {
            "colorbar": {
             "outlinewidth": 0,
             "ticks": ""
            },
            "colorscale": [
             [
              0,
              "#0d0887"
             ],
             [
              0.1111111111111111,
              "#46039f"
             ],
             [
              0.2222222222222222,
              "#7201a8"
             ],
             [
              0.3333333333333333,
              "#9c179e"
             ],
             [
              0.4444444444444444,
              "#bd3786"
             ],
             [
              0.5555555555555556,
              "#d8576b"
             ],
             [
              0.6666666666666666,
              "#ed7953"
             ],
             [
              0.7777777777777778,
              "#fb9f3a"
             ],
             [
              0.8888888888888888,
              "#fdca26"
             ],
             [
              1,
              "#f0f921"
             ]
            ],
            "type": "histogram2d"
           }
          ],
          "histogram2dcontour": [
           {
            "colorbar": {
             "outlinewidth": 0,
             "ticks": ""
            },
            "colorscale": [
             [
              0,
              "#0d0887"
             ],
             [
              0.1111111111111111,
              "#46039f"
             ],
             [
              0.2222222222222222,
              "#7201a8"
             ],
             [
              0.3333333333333333,
              "#9c179e"
             ],
             [
              0.4444444444444444,
              "#bd3786"
             ],
             [
              0.5555555555555556,
              "#d8576b"
             ],
             [
              0.6666666666666666,
              "#ed7953"
             ],
             [
              0.7777777777777778,
              "#fb9f3a"
             ],
             [
              0.8888888888888888,
              "#fdca26"
             ],
             [
              1,
              "#f0f921"
             ]
            ],
            "type": "histogram2dcontour"
           }
          ],
          "mesh3d": [
           {
            "colorbar": {
             "outlinewidth": 0,
             "ticks": ""
            },
            "type": "mesh3d"
           }
          ],
          "parcoords": [
           {
            "line": {
             "colorbar": {
              "outlinewidth": 0,
              "ticks": ""
             }
            },
            "type": "parcoords"
           }
          ],
          "pie": [
           {
            "automargin": true,
            "type": "pie"
           }
          ],
          "scatter": [
           {
            "fillpattern": {
             "fillmode": "overlay",
             "size": 10,
             "solidity": 0.2
            },
            "type": "scatter"
           }
          ],
          "scatter3d": [
           {
            "line": {
             "colorbar": {
              "outlinewidth": 0,
              "ticks": ""
             }
            },
            "marker": {
             "colorbar": {
              "outlinewidth": 0,
              "ticks": ""
             }
            },
            "type": "scatter3d"
           }
          ],
          "scattercarpet": [
           {
            "marker": {
             "colorbar": {
              "outlinewidth": 0,
              "ticks": ""
             }
            },
            "type": "scattercarpet"
           }
          ],
          "scattergeo": [
           {
            "marker": {
             "colorbar": {
              "outlinewidth": 0,
              "ticks": ""
             }
            },
            "type": "scattergeo"
           }
          ],
          "scattergl": [
           {
            "marker": {
             "colorbar": {
              "outlinewidth": 0,
              "ticks": ""
             }
            },
            "type": "scattergl"
           }
          ],
          "scattermapbox": [
           {
            "marker": {
             "colorbar": {
              "outlinewidth": 0,
              "ticks": ""
             }
            },
            "type": "scattermapbox"
           }
          ],
          "scatterpolar": [
           {
            "marker": {
             "colorbar": {
              "outlinewidth": 0,
              "ticks": ""
             }
            },
            "type": "scatterpolar"
           }
          ],
          "scatterpolargl": [
           {
            "marker": {
             "colorbar": {
              "outlinewidth": 0,
              "ticks": ""
             }
            },
            "type": "scatterpolargl"
           }
          ],
          "scatterternary": [
           {
            "marker": {
             "colorbar": {
              "outlinewidth": 0,
              "ticks": ""
             }
            },
            "type": "scatterternary"
           }
          ],
          "surface": [
           {
            "colorbar": {
             "outlinewidth": 0,
             "ticks": ""
            },
            "colorscale": [
             [
              0,
              "#0d0887"
             ],
             [
              0.1111111111111111,
              "#46039f"
             ],
             [
              0.2222222222222222,
              "#7201a8"
             ],
             [
              0.3333333333333333,
              "#9c179e"
             ],
             [
              0.4444444444444444,
              "#bd3786"
             ],
             [
              0.5555555555555556,
              "#d8576b"
             ],
             [
              0.6666666666666666,
              "#ed7953"
             ],
             [
              0.7777777777777778,
              "#fb9f3a"
             ],
             [
              0.8888888888888888,
              "#fdca26"
             ],
             [
              1,
              "#f0f921"
             ]
            ],
            "type": "surface"
           }
          ],
          "table": [
           {
            "cells": {
             "fill": {
              "color": "#EBF0F8"
             },
             "line": {
              "color": "white"
             }
            },
            "header": {
             "fill": {
              "color": "#C8D4E3"
             },
             "line": {
              "color": "white"
             }
            },
            "type": "table"
           }
          ]
         },
         "layout": {
          "annotationdefaults": {
           "arrowcolor": "#2a3f5f",
           "arrowhead": 0,
           "arrowwidth": 1
          },
          "autotypenumbers": "strict",
          "coloraxis": {
           "colorbar": {
            "outlinewidth": 0,
            "ticks": ""
           }
          },
          "colorscale": {
           "diverging": [
            [
             0,
             "#8e0152"
            ],
            [
             0.1,
             "#c51b7d"
            ],
            [
             0.2,
             "#de77ae"
            ],
            [
             0.3,
             "#f1b6da"
            ],
            [
             0.4,
             "#fde0ef"
            ],
            [
             0.5,
             "#f7f7f7"
            ],
            [
             0.6,
             "#e6f5d0"
            ],
            [
             0.7,
             "#b8e186"
            ],
            [
             0.8,
             "#7fbc41"
            ],
            [
             0.9,
             "#4d9221"
            ],
            [
             1,
             "#276419"
            ]
           ],
           "sequential": [
            [
             0,
             "#0d0887"
            ],
            [
             0.1111111111111111,
             "#46039f"
            ],
            [
             0.2222222222222222,
             "#7201a8"
            ],
            [
             0.3333333333333333,
             "#9c179e"
            ],
            [
             0.4444444444444444,
             "#bd3786"
            ],
            [
             0.5555555555555556,
             "#d8576b"
            ],
            [
             0.6666666666666666,
             "#ed7953"
            ],
            [
             0.7777777777777778,
             "#fb9f3a"
            ],
            [
             0.8888888888888888,
             "#fdca26"
            ],
            [
             1,
             "#f0f921"
            ]
           ],
           "sequentialminus": [
            [
             0,
             "#0d0887"
            ],
            [
             0.1111111111111111,
             "#46039f"
            ],
            [
             0.2222222222222222,
             "#7201a8"
            ],
            [
             0.3333333333333333,
             "#9c179e"
            ],
            [
             0.4444444444444444,
             "#bd3786"
            ],
            [
             0.5555555555555556,
             "#d8576b"
            ],
            [
             0.6666666666666666,
             "#ed7953"
            ],
            [
             0.7777777777777778,
             "#fb9f3a"
            ],
            [
             0.8888888888888888,
             "#fdca26"
            ],
            [
             1,
             "#f0f921"
            ]
           ]
          },
          "colorway": [
           "#636efa",
           "#EF553B",
           "#00cc96",
           "#ab63fa",
           "#FFA15A",
           "#19d3f3",
           "#FF6692",
           "#B6E880",
           "#FF97FF",
           "#FECB52"
          ],
          "font": {
           "color": "#2a3f5f"
          },
          "geo": {
           "bgcolor": "white",
           "lakecolor": "white",
           "landcolor": "#E5ECF6",
           "showlakes": true,
           "showland": true,
           "subunitcolor": "white"
          },
          "hoverlabel": {
           "align": "left"
          },
          "hovermode": "closest",
          "mapbox": {
           "style": "light"
          },
          "paper_bgcolor": "white",
          "plot_bgcolor": "#E5ECF6",
          "polar": {
           "angularaxis": {
            "gridcolor": "white",
            "linecolor": "white",
            "ticks": ""
           },
           "bgcolor": "#E5ECF6",
           "radialaxis": {
            "gridcolor": "white",
            "linecolor": "white",
            "ticks": ""
           }
          },
          "scene": {
           "xaxis": {
            "backgroundcolor": "#E5ECF6",
            "gridcolor": "white",
            "gridwidth": 2,
            "linecolor": "white",
            "showbackground": true,
            "ticks": "",
            "zerolinecolor": "white"
           },
           "yaxis": {
            "backgroundcolor": "#E5ECF6",
            "gridcolor": "white",
            "gridwidth": 2,
            "linecolor": "white",
            "showbackground": true,
            "ticks": "",
            "zerolinecolor": "white"
           },
           "zaxis": {
            "backgroundcolor": "#E5ECF6",
            "gridcolor": "white",
            "gridwidth": 2,
            "linecolor": "white",
            "showbackground": true,
            "ticks": "",
            "zerolinecolor": "white"
           }
          },
          "shapedefaults": {
           "line": {
            "color": "#2a3f5f"
           }
          },
          "ternary": {
           "aaxis": {
            "gridcolor": "white",
            "linecolor": "white",
            "ticks": ""
           },
           "baxis": {
            "gridcolor": "white",
            "linecolor": "white",
            "ticks": ""
           },
           "bgcolor": "#E5ECF6",
           "caxis": {
            "gridcolor": "white",
            "linecolor": "white",
            "ticks": ""
           }
          },
          "title": {
           "x": 0.05
          },
          "xaxis": {
           "automargin": true,
           "gridcolor": "white",
           "linecolor": "white",
           "ticks": "",
           "title": {
            "standoff": 15
           },
           "zerolinecolor": "white",
           "zerolinewidth": 2
          },
          "yaxis": {
           "automargin": true,
           "gridcolor": "white",
           "linecolor": "white",
           "ticks": "",
           "title": {
            "standoff": 15
           },
           "zerolinecolor": "white",
           "zerolinewidth": 2
          }
         }
        },
        "width": 600
       }
      },
      "image/png": "[encoded data removed]",
      "text/html": [
       "<div>                            <div id=\"8e5c545d-885f-47d7-a8d9-c57116c76edf\" class=\"plotly-graph-div\" style=\"height:600px; width:600px;\"></div>            <script type=\"text/javascript\">                require([\"plotly\"], function(Plotly) {                    window.PLOTLYENV=window.PLOTLYENV || {};                                    if (document.getElementById(\"8e5c545d-885f-47d7-a8d9-c57116c76edf\")) {                    Plotly.newPlot(                        \"8e5c545d-885f-47d7-a8d9-c57116c76edf\",                        [{\"customdata\":[[\"$3.00 \",\"Brooklyn\"],[\"$3.00 \",\"Queens\"],[\"$2.75 \",\"Brooklyn\"],[\"$3.25 \",\"Queens\"],[\"$1.00 \",\"Manhattan\"],[\"$3.50 \",\"Bronx\"],[\"$3.00 \",\"Bronx\"],[\"$3.35 \",\"Brooklyn\"],[\"$3.00 \",\"Bronx\"],[\"$3.50 \",\"Bronx\"],[\"$2.50 \",\"Staten Island\"],[\"$3.81 \",\"Manhattan\"],[\"$3.00 \",\"Queens\"],[\"$3.25 \",\"Bronx\"],[\"$3.00 \",\"Bronx\"],[\"$3.00 \",\"Brooklyn\"],[\"$3.00 \",\"Brooklyn\"],[\"$3.00 \",\"Manhattan\"],[\"$3.00 \",\"Queens\"],[\"$3.26 \",\"Queens\"],[\"$3.00 \",\"Brooklyn\"],[\"$2.75 \",\"Staten Island\"],[\"$3.00 \",\"Queens\"],[\"$3.76 \",\"Manhattan\"],[\"$2.75 \",\"Brooklyn\"],[\"$2.75 \",\"Brooklyn\"],[\"$3.25 \",\"Queens\"],[\"$3.24 \",\"Queens\"],[\"$3.50 \",\"Queens\"],[\"$2.75 \",\"Bronx\"],[\"$2.00 \",\"Manhattan\"],[\"$2.75 \",\"Queens\"],[\"$3.00 \",\"Queens\"],[\"$3.00 \",\"Brooklyn\"],[\"$3.00 \",\"Brooklyn\"],[\"$3.27 \",\"Queens\"],[\"$2.75 \",\"Brooklyn\"],[\"$3.00 \",\"Brooklyn\"],[\"$2.75 \",\"Brooklyn\"],[\"$2.75 \",\"Manhattan\"],[\"$3.00 \",\"Brooklyn\"],[\"$3.00 \",\"Bronx\"],[\"$3.00 \",\"Bronx\"],[\"$3.00 \",\"Bronx\"],[\"$2.50 \",\"Bronx\"],[\"$3.00 \",\"Manhattan\"],[\"$3.00 \",\"Bronx\"],[\"$3.00 \",\"Bronx\"],[\"$2.50 \",\"Queens\"],[\"$3.00 \",\"Staten Island\"],[\"$2.75 \",\"Queens\"],[\"$3.00 \",\"Queens\"],[\"$3.00 \",\"Queens\"],[\"$4.00 \",\"Brooklyn\"],[\"$2.50 \",\"Bronx\"],[\"$3.00 \",\"Bronx\"],[\"$3.25 \",\"Queens\"],[\"$3.50 \",\"Staten Island\"],[\"$3.00 \",\"Bronx\"],[\"$3.50 \",\"Manhattan\"],[\"$3.25 \",\"Manhattan\"],[\"$2.50 \",\"Brooklyn\"],[\"$3.00 \",\"Brooklyn\"],[\"$3.00 \",\"Queens\"],[\"$3.25 \",\"Bronx\"],[\"$3.25 \",\"Bronx\"],[\"$2.75 \",\"Bronx\"],[\"$3.00 \",null],[\"$3.00 \",\"Brooklyn\"],[\"$3.00 \",\"Queens\"],[\"$2.75 \",\"Brooklyn\"],[\"$2.50 \",\"Bronx\"],[\"$2.50 \",\"Staten Island\"],[\"$2.75 \",\"Brooklyn\"],[\"$2.75 \",\"Bronx\"],[\"$3.00 \",\"Queens\"],[\"$3.50 \",\"Queens\"],[\"$2.75 \",\"Brooklyn\"],[\"$2.50 \",\"Queens\"],[\"$3.00 \",\"Brooklyn\"],[\"$3.20 \",\"Manhattan\"],[\"$2.00 \",\"Brooklyn\"],[\"$2.00 \",\"Bronx\"],[\"$2.50 \",\"Manhattan\"],[\"$2.75 \",\"Queens\"],[\"$3.00 \",\"Manhattan\"],[\"$4.35 \",\"Manhattan\"],[\"$3.25 \",\"Manhattan\"],[\"$3.27 \",\"Manhattan\"],[\"$3.00 \",\"Brooklyn\"],[\"$3.00 \",\"Brooklyn\"],[\"$3.00 \",\"Manhattan\"],[\"$1.00 \",\"Brooklyn\"],[\"$1.00 \",\"Manhattan\"],[\"$3.27 \",\"Manhattan\"],[\"$2.50 \",\"Staten Island\"],[\"$3.00 \",\"Brooklyn\"],[\"$2.00 \",\"Queens\"],[\"$2.75 \",\"Staten Island\"],[\"$3.00 \",\"Manhattan\"],[\"$1.00 \",\"Manhattan\"],[\"$3.00 \",\"Brooklyn\"],[\"$2.75 \",\"Queens\"],[\"$3.00 \",\"Brooklyn\"],[\"$3.00 \",\"Brooklyn\"],[\"$2.50 \",\"Brooklyn\"],[\"$2.75 \",\"Queens\"],[\"$3.25 \",\"Manhattan\"],[\"$2.50 \",\"Brooklyn\"],[\"$2.50 \",\"Brooklyn\"],[\"$1.00 \",\"Manhattan\"],[\"$2.75 \",\"Manhattan\"],[\"$3.00 \",\"Bronx\"],[\"$1.00 \",\"Manhattan\"],[\"$2.25 \",\"Queens\"],[\"$2.50 \",\"Manhattan\"],[\"$2.50 \",\"Manhattan\"],[\"$2.75 \",\"Brooklyn\"],[\"$2.75 \",\"Brooklyn\"],[\"$2.00 \",\"Staten Island\"],[\"$2.75 \",\"Queens\"],[\"$1.00 \",\"Queens\"],[\"$2.75 \",\"Brooklyn\"],[\"$2.50 \",\"Queens\"],[\"$2.50 \",\"Queens\"],[\"$3.00 \",\"Queens\"],[\"$2.75 \",\"Brooklyn\"],[\"$2.00 \",\"Staten Island\"],[\"$2.25 \",\"Queens\"],[\"$1.00 \",\"Manhattan\"],[\"$2.50 \",\"Queens\"],[\"$2.50 \",\"Queens\"],[\"$2.75 \",\"Brooklyn\"],[\"$2.00 \",\"Queens\"],[\"$2.00 \",\"Brooklyn\"],[\"$3.00 \",\"Queens\"],[\"$2.00 \",\"Brooklyn\"],[\"$2.00 \",\"Queens\"],[\"$2.75 \",\"Queens\"],[\"$1.50 \",\"Queens\"],[\"$3.25 \",\"Queens\"],[\"$2.75 \",\"Queens\"],[\"$2.25 \",\"Brooklyn\"],[\"$2.25 \",\"Brooklyn\"],[\"$2.75 \",\"Queens\"],[\"$1.00 \",\"Manhattan\"],[\"$2.00 \",\"Brooklyn\"],[\"$2.00 \",\"Queens\"],[\"$2.00 \",\"Queens\"],[\"$2.75 \",\"Manhattan\"],[\"$2.50 \",\"Brooklyn\"],[\"$1.00 \",\"Manhattan\"],[\"$2.00 \",\"Manhattan\"],[\"$3.00 \",\"Manhattan\"],[\"$2.75 \",\"Brooklyn\"],[\"$2.75 \",\"Queens\"],[\"$3.00 \",\"Manhattan\"],[\"$2.75 \",\"Manhattan\"],[\"$1.00 \",\"Brooklyn\"],[\"$1.00 \",\"Manhattan\"],[\"$2.00 \",\"Queens\"],[\"$3.00 \",\"Queens\"],[\"$2.65 \",\"Queens\"],[\"$2.50 \",\"Queens\"],[\"$2.75 \",\"Queens\"],[\"$2.50 \",\"Queens\"],[\"$2.75 \",\"Queens\"],[\"$2.00 \",\"Manhattan\"],[\"$2.00 \",\"Brooklyn\"],[\"$2.50 \",\"Brooklyn\"],[\"$3.00 \",\"Queens\"],[\"$2.50 \",\"Bronx\"],[\"$2.50 \",\"Brooklyn\"],[\"$2.65 \",\"Queens\"],[\"$1.00 \",\"Manhattan\"],[\"$2.75 \",\"Manhattan\"],[\"$2.75 \",\"Queens\"],[\"$1.00 \",\"Manhattan\"],[\"$2.75 \",\"Manhattan\"],[\"$2.25 \",\"Manhattan\"],[\"$1.00 \",\"Manhattan\"],[\"$2.75 \",\"Manhattan\"],[\"$2.75 \",\"Manhattan\"],[\"$2.00 \",\"Manhattan\"],[\"$3.00 \",\"Manhattan\"],[\"$1.00 \",\"Manhattan\"],[\"$1.00 \",\"Manhattan\"],[\"$2.50 \",\"Brooklyn\"],[\"$2.50 \",\"Brooklyn\"],[\"$2.75 \",\"Manhattan\"],[\"$2.75 \",\"Manhattan\"],[\"$2.75 \",\"Manhattan\"],[\"$2.00 \",\"Staten Island\"],[\"$2.00 \",\"Queens\"],[\"$2.00 \",\"Queens\"],[\"$2.00 \",\"Queens\"],[\"$2.95 \",\"Manhattan\"],[\"$1.00 \",\"Brooklyn\"],[\"$3.00 \",\"Queens\"],[\"$2.50 \",\"Queens\"],[\"$2.00 \",\"Brooklyn\"],[\"$2.75 \",\"Manhattan\"],[\"$2.25 \",\"Brooklyn\"],[\"$2.45 \",\"Brooklyn\"],[\"$2.25 \",\"Bronx\"],[\"$2.50 \",\"Bronx\"],[\"$2.25 \",\"Bronx\"],[\"$2.75 \",\"Brooklyn\"],[\"$2.50 \",\"Manhattan\"],[\"$3.25 \",\"Manhattan\"],[\"$2.75 \",\"Manhattan\"],[\"$1.00 \",\"Brooklyn\"],[\"$2.75 \",\"Brooklyn\"],[\"$2.50 \",\"Brooklyn\"],[\"$3.00 \",\"Manhattan\"],[\"$2.45 \",\"Queens\"],[\"$1.50 \",\"Queens\"],[\"$2.50 \",\"Queens\"],[\"$2.50 \",\"Brooklyn\"],[\"$3.15 \",\"Manhattan\"],[\"$1.50 \",\"Brooklyn\"],[\"$2.25 \",\"Manhattan\"],[\"$2.50 \",\"Brooklyn\"],[\"$2.50 \",\"Manhattan\"],[\"$2.45 \",\"Manhattan\"],[\"$2.50 \",\"Manhattan\"],[\"$2.50 \",\"Manhattan\"],[\"$2.25 \",\"Manhattan\"],[\"$2.50 \",\"Manhattan\"],[\"$2.50 \",\"Queens\"],[\"$2.00 \",\"Staten Island\"],[\"$3.00 \",\"Manhattan\"],[\"$1.00 \",\"Manhattan\"],[\"$2.75 \",\"Manhattan\"],[\"$2.50 \",\"Manhattan\"],[\"$2.75 \",\"Manhattan\"],[\"$2.25 \",\"Brooklyn\"],[\"$3.00 \",\"Manhattan\"],[\"$2.25 \",\"Manhattan\"],[\"$3.00 \",\"Manhattan\"],[\"$2.50 \",\"Manhattan\"],[\"$1.75 \",\"Brooklyn\"],[\"$2.75 \",\"Brooklyn\"],[\"$3.00 \",\"Manhattan\"],[\"$2.75 \",\"Manhattan\"],[\"$2.25 \",\"Manhattan\"],[\"$2.75 \",\"Manhattan\"],[\"$1.00 \",\"Manhattan\"],[\"$2.85 \",\"Manhattan\"],[\"$2.75 \",\"Manhattan\"],[\"$2.75 \",\"Manhattan\"],[\"$2.25 \",\"Manhattan\"],[\"$1.00 \",\"Manhattan\"],[\"$2.75 \",\"Manhattan\"],[\"$1.75 \",\"Manhattan\"],[\"$2.25 \",\"Manhattan\"],[\"$2.75 \",\"Manhattan\"],[\"$1.50 \",\"Manhattan\"],[\"$2.00 \",\"Manhattan\"],[\"$2.50 \",\"Manhattan\"],[\"$2.50 \",\"Bronx\"],[\"$2.50 \",\"Bronx\"],[\"$2.00 \",\"Brooklyn\"],[\"$3.00 \",\"Manhattan\"],[\"$2.50 \",\"Manhattan\"],[\"$2.50 \",\"Manhattan\"],[\"$2.75 \",\"Manhattan\"],[\"$1.00 \",\"Manhattan\"],[\"$2.50 \",\"Manhattan\"],[\"$1.50 \",\"Queens\"],[\"$2.50 \",\"Manhattan\"],[\"$2.85 \",\"Manhattan\"],[\"$2.75 \",\"Manhattan\"],[\"$1.50 \",\"Queens\"],[\"$2.00 \",\"Queens\"],[\"$2.75 \",\"Manhattan\"],[\"$2.00 \",\"Brooklyn\"],[\"$2.75 \",\"Manhattan\"],[\"$2.00 \",\"Manhattan\"],[\"$2.50 \",\"Queens\"],[\"$1.00 \",\"Manhattan\"],[\"$2.00 \",\"Staten Island\"],[\"$2.75 \",\"Brooklyn\"],[\"$2.25 \",\"Brooklyn\"],[\"$2.25 \",\"Bronx\"],[\"$2.25 \",\"Bronx\"],[\"$2.50 \",\"Manhattan\"],[\"$2.25 \",\"Brooklyn\"],[\"$2.75 \",\"Brooklyn\"],[\"$2.00 \",\"Brooklyn\"],[\"$2.75 \",\"Brooklyn\"],[\"$2.45 \",\"Queens\"],[\"$2.50 \",\"Queens\"],[\"$2.75 \",\"Brooklyn\"],[\"$1.50 \",\"Brooklyn\"],[\"$3.00 \",\"Queens\"],[\"$2.75 \",\"Brooklyn\"],[\"$2.75 \",\"Brooklyn\"],[\"$3.50 \",\"Brooklyn\"],[\"$2.50 \",\"Manhattan\"],[\"$2.00 \",\"Brooklyn\"],[\"$2.25 \",\"Brooklyn\"],[\"$1.00 \",\"Manhattan\"],[\"$4.50 \",\"Manhattan\"],[\"$1.00 \",\"Manhattan\"],[\"$3.00 \",\"Manhattan\"],[\"$2.75 \",\"Brooklyn\"],[\"$2.50 \",\"Brooklyn\"],[\"$2.00 \",\"Brooklyn\"],[\"$2.25 \",\"Brooklyn\"],[\"$1.00 \",\"Manhattan\"],[\"$1.00 \",\"Brooklyn\"],[\"$2.50 \",\"Brooklyn\"],[\"$2.45 \",\"Brooklyn\"],[\"$2.50 \",\"Manhattan\"],[\"$2.75 \",\"Manhattan\"],[\"$2.25 \",\"Brooklyn\"],[\"$1.00 \",\"Manhattan\"],[\"$2.25 \",\"Brooklyn\"],[\"$2.25 \",\"Manhattan\"],[\"$2.85 \",\"Manhattan\"],[\"$2.00 \",\"Bronx\"],[\"$2.25 \",\"Queens\"],[\"$2.00 \",\"Staten Island\"],[\"$1.00 \",\"Manhattan\"],[\"$2.75 \",\"Queens\"],[\"$2.00 \",\"Brooklyn\"],[\"$2.50 \",\"Manhattan\"],[\"$2.75 \",\"Brooklyn\"],[\"$2.71 \",\"Manhattan\"],[\"$2.75 \",\"Manhattan\"],[\"$2.75 \",\"Manhattan\"],[\"$3.00 \",\"Manhattan\"],[\"$1.00 \",\"Brooklyn\"],[\"$2.50 \",\"Manhattan\"],[\"$2.25 \",\"Manhattan\"],[\"$2.50 \",\"Manhattan\"],[\"$1.00 \",\"Manhattan\"],[\"$2.00 \",\"Brooklyn\"],[\"$2.50 \",\"Brooklyn\"],[\"$2.50 \",\"Manhattan\"],[\"$2.00 \",\"Brooklyn\"],[\"$2.75 \",\"Manhattan\"],[\"$2.00 \",\"Manhattan\"],[\"$2.25 \",\"Brooklyn\"],[\"$2.00 \",\"Brooklyn\"],[\"$2.50 \",\"Brooklyn\"],[\"$2.00 \",\"Brooklyn\"],[\"$2.50 \",\"Staten Island\"],[\"$2.50 \",\"Brooklyn\"],[\"$2.00 \",\"Queens\"],[\"$2.50 \",\"Brooklyn\"],[\"$2.75 \",\"Manhattan\"],[\"$2.75 \",\"Brooklyn\"],[\"$2.50 \",\"Queens\"],[\"$2.00 \",\"Brooklyn\"],[\"$2.50 \",\"Staten Island\"],[\"$2.25 \",\"Queens\"],[\"$2.75 \",\"Brooklyn\"],[\"$2.75 \",\"Brooklyn\"],[\"$2.50 \",\"Queens\"],[\"$5.00 \",\"Brooklyn\"],[\"$2.75 \",\"Queens\"],[\"$2.50 \",\"Manhattan\"],[\"$2.00 \",\"Queens\"],[\"$3.00 \",\"Bronx\"],[\"$3.00 \",null],[\"$3.00 \",\"Queens\"],[\"$2.75 \",\"Manhattan\"],[\"$1.00 \",\"Manhattan\"],[\"$2.75 \",\"Manhattan\"],[\"$2.50 \",\"Queens\"],[\"$2.85 \",\"Manhattan\"],[\"$2.50 \",\"Brooklyn\"],[\"$2.25 \",\"Brooklyn\"],[\"$2.50 \",\"Queens\"],[\"$2.25 \",\"Brooklyn\"],[\"$2.25 \",\"Brooklyn\"],[\"$2.50 \",\"Brooklyn\"],[\"$2.25 \",\"Manhattan\"],[\"$2.95 \",\"Manhattan\"],[\"$2.50 \",\"Manhattan\"],[\"$2.25 \",\"Queens\"],[\"$1.00 \",\"Manhattan\"],[\"$2.25 \",\"Manhattan\"],[\"$3.00 \",\"Manhattan\"],[\"$2.75 \",\"Manhattan\"],[\"$2.75 \",\"Manhattan\"],[\"$2.25 \",\"Brooklyn\"],[\"$1.09 \",\"Manhattan\"],[\"$3.05 \",\"Manhattan\"],[\"$3.25 \",\"Brooklyn\"],[\"$2.75 \",\"Brooklyn\"],[\"$2.75 \",\"Manhattan\"],[\"$2.75 \",\"Brooklyn\"],[\"$2.25 \",\"Manhattan\"],[\"$2.55 \",\"Brooklyn\"],[\"$2.00 \",\"Brooklyn\"]],\"hovertemplate\":\"Style=Plain<br>location_lat=%{lat}<br>location_lng=%{lon}<br>Price=%{customdata[0]}<br>borough=%{customdata[1]}<extra></extra>\",\"lat\":[40.6232544,40.6808917,40.6000148,40.7133354,40.7482509,40.8545616,40.8631291,40.6004632,40.9036613,40.8676344,40.5332892,40.7166726,40.6843262,40.8679105,40.865699,40.6556156,40.6550446,40.8048198,40.7003521,40.6842128,40.5768705,40.610693,40.7434508,40.7608035,40.6249135,40.5989761,40.7575064,40.7195744,40.7399635,40.8164641,40.717725,40.7185614,40.7534698,40.6461233,40.5785196,40.7560589,40.7045071,40.5965296,40.654758,40.7912008,40.6201361,40.8691518,40.8294396,40.8324594,40.81692834,40.798309,40.854174,40.85994,40.7078242,40.61008,40.76566391,40.7557169,40.75577,40.6561793,40.86726,40.86708,40.7340393,40.55962148,40.83381,40.7550912,40.81668,40.65099,40.6550694,40.76016292,40.8890631,40.889035,40.81153,40.6505369,40.61735,40.57845,40.61475744,40.84464,40.62484,40.6737,40.82622,40.65763,40.70453082,40.66485,40.7020409,40.64755,40.76095,40.64547,40.83522,40.76623,40.75757009,40.76944,40.7094362,40.7094362,40.7462825,40.71687,40.7237277,40.7545,40.69173293,40.746467,40.7365892,40.63087,40.67522,40.70416,40.5980108,40.727429,40.7332919,40.6931218,40.7220677,40.64081,40.69294,40.6827637,40.7282673,40.7294399,40.637601,40.6894599,40.7269451,40.7330887,40.87939,40.80486,40.72201222,40.82618,40.82611648,40.65863,40.63114,40.64401,40.57914,40.680109,40.701064,40.60337636,40.596594,40.58619,40.65585,40.6377231,40.597955,40.71807,40.5801496,40.5875839,40.69332939,40.6027254,40.63886,40.68616,40.67435,40.70684,40.680199,40.70373,40.70453082,40.7183175,40.65691,40.65691,40.57914,40.7518124,40.69909,40.70103,40.69088,40.70883,40.67869,40.71885,40.71067473,40.7116825,40.692128,40.72538,40.7294399,40.75576,40.69232,40.75576,40.6744308,40.70453082,40.72795,40.66489,40.65763,40.6635174,40.7093836,40.80188,40.62614,40.6009756,40.7043939,40.86262,40.69294,40.71221,40.75695,40.73214,40.7262164,40.7651482,40.76183,40.72374,40.75024,40.77843,40.77149,40.802747,40.7332899,40.75202,40.740868,40.6992,40.66949,40.7637799,40.74385051,40.76559,40.64222552,40.69498,40.680423,40.6781657,40.76042052,40.67429,40.65064377,40.6739049,40.690672,40.75882,40.65234,40.610228,40.83679,40.8293304,40.8142087,40.67133,40.7803,40.77711,40.77856,40.69244206,40.68361,40.67686,40.75014,40.74552183,40.74885,40.74031,40.67882,40.71021,40.68346,40.79684,40.64755,40.74381,40.7451099,40.73721,40.74875,40.74674,40.74645,40.70031,40.63829,40.7546051,40.7331,40.7654294,40.7100713,40.7238,40.70445869,40.74505,40.7267,40.75699,40.71573018,40.68283,40.68606,40.74819,40.7699814,40.78022,40.7644499,40.71690571,40.775197,40.7841781,40.78761,40.79057,40.740868,40.74297,40.79714493,40.79844,40.70596,40.71904,40.7213955,40.72159,40.87531,40.87321,40.57535,40.77174,40.77543,40.77532,40.72914,40.73320627,40.7384851,40.7032122,40.72817548,40.73087,40.72777302,40.704277,40.7571861,40.7496969,40.65538,40.73331,40.71404706,40.7589362,40.75471,40.57794,40.7278729,40.66439,40.852584,40.81289,40.71502562,40.71796,40.667662,40.7042832,40.72646,40.71915,40.745328,40.68002,40.701088,40.70894,40.6717637,40.6769775,40.6998074,40.7138612,40.6982,40.69047,40.73111,40.73209,40.72919,40.7860815,40.7149322,40.65103,40.69661,40.67279,40.73113,40.6803986,40.6668856,40.70769661,40.72925,40.76302,40.72236,40.75814,40.69911,40.72374,40.7237135,40.84780692,40.76566391,40.64457051,40.72299,40.66023,40.69661,40.70331,40.6974427,40.77505,40.734771,40.71822,40.73507,40.7042832,40.8148961,40.81876,40.75796,40.73061,40.6958,40.680524,40.72254,40.70677704,40.71822,40.713945,40.692845,40.69661,40.69334,40.68789,40.5256981,40.68965,40.67385512,40.59467782,40.7422899,40.70224,40.76631,40.70377,40.64055,40.7132665,40.707952,40.69473,40.7440727,40.62508413,40.663039,40.73021,40.7051442,40.88705436,40.622787,40.70453082,40.72929,40.71962375,40.7671973,40.70139127,40.72642453,40.73364,40.66163,40.6997372,40.69428,40.69211,40.70859,40.730121,40.723,40.73925,40.737014,40.72299,40.714338,40.7786199,40.71350162,40.7306597,40.72555137,40.75654884,40.7594817,40.71561,40.715054,40.73226681,40.6977,40.714338,40.61772,40.64097667],\"legendgroup\":\"Plain\",\"lon\":[-73.9379224,-73.8426307,-73.9994551,-73.8294102,-73.9923498,-73.8658818,-73.8585108,-73.9430724,-73.8504668,-73.8836046,-74.1927755,-73.9996701,-73.8450002,-73.9004894,-73.864609,-74.0033705,-73.9160506,-73.9547643,-73.8994387,-73.8593422,-73.9846206,-74.146137,-73.8547152,-73.9906251,-73.9993503,-73.9372106,-73.7829253,-73.8426559,-73.758249,-73.9027071,-73.9998831,-73.7358451,-73.8218842,-73.9711041,-73.958008,-73.8785423,-73.919242,-73.9939644,-74.004358,-73.9748165,-73.9345585,-73.8896161,-73.87575,-73.8610744,-73.89787505,-73.941632,-73.89901,-73.89395,-73.8030173,-74.06334,-73.93079401,-73.8857946,-73.88578,-74.00797374,-73.89639,-73.89603,-73.8497391,-74.1682369,-73.91519,-73.9911494,-73.946594,-73.94882,-73.8877085,-73.73149091,-73.859549,-73.859444,-73.927071,-73.7016973,-74.02738,-73.84928,-73.91270424,-73.9073,-74.07934,-73.88283,-73.917751,-73.76724,-73.79679273,-73.92329,-73.9066829,-73.97392,-73.96879,-73.99539,-73.92016,-73.98717,-73.91588521,-73.9889,-74.0120253,-74.0120253,-73.9936734,-73.95892,-73.9504086,-73.9952799,-73.98637801,-73.990096,-74.0013125,-74.12967,-73.9631,-73.9073,-74.0669935,-73.979695,-74.0028356,-73.9889093,-73.9042865,-73.96493,-73.99097,-73.9643383,-73.7358585,-73.98125,-73.919525,-73.99233,-73.9831168,-73.9902141,-73.90601,-73.93816,-73.73004226,-73.9467,-73.95094532,-73.98171,-73.97703,-74.0776,-73.83702,-73.844141,-73.94123,-73.75302557,-73.754904,-73.81542,-73.96008,-74.0873695,-73.766132,-73.98586,-73.8370727,-73.8127052,-73.97220254,-73.7503447,-73.96888,-73.82553,-74.0071,-73.78983,-73.845768,-73.79706,-73.79679273,-73.8727355,-74.00143,-74.00143,-73.83702,-73.9743737,-73.9147,-73.76505,-73.76194,-74.00531,-73.86793,-74.00036,-73.99656346,-73.9995925,-73.94570415,-73.72167,-73.98125,-73.99052,-73.98696,-73.99052,-73.763588,-73.79679273,-73.71088,-73.73525,-73.76724,-73.7767928,-73.8188509,-73.93691,-73.97608,-74.0005968,-73.7971569,-73.84324,-73.99097,-73.90001,-73.9935,-73.98825,-73.8951812,-73.9881363,-73.96015,-73.9879,-73.9705,-73.94863,-73.95309,-73.9340882,-74.00619,-73.97376,-73.978965,-73.91882,-73.99285,-73.99224,-73.97396489,-73.98349,-74.07674037,-73.84286,-73.753499,-73.8317404,-73.9616057,-73.87879,-73.83810071,-73.8434862,-73.869665,-73.96543,-73.95902,-73.922216,-73.88908,-73.8915024,-73.9131972,-73.9777,-73.95312,-73.95716,-73.95294,-73.98670256,-73.99514,-73.98619,-73.99518,-73.90555705,-73.87086,-73.92373,-74.01138,-74.01649,-73.99002,-73.93812,-73.97392,-74.00295,-73.99471,-73.98395,-73.97614,-73.99722,-73.98026,-73.90613,-74.07938,-73.9685234,-73.99955,-73.9909294,-74.0103149,-74.0045899,-73.91924267,-73.97821,-73.97727,-73.96722,-74.00505157,-73.96439,-73.97412,-73.97363,-73.9517212,-73.94672,-73.95868,-73.99038792,-73.980691,-73.9524049,-73.94429,-73.94277,-73.978965,-74.00368,-73.93479109,-73.94157,-74.00993,-73.98466,-73.9874383,-73.98857,-73.87966,-73.87897,-73.99409,-73.95645,-73.94773,-73.95631,-74.005,-73.98586035,-73.9806696,-73.9080984,-73.98514688,-73.9923699,-73.98541376,-73.907211,-73.9268541,-73.9770222,-73.9565,-73.98763,-73.98719928,-73.8296299,-73.99186,-74.10259,-73.9528617,-73.99674,-73.789134,-73.90205,-74.00775155,-73.95746,-73.9874192,-73.9429234,-73.95244,-73.83986,-73.9033515,-73.97786,-73.941023,-73.83056,-73.9838561,-73.9725052,-73.9284114,-74.00388247,-73.93769,-73.96013,-74.00179,-73.98391,-74.00145,-73.9758174,-73.9441794,-74.00396,-73.93491,-73.95037,-73.98296,-73.9495349,-73.9813704,-73.94348317,-73.98434,-73.98536,-73.94128,-73.99234,-73.93932,-73.9879,-73.9849872,-73.90714388,-73.93079401,-74.09838494,-73.98549,-73.8306099,-73.93491,-74.01069,-73.9675197,-73.98088,-73.992288,-73.99123,-73.98612,-73.9429234,-73.9593332,-73.9378,-73.96295,-73.98123,-73.94656,-73.974394,-73.99239,-73.95036416,-73.99123,-73.989104,-73.94033,-73.93491,-73.96604,-73.9815799,-74.2019284,-73.96544,-73.79105453,-73.98143284,-73.99739,-73.95586,-73.90881,-73.94749,-74.11611,-73.8290606,-73.950806,-73.9559,-73.9240104,-73.96155206,-73.840549,-73.98069,-73.8097067,-73.90423987,-73.7435809,-73.79679273,-73.98965,-73.98755917,-73.9624705,-73.88815017,-73.99558888,-73.95499,-73.99334,-73.9082459,-73.95783,-73.94583,-73.96116,-73.994108,-73.99458,-74.00312,-73.89564,-73.98549,-73.981708,-73.9529045,-73.99854598,-74.0021707,-73.95147023,-73.98080221,-73.9682781,-73.95352,-73.9446961,-74.00341905,-73.9599099,-73.981708,-73.93174,-73.95627033],\"marker\":{\"color\":\"#636efa\"},\"mode\":\"markers\",\"name\":\"Plain\",\"showlegend\":true,\"subplot\":\"mapbox\",\"type\":\"scattermapbox\"},{\"customdata\":[[\"$4.35 \",\"Bronx\"],[\"$4.50 \",\"Brooklyn\"],[\"$4.90 \",\"Manhattan\"],[\"$4.90 \",\"Manhattan\"],[\"$4.50 \",\"Manhattan\"],[\"$6.53 \",\"Manhattan\"],[\"$4.25 \",\"Manhattan\"],[\"$4.36 \",\"Manhattan\"],[\"$4.00 \",\"Manhattan\"],[\"$4.36 \",\"Manhattan\"],[\"$3.81 \",\"Brooklyn\"],[\"$4.00 \",\"Manhattan\"],[\"$4.00 \",\"Brooklyn\"],[\"$3.50 \",\"Brooklyn\"],[\"$3.00 \",\"Brooklyn\"],[\"$3.75 \",\"Brooklyn\"],[\"$4.50 \",\"Queens\"],[\"$4.40 \",\"Manhattan\"],[\"$4.25 \",\"Queens\"],[\"$2.50 \",\"Manhattan\"],[\"$4.00 \",\"Manhattan\"],[\"$3.80 \",null],[\"$3.25 \",\"Queens\"],[\"$4.08 \",\"Manhattan\"],[\"$3.00 \",\"Manhattan\"],[\"$3.75 \",\"Manhattan\"],[\"$4.50 \",\"Manhattan\"],[\"$3.25 \",\"Manhattan\"],[\"$4.00 \",\"Manhattan\"],[\"$3.85 \",\"Manhattan\"],[\"$3.50 \",\"Manhattan\"],[\"$3.00 \",\"Brooklyn\"],[\"$3.75 \",\"Manhattan\"],[\"$3.25 \",\"Manhattan\"],[\"$3.25 \",\"Brooklyn\"],[\"$3.50 \",\"Manhattan\"],[\"$3.50 \",\"Manhattan\"],[\"$2.50 \",\"Manhattan\"],[\"$4.00 \",\"Manhattan\"],[\"$5.00 \",\"Manhattan\"],[\"$3.00 \",\"Manhattan\"],[\"$3.55 \",\"Manhattan\"],[\"$3.50 \",\"Manhattan\"],[\"$3.79 \",\"Manhattan\"],[\"$3.25 \",\"Manhattan\"],[\"$3.75 \",\"Manhattan\"],[\"$4.00 \",\"Manhattan\"],[\"$2.00 \",\"Brooklyn\"],[\"$3.25 \",\"Brooklyn\"],[\"$3.50 \",\"Brooklyn\"],[\"$3.50 \",\"Manhattan\"],[\"$3.00 \",\"Manhattan\"],[\"$3.00 \",\"Brooklyn\"],[\"$3.75 \",\"Manhattan\"],[\"$3.25 \",\"Brooklyn\"]],\"hovertemplate\":\"Style=Pepperoni<br>location_lat=%{lat}<br>location_lng=%{lon}<br>Price=%{customdata[0]}<br>borough=%{customdata[1]}<extra></extra>\",\"lat\":[40.8855857,40.68753,40.7297781,40.7297781,40.75824,40.75332,40.73602,40.71821,40.73308,40.74241,40.6982082,40.73021,40.6943,40.69122,40.69022,40.68969,40.5801496,40.7016926,40.70453082,40.731687,40.71350162,40.66153,40.7185614,40.72369,40.74381,40.71539,40.75674,40.7398164,40.75674,40.78806,40.76960068,40.68683,40.7604,40.73226681,40.72390868,40.77783381,40.72875,40.76329,40.71350162,40.7438563,40.77529,40.78152,40.77783381,40.77505,40.76946076,40.7366779,40.72052,40.701088,40.6769775,40.6867,40.7306597,40.7398164,40.68965,40.72011,40.72555137],\"legendgroup\":\"Pepperoni\",\"lon\":[-73.9103776,-73.954427,-73.9865052,-73.9865052,-73.98063,-73.98698,-73.99404,-73.98815,-74.00277,-73.98452,-73.9770145,-73.98069,-73.99294,-73.99062,-73.99227,-73.97758,-73.8370727,-74.01290658,-73.79679273,-74.001115,-73.99854598,-73.69983,-73.7358451,-73.98489,-74.00295,-73.99153,-73.96431,-73.9989453,-73.96431,-73.97707,-73.98845172,-73.96644,-73.99469,-74.00341905,-73.95038682,-73.98249241,-74.0001,-73.96846,-73.99854598,-73.9792757,-73.94738,-73.94886,-73.98249241,-73.98088,-73.95804273,-74.00126587,-73.99658,-73.941023,-73.9725052,-73.97504,-74.0021707,-73.9989453,-73.96544,-74.00358,-73.95147023],\"marker\":{\"color\":\"#EF553B\"},\"mode\":\"markers\",\"name\":\"Pepperoni\",\"showlegend\":true,\"subplot\":\"mapbox\",\"type\":\"scattermapbox\"},{\"customdata\":[[\"$3.50 \",\"Brooklyn\"]],\"hovertemplate\":\"Style=Stuffed Crust Plain<br>location_lat=%{lat}<br>location_lng=%{lon}<br>Price=%{customdata[0]}<br>borough=%{customdata[1]}<extra></extra>\",\"lat\":[40.60351362],\"legendgroup\":\"Stuffed Crust Plain\",\"lon\":[-73.9865831],\"marker\":{\"color\":\"#00cc96\"},\"mode\":\"markers\",\"name\":\"Stuffed Crust Plain\",\"showlegend\":true,\"subplot\":\"mapbox\",\"type\":\"scattermapbox\"},{\"customdata\":[[\"$5.00 \",\"Bronx\"],[\"$5.50 \",\"Manhattan\"]],\"hovertemplate\":\"Style=Jumbo<br>location_lat=%{lat}<br>location_lng=%{lon}<br>Price=%{customdata[0]}<br>borough=%{customdata[1]}<extra></extra>\",\"lat\":[40.822888,40.80447],\"legendgroup\":\"Jumbo\",\"lon\":[-73.84862,-73.96616],\"marker\":{\"color\":\"#ab63fa\"},\"mode\":\"markers\",\"name\":\"Jumbo\",\"showlegend\":true,\"subplot\":\"mapbox\",\"type\":\"scattermapbox\"},{\"customdata\":[[\"$3.81 \",\"Staten Island\"],[\"$2.50 \",\"Queens\"],[\"$2.50 \",\"Brooklyn\"]],\"hovertemplate\":\"Style=Sicilian<br>location_lat=%{lat}<br>location_lng=%{lon}<br>Price=%{customdata[0]}<br>borough=%{customdata[1]}<extra></extra>\",\"lat\":[40.64015042,40.76032,40.59467782],\"legendgroup\":\"Sicilian\",\"lon\":[-74.0757603,-73.82813,-73.98143284],\"marker\":{\"color\":\"#FFA15A\"},\"mode\":\"markers\",\"name\":\"Sicilian\",\"showlegend\":true,\"subplot\":\"mapbox\",\"type\":\"scattermapbox\"},{\"customdata\":[[\"$4.25 \",\"Brooklyn\"],[\"$3.75 \",\"Brooklyn\"]],\"hovertemplate\":\"Style=White<br>location_lat=%{lat}<br>location_lng=%{lon}<br>Price=%{customdata[0]}<br>borough=%{customdata[1]}<extra></extra>\",\"lat\":[40.71561,40.71561],\"legendgroup\":\"White\",\"lon\":[-73.95352,-73.95352],\"marker\":{\"color\":\"#19d3f3\"},\"mode\":\"markers\",\"name\":\"White\",\"showlegend\":true,\"subplot\":\"mapbox\",\"type\":\"scattermapbox\"},{\"customdata\":[[\"$3.95 \",\"Manhattan\"],[\"$5.25 \",\"Manhattan\"]],\"hovertemplate\":\"Style=Grandma<br>location_lat=%{lat}<br>location_lng=%{lon}<br>Price=%{customdata[0]}<br>borough=%{customdata[1]}<extra></extra>\",\"lat\":[40.72299,40.76079],\"legendgroup\":\"Grandma\",\"lon\":[-73.99458,-73.96941],\"marker\":{\"color\":\"#FF6692\"},\"mode\":\"markers\",\"name\":\"Grandma\",\"showlegend\":true,\"subplot\":\"mapbox\",\"type\":\"scattermapbox\"},{\"customdata\":[[\"$3.75 \",\"Manhattan\"],[\"$4.00 \",\"Brooklyn\"]],\"hovertemplate\":\"Style=Margherita<br>location_lat=%{lat}<br>location_lng=%{lon}<br>Price=%{customdata[0]}<br>borough=%{customdata[1]}<extra></extra>\",\"lat\":[40.741874,40.67759],\"legendgroup\":\"Margherita\",\"lon\":[-73.981183,-73.99804],\"marker\":{\"color\":\"#B6E880\"},\"mode\":\"markers\",\"name\":\"Margherita\",\"showlegend\":true,\"subplot\":\"mapbox\",\"type\":\"scattermapbox\"},{\"customdata\":[[\"$4.00 \",\"Brooklyn\"]],\"hovertemplate\":\"Style=Meatball<br>location_lat=%{lat}<br>location_lng=%{lon}<br>Price=%{customdata[0]}<br>borough=%{customdata[1]}<extra></extra>\",\"lat\":[40.71696],\"legendgroup\":\"Meatball\",\"lon\":[-73.95668],\"marker\":{\"color\":\"#FF97FF\"},\"mode\":\"markers\",\"name\":\"Meatball\",\"showlegend\":true,\"subplot\":\"mapbox\",\"type\":\"scattermapbox\"}],                        {\"template\":{\"data\":{\"histogram2dcontour\":[{\"type\":\"histogram2dcontour\",\"colorbar\":{\"outlinewidth\":0,\"ticks\":\"\"},\"colorscale\":[[0.0,\"#0d0887\"],[0.1111111111111111,\"#46039f\"],[0.2222222222222222,\"#7201a8\"],[0.3333333333333333,\"#9c179e\"],[0.4444444444444444,\"#bd3786\"],[0.5555555555555556,\"#d8576b\"],[0.6666666666666666,\"#ed7953\"],[0.7777777777777778,\"#fb9f3a\"],[0.8888888888888888,\"#fdca26\"],[1.0,\"#f0f921\"]]}],\"choropleth\":[{\"type\":\"choropleth\",\"colorbar\":{\"outlinewidth\":0,\"ticks\":\"\"}}],\"histogram2d\":[{\"type\":\"histogram2d\",\"colorbar\":{\"outlinewidth\":0,\"ticks\":\"\"},\"colorscale\":[[0.0,\"#0d0887\"],[0.1111111111111111,\"#46039f\"],[0.2222222222222222,\"#7201a8\"],[0.3333333333333333,\"#9c179e\"],[0.4444444444444444,\"#bd3786\"],[0.5555555555555556,\"#d8576b\"],[0.6666666666666666,\"#ed7953\"],[0.7777777777777778,\"#fb9f3a\"],[0.8888888888888888,\"#fdca26\"],[1.0,\"#f0f921\"]]}],\"heatmap\":[{\"type\":\"heatmap\",\"colorbar\":{\"outlinewidth\":0,\"ticks\":\"\"},\"colorscale\":[[0.0,\"#0d0887\"],[0.1111111111111111,\"#46039f\"],[0.2222222222222222,\"#7201a8\"],[0.3333333333333333,\"#9c179e\"],[0.4444444444444444,\"#bd3786\"],[0.5555555555555556,\"#d8576b\"],[0.6666666666666666,\"#ed7953\"],[0.7777777777777778,\"#fb9f3a\"],[0.8888888888888888,\"#fdca26\"],[1.0,\"#f0f921\"]]}],\"heatmapgl\":[{\"type\":\"heatmapgl\",\"colorbar\":{\"outlinewidth\":0,\"ticks\":\"\"},\"colorscale\":[[0.0,\"#0d0887\"],[0.1111111111111111,\"#46039f\"],[0.2222222222222222,\"#7201a8\"],[0.3333333333333333,\"#9c179e\"],[0.4444444444444444,\"#bd3786\"],[0.5555555555555556,\"#d8576b\"],[0.6666666666666666,\"#ed7953\"],[0.7777777777777778,\"#fb9f3a\"],[0.8888888888888888,\"#fdca26\"],[1.0,\"#f0f921\"]]}],\"contourcarpet\":[{\"type\":\"contourcarpet\",\"colorbar\":{\"outlinewidth\":0,\"ticks\":\"\"}}],\"contour\":[{\"type\":\"contour\",\"colorbar\":{\"outlinewidth\":0,\"ticks\":\"\"},\"colorscale\":[[0.0,\"#0d0887\"],[0.1111111111111111,\"#46039f\"],[0.2222222222222222,\"#7201a8\"],[0.3333333333333333,\"#9c179e\"],[0.4444444444444444,\"#bd3786\"],[0.5555555555555556,\"#d8576b\"],[0.6666666666666666,\"#ed7953\"],[0.7777777777777778,\"#fb9f3a\"],[0.8888888888888888,\"#fdca26\"],[1.0,\"#f0f921\"]]}],\"surface\":[{\"type\":\"surface\",\"colorbar\":{\"outlinewidth\":0,\"ticks\":\"\"},\"colorscale\":[[0.0,\"#0d0887\"],[0.1111111111111111,\"#46039f\"],[0.2222222222222222,\"#7201a8\"],[0.3333333333333333,\"#9c179e\"],[0.4444444444444444,\"#bd3786\"],[0.5555555555555556,\"#d8576b\"],[0.6666666666666666,\"#ed7953\"],[0.7777777777777778,\"#fb9f3a\"],[0.8888888888888888,\"#fdca26\"],[1.0,\"#f0f921\"]]}],\"mesh3d\":[{\"type\":\"mesh3d\",\"colorbar\":{\"outlinewidth\":0,\"ticks\":\"\"}}],\"scatter\":[{\"fillpattern\":{\"fillmode\":\"overlay\",\"size\":10,\"solidity\":0.2},\"type\":\"scatter\"}],\"parcoords\":[{\"type\":\"parcoords\",\"line\":{\"colorbar\":{\"outlinewidth\":0,\"ticks\":\"\"}}}],\"scatterpolargl\":[{\"type\":\"scatterpolargl\",\"marker\":{\"colorbar\":{\"outlinewidth\":0,\"ticks\":\"\"}}}],\"bar\":[{\"error_x\":{\"color\":\"#2a3f5f\"},\"error_y\":{\"color\":\"#2a3f5f\"},\"marker\":{\"line\":{\"color\":\"#E5ECF6\",\"width\":0.5},\"pattern\":{\"fillmode\":\"overlay\",\"size\":10,\"solidity\":0.2}},\"type\":\"bar\"}],\"scattergeo\":[{\"type\":\"scattergeo\",\"marker\":{\"colorbar\":{\"outlinewidth\":0,\"ticks\":\"\"}}}],\"scatterpolar\":[{\"type\":\"scatterpolar\",\"marker\":{\"colorbar\":{\"outlinewidth\":0,\"ticks\":\"\"}}}],\"histogram\":[{\"marker\":{\"pattern\":{\"fillmode\":\"overlay\",\"size\":10,\"solidity\":0.2}},\"type\":\"histogram\"}],\"scattergl\":[{\"type\":\"scattergl\",\"marker\":{\"colorbar\":{\"outlinewidth\":0,\"ticks\":\"\"}}}],\"scatter3d\":[{\"type\":\"scatter3d\",\"line\":{\"colorbar\":{\"outlinewidth\":0,\"ticks\":\"\"}},\"marker\":{\"colorbar\":{\"outlinewidth\":0,\"ticks\":\"\"}}}],\"scattermapbox\":[{\"type\":\"scattermapbox\",\"marker\":{\"colorbar\":{\"outlinewidth\":0,\"ticks\":\"\"}}}],\"scatterternary\":[{\"type\":\"scatterternary\",\"marker\":{\"colorbar\":{\"outlinewidth\":0,\"ticks\":\"\"}}}],\"scattercarpet\":[{\"type\":\"scattercarpet\",\"marker\":{\"colorbar\":{\"outlinewidth\":0,\"ticks\":\"\"}}}],\"carpet\":[{\"aaxis\":{\"endlinecolor\":\"#2a3f5f\",\"gridcolor\":\"white\",\"linecolor\":\"white\",\"minorgridcolor\":\"white\",\"startlinecolor\":\"#2a3f5f\"},\"baxis\":{\"endlinecolor\":\"#2a3f5f\",\"gridcolor\":\"white\",\"linecolor\":\"white\",\"minorgridcolor\":\"white\",\"startlinecolor\":\"#2a3f5f\"},\"type\":\"carpet\"}],\"table\":[{\"cells\":{\"fill\":{\"color\":\"#EBF0F8\"},\"line\":{\"color\":\"white\"}},\"header\":{\"fill\":{\"color\":\"#C8D4E3\"},\"line\":{\"color\":\"white\"}},\"type\":\"table\"}],\"barpolar\":[{\"marker\":{\"line\":{\"color\":\"#E5ECF6\",\"width\":0.5},\"pattern\":{\"fillmode\":\"overlay\",\"size\":10,\"solidity\":0.2}},\"type\":\"barpolar\"}],\"pie\":[{\"automargin\":true,\"type\":\"pie\"}]},\"layout\":{\"autotypenumbers\":\"strict\",\"colorway\":[\"#636efa\",\"#EF553B\",\"#00cc96\",\"#ab63fa\",\"#FFA15A\",\"#19d3f3\",\"#FF6692\",\"#B6E880\",\"#FF97FF\",\"#FECB52\"],\"font\":{\"color\":\"#2a3f5f\"},\"hovermode\":\"closest\",\"hoverlabel\":{\"align\":\"left\"},\"paper_bgcolor\":\"white\",\"plot_bgcolor\":\"#E5ECF6\",\"polar\":{\"bgcolor\":\"#E5ECF6\",\"angularaxis\":{\"gridcolor\":\"white\",\"linecolor\":\"white\",\"ticks\":\"\"},\"radialaxis\":{\"gridcolor\":\"white\",\"linecolor\":\"white\",\"ticks\":\"\"}},\"ternary\":{\"bgcolor\":\"#E5ECF6\",\"aaxis\":{\"gridcolor\":\"white\",\"linecolor\":\"white\",\"ticks\":\"\"},\"baxis\":{\"gridcolor\":\"white\",\"linecolor\":\"white\",\"ticks\":\"\"},\"caxis\":{\"gridcolor\":\"white\",\"linecolor\":\"white\",\"ticks\":\"\"}},\"coloraxis\":{\"colorbar\":{\"outlinewidth\":0,\"ticks\":\"\"}},\"colorscale\":{\"sequential\":[[0.0,\"#0d0887\"],[0.1111111111111111,\"#46039f\"],[0.2222222222222222,\"#7201a8\"],[0.3333333333333333,\"#9c179e\"],[0.4444444444444444,\"#bd3786\"],[0.5555555555555556,\"#d8576b\"],[0.6666666666666666,\"#ed7953\"],[0.7777777777777778,\"#fb9f3a\"],[0.8888888888888888,\"#fdca26\"],[1.0,\"#f0f921\"]],\"sequentialminus\":[[0.0,\"#0d0887\"],[0.1111111111111111,\"#46039f\"],[0.2222222222222222,\"#7201a8\"],[0.3333333333333333,\"#9c179e\"],[0.4444444444444444,\"#bd3786\"],[0.5555555555555556,\"#d8576b\"],[0.6666666666666666,\"#ed7953\"],[0.7777777777777778,\"#fb9f3a\"],[0.8888888888888888,\"#fdca26\"],[1.0,\"#f0f921\"]],\"diverging\":[[0,\"#8e0152\"],[0.1,\"#c51b7d\"],[0.2,\"#de77ae\"],[0.3,\"#f1b6da\"],[0.4,\"#fde0ef\"],[0.5,\"#f7f7f7\"],[0.6,\"#e6f5d0\"],[0.7,\"#b8e186\"],[0.8,\"#7fbc41\"],[0.9,\"#4d9221\"],[1,\"#276419\"]]},\"xaxis\":{\"gridcolor\":\"white\",\"linecolor\":\"white\",\"ticks\":\"\",\"title\":{\"standoff\":15},\"zerolinecolor\":\"white\",\"automargin\":true,\"zerolinewidth\":2},\"yaxis\":{\"gridcolor\":\"white\",\"linecolor\":\"white\",\"ticks\":\"\",\"title\":{\"standoff\":15},\"zerolinecolor\":\"white\",\"automargin\":true,\"zerolinewidth\":2},\"scene\":{\"xaxis\":{\"backgroundcolor\":\"#E5ECF6\",\"gridcolor\":\"white\",\"linecolor\":\"white\",\"showbackground\":true,\"ticks\":\"\",\"zerolinecolor\":\"white\",\"gridwidth\":2},\"yaxis\":{\"backgroundcolor\":\"#E5ECF6\",\"gridcolor\":\"white\",\"linecolor\":\"white\",\"showbackground\":true,\"ticks\":\"\",\"zerolinecolor\":\"white\",\"gridwidth\":2},\"zaxis\":{\"backgroundcolor\":\"#E5ECF6\",\"gridcolor\":\"white\",\"linecolor\":\"white\",\"showbackground\":true,\"ticks\":\"\",\"zerolinecolor\":\"white\",\"gridwidth\":2}},\"shapedefaults\":{\"line\":{\"color\":\"#2a3f5f\"}},\"annotationdefaults\":{\"arrowcolor\":\"#2a3f5f\",\"arrowhead\":0,\"arrowwidth\":1},\"geo\":{\"bgcolor\":\"white\",\"landcolor\":\"#E5ECF6\",\"subunitcolor\":\"white\",\"showland\":true,\"showlakes\":true,\"lakecolor\":\"white\"},\"title\":{\"x\":0.05},\"mapbox\":{\"style\":\"light\"}}},\"mapbox\":{\"domain\":{\"x\":[0.0,1.0],\"y\":[0.0,1.0]},\"center\":{\"lat\":40.718921397553665,\"lon\":-73.94304032240342},\"zoom\":9,\"style\":\"open-street-map\"},\"legend\":{\"title\":{\"text\":\"Style\"},\"tracegroupgap\":0},\"margin\":{\"t\":60},\"height\":600,\"width\":600},                        {\"responsive\": true}                    ).then(function(){\n",
       "                            \n",
       "var gd = document.getElementById('8e5c545d-885f-47d7-a8d9-c57116c76edf');\n",
       "var x = new MutationObserver(function (mutations, observer) {{\n",
       "        var display = window.getComputedStyle(gd).display;\n",
       "        if (!display || display === 'none') {{\n",
       "            console.log([gd, 'removed!']);\n",
       "            Plotly.purge(gd);\n",
       "            observer.disconnect();\n",
       "        }}\n",
       "}});\n",
       "\n",
       "// Listen for the removal of the full notebook cells\n",
       "var notebookContainer = gd.closest('#notebook-container');\n",
       "if (notebookContainer) {{\n",
       "    x.observe(notebookContainer, {childList: true});\n",
       "}}\n",
       "\n",
       "// Listen for the clearing of the current output cell\n",
       "var outputEl = gd.closest('.output');\n",
       "if (outputEl) {{\n",
       "    x.observe(outputEl, {childList: true});\n",
       "}}\n",
       "\n",
       "                        })                };                });            </script>        </div>"
      ]
     },
     "metadata": {},
     "output_type": "display_data"
    }
   ],
   "source": [
    "import plotly.express as px\n",
    "color_scale = [(0, 'orange'), (1,'red')]\n",
    "fig = px.scatter_mapbox(df,\n",
    "                        lat=\"location_lat\",\n",
    "                        lon=\"location_lng\",\n",
    "                        hover_data=[\"Price\", \"borough\" ],\n",
    "                        color=\"Style\",\n",
    "                        color_continuous_scale=color_scale,\n",
    "                        zoom=9,\n",
    "                        height=600,\n",
    "                        width=600)\n",
    "fig.update_layout(mapbox_style=\"open-street-map\")\n",
    "fig.show()"
   ]
  },
  {
   "cell_type": "code",
   "execution_count": 52,
   "id": "3cb6f942-c0aa-45d3-af6c-39b6cc3b2992",
   "metadata": {},
   "outputs": [
    {
     "data": {
      "text/plain": [
       "<AxesSubplot:xlabel='borough', ylabel='Price'>"
      ]
     },
     "execution_count": 52,
     "metadata": {},
     "output_type": "execute_result"
    },
    {
     "data": {
      "image/png": "[encoded data removed]",
      "text/plain": [
       "<Figure size 640x480 with 1 Axes>"
      ]
     },
     "metadata": {},
     "output_type": "display_data"
    }
   ],
   "source": [
    "pivot_df = pd.pivot_table(df, index='borough', values='Price as number', aggfunc=('mean', 'max'))\n",
    "pivot_df.plot(kind=\"bar\", ylabel= \"Price\")"
   ]
  },
  {
   "cell_type": "code",
   "execution_count": null,
   "id": "5d8aff27-44ba-4d0b-a4a6-2591252cc6f8",
   "metadata": {},
   "outputs": [],
   "source": []
  }
 ],
 "metadata": {
  "kernelspec": {
   "display_name": "Python 3 (ipykernel)",
   "language": "python",
   "name": "python3"
  },
  "language_info": {
   "codemirror_mode": {
    "name": "ipython",
    "version": 3
   },
   "file_extension": ".py",
   "mimetype": "text/x-python",
   "name": "python",
   "nbconvert_exporter": "python",
   "pygments_lexer": "ipython3",
   "version": "3.9.13"
  }
 },
 "nbformat": 4,
 "nbformat_minor": 5
}
