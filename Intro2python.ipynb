{
 "cells": [
  {
   "cell_type": "markdown",
   "id": "4880b119-8d33-4436-bd4a-ee443e18ce53",
   "metadata": {},
   "source": [
    "# Welcome to Python!"
   ]
  },
  {
   "cell_type": "code",
   "execution_count": 1,
   "id": "82d97e49-2a1f-43e8-b4b7-d1b5f81a2a0a",
   "metadata": {},
   "outputs": [],
   "source": [
    "# this is just a comment"
   ]
  },
  {
   "cell_type": "code",
   "execution_count": 2,
   "id": "13b85230-4b25-4f08-bc6f-d29d0efd2546",
   "metadata": {},
   "outputs": [],
   "source": [
    "string1 = 'tomorrow'    # execute nothing in this area"
   ]
  },
  {
   "cell_type": "code",
   "execution_count": 3,
   "id": "bdbedd8b-739e-49d5-82b7-f8db1f702e7f",
   "metadata": {},
   "outputs": [
    {
     "name": "stdout",
     "output_type": "stream",
     "text": [
      "tomorrow tomorrow and tomorrow\n"
     ]
    }
   ],
   "source": [
    "print (string1, string1, 'and', string1)"
   ]
  },
  {
   "cell_type": "code",
   "execution_count": 6,
   "id": "92b6bda9-8b2f-4518-aa8f-26eacc8cd4ff",
   "metadata": {},
   "outputs": [],
   "source": [
    "string2 = \"\"\"creeps in this petty pace\n",
    "    from day to day\n",
    "    to the last syllable of recorded time,\n",
    "    and all our yesterdays have lighted fools\n",
    "    the way to dusty death\"\"\""
   ]
  },
  {
   "cell_type": "code",
   "execution_count": 7,
   "id": "965a7366-8b95-4c6f-a1ed-3e58b12abd47",
   "metadata": {},
   "outputs": [
    {
     "name": "stdout",
     "output_type": "stream",
     "text": [
      "creeps in this petty pace\n",
      "    from day to day\n",
      "    to the last syllable of recorded time,\n",
      "    and all our yesterdays have lighted fools\n",
      "    the way to dusty death\n"
     ]
    }
   ],
   "source": [
    "print (string2)"
   ]
  },
  {
   "cell_type": "code",
   "execution_count": 8,
   "id": "9129aa52-b029-4afd-889e-92477b0607bc",
   "metadata": {},
   "outputs": [],
   "source": [
    "x=10\n",
    "y=9\n",
    "z=8"
   ]
  },
  {
   "cell_type": "code",
   "execution_count": 15,
   "id": "168c266d-df28-499a-a9d2-bb9089005757",
   "metadata": {},
   "outputs": [
    {
     "name": "stdout",
     "output_type": "stream",
     "text": [
      "19\n"
     ]
    }
   ],
   "source": [
    "print (x+y)"
   ]
  },
  {
   "cell_type": "code",
   "execution_count": 16,
   "id": "bc53e38d-6a06-487e-bfbd-1a9a67b2c13a",
   "metadata": {},
   "outputs": [
    {
     "name": "stdout",
     "output_type": "stream",
     "text": [
      "1\n"
     ]
    }
   ],
   "source": [
    "print (x-y)"
   ]
  },
  {
   "cell_type": "code",
   "execution_count": 17,
   "id": "d66b1644-682a-4127-81ae-56e50a81c540",
   "metadata": {},
   "outputs": [
    {
     "name": "stdout",
     "output_type": "stream",
     "text": [
      "90\n"
     ]
    }
   ],
   "source": [
    "print (x*y)"
   ]
  },
  {
   "cell_type": "code",
   "execution_count": 18,
   "id": "4664f90f-83f4-46ba-8f96-daa5526e99b5",
   "metadata": {},
   "outputs": [
    {
     "name": "stdout",
     "output_type": "stream",
     "text": [
      "1.1111111111111112\n"
     ]
    }
   ],
   "source": [
    "print (x/y)"
   ]
  },
  {
   "cell_type": "code",
   "execution_count": 19,
   "id": "9f9a6825-6755-4ff9-bb08-c43efcf4239c",
   "metadata": {},
   "outputs": [
    {
     "name": "stdout",
     "output_type": "stream",
     "text": [
      "2\n"
     ]
    }
   ],
   "source": [
    "print (11//4)"
   ]
  },
  {
   "cell_type": "code",
   "execution_count": 20,
   "id": "a1eb6918-8e9b-4e9f-9592-6071ede17c4b",
   "metadata": {},
   "outputs": [
    {
     "name": "stdout",
     "output_type": "stream",
     "text": [
      "3\n"
     ]
    }
   ],
   "source": [
    "print (11%4)"
   ]
  },
  {
   "cell_type": "code",
   "execution_count": 21,
   "id": "ce38df10-736a-478b-a6b2-560ba3e33ffe",
   "metadata": {},
   "outputs": [
    {
     "name": "stdout",
     "output_type": "stream",
     "text": [
      "100\n"
     ]
    }
   ],
   "source": [
    "print (x**2)"
   ]
  },
  {
   "cell_type": "code",
   "execution_count": 22,
   "id": "bb5d5ca6-643e-4996-aeff-97b5671809d6",
   "metadata": {},
   "outputs": [
    {
     "name": "stdout",
     "output_type": "stream",
     "text": [
      "2.375\n"
     ]
    }
   ],
   "source": [
    "\n",
    "print ((x+y)/z)"
   ]
  },
  {
   "cell_type": "code",
   "execution_count": 23,
   "id": "e469c0dd-38ef-413c-b587-c44d5f63e40a",
   "metadata": {},
   "outputs": [],
   "source": [
    "x = 3.5"
   ]
  },
  {
   "cell_type": "code",
   "execution_count": 25,
   "id": "02f8bab9-408c-4e47-a411-56a482c81f71",
   "metadata": {},
   "outputs": [
    {
     "data": {
      "text/plain": [
       "float"
      ]
     },
     "execution_count": 25,
     "metadata": {},
     "output_type": "execute_result"
    }
   ],
   "source": [
    "type (x)"
   ]
  },
  {
   "cell_type": "code",
   "execution_count": 26,
   "id": "187d685d-a3db-4c67-86fe-4715618ffbc0",
   "metadata": {},
   "outputs": [],
   "source": [
    " a = 4"
   ]
  },
  {
   "cell_type": "code",
   "execution_count": 28,
   "id": "f55664c5-fd82-4976-8524-a9cda020b31d",
   "metadata": {},
   "outputs": [
    {
     "data": {
      "text/plain": [
       "int"
      ]
     },
     "execution_count": 28,
     "metadata": {},
     "output_type": "execute_result"
    }
   ],
   "source": [
    "type (a)"
   ]
  },
  {
   "cell_type": "code",
   "execution_count": 29,
   "id": "69c125ae-662a-4db4-89a5-1765cc3e14f8",
   "metadata": {},
   "outputs": [],
   "source": [
    "b = 2 + 5j"
   ]
  },
  {
   "cell_type": "code",
   "execution_count": 39,
   "id": "47309410-85b8-4e0e-b68c-2ffe8a8dd3b5",
   "metadata": {},
   "outputs": [
    {
     "data": {
      "text/plain": [
       "complex"
      ]
     },
     "execution_count": 39,
     "metadata": {},
     "output_type": "execute_result"
    }
   ],
   "source": [
    "type (b)"
   ]
  },
  {
   "cell_type": "code",
   "execution_count": 40,
   "id": "d311e1d3-7202-47ff-82f1-04cb5fca5c0c",
   "metadata": {},
   "outputs": [
    {
     "name": "stdout",
     "output_type": "stream",
     "text": [
      "False\n"
     ]
    }
   ],
   "source": [
    "print (4 > 5) "
   ]
  },
  {
   "cell_type": "code",
   "execution_count": 41,
   "id": "d8e16bbd-5e8b-430a-a557-a8f4ef9b9822",
   "metadata": {},
   "outputs": [
    {
     "name": "stdout",
     "output_type": "stream",
     "text": [
      "True\n"
     ]
    }
   ],
   "source": [
    "print (5 > 4)"
   ]
  },
  {
   "cell_type": "code",
   "execution_count": 42,
   "id": "781d9ddd-9ef5-4639-86a6-1ec71f788fbe",
   "metadata": {},
   "outputs": [
    {
     "name": "stdout",
     "output_type": "stream",
     "text": [
      "False\n"
     ]
    }
   ],
   "source": [
    "print (a==b)"
   ]
  },
  {
   "cell_type": "code",
   "execution_count": 43,
   "id": "f42f57ee-1489-4f76-a032-acec0b134755",
   "metadata": {},
   "outputs": [
    {
     "name": "stdout",
     "output_type": "stream",
     "text": [
      "False\n"
     ]
    }
   ],
   "source": [
    "d = bool(a==b)\n",
    "print (d)"
   ]
  },
  {
   "cell_type": "code",
   "execution_count": 44,
   "id": "29f7586b-be61-419c-82cb-61e649265412",
   "metadata": {},
   "outputs": [],
   "source": [
    "import math as m\n"
   ]
  },
  {
   "cell_type": "code",
   "execution_count": 45,
   "id": "9a2dd1fd-bebe-487b-a1ed-e66697630425",
   "metadata": {},
   "outputs": [
    {
     "name": "stdout",
     "output_type": "stream",
     "text": [
      "3.0\n"
     ]
    }
   ],
   "source": [
    "print (m.log10(1000))"
   ]
  },
  {
   "cell_type": "code",
   "execution_count": 46,
   "id": "7e653e0e-ffdd-4503-8f74-6298f13fd02c",
   "metadata": {},
   "outputs": [],
   "source": [
    "x, y, z = \"Orange\", \"Banana\", \"Cherry\"\n"
   ]
  },
  {
   "cell_type": "code",
   "execution_count": 47,
   "id": "5cebbe53-009e-48b6-8b59-c50fbadc2e7a",
   "metadata": {},
   "outputs": [
    {
     "name": "stdout",
     "output_type": "stream",
     "text": [
      "Orange\n"
     ]
    }
   ],
   "source": [
    "print (x)"
   ]
  },
  {
   "cell_type": "code",
   "execution_count": 48,
   "id": "934b4084-1948-45c7-82a4-110dfbba62c2",
   "metadata": {},
   "outputs": [
    {
     "name": "stdout",
     "output_type": "stream",
     "text": [
      "Banana\n"
     ]
    }
   ],
   "source": [
    "print (y)"
   ]
  },
  {
   "cell_type": "code",
   "execution_count": 49,
   "id": "5717efc8-d6c2-4f99-b76e-14c0d3a50365",
   "metadata": {},
   "outputs": [
    {
     "name": "stdout",
     "output_type": "stream",
     "text": [
      "Cherry\n"
     ]
    }
   ],
   "source": [
    "print (z)"
   ]
  },
  {
   "cell_type": "code",
   "execution_count": 50,
   "id": "50a42357-5cfd-471a-88fa-492e44058355",
   "metadata": {},
   "outputs": [
    {
     "name": "stdout",
     "output_type": "stream",
     "text": [
      "e\n"
     ]
    }
   ],
   "source": [
    "print (x[5])"
   ]
  },
  {
   "cell_type": "code",
   "execution_count": 51,
   "id": "75532b8a-350d-48d1-953d-a3cb5335077c",
   "metadata": {},
   "outputs": [],
   "source": [
    "X = x.upper()"
   ]
  },
  {
   "cell_type": "code",
   "execution_count": 52,
   "id": "199c72bd-78d1-40ae-9d93-24afbdfdbc32",
   "metadata": {},
   "outputs": [
    {
     "name": "stdout",
     "output_type": "stream",
     "text": [
      "ORANGE\n"
     ]
    }
   ],
   "source": [
    "print (X)"
   ]
  },
  {
   "cell_type": "code",
   "execution_count": 55,
   "id": "879dda5e-e850-4760-a93d-3bba61aa28c7",
   "metadata": {},
   "outputs": [
    {
     "name": "stdout",
     "output_type": "stream",
     "text": [
      "Orange\n",
      "Banana\n"
     ]
    }
   ],
   "source": [
    "print (x)\n",
    "print (y)\n"
   ]
  },
  {
   "cell_type": "code",
   "execution_count": 56,
   "id": "0f9f80b5-89c1-42f6-af12-cb8f1d44a72f",
   "metadata": {},
   "outputs": [],
   "source": [
    "orban = x + \" \" + y "
   ]
  },
  {
   "cell_type": "code",
   "execution_count": 58,
   "id": "970ec66b-6bb1-4533-aca9-113a7b8b0193",
   "metadata": {},
   "outputs": [
    {
     "name": "stdout",
     "output_type": "stream",
     "text": [
      "Orange Banana\n"
     ]
    }
   ],
   "source": [
    "print (orban)"
   ]
  },
  {
   "cell_type": "code",
   "execution_count": 59,
   "id": "170ba372-f328-4e55-8ef7-400b00d2a275",
   "metadata": {},
   "outputs": [
    {
     "name": "stdout",
     "output_type": "stream",
     "text": [
      "5\n"
     ]
    }
   ],
   "source": [
    "x = 3\n",
    "x += 2\n",
    "print (x)"
   ]
  },
  {
   "cell_type": "code",
   "execution_count": 60,
   "id": "49af8fd5-1abb-4fe6-b58a-fa0309fbdf4d",
   "metadata": {},
   "outputs": [],
   "source": [
    "x *= 2"
   ]
  },
  {
   "cell_type": "code",
   "execution_count": 61,
   "id": "2b2b4539-43e4-483f-be6a-c47151358556",
   "metadata": {},
   "outputs": [
    {
     "name": "stdout",
     "output_type": "stream",
     "text": [
      "10\n"
     ]
    }
   ],
   "source": [
    "print (x)"
   ]
  },
  {
   "cell_type": "code",
   "execution_count": 62,
   "id": "bc3e9133-c318-4dad-8789-c7039d45c3a0",
   "metadata": {},
   "outputs": [
    {
     "name": "stdout",
     "output_type": "stream",
     "text": [
      "True\n"
     ]
    }
   ],
   "source": [
    "print (x!=y)\n"
   ]
  },
  {
   "cell_type": "code",
   "execution_count": 63,
   "id": "d4947394-fbe6-4c98-9431-b2201f399b6e",
   "metadata": {},
   "outputs": [
    {
     "name": "stdout",
     "output_type": "stream",
     "text": [
      "0.5\n"
     ]
    }
   ],
   "source": [
    "print (1/2)"
   ]
  },
  {
   "cell_type": "code",
   "execution_count": 65,
   "id": "9c43899e-c57f-4227-a8d5-6c5a0d612474",
   "metadata": {},
   "outputs": [
    {
     "name": "stdout",
     "output_type": "stream",
     "text": [
      "3.141592653589793\n"
     ]
    }
   ],
   "source": [
    "\n",
    "print (m.pi)"
   ]
  },
  {
   "cell_type": "code",
   "execution_count": 66,
   "id": "ba97ffdb-a226-4ace-beab-fdb871b63ac7",
   "metadata": {},
   "outputs": [],
   "source": [
    "x = m.pi*3\n"
   ]
  },
  {
   "cell_type": "code",
   "execution_count": 67,
   "id": "00c4ba1a-bbcf-4d9f-a375-2a44174f38d9",
   "metadata": {},
   "outputs": [
    {
     "name": "stdout",
     "output_type": "stream",
     "text": [
      "9.42477796076938\n"
     ]
    }
   ],
   "source": [
    "print (x)"
   ]
  },
  {
   "cell_type": "code",
   "execution_count": 68,
   "id": "79116881-ca14-4f0f-a8a9-89f269f10192",
   "metadata": {},
   "outputs": [
    {
     "name": "stdout",
     "output_type": "stream",
     "text": [
      "3.0 PI\n"
     ]
    }
   ],
   "source": [
    "print (x//m.pi, \"PI\")"
   ]
  },
  {
   "cell_type": "code",
   "execution_count": null,
   "id": "592d8bae-2ea2-46ff-abcf-4df4ff57d7c7",
   "metadata": {},
   "outputs": [],
   "source": []
  }
 ],
 "metadata": {
  "kernelspec": {
   "display_name": "Python 3 (ipykernel)",
   "language": "python",
   "name": "python3"
  },
  "language_info": {
   "codemirror_mode": {
    "name": "ipython",
    "version": 3
   },
   "file_extension": ".py",
   "mimetype": "text/x-python",
   "name": "python",
   "nbconvert_exporter": "python",
   "pygments_lexer": "ipython3",
   "version": "3.9.13"
  }
 },
 "nbformat": 4,
 "nbformat_minor": 5
}
