{
 "cells": [
  {
   "cell_type": "markdown",
   "id": "3a7c68ee-6adb-4959-ab0e-309772cee2bb",
   "metadata": {},
   "source": [
    "# Machine Learning"
   ]
  },
  {
   "cell_type": "markdown",
   "id": "19c01c0a-a23b-49b9-bd43-cf048ccc3c03",
   "metadata": {},
   "source": [
    "Machine learning is a branch of artificial intelligence (AI) and computer science which focuses on the use of data and algorithms to imitate the way that humans learn, gradually improving its accuracy."
   ]
  },
  {
   "cell_type": "markdown",
   "id": "a9dc6a20-3eba-48eb-8281-e3031229a656",
   "metadata": {},
   "source": [
    "1. **I**mport the data\n",
    "2. **C**lean the data\n",
    "3. **S**plit the data\n",
    "4. **T**rain the model\n",
    "5. **M**ake Predictions\n",
    "6. **E**valuate the model"
   ]
  },
  {
   "cell_type": "markdown",
   "id": "d4f8f0bf-7ca9-4b83-a30a-3f24a76e1c57",
   "metadata": {},
   "source": [
    "The algorithm you choose will depend on the problem you need to solve. But one of the most popular is decision tree from **SciKitLearn**"
   ]
  },
  {
   "cell_type": "code",
   "execution_count": 1,
   "id": "4423cd42-7d06-4492-93f7-b58f38ea20a1",
   "metadata": {},
   "outputs": [],
   "source": [
    "import pandas as pd"
   ]
  },
  {
   "cell_type": "code",
   "execution_count": 2,
   "id": "ce949163-40f2-41ef-820e-b22b9e1de3e3",
   "metadata": {},
   "outputs": [],
   "source": [
    "pd.set_option('display.max_rows', None)"
   ]
  },
  {
   "cell_type": "markdown",
   "id": "9c230f47-5e41-4156-be5f-932d2579173e",
   "metadata": {},
   "source": [
    "# Onward to Machine Learning"
   ]
  },
  {
   "cell_type": "markdown",
   "id": "5d1cfd84-ce52-43ba-8652-a9611364a096",
   "metadata": {},
   "source": [
    "Learn patterns of existing users to make recommendations"
   ]
  },
  {
   "cell_type": "code",
   "execution_count": 3,
   "id": "b502c528-2045-4d95-915c-30c900217659",
   "metadata": {},
   "outputs": [],
   "source": [
    "music = pd.read_csv('data/music.csv') #Totally fake and oversimplified"
   ]
  },
  {
   "cell_type": "markdown",
   "id": "0103ae5c-052e-447f-8d7b-b26dc009b1c3",
   "metadata": {},
   "source": [
    "[Click here for a 'Programming with Mosh' video on this dataset and analysis](https://www.youtube.com/watch?v=7eh4d6sabA0&t=1214s)"
   ]
  },
  {
   "cell_type": "markdown",
   "id": "d680cf8f-508c-4534-83bf-c7478c34e137",
   "metadata": {},
   "source": [
    "# Import the data"
   ]
  },
  {
   "cell_type": "code",
   "execution_count": 4,
   "id": "65759e1d-41cf-41e7-bbf9-5aeabff2ea50",
   "metadata": {},
   "outputs": [
    {
     "data": {
      "text/html": [
       "<div>\n",
       "<style scoped>\n",
       "    .dataframe tbody tr th:only-of-type {\n",
       "        vertical-align: middle;\n",
       "    }\n",
       "\n",
       "    .dataframe tbody tr th {\n",
       "        vertical-align: top;\n",
       "    }\n",
       "\n",
       "    .dataframe thead th {\n",
       "        text-align: right;\n",
       "    }\n",
       "</style>\n",
       "<table border=\"1\" class=\"dataframe\">\n",
       "  <thead>\n",
       "    <tr style=\"text-align: right;\">\n",
       "      <th></th>\n",
       "      <th>age</th>\n",
       "      <th>gender</th>\n",
       "      <th>genre</th>\n",
       "    </tr>\n",
       "  </thead>\n",
       "  <tbody>\n",
       "    <tr>\n",
       "      <th>0</th>\n",
       "      <td>20</td>\n",
       "      <td>1</td>\n",
       "      <td>HipHop</td>\n",
       "    </tr>\n",
       "    <tr>\n",
       "      <th>1</th>\n",
       "      <td>23</td>\n",
       "      <td>1</td>\n",
       "      <td>HipHop</td>\n",
       "    </tr>\n",
       "    <tr>\n",
       "      <th>2</th>\n",
       "      <td>25</td>\n",
       "      <td>1</td>\n",
       "      <td>HipHop</td>\n",
       "    </tr>\n",
       "    <tr>\n",
       "      <th>3</th>\n",
       "      <td>26</td>\n",
       "      <td>1</td>\n",
       "      <td>Jazz</td>\n",
       "    </tr>\n",
       "    <tr>\n",
       "      <th>4</th>\n",
       "      <td>29</td>\n",
       "      <td>1</td>\n",
       "      <td>Jazz</td>\n",
       "    </tr>\n",
       "    <tr>\n",
       "      <th>5</th>\n",
       "      <td>30</td>\n",
       "      <td>1</td>\n",
       "      <td>Jazz</td>\n",
       "    </tr>\n",
       "    <tr>\n",
       "      <th>6</th>\n",
       "      <td>31</td>\n",
       "      <td>1</td>\n",
       "      <td>Classical</td>\n",
       "    </tr>\n",
       "    <tr>\n",
       "      <th>7</th>\n",
       "      <td>33</td>\n",
       "      <td>1</td>\n",
       "      <td>Classical</td>\n",
       "    </tr>\n",
       "    <tr>\n",
       "      <th>8</th>\n",
       "      <td>37</td>\n",
       "      <td>1</td>\n",
       "      <td>Classical</td>\n",
       "    </tr>\n",
       "    <tr>\n",
       "      <th>9</th>\n",
       "      <td>20</td>\n",
       "      <td>0</td>\n",
       "      <td>Dance</td>\n",
       "    </tr>\n",
       "    <tr>\n",
       "      <th>10</th>\n",
       "      <td>21</td>\n",
       "      <td>0</td>\n",
       "      <td>Dance</td>\n",
       "    </tr>\n",
       "    <tr>\n",
       "      <th>11</th>\n",
       "      <td>25</td>\n",
       "      <td>0</td>\n",
       "      <td>Dance</td>\n",
       "    </tr>\n",
       "    <tr>\n",
       "      <th>12</th>\n",
       "      <td>26</td>\n",
       "      <td>0</td>\n",
       "      <td>Acoustic</td>\n",
       "    </tr>\n",
       "    <tr>\n",
       "      <th>13</th>\n",
       "      <td>27</td>\n",
       "      <td>0</td>\n",
       "      <td>Acoustic</td>\n",
       "    </tr>\n",
       "    <tr>\n",
       "      <th>14</th>\n",
       "      <td>30</td>\n",
       "      <td>0</td>\n",
       "      <td>Acoustic</td>\n",
       "    </tr>\n",
       "    <tr>\n",
       "      <th>15</th>\n",
       "      <td>31</td>\n",
       "      <td>0</td>\n",
       "      <td>Classical</td>\n",
       "    </tr>\n",
       "    <tr>\n",
       "      <th>16</th>\n",
       "      <td>34</td>\n",
       "      <td>0</td>\n",
       "      <td>Classical</td>\n",
       "    </tr>\n",
       "    <tr>\n",
       "      <th>17</th>\n",
       "      <td>35</td>\n",
       "      <td>0</td>\n",
       "      <td>Classical</td>\n",
       "    </tr>\n",
       "  </tbody>\n",
       "</table>\n",
       "</div>"
      ],
      "text/plain": [
       "    age  gender      genre\n",
       "0    20       1     HipHop\n",
       "1    23       1     HipHop\n",
       "2    25       1     HipHop\n",
       "3    26       1       Jazz\n",
       "4    29       1       Jazz\n",
       "5    30       1       Jazz\n",
       "6    31       1  Classical\n",
       "7    33       1  Classical\n",
       "8    37       1  Classical\n",
       "9    20       0      Dance\n",
       "10   21       0      Dance\n",
       "11   25       0      Dance\n",
       "12   26       0   Acoustic\n",
       "13   27       0   Acoustic\n",
       "14   30       0   Acoustic\n",
       "15   31       0  Classical\n",
       "16   34       0  Classical\n",
       "17   35       0  Classical"
      ]
     },
     "execution_count": 4,
     "metadata": {},
     "output_type": "execute_result"
    }
   ],
   "source": [
    "music"
   ]
  },
  {
   "cell_type": "markdown",
   "id": "e3ee1c10-19fd-4f44-997a-4c9496ec97dd",
   "metadata": {},
   "source": [
    "# Prepare the data"
   ]
  },
  {
   "cell_type": "markdown",
   "id": "50e2ee2e-8924-498b-85be-b8bf7fcac1b7",
   "metadata": {},
   "source": [
    "No dupes or nulls, all good."
   ]
  },
  {
   "cell_type": "markdown",
   "id": "ec4b9902-391a-43df-9ebf-b63e79972d3d",
   "metadata": {},
   "source": [
    "# Split the data\n",
    "\n",
    "Input Set  - The information used to make prediction (age)  \n",
    "Output Set - Prediction (genre)"
   ]
  },
  {
   "cell_type": "markdown",
   "id": "8540eff7-9de1-4e9e-bf48-238327515d45",
   "metadata": {},
   "source": [
    "# Creating the input data set"
   ]
  },
  {
   "cell_type": "code",
   "execution_count": 15,
   "id": "ee3d08d5-9619-41e2-ae51-72bc1f4b815e",
   "metadata": {},
   "outputs": [],
   "source": [
    "X = music.drop(columns = ['genre']) #X used by convention"
   ]
  },
  {
   "cell_type": "code",
   "execution_count": 16,
   "id": "58633563-2cd4-4827-bbb5-1755dfd5330d",
   "metadata": {},
   "outputs": [
    {
     "data": {
      "text/html": [
       "<div>\n",
       "<style scoped>\n",
       "    .dataframe tbody tr th:only-of-type {\n",
       "        vertical-align: middle;\n",
       "    }\n",
       "\n",
       "    .dataframe tbody tr th {\n",
       "        vertical-align: top;\n",
       "    }\n",
       "\n",
       "    .dataframe thead th {\n",
       "        text-align: right;\n",
       "    }\n",
       "</style>\n",
       "<table border=\"1\" class=\"dataframe\">\n",
       "  <thead>\n",
       "    <tr style=\"text-align: right;\">\n",
       "      <th></th>\n",
       "      <th>age</th>\n",
       "      <th>gender</th>\n",
       "    </tr>\n",
       "  </thead>\n",
       "  <tbody>\n",
       "    <tr>\n",
       "      <th>0</th>\n",
       "      <td>20</td>\n",
       "      <td>1</td>\n",
       "    </tr>\n",
       "    <tr>\n",
       "      <th>1</th>\n",
       "      <td>23</td>\n",
       "      <td>1</td>\n",
       "    </tr>\n",
       "    <tr>\n",
       "      <th>2</th>\n",
       "      <td>25</td>\n",
       "      <td>1</td>\n",
       "    </tr>\n",
       "    <tr>\n",
       "      <th>3</th>\n",
       "      <td>26</td>\n",
       "      <td>1</td>\n",
       "    </tr>\n",
       "    <tr>\n",
       "      <th>4</th>\n",
       "      <td>29</td>\n",
       "      <td>1</td>\n",
       "    </tr>\n",
       "    <tr>\n",
       "      <th>5</th>\n",
       "      <td>30</td>\n",
       "      <td>1</td>\n",
       "    </tr>\n",
       "    <tr>\n",
       "      <th>6</th>\n",
       "      <td>31</td>\n",
       "      <td>1</td>\n",
       "    </tr>\n",
       "    <tr>\n",
       "      <th>7</th>\n",
       "      <td>33</td>\n",
       "      <td>1</td>\n",
       "    </tr>\n",
       "    <tr>\n",
       "      <th>8</th>\n",
       "      <td>37</td>\n",
       "      <td>1</td>\n",
       "    </tr>\n",
       "    <tr>\n",
       "      <th>9</th>\n",
       "      <td>20</td>\n",
       "      <td>0</td>\n",
       "    </tr>\n",
       "    <tr>\n",
       "      <th>10</th>\n",
       "      <td>21</td>\n",
       "      <td>0</td>\n",
       "    </tr>\n",
       "    <tr>\n",
       "      <th>11</th>\n",
       "      <td>25</td>\n",
       "      <td>0</td>\n",
       "    </tr>\n",
       "    <tr>\n",
       "      <th>12</th>\n",
       "      <td>26</td>\n",
       "      <td>0</td>\n",
       "    </tr>\n",
       "    <tr>\n",
       "      <th>13</th>\n",
       "      <td>27</td>\n",
       "      <td>0</td>\n",
       "    </tr>\n",
       "    <tr>\n",
       "      <th>14</th>\n",
       "      <td>30</td>\n",
       "      <td>0</td>\n",
       "    </tr>\n",
       "    <tr>\n",
       "      <th>15</th>\n",
       "      <td>31</td>\n",
       "      <td>0</td>\n",
       "    </tr>\n",
       "    <tr>\n",
       "      <th>16</th>\n",
       "      <td>34</td>\n",
       "      <td>0</td>\n",
       "    </tr>\n",
       "    <tr>\n",
       "      <th>17</th>\n",
       "      <td>35</td>\n",
       "      <td>0</td>\n",
       "    </tr>\n",
       "  </tbody>\n",
       "</table>\n",
       "</div>"
      ],
      "text/plain": [
       "    age  gender\n",
       "0    20       1\n",
       "1    23       1\n",
       "2    25       1\n",
       "3    26       1\n",
       "4    29       1\n",
       "5    30       1\n",
       "6    31       1\n",
       "7    33       1\n",
       "8    37       1\n",
       "9    20       0\n",
       "10   21       0\n",
       "11   25       0\n",
       "12   26       0\n",
       "13   27       0\n",
       "14   30       0\n",
       "15   31       0\n",
       "16   34       0\n",
       "17   35       0"
      ]
     },
     "execution_count": 16,
     "metadata": {},
     "output_type": "execute_result"
    }
   ],
   "source": [
    "X"
   ]
  },
  {
   "cell_type": "markdown",
   "id": "64530a19-8e9e-4bcf-bb1e-5e41c2f93f14",
   "metadata": {},
   "source": [
    "# Creating the output data set"
   ]
  },
  {
   "cell_type": "code",
   "execution_count": 17,
   "id": "f0ec351d-7f48-4a01-9300-11c19afb8b3c",
   "metadata": {},
   "outputs": [],
   "source": [
    "y = music['genre'] #y used by convention"
   ]
  },
  {
   "cell_type": "code",
   "execution_count": 18,
   "id": "d9d239b4-6eb9-4dee-b758-6e88eb12669e",
   "metadata": {},
   "outputs": [
    {
     "data": {
      "text/plain": [
       "0        HipHop\n",
       "1        HipHop\n",
       "2        HipHop\n",
       "3          Jazz\n",
       "4          Jazz\n",
       "5          Jazz\n",
       "6     Classical\n",
       "7     Classical\n",
       "8     Classical\n",
       "9         Dance\n",
       "10        Dance\n",
       "11        Dance\n",
       "12     Acoustic\n",
       "13     Acoustic\n",
       "14     Acoustic\n",
       "15    Classical\n",
       "16    Classical\n",
       "17    Classical\n",
       "Name: genre, dtype: object"
      ]
     },
     "execution_count": 18,
     "metadata": {},
     "output_type": "execute_result"
    }
   ],
   "source": [
    "y"
   ]
  },
  {
   "cell_type": "markdown",
   "id": "1c019fae-a738-48e4-bc2f-5a092ca88dd0",
   "metadata": {},
   "source": [
    "# Modeling the data\n",
    "Skelarn Decision Tree Algorithm   \n",
    "A decision tree is a non-parametric supervised learning algorithm, which is utilized for both classification and regression tasks. It has a hierarchical, tree structure, which consists of a root node, branches, internal nodes and leaf nodes.  \n",
    "[For more information on SciKit Learn click here](https://scikit-learn.org/stable/)"
   ]
  },
  {
   "cell_type": "markdown",
   "id": "cff61dfc-0bed-4288-8008-7e62fda842c7",
   "metadata": {},
   "source": [
    "<img src=\"images/decision_tree.png\" width=600 height=900 align=\"center\"/>"
   ]
  },
  {
   "cell_type": "markdown",
   "id": "c7436b02-9a87-40f7-a4d5-55690e2b6259",
   "metadata": {},
   "source": [
    "# Classification and Regression Trees (CART)"
   ]
  },
  {
   "cell_type": "markdown",
   "id": "fdc62f55-4885-4bb4-a66d-51a14d85b1ce",
   "metadata": {},
   "source": [
    "<img src=\"images/decision_tree_1.jpeg\" width=600 height=900 align=\"center\"/>"
   ]
  },
  {
   "cell_type": "markdown",
   "id": "01c92de5-7f62-40ab-883e-045ee64eea6a",
   "metadata": {},
   "source": [
    "<img src=\"images/cart_formula.png\" width=300 height=450 align=\"center\"/>"
   ]
  },
  {
   "cell_type": "markdown",
   "id": "307a3fb5-4f12-4353-bbc7-e2510bb18c3c",
   "metadata": {},
   "source": [
    "from sklearn.tree import DecisionTreeClassifier"
   ]
  },
  {
   "cell_type": "code",
   "execution_count": 28,
   "id": "7afaa39b-5528-4b88-8f04-c920b72b0f12",
   "metadata": {},
   "outputs": [
    {
     "data": {
      "text/plain": [
       "DecisionTreeClassifier()"
      ]
     },
     "execution_count": 28,
     "metadata": {},
     "output_type": "execute_result"
    }
   ],
   "source": [
    "from sklearn.tree import DecisionTreeClassifier\n",
    "model = DecisionTreeClassifier()\n",
    "model.fit(X.values, y)"
   ]
  },
  {
   "cell_type": "markdown",
   "id": "cc09c216-70d3-400e-8ce9-02bdb85878e3",
   "metadata": {},
   "source": [
    "[For more information on decision trees](http://scikit-learn.org/stable/modules/tree.html)"
   ]
  },
  {
   "cell_type": "code",
   "execution_count": 29,
   "id": "e7526e57-e2b1-4890-96ec-91c699a6be3f",
   "metadata": {},
   "outputs": [
    {
     "data": {
      "text/plain": [
       "array(['HipHop'], dtype=object)"
      ]
     },
     "execution_count": 29,
     "metadata": {},
     "output_type": "execute_result"
    }
   ],
   "source": [
    "#Using Age and gender to predict genre\n",
    "\n",
    "model.predict([[21, 1]]) # making a prediction for a 21 year old male"
   ]
  },
  {
   "cell_type": "code",
   "execution_count": 30,
   "id": "bb32c491-6b34-4c88-a60d-891667042a3a",
   "metadata": {},
   "outputs": [
    {
     "data": {
      "text/plain": [
       "array(['Dance'], dtype=object)"
      ]
     },
     "execution_count": 30,
     "metadata": {},
     "output_type": "execute_result"
    }
   ],
   "source": [
    "model.predict([[22, 0]]) # making a prediction for a 22 year old female"
   ]
  },
  {
   "cell_type": "code",
   "execution_count": 31,
   "id": "982cb3a0-4069-44e3-9588-008417dbef35",
   "metadata": {},
   "outputs": [
    {
     "data": {
      "text/plain": [
       "array(['HipHop', 'Dance', 'Classical', 'Classical'], dtype=object)"
      ]
     },
     "execution_count": 31,
     "metadata": {},
     "output_type": "execute_result"
    }
   ],
   "source": [
    "model.predict([[21,1],[22, 0],[33,1],[38,0]]) # making a bunch of predictions"
   ]
  },
  {
   "cell_type": "code",
   "execution_count": 32,
   "id": "18ed2f6f-60fe-4957-be00-a516b8b87d78",
   "metadata": {},
   "outputs": [
    {
     "data": {
      "text/plain": [
       "array(['Classical'], dtype=object)"
      ]
     },
     "execution_count": 32,
     "metadata": {},
     "output_type": "execute_result"
    }
   ],
   "source": [
    "model.predict([[40,1]]) # even when you give it a value outside of its range it will still provide an output closest to the domain logic"
   ]
  },
  {
   "cell_type": "markdown",
   "id": "41033933-c483-48b8-a8fa-f14c85033383",
   "metadata": {},
   "source": [
    "# How it would look put together"
   ]
  },
  {
   "cell_type": "code",
   "execution_count": 34,
   "id": "d2e3df1a-b352-46bc-b491-8ea5c9c2cf04",
   "metadata": {},
   "outputs": [
    {
     "data": {
      "text/plain": [
       "array(['HipHop', 'Dance', 'Classical', 'Classical'], dtype=object)"
      ]
     },
     "execution_count": 34,
     "metadata": {},
     "output_type": "execute_result"
    }
   ],
   "source": [
    "from sklearn.tree import DecisionTreeClassifier\n",
    "\n",
    "X = music.drop(columns = ['genre'])\n",
    "y = music['genre']\n",
    "\n",
    "model = DecisionTreeClassifier()\n",
    "model.fit(X.values, y)\n",
    "\n",
    "model.predict([[21,1],[22, 0],[33,1],[38,0]]) # making a bunch of predictions"
   ]
  },
  {
   "cell_type": "markdown",
   "id": "fac18b1f-4cb0-4883-9538-37d21b4772fc",
   "metadata": {},
   "source": [
    "# Do we know how accurate our predictions actually are?"
   ]
  },
  {
   "cell_type": "code",
   "execution_count": 35,
   "id": "30b05be0-4b5e-4283-a164-b7eef9c521d6",
   "metadata": {},
   "outputs": [],
   "source": [
    "from sklearn.model_selection import train_test_split"
   ]
  },
  {
   "cell_type": "code",
   "execution_count": 36,
   "id": "562bfe14-1e71-477e-bf6d-4b1fca5ff46c",
   "metadata": {},
   "outputs": [],
   "source": [
    "from sklearn.tree import DecisionTreeClassifier\n",
    "\n",
    "X = music.drop(columns = ['genre'])\n",
    "y = music['genre']"
   ]
  },
  {
   "cell_type": "markdown",
   "id": "010e58c7-4200-4b07-a25f-6318d27b44b4",
   "metadata": {},
   "source": [
    "# Starts the same way"
   ]
  },
  {
   "cell_type": "code",
   "execution_count": 37,
   "id": "797c3d1b-67db-4b69-92a0-9df0a6796978",
   "metadata": {},
   "outputs": [
    {
     "data": {
      "text/plain": [
       "[    age  gender\n",
       " 3    26       1\n",
       " 17   35       0\n",
       " 1    23       1\n",
       " 0    20       1\n",
       " 16   34       0\n",
       " 6    31       1\n",
       " 5    30       1\n",
       " 4    29       1\n",
       " 14   30       0\n",
       " 10   21       0\n",
       " 9    20       0\n",
       " 2    25       1\n",
       " 7    33       1\n",
       " 11   25       0,\n",
       "     age  gender\n",
       " 8    37       1\n",
       " 13   27       0\n",
       " 15   31       0\n",
       " 12   26       0,\n",
       " 3          Jazz\n",
       " 17    Classical\n",
       " 1        HipHop\n",
       " 0        HipHop\n",
       " 16    Classical\n",
       " 6     Classical\n",
       " 5          Jazz\n",
       " 4          Jazz\n",
       " 14     Acoustic\n",
       " 10        Dance\n",
       " 9         Dance\n",
       " 2        HipHop\n",
       " 7     Classical\n",
       " 11        Dance\n",
       " Name: genre, dtype: object,\n",
       " 8     Classical\n",
       " 13     Acoustic\n",
       " 15    Classical\n",
       " 12     Acoustic\n",
       " Name: genre, dtype: object]"
      ]
     },
     "execution_count": 37,
     "metadata": {},
     "output_type": "execute_result"
    }
   ],
   "source": [
    "train_test_split(X,y, test_size = 0.2) \n",
    "# the test_size argument specifies that 20% of our data will be set aside for testing\n",
    "# The function outputs 4 data sets \n",
    "# 80% of X for training \n",
    "# 20% of X for testing\n",
    "# 80% of y for training \n",
    "# 20% of y for testing"
   ]
  },
  {
   "cell_type": "code",
   "execution_count": 38,
   "id": "0552c804-7787-44e5-add0-e963a2fd05fe",
   "metadata": {},
   "outputs": [],
   "source": [
    "# Lets assign these datasets to variables\n",
    "\n",
    "X_train, X_test, y_train, y_test = train_test_split(X,y, test_size = 0.2) "
   ]
  },
  {
   "cell_type": "markdown",
   "id": "25d794fe-ee3d-4427-9388-1f1c04e067bb",
   "metadata": {},
   "source": [
    "We change the inputs to make use of the new split"
   ]
  },
  {
   "cell_type": "code",
   "execution_count": 39,
   "id": "91edd5a1-ac77-40b8-80ec-735ba42fddb7",
   "metadata": {},
   "outputs": [],
   "source": [
    "from sklearn.metrics import accuracy_score"
   ]
  },
  {
   "cell_type": "code",
   "execution_count": 41,
   "id": "144b4a59-3813-41d1-9cb8-8ef910d84f8b",
   "metadata": {},
   "outputs": [],
   "source": [
    "model = DecisionTreeClassifier() #Same as before\n",
    "model.fit(X_train, y_train)\n",
    "predictions = model.predict(X_test)"
   ]
  },
  {
   "cell_type": "code",
   "execution_count": 42,
   "id": "97706344-997c-4246-a6c9-cbe2d9e65783",
   "metadata": {},
   "outputs": [
    {
     "data": {
      "text/plain": [
       "array(['HipHop', 'Acoustic', 'HipHop', 'Classical'], dtype=object)"
      ]
     },
     "execution_count": 42,
     "metadata": {},
     "output_type": "execute_result"
    }
   ],
   "source": [
    "predictions #show us what the model has guessed"
   ]
  },
  {
   "cell_type": "code",
   "execution_count": 44,
   "id": "ecd6ab0e-568b-4fcf-8f64-62a3422bf1a3",
   "metadata": {},
   "outputs": [
    {
     "data": {
      "text/plain": [
       "1.0"
      ]
     },
     "execution_count": 44,
     "metadata": {},
     "output_type": "execute_result"
    }
   ],
   "source": [
    "accuracy_score(y_test, predictions)"
   ]
  },
  {
   "cell_type": "markdown",
   "id": "7aca4059-454b-485a-a182-feabe6d3f1d5",
   "metadata": {},
   "source": [
    "# Now all together"
   ]
  },
  {
   "cell_type": "code",
   "execution_count": 45,
   "id": "afdddeb9-775d-4f40-825e-0cdc0dda7602",
   "metadata": {},
   "outputs": [],
   "source": [
    "import numpy as np\n",
    "import pandas as pd\n",
    "from sklearn.tree import DecisionTreeClassifier\n",
    "from sklearn.model_selection import train_test_split\n",
    "from sklearn.metrics import accuracy_score"
   ]
  },
  {
   "cell_type": "code",
   "execution_count": 48,
   "id": "505aa705-2f69-44ae-be32-3be453a3e4fb",
   "metadata": {},
   "outputs": [
    {
     "data": {
      "text/plain": [
       "1.0"
      ]
     },
     "execution_count": 48,
     "metadata": {},
     "output_type": "execute_result"
    }
   ],
   "source": [
    "# Create your input and output sets\n",
    "X = music.drop(columns = ['genre'])\n",
    "y = music['genre']\n",
    "\n",
    "# Split the input and output sets into train and test sets\n",
    "X_train, X_test, y_train, y_test = train_test_split(X,y, test_size = 0.2) #check how changing test size affects score\n",
    "\n",
    "# Select and fit the model\n",
    "model = DecisionTreeClassifier()\n",
    "model.fit(X_train, y_train)\n",
    "\n",
    "# Make some predictions\n",
    "predictions = model.predict(X_test)\n",
    "\n",
    "# Evaluate the model\n",
    "\n",
    "score = accuracy_score(y_test, predictions)\n",
    "score"
   ]
  },
  {
   "cell_type": "markdown",
   "id": "d5cafb85-f129-47de-a3a0-36af2bc6acbc",
   "metadata": {},
   "source": [
    "the more data we give to our model the more accurate it will become"
   ]
  },
  {
   "cell_type": "markdown",
   "id": "efe7a07b-74cd-42a8-ba90-457ce7709caa",
   "metadata": {},
   "source": [
    "# Model persistence "
   ]
  },
  {
   "cell_type": "markdown",
   "id": "841075bf-367f-4cac-a100-c7b1f81cf397",
   "metadata": {},
   "source": [
    "Using a model, trainig a model every time is not a good use of time"
   ]
  },
  {
   "cell_type": "markdown",
   "id": "2e04b234-62c8-4038-954d-ef291dbb0cbb",
   "metadata": {},
   "source": [
    "Now we will use the entire dataset for training an see what results it yeilds"
   ]
  },
  {
   "cell_type": "code",
   "execution_count": 49,
   "id": "1168e705-e74c-40b1-b711-9e0b1f08b8c0",
   "metadata": {},
   "outputs": [
    {
     "data": {
      "text/plain": [
       "DecisionTreeClassifier()"
      ]
     },
     "execution_count": 49,
     "metadata": {},
     "output_type": "execute_result"
    }
   ],
   "source": [
    "from sklearn.tree import DecisionTreeClassifier\n",
    "\n",
    "X = music.drop(columns = ['genre'])\n",
    "y = music['genre']\n",
    "\n",
    "model = DecisionTreeClassifier()\n",
    "model.fit(X.values, y)"
   ]
  },
  {
   "cell_type": "code",
   "execution_count": 50,
   "id": "1e7008c7-2d08-4cb6-a334-bc831eafe8eb",
   "metadata": {},
   "outputs": [],
   "source": [
    "import joblib "
   ]
  },
  {
   "cell_type": "code",
   "execution_count": 51,
   "id": "80f6cb49-d510-48d8-bced-973bea13261d",
   "metadata": {},
   "outputs": [
    {
     "data": {
      "text/plain": [
       "['music_recommender.joblib']"
      ]
     },
     "execution_count": 51,
     "metadata": {},
     "output_type": "execute_result"
    }
   ],
   "source": [
    "joblib.dump(model, 'music_recommender.joblib')"
   ]
  },
  {
   "cell_type": "code",
   "execution_count": null,
   "id": "7e078867-6b63-4a17-9bdf-50518b65a942",
   "metadata": {},
   "outputs": [],
   "source": []
  }
 ],
 "metadata": {
  "kernelspec": {
   "display_name": "Python 3 (ipykernel)",
   "language": "python",
   "name": "python3"
  },
  "language_info": {
   "codemirror_mode": {
    "name": "ipython",
    "version": 3
   },
   "file_extension": ".py",
   "mimetype": "text/x-python",
   "name": "python",
   "nbconvert_exporter": "python",
   "pygments_lexer": "ipython3",
   "version": "3.9.13"
  }
 },
 "nbformat": 4,
 "nbformat_minor": 5
}
