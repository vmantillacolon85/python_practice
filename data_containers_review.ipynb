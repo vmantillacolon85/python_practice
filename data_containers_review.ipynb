{
 "cells": [
  {
   "cell_type": "code",
   "execution_count": 1,
   "id": "b6084630-a086-4a3e-ba2a-7027846ac151",
   "metadata": {},
   "outputs": [],
   "source": [
    "import math as m"
   ]
  },
  {
   "cell_type": "markdown",
   "id": "be010b79-d101-4c49-977c-cc768d6ee60e",
   "metadata": {},
   "source": [
    "# Math (review)"
   ]
  },
  {
   "cell_type": "code",
   "execution_count": 2,
   "id": "dc8c64d7-b2de-4ea7-b931-fa0342a540ec",
   "metadata": {},
   "outputs": [
    {
     "name": "stdout",
     "output_type": "stream",
     "text": [
      "A triangle with base 3 and height 5 has an area of  7.5\n"
     ]
    }
   ],
   "source": [
    "b=3\n",
    "h=5\n",
    "Area=.5*b*h\n",
    "print (\"A triangle with base\", b, \"and height\", h, \"has an area of \", Area)"
   ]
  },
  {
   "cell_type": "code",
   "execution_count": 87,
   "id": "8572b082-64e2-46df-9672-24a1d304b943",
   "metadata": {},
   "outputs": [
    {
     "name": "stdout",
     "output_type": "stream",
     "text": [
      "A circle with radius 7 has an area of 153.94\n"
     ]
    }
   ],
   "source": [
    "r=7\n",
    "Area=m.pi*r**2\n",
    "print (\"A circle with radius\", r, \"has an area of\", round(Area,2))"
   ]
  },
  {
   "cell_type": "markdown",
   "id": "ed622435-7279-495f-934f-427e99e8427a",
   "metadata": {},
   "source": [
    "# Lists (review)"
   ]
  },
  {
   "cell_type": "code",
   "execution_count": 2,
   "id": "e8eff8c1-c57d-43cb-9b50-f2b12c6b494f",
   "metadata": {},
   "outputs": [],
   "source": [
    "x=[1,3,5,6]\n",
    "x.append(9)"
   ]
  },
  {
   "cell_type": "code",
   "execution_count": 3,
   "id": "48b3aa1d-16b8-4655-a088-e8d527e95009",
   "metadata": {},
   "outputs": [
    {
     "name": "stdout",
     "output_type": "stream",
     "text": [
      "[1, 3, 5, 6, 9]\n"
     ]
    }
   ],
   "source": [
    "print(x)"
   ]
  },
  {
   "cell_type": "code",
   "execution_count": 4,
   "id": "120f07c7-b988-4e58-9027-a23f279150b1",
   "metadata": {},
   "outputs": [
    {
     "name": "stdout",
     "output_type": "stream",
     "text": [
      "Enter a number:\n"
     ]
    },
    {
     "name": "stdin",
     "output_type": "stream",
     "text": [
      " 9\n"
     ]
    },
    {
     "name": "stdout",
     "output_type": "stream",
     "text": [
      "[1, 3, 5, 6, 9, '9']\n"
     ]
    }
   ],
   "source": [
    "print('Enter a number:')\n",
    "n = input()\n",
    "x.append(n)\n",
    "print(x)"
   ]
  },
  {
   "cell_type": "code",
   "execution_count": 5,
   "id": "c5c93d3b-7c99-4bf0-aabe-a8ca18c8d768",
   "metadata": {},
   "outputs": [
    {
     "name": "stdout",
     "output_type": "stream",
     "text": [
      "9\n"
     ]
    }
   ],
   "source": [
    "item=x.pop()   # pop returns (and removes) the last item on the list\n",
    "print (item)"
   ]
  },
  {
   "cell_type": "code",
   "execution_count": 6,
   "id": "66238f6f-44f9-4070-8a3c-84272ef58b44",
   "metadata": {},
   "outputs": [
    {
     "name": "stdout",
     "output_type": "stream",
     "text": [
      "[1, 3, 5, 6, 9]\n"
     ]
    }
   ],
   "source": [
    "print (x)  # we're back to 5 items"
   ]
  },
  {
   "cell_type": "code",
   "execution_count": 30,
   "id": "828a7328-e980-4b13-a443-e8f895f7ddef",
   "metadata": {},
   "outputs": [
    {
     "name": "stdout",
     "output_type": "stream",
     "text": [
      "Lets try this again ... Enter a number:\n"
     ]
    },
    {
     "name": "stdin",
     "output_type": "stream",
     "text": [
      " 0\n"
     ]
    },
    {
     "name": "stdout",
     "output_type": "stream",
     "text": [
      "[1, 3, 5, 6, 9, 0, 0]\n"
     ]
    }
   ],
   "source": [
    "print('Lets try this again ... Enter a number:')\n",
    "n = input()\n",
    "n = int(n)\n",
    "x.append(n)\n",
    "print(x)"
   ]
  },
  {
   "cell_type": "code",
   "execution_count": 31,
   "id": "297668d7-d3cd-44d7-9cd6-713504caf5f9",
   "metadata": {},
   "outputs": [
    {
     "name": "stdout",
     "output_type": "stream",
     "text": [
      "['dog', 'cat', 'wolf', 'hamster']\n"
     ]
    }
   ],
   "source": [
    "animals = ['dog', 'cat', 'wolf', 'hamster']\n",
    "print (animals)"
   ]
  },
  {
   "cell_type": "code",
   "execution_count": 32,
   "id": "58ac76ab-d83b-423f-81df-7a6f400a6cca",
   "metadata": {},
   "outputs": [
    {
     "name": "stdout",
     "output_type": "stream",
     "text": [
      "hamster\n"
     ]
    }
   ],
   "source": [
    "print (animals[3])"
   ]
  },
  {
   "cell_type": "code",
   "execution_count": 33,
   "id": "16635c09-298c-4838-916a-493d5d90d1dc",
   "metadata": {},
   "outputs": [],
   "source": [
    "animals.insert(1, \"sasquatch\")   #insert adds an item at the index you specify"
   ]
  },
  {
   "cell_type": "code",
   "execution_count": 34,
   "id": "f7f7d16a-8b21-4878-a3b6-3a4fa55227d9",
   "metadata": {},
   "outputs": [
    {
     "name": "stdout",
     "output_type": "stream",
     "text": [
      "['dog', 'sasquatch', 'cat', 'wolf', 'hamster']\n"
     ]
    }
   ],
   "source": [
    "print (animals)"
   ]
  },
  {
   "cell_type": "code",
   "execution_count": 35,
   "id": "f8652439-f63c-4725-b5da-ec173bb6368f",
   "metadata": {},
   "outputs": [
    {
     "data": {
      "text/plain": [
       "list"
      ]
     },
     "execution_count": 35,
     "metadata": {},
     "output_type": "execute_result"
    }
   ],
   "source": [
    "type (animals)   # what data type is this? "
   ]
  },
  {
   "cell_type": "code",
   "execution_count": 36,
   "id": "488131ac-ac84-4fc7-b1fd-491a38b76fb0",
   "metadata": {},
   "outputs": [],
   "source": [
    "domesticated_animals = animals[::2] #every other element in the list"
   ]
  },
  {
   "cell_type": "code",
   "execution_count": 37,
   "id": "2e2b6fe1-0ed5-4478-99a3-fa88df7a1a00",
   "metadata": {},
   "outputs": [
    {
     "name": "stdout",
     "output_type": "stream",
     "text": [
      "['dog', 'cat', 'hamster']\n"
     ]
    }
   ],
   "source": [
    "print (domesticated_animals)"
   ]
  },
  {
   "cell_type": "code",
   "execution_count": 38,
   "id": "8310965b-bd31-4316-81b4-6813835510ca",
   "metadata": {},
   "outputs": [],
   "source": [
    "wild_animals = animals[1::2] #every other element in the list starting with the second one"
   ]
  },
  {
   "cell_type": "code",
   "execution_count": 39,
   "id": "6fbc67b6-4e00-4241-92d3-0c0ee69a9c60",
   "metadata": {},
   "outputs": [
    {
     "name": "stdout",
     "output_type": "stream",
     "text": [
      "['sasquatch', 'wolf']\n"
     ]
    }
   ],
   "source": [
    "print (wild_animals)"
   ]
  },
  {
   "cell_type": "code",
   "execution_count": 40,
   "id": "3dc46351-d49b-4427-8ced-f9e3588cf70d",
   "metadata": {},
   "outputs": [
    {
     "name": "stdout",
     "output_type": "stream",
     "text": [
      "1\n"
     ]
    }
   ],
   "source": [
    "i = wild_animals.index(\"wolf\")  # wolf is the second item in the wild_animal list\n",
    "print (i)"
   ]
  },
  {
   "cell_type": "code",
   "execution_count": 41,
   "id": "014d6f2f-8543-46ce-9e3d-bd738824873a",
   "metadata": {},
   "outputs": [
    {
     "name": "stdout",
     "output_type": "stream",
     "text": [
      "['dog', 'sasquatch']\n"
     ]
    }
   ],
   "source": [
    "my_animals=animals[0:2]  # start at the first item, end at the second item\n",
    "print(my_animals)"
   ]
  },
  {
   "cell_type": "code",
   "execution_count": 42,
   "id": "73819384-3e0b-49ff-95da-8239758dea65",
   "metadata": {},
   "outputs": [],
   "source": [
    "# sorting a list"
   ]
  },
  {
   "cell_type": "code",
   "execution_count": 43,
   "id": "d086fe9e-feb3-48b0-953a-63766bd442ec",
   "metadata": {},
   "outputs": [
    {
     "name": "stdout",
     "output_type": "stream",
     "text": [
      "['cat', 'dog', 'hamster', 'sasquatch', 'wolf']\n"
     ]
    }
   ],
   "source": [
    "animals.sort()\n",
    "print (animals)"
   ]
  },
  {
   "cell_type": "code",
   "execution_count": 44,
   "id": "b5080921-b51b-4238-920f-9e6749d02a8d",
   "metadata": {},
   "outputs": [
    {
     "name": "stdout",
     "output_type": "stream",
     "text": [
      "1\n"
     ]
    }
   ],
   "source": [
    "wolf_count=animals.count(\"wolf\")\n",
    "print(wolf_count)"
   ]
  },
  {
   "cell_type": "code",
   "execution_count": 45,
   "id": "acb251d8-f3da-4a51-8c60-c23adb63a49e",
   "metadata": {},
   "outputs": [
    {
     "name": "stdout",
     "output_type": "stream",
     "text": [
      "['Car', 3.1, 4, 'Idaho', 'Car', 'Spam Sandwich']\n"
     ]
    }
   ],
   "source": [
    "heterogeneous_list = ['Car', 3.1, 4, 'Idaho', 'Car', 'Spam Sandwich']\n",
    "print (heterogeneous_list)"
   ]
  },
  {
   "cell_type": "code",
   "execution_count": 46,
   "id": "74dfc41c-a158-4d8f-bdd8-c9f9b64cdfe5",
   "metadata": {},
   "outputs": [
    {
     "name": "stdout",
     "output_type": "stream",
     "text": [
      "2\n"
     ]
    }
   ],
   "source": [
    "car_count=heterogeneous_list.count('Car')\n",
    "print(car_count)"
   ]
  },
  {
   "cell_type": "code",
   "execution_count": 47,
   "id": "a6f5ae55-771a-4dd1-a1eb-6c68fad07000",
   "metadata": {},
   "outputs": [
    {
     "name": "stdout",
     "output_type": "stream",
     "text": [
      "[3.1, 4, 'Idaho', 'Car', 'Spam Sandwich']\n"
     ]
    }
   ],
   "source": [
    "heterogeneous_list.remove('Car')  #this should remove the first instance of 'Car'\n",
    "print (heterogeneous_list)"
   ]
  },
  {
   "cell_type": "code",
   "execution_count": 48,
   "id": "f2db0f79-ae97-4971-a0d5-e1b0c471bf25",
   "metadata": {},
   "outputs": [
    {
     "name": "stdout",
     "output_type": "stream",
     "text": [
      "[4, 'Idaho', 'Car', 'Spam Sandwich']\n"
     ]
    }
   ],
   "source": [
    "heterogeneous_list.remove(3.1)\n",
    "print (heterogeneous_list)"
   ]
  },
  {
   "cell_type": "code",
   "execution_count": 49,
   "id": "323d2e05-9c17-4b6f-aa27-3f92ddc7b067",
   "metadata": {},
   "outputs": [
    {
     "name": "stdout",
     "output_type": "stream",
     "text": [
      "4\n"
     ]
    }
   ],
   "source": [
    "print (len(heterogeneous_list))"
   ]
  },
  {
   "cell_type": "code",
   "execution_count": 75,
   "id": "46c4a713-ef6a-491d-9fb5-f9a2888b7000",
   "metadata": {},
   "outputs": [
    {
     "data": {
      "text/plain": [
       "[0, 1, 2, 3, 4, 5]"
      ]
     },
     "execution_count": 75,
     "metadata": {},
     "output_type": "execute_result"
    }
   ],
   "source": [
    "a=[0,1,2]\n",
    "b=[3,4,5]\n",
    "c=a+b\n",
    "c"
   ]
  },
  {
   "cell_type": "code",
   "execution_count": null,
   "id": "bc9aef20-1d34-481f-9f31-55a9eb70c2fb",
   "metadata": {},
   "outputs": [],
   "source": []
  },
  {
   "cell_type": "markdown",
   "id": "1c01f5d7-9c18-4034-b09c-de139dd738a6",
   "metadata": {},
   "source": [
    "# Tuples (review)"
   ]
  },
  {
   "cell_type": "code",
   "execution_count": 50,
   "id": "2323c1f4-202c-4b3a-ab31-c80aed0a3da8",
   "metadata": {},
   "outputs": [
    {
     "name": "stdout",
     "output_type": "stream",
     "text": [
      "('butcher', 'baker', 'candlestick maker')\n"
     ]
    }
   ],
   "source": [
    "# tuples\n",
    "people = ('butcher', 'baker', 'candlestick maker')\n",
    "print (people)"
   ]
  },
  {
   "cell_type": "code",
   "execution_count": 51,
   "id": "f67ec966-81b8-41ca-970a-cf9af91ae94e",
   "metadata": {},
   "outputs": [
    {
     "data": {
      "text/plain": [
       "tuple"
      ]
     },
     "execution_count": 51,
     "metadata": {},
     "output_type": "execute_result"
    }
   ],
   "source": [
    "type (people)"
   ]
  },
  {
   "cell_type": "code",
   "execution_count": 52,
   "id": "650d97f7-96b7-421d-99a5-c8f33039636c",
   "metadata": {},
   "outputs": [
    {
     "ename": "AttributeError",
     "evalue": "'tuple' object has no attribute 'append'",
     "output_type": "error",
     "traceback": [
      "\u001b[0;31m---------------------------------------------------------------------------\u001b[0m",
      "\u001b[0;31mAttributeError\u001b[0m                            Traceback (most recent call last)",
      "\u001b[0;32m/var/folders/m8/dsd2dcxs0l195__1bcjl885c0000gn/T/ipykernel_99331/1683652431.py\u001b[0m in \u001b[0;36m<module>\u001b[0;34m\u001b[0m\n\u001b[0;32m----> 1\u001b[0;31m \u001b[0mpeople\u001b[0m\u001b[0;34m.\u001b[0m\u001b[0mappend\u001b[0m\u001b[0;34m(\u001b[0m\u001b[0;34m'accountant'\u001b[0m\u001b[0;34m)\u001b[0m\u001b[0;34m\u001b[0m\u001b[0;34m\u001b[0m\u001b[0m\n\u001b[0m",
      "\u001b[0;31mAttributeError\u001b[0m: 'tuple' object has no attribute 'append'"
     ]
    }
   ],
   "source": [
    "people.append('accountant')"
   ]
  },
  {
   "cell_type": "code",
   "execution_count": 53,
   "id": "98a22440-effe-48f3-9c0d-19a011d89b10",
   "metadata": {},
   "outputs": [
    {
     "name": "stdout",
     "output_type": "stream",
     "text": [
      "3\n"
     ]
    }
   ],
   "source": [
    "print (len(people))"
   ]
  },
  {
   "cell_type": "markdown",
   "id": "4649e9ee-88ed-4279-935e-dee4c3868fe2",
   "metadata": {},
   "source": [
    "# Sets (review)"
   ]
  },
  {
   "cell_type": "code",
   "execution_count": 54,
   "id": "5e4d839c-abf2-44da-adcf-9dc761dfdc97",
   "metadata": {},
   "outputs": [
    {
     "name": "stdout",
     "output_type": "stream",
     "text": [
      "{'red', 'blue', 'green'}\n"
     ]
    }
   ],
   "source": [
    "# sets - can't be indexed, not subscriptable\n",
    "color = {'red', 'green', 'blue'}\n",
    "print (color)"
   ]
  },
  {
   "cell_type": "code",
   "execution_count": 55,
   "id": "b468a837-3b3f-41b1-8804-b4928ed73159",
   "metadata": {},
   "outputs": [
    {
     "data": {
      "text/plain": [
       "set"
      ]
     },
     "execution_count": 55,
     "metadata": {},
     "output_type": "execute_result"
    }
   ],
   "source": [
    "type (color)"
   ]
  },
  {
   "cell_type": "code",
   "execution_count": 56,
   "id": "2324d209-b482-440a-a752-427779eed887",
   "metadata": {},
   "outputs": [
    {
     "ename": "TypeError",
     "evalue": "'set' object is not subscriptable",
     "output_type": "error",
     "traceback": [
      "\u001b[0;31m---------------------------------------------------------------------------\u001b[0m",
      "\u001b[0;31mTypeError\u001b[0m                                 Traceback (most recent call last)",
      "\u001b[0;32m/var/folders/m8/dsd2dcxs0l195__1bcjl885c0000gn/T/ipykernel_99331/1848602196.py\u001b[0m in \u001b[0;36m<module>\u001b[0;34m\u001b[0m\n\u001b[0;32m----> 1\u001b[0;31m \u001b[0mprint\u001b[0m \u001b[0;34m(\u001b[0m\u001b[0mcolor\u001b[0m\u001b[0;34m[\u001b[0m\u001b[0;36m2\u001b[0m\u001b[0;34m]\u001b[0m\u001b[0;34m)\u001b[0m\u001b[0;34m\u001b[0m\u001b[0;34m\u001b[0m\u001b[0m\n\u001b[0m\u001b[1;32m      2\u001b[0m \u001b[0;31m# ???\u001b[0m\u001b[0;34m\u001b[0m\u001b[0;34m\u001b[0m\u001b[0m\n",
      "\u001b[0;31mTypeError\u001b[0m: 'set' object is not subscriptable"
     ]
    }
   ],
   "source": [
    "print (color[2])\n",
    "# ???"
   ]
  },
  {
   "cell_type": "code",
   "execution_count": 57,
   "id": "0bc2a79d-942c-467c-97b4-78ffc04b1ce1",
   "metadata": {},
   "outputs": [],
   "source": [
    "murica = {'red', 'white', 'blue'}"
   ]
  },
  {
   "cell_type": "code",
   "execution_count": 58,
   "id": "04eb0e9f-b349-4613-8ce1-4dcc1ee20020",
   "metadata": {},
   "outputs": [
    {
     "name": "stdout",
     "output_type": "stream",
     "text": [
      "{'red', 'blue'}\n"
     ]
    }
   ],
   "source": [
    "intersect = murica.intersection(color)\n",
    "print (intersect)"
   ]
  },
  {
   "cell_type": "code",
   "execution_count": 59,
   "id": "8f9aaa69-e9e0-4138-90b6-7a29cfb150e3",
   "metadata": {},
   "outputs": [
    {
     "name": "stdout",
     "output_type": "stream",
     "text": [
      "{'red', 'blue'}\n"
     ]
    }
   ],
   "source": [
    "# using pipe (&) operator\n",
    "\n",
    "intersect = murica & color\n",
    "print (intersect)"
   ]
  },
  {
   "cell_type": "code",
   "execution_count": 60,
   "id": "b342c7b4-e467-4b0b-8912-d7d2da3ae4a4",
   "metadata": {},
   "outputs": [
    {
     "name": "stdout",
     "output_type": "stream",
     "text": [
      "{'red', 'white', 'blue', 'green'}\n"
     ]
    }
   ],
   "source": [
    "union  = murica.union(color)\n",
    "print(union)  \n"
   ]
  },
  {
   "cell_type": "code",
   "execution_count": 61,
   "id": "8258c16b-dc7f-4f59-b90f-ad65727b28ed",
   "metadata": {},
   "outputs": [
    {
     "name": "stdout",
     "output_type": "stream",
     "text": [
      "{'red', 'white', 'blue', 'green'}\n"
     ]
    }
   ],
   "source": [
    "# using pipe (|) operator\n",
    "union = murica | color\n",
    "print(union )  "
   ]
  },
  {
   "cell_type": "code",
   "execution_count": 62,
   "id": "0002ffdd-4ae0-42e1-823b-87122962385e",
   "metadata": {},
   "outputs": [
    {
     "name": "stdout",
     "output_type": "stream",
     "text": [
      "4\n"
     ]
    }
   ],
   "source": [
    "print (len(union))"
   ]
  },
  {
   "cell_type": "markdown",
   "id": "5e27e77c-0b06-4292-8d32-bf929efab300",
   "metadata": {},
   "source": [
    "# Dictionaries (review)\n"
   ]
  },
  {
   "cell_type": "code",
   "execution_count": 88,
   "id": "497eadbd-f6cc-4334-8548-6dfa31433af6",
   "metadata": {},
   "outputs": [],
   "source": [
    "dictionary = { \n",
    "    \"aardvark\" : \"a mammal with a long nose and large ears that eats insects\",\n",
    "    \"abound\" : \"exist in large numbers or amounts\", \n",
    "    \"across\" : \"from one side to the other of (a place, area, etc.)\"\n",
    "}\n"
   ]
  },
  {
   "cell_type": "code",
   "execution_count": 89,
   "id": "95e35ea7-4d7e-43a7-8a92-544cb8d2af7b",
   "metadata": {},
   "outputs": [
    {
     "name": "stdout",
     "output_type": "stream",
     "text": [
      "from one side to the other of (a place, area, etc.)\n"
     ]
    }
   ],
   "source": [
    "print (dictionary['across'])"
   ]
  },
  {
   "cell_type": "code",
   "execution_count": null,
   "id": "af2813b2-ada0-4a8b-ae95-fea272af4626",
   "metadata": {},
   "outputs": [],
   "source": []
  },
  {
   "cell_type": "code",
   "execution_count": 63,
   "id": "8aafc83f-e01b-46af-907c-1c6060a5e474",
   "metadata": {},
   "outputs": [],
   "source": [
    "cars = {\n",
    "  \"make\": \"Ford\",\n",
    "  \"model\": \"Pinto\",\n",
    "  \"year\": 1972\n",
    "}"
   ]
  },
  {
   "cell_type": "code",
   "execution_count": 64,
   "id": "84467156-b25a-4d44-a487-459346ddf301",
   "metadata": {},
   "outputs": [
    {
     "name": "stdout",
     "output_type": "stream",
     "text": [
      "{'make': 'Ford', 'model': 'Pinto', 'year': 1972}\n",
      "<class 'dict'>\n"
     ]
    }
   ],
   "source": [
    "print (cars)\n",
    "print (type (cars))"
   ]
  },
  {
   "cell_type": "code",
   "execution_count": 72,
   "id": "7922395c-74c6-4a05-ac73-fdbe339fef1e",
   "metadata": {},
   "outputs": [
    {
     "data": {
      "text/plain": [
       "dict_keys(['make', 'model', 'year'])"
      ]
     },
     "execution_count": 72,
     "metadata": {},
     "output_type": "execute_result"
    }
   ],
   "source": [
    "cars.keys()"
   ]
  },
  {
   "cell_type": "code",
   "execution_count": 73,
   "id": "dc1c4c2a-2092-4717-a5cf-fc1ceca83ede",
   "metadata": {},
   "outputs": [
    {
     "data": {
      "text/plain": [
       "'Pinto'"
      ]
     },
     "execution_count": 73,
     "metadata": {},
     "output_type": "execute_result"
    }
   ],
   "source": [
    "cars.pop('model')"
   ]
  },
  {
   "cell_type": "code",
   "execution_count": 74,
   "id": "0d5abbc8-38a5-4ff9-aa97-9e761be2b915",
   "metadata": {},
   "outputs": [
    {
     "data": {
      "text/plain": [
       "dict_keys(['make', 'year'])"
      ]
     },
     "execution_count": 74,
     "metadata": {},
     "output_type": "execute_result"
    }
   ],
   "source": [
    "cars.keys()"
   ]
  },
  {
   "cell_type": "code",
   "execution_count": 65,
   "id": "0cf6f189-a94f-44a3-9c47-c4b6e576bbc2",
   "metadata": {},
   "outputs": [],
   "source": [
    "product1 = {'product_id': 1,\n",
    "          'product_name': 'Carbon Flakes',\n",
    "          'unit_price': 8.99,\n",
    "          'category' : 'cereal'\n",
    "         } "
   ]
  },
  {
   "cell_type": "code",
   "execution_count": 66,
   "id": "f18d0df4-72aa-4ddd-b784-7ce83127c8cf",
   "metadata": {},
   "outputs": [
    {
     "name": "stdout",
     "output_type": "stream",
     "text": [
      "cereal\n"
     ]
    }
   ],
   "source": [
    "print(product1[\"category\"])"
   ]
  },
  {
   "cell_type": "code",
   "execution_count": 67,
   "id": "c969f39f-fd8b-4271-bf6e-95e23d3c38aa",
   "metadata": {},
   "outputs": [
    {
     "name": "stdout",
     "output_type": "stream",
     "text": [
      "4\n"
     ]
    }
   ],
   "source": [
    "print (len(product1))"
   ]
  },
  {
   "cell_type": "code",
   "execution_count": 68,
   "id": "00c210dc-4601-4325-8bb2-f05f80c2ad7d",
   "metadata": {},
   "outputs": [],
   "source": [
    "product2 = {'product_id': 2,\n",
    "          'product_name': 'Marshmallows',\n",
    "          'unit_price': 4.99,\n",
    "          'category' : 'garbage'\n",
    "         } "
   ]
  },
  {
   "cell_type": "code",
   "execution_count": 69,
   "id": "c30fbf00-3b4e-4b18-ae2e-361c36c14c4c",
   "metadata": {},
   "outputs": [],
   "source": [
    "product3 = {'product_id': 3,\n",
    "          'product_name': 'Plutonium',\n",
    "          'unit_price': 13955225332.99,\n",
    "          'category' : 'fuel'\n",
    "         } "
   ]
  },
  {
   "cell_type": "code",
   "execution_count": 70,
   "id": "7a183451-cb1c-4961-a082-d668563a04ac",
   "metadata": {},
   "outputs": [
    {
     "name": "stdout",
     "output_type": "stream",
     "text": [
      "3\n"
     ]
    }
   ],
   "source": [
    "products= [product1, product2, product3]\n",
    "print (len(products))"
   ]
  },
  {
   "cell_type": "code",
   "execution_count": 71,
   "id": "909c5cd8-60b7-4eaf-aeab-b6d914700874",
   "metadata": {},
   "outputs": [
    {
     "name": "stdout",
     "output_type": "stream",
     "text": [
      "Marshmallows\n"
     ]
    }
   ],
   "source": [
    "print (products[1]['product_name'])"
   ]
  },
  {
   "cell_type": "code",
   "execution_count": null,
   "id": "7022345a-a610-45c5-bc9f-ff593c6e34f0",
   "metadata": {},
   "outputs": [],
   "source": []
  }
 ],
 "metadata": {
  "kernelspec": {
   "display_name": "Python 3 (ipykernel)",
   "language": "python",
   "name": "python3"
  },
  "language_info": {
   "codemirror_mode": {
    "name": "ipython",
    "version": 3
   },
   "file_extension": ".py",
   "mimetype": "text/x-python",
   "name": "python",
   "nbconvert_exporter": "python",
   "pygments_lexer": "ipython3",
   "version": "3.9.13"
  }
 },
 "nbformat": 4,
 "nbformat_minor": 5
}
