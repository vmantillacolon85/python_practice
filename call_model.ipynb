{
 "cells": [
  {
   "cell_type": "code",
   "execution_count": 1,
   "id": "210bb997-42b3-4c3a-8c90-fe1fc5bddf6b",
   "metadata": {},
   "outputs": [],
   "source": [
    "import joblib\n",
    "model = joblib.load('music_recommender.joblib')"
   ]
  },
  {
   "cell_type": "code",
   "execution_count": 7,
   "id": "d8d2a014-8df3-4180-bef2-15c1c2be48e1",
   "metadata": {},
   "outputs": [
    {
     "data": {
      "text/plain": [
       "array(['HipHop', 'Dance'], dtype=object)"
      ]
     },
     "execution_count": 7,
     "metadata": {},
     "output_type": "execute_result"
    }
   ],
   "source": [
    "predictions = model.predict([[21,1],[22,0]])\n",
    "predictions"
   ]
  },
  {
   "cell_type": "code",
   "execution_count": null,
   "id": "f61868c8-fbf7-462c-8fa0-c0f6ae725faa",
   "metadata": {},
   "outputs": [],
   "source": []
  },
  {
   "cell_type": "code",
   "execution_count": 9,
   "id": "8531d624-e846-4bab-8ed4-f2b4a4c063c0",
   "metadata": {},
   "outputs": [],
   "source": [
    "model = joblib.load('titanic_fatality_predictor.joblib')"
   ]
  },
  {
   "cell_type": "code",
   "execution_count": 10,
   "id": "a3729839-b7c1-48db-a5ba-5105806d0352",
   "metadata": {},
   "outputs": [
    {
     "data": {
      "text/plain": [
       "array([1., 0.])"
      ]
     },
     "execution_count": 10,
     "metadata": {},
     "output_type": "execute_result"
    }
   ],
   "source": [
    "predictions = model.predict([[0,50],[1,100]])\n",
    "predictions"
   ]
  },
  {
   "cell_type": "code",
   "execution_count": null,
   "id": "26b74414-8410-4f40-97d3-9eceb9d793bd",
   "metadata": {},
   "outputs": [],
   "source": []
  }
 ],
 "metadata": {
  "kernelspec": {
   "display_name": "Python 3 (ipykernel)",
   "language": "python",
   "name": "python3"
  },
  "language_info": {
   "codemirror_mode": {
    "name": "ipython",
    "version": 3
   },
   "file_extension": ".py",
   "mimetype": "text/x-python",
   "name": "python",
   "nbconvert_exporter": "python",
   "pygments_lexer": "ipython3",
   "version": "3.9.13"
  }
 },
 "nbformat": 4,
 "nbformat_minor": 5
}
