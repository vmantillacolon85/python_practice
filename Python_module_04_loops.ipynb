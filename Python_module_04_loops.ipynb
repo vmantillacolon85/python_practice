{
 "cells": [
  {
   "cell_type": "markdown",
   "id": "55b413cd-dbb8-4611-b8da-84c51accd972",
   "metadata": {},
   "source": [
    "# Python Module 4 : Loops and Control Flow"
   ]
  },
  {
   "cell_type": "markdown",
   "id": "7a837a9f-02b8-452a-972a-1dce8704e350",
   "metadata": {},
   "source": [
    "## If then elif else"
   ]
  },
  {
   "cell_type": "code",
   "execution_count": 1,
   "id": "1a2f8fa4-645e-4ba2-bf28-ea409905d737",
   "metadata": {},
   "outputs": [
    {
     "name": "stdout",
     "output_type": "stream",
     "text": [
      "b is not greater than a\n"
     ]
    }
   ],
   "source": [
    "a = 30\n",
    "b = 20\n",
    "if b > a:\n",
    "  print(\"b is greater than a\")\n",
    "elif b < a:\n",
    "    print(\"b is not greater than a\")\n",
    "else: \n",
    "    print (\"a and b are the same\")\n"
   ]
  },
  {
   "cell_type": "code",
   "execution_count": 2,
   "id": "0146e5e8-36d0-4b75-9ed3-55a395a3be9a",
   "metadata": {},
   "outputs": [
    {
     "name": "stdout",
     "output_type": "stream",
     "text": [
      "b is greater than a\n",
      "hello\n",
      "there\n"
     ]
    }
   ],
   "source": [
    "a = 30\n",
    "b = 60\n",
    "if b > a:\n",
    "  print(\"b is greater than a\")\n",
    "  print(\"hello\")\n",
    "  print(\"there\") ## you can add more than one prints statement conditional in a block \n",
    "elif b < a:\n",
    "    print(\"b is not greater than a\")\n",
    "else: \n",
    "    print (\"a and b are the same\")"
   ]
  },
  {
   "cell_type": "code",
   "execution_count": 4,
   "id": "90ba90ea-bfcc-4e97-9741-8e8c3107966b",
   "metadata": {},
   "outputs": [
    {
     "name": "stdout",
     "output_type": "stream",
     "text": [
      "a must be greater than b\n"
     ]
    }
   ],
   "source": [
    "a = 190\n",
    "b = 100\n",
    "if b > a:\n",
    "  print(\"b is greater than a\")\n",
    "elif a == b:\n",
    "  print(\"a and b are equal\")\n",
    "else: \n",
    "  print (\"a must be greater than b\")"
   ]
  },
  {
   "cell_type": "code",
   "execution_count": 7,
   "id": "8a6666e3-7cee-43e6-b52e-332ebbb04912",
   "metadata": {},
   "outputs": [
    {
     "name": "stdout",
     "output_type": "stream",
     "text": [
      "How tall are you in inches\n"
     ]
    },
    {
     "name": "stdin",
     "output_type": "stream",
     "text": [
      " 8\n"
     ]
    },
    {
     "name": "stdout",
     "output_type": "stream",
     "text": [
      "Good morning Mr. Frodo\n"
     ]
    }
   ],
   "source": [
    "print (\"How tall are you in inches\")\n",
    "height = float(input())\n",
    "if height > 84:\n",
    "  print(\"Ah you must be a sasquatch\")\n",
    "elif height > 72:\n",
    "  print(\"You must be basketball player\")\n",
    "elif height > 60:\n",
    "  print(\"You must be a human\")\n",
    "else: \n",
    "  print(\"Good morning Mr. Frodo\")"
   ]
  },
  {
   "cell_type": "markdown",
   "id": "cf4891ce-af04-4e6a-89fb-465ec9b1dbb0",
   "metadata": {},
   "source": [
    "## For loops"
   ]
  },
  {
   "cell_type": "code",
   "execution_count": 8,
   "id": "ea84e19d-7a43-4514-879d-fd7714103567",
   "metadata": {},
   "outputs": [
    {
     "name": "stdout",
     "output_type": "stream",
     "text": [
      "Larry\n",
      "Mo\n",
      "Curly\n"
     ]
    }
   ],
   "source": [
    "stooges = [\"Larry\", \"Mo\", \"Curly\"]\n",
    "for x in stooges:\n",
    "  print(x)"
   ]
  },
  {
   "cell_type": "code",
   "execution_count": 15,
   "id": "f8ad92d5-291b-4d73-8ae0-7e8998bc186a",
   "metadata": {},
   "outputs": [
    {
     "name": "stdout",
     "output_type": "stream",
     "text": [
      "['Larry']\n",
      "['Larry', 'Mo']\n",
      "['Larry', 'Mo', 'Curly']\n"
     ]
    }
   ],
   "source": [
    "lst = []\n",
    "stooges = [\"Larry\", \"Mo\", \"Curly\"]\n",
    "for x in stooges:\n",
    "  lst.append(x)\n",
    "  print(lst)"
   ]
  },
  {
   "cell_type": "code",
   "execution_count": 16,
   "id": "1d568025-6b64-4e67-b250-17ccdd8253db",
   "metadata": {},
   "outputs": [
    {
     "name": "stdout",
     "output_type": "stream",
     "text": [
      "I\n",
      " \n",
      "h\n",
      "e\n",
      "a\n",
      "r\n",
      " \n",
      "y\n",
      "o\n",
      "u\n",
      "'\n",
      "r\n",
      "e\n",
      " \n",
      "n\n",
      "e\n",
      "w\n",
      " \n",
      "i\n",
      "n\n",
      " \n",
      "t\n",
      "o\n",
      "w\n",
      "n\n"
     ]
    }
   ],
   "source": [
    "n =  \"I hear you're new in town\"\n",
    "    \n",
    "for letter in n:\n",
    "  print (letter)"
   ]
  },
  {
   "cell_type": "code",
   "execution_count": 17,
   "id": "dab1a4f6-6cb8-46e8-bcc0-0c34c66b7313",
   "metadata": {},
   "outputs": [
    {
     "name": "stdout",
     "output_type": "stream",
     "text": [
      "Groucho\n"
     ]
    }
   ],
   "source": [
    "MarxBros = [\"Groucho\", \"Harpo\", \"Chico\"]\n",
    "for b in MarxBros:\n",
    "  if b == \"Harpo\":\n",
    "    break\n",
    "  print(b)"
   ]
  },
  {
   "cell_type": "code",
   "execution_count": 18,
   "id": "223a7896-6880-40f8-83e8-a27902b75bb8",
   "metadata": {},
   "outputs": [
    {
     "name": "stdout",
     "output_type": "stream",
     "text": [
      "2\n",
      "5\n",
      "8\n",
      "11\n",
      "14\n",
      "17\n",
      "20\n",
      "23\n",
      "26\n",
      "29\n"
     ]
    }
   ],
   "source": [
    "for x in range(2, 30, 3):  #the range function uses the same (start, end, increment) as array slicing x[2:30:2]\n",
    "  print(x)"
   ]
  },
  {
   "cell_type": "code",
   "execution_count": 19,
   "id": "f205e23f-23df-4c1e-aa7a-c4d48306a764",
   "metadata": {},
   "outputs": [
    {
     "name": "stdout",
     "output_type": "stream",
     "text": [
      "0\n",
      "1\n",
      "2\n",
      "3\n",
      "4\n",
      "5\n",
      "6\n",
      "7\n",
      "8\n",
      "9\n",
      "10\n",
      "11\n",
      "12\n"
     ]
    }
   ],
   "source": [
    "for x in range(99):\n",
    "  if x == 13: \n",
    "    break\n",
    "  print(x)\n",
    "\n"
   ]
  },
  {
   "cell_type": "code",
   "execution_count": 39,
   "id": "dee6f51a-18e2-46a9-8821-c457ff01228c",
   "metadata": {},
   "outputs": [
    {
     "name": "stdout",
     "output_type": "stream",
     "text": [
      "9 Not divisible by 2\n",
      "7 Not divisible by 2\n",
      "3 Not divisible by 2\n"
     ]
    }
   ],
   "source": [
    "n =  [9,4,2,6,7,10,3,8]\n",
    "\n",
    "for val in n:\n",
    "  if val%2==0:\n",
    "     continue\n",
    "  print(val, 'Not divisible by 2')\n"
   ]
  },
  {
   "cell_type": "code",
   "execution_count": 44,
   "id": "eb6882a3-0ac5-47a4-95b8-b96d8a925900",
   "metadata": {},
   "outputs": [
    {
     "name": "stdout",
     "output_type": "stream",
     "text": [
      "9 Not divisible by 2\n",
      "7 Not divisible by 2\n",
      "3 Not divisible by 2\n"
     ]
    }
   ],
   "source": [
    "n =  [9,4,2,6,7,10,3,8]\n",
    "\n",
    "for val in n:\n",
    "  if val%2!=0:\n",
    "     pass\n",
    "     print(val, 'Not divisible by 2')\n"
   ]
  },
  {
   "cell_type": "markdown",
   "id": "5cca4de6-fea2-4750-a779-c450742eb12b",
   "metadata": {},
   "source": [
    "### Nested loops"
   ]
  },
  {
   "cell_type": "code",
   "execution_count": 22,
   "id": "2bac4095-854d-471e-9e0f-da0543db4a71",
   "metadata": {},
   "outputs": [
    {
     "name": "stdout",
     "output_type": "stream",
     "text": [
      "pappa chair\n",
      "pappa bed\n",
      "pappa porrige\n",
      "momma chair\n",
      "momma bed\n",
      "momma porrige\n",
      "baby chair\n",
      "baby bed\n",
      "baby porrige\n"
     ]
    }
   ],
   "source": [
    "role = [\"pappa\", \"momma\", \"baby\"]\n",
    "stuff = [\"chair\", \"bed\", \"porrige\"]\n",
    "\n",
    "for x in role:\n",
    "  for y in stuff:\n",
    "    print(x, y)"
   ]
  },
  {
   "cell_type": "code",
   "execution_count": 29,
   "id": "c0a7d78d-a304-48b5-a498-a6173acdfc5e",
   "metadata": {},
   "outputs": [
    {
     "name": "stdin",
     "output_type": "stream",
     "text": [
      "Enter some text:  Once upon a time there was a time for taking your time but now is not the time \n"
     ]
    }
   ],
   "source": [
    "# Read in the text from a file or user input\n",
    "text = input(\"Enter some text: \")"
   ]
  },
  {
   "cell_type": "code",
   "execution_count": 30,
   "id": "057b1a66-5a20-4b60-b913-6d16db585f0e",
   "metadata": {},
   "outputs": [
    {
     "name": "stdout",
     "output_type": "stream",
     "text": [
      "['Once', 'upon', 'a', 'time', 'there', 'was', 'a', 'time', 'for', 'taking', 'your', 'time', 'but', 'now', 'is', 'not', 'the', 'time']\n"
     ]
    }
   ],
   "source": [
    "# Split the text into individual words\n",
    "words = text.split()\n",
    "print(words)\n"
   ]
  },
  {
   "cell_type": "code",
   "execution_count": 31,
   "id": "790b804f-7072-44c2-ae0f-c4931288dd91",
   "metadata": {},
   "outputs": [],
   "source": [
    "# Create an empty dictionary to store the word counts\n",
    "word_counts = {}"
   ]
  },
  {
   "cell_type": "code",
   "execution_count": 32,
   "id": "cb7ad765-7e46-49ae-8420-7fd6a2587f2a",
   "metadata": {},
   "outputs": [],
   "source": [
    "# Loop through each word in the text\n",
    "for word in words:\n",
    "    # If the word is already in the dictionary, increment its count by 1\n",
    "    if word in word_counts:\n",
    "        word_counts[word] += 1\n",
    "    # If the word is not in the dictionary, add it with a count of 1\n",
    "    else:\n",
    "        word_counts[word] = 1"
   ]
  },
  {
   "cell_type": "code",
   "execution_count": 33,
   "id": "4f246f43-8b17-4f87-b192-f48a93ebc6e0",
   "metadata": {},
   "outputs": [
    {
     "name": "stdout",
     "output_type": "stream",
     "text": [
      "Once 1\n",
      "upon 1\n",
      "a 2\n",
      "time 4\n",
      "there 1\n",
      "was 1\n",
      "for 1\n",
      "taking 1\n",
      "your 1\n",
      "but 1\n",
      "now 1\n",
      "is 1\n",
      "not 1\n",
      "the 1\n"
     ]
    }
   ],
   "source": [
    "# Print out the dictionary of word counts\n",
    "for word, count in word_counts.items():\n",
    "    print(word, count)\n",
    "    "
   ]
  },
  {
   "cell_type": "code",
   "execution_count": 45,
   "id": "9d4b4bc7-f7d8-4fd1-ad40-58c64bd6d158",
   "metadata": {},
   "outputs": [
    {
     "name": "stdout",
     "output_type": "stream",
     "text": [
      "{'Once': 1, 'upon': 1, 'a': 2, 'time': 4, 'there': 1, 'was': 1, 'for': 1, 'taking': 1, 'your': 1, 'but': 1, 'now': 1, 'is': 1, 'not': 1, 'the': 1}\n"
     ]
    }
   ],
   "source": [
    "print(word_counts)"
   ]
  },
  {
   "cell_type": "markdown",
   "id": "6439591c-d792-4ad0-bbe7-463f277780d2",
   "metadata": {},
   "source": [
    "## While loops"
   ]
  },
  {
   "cell_type": "code",
   "execution_count": 34,
   "id": "3c330436-5349-48d5-8220-eca0feae1982",
   "metadata": {},
   "outputs": [
    {
     "name": "stdout",
     "output_type": "stream",
     "text": [
      "1\n",
      "2\n",
      "3\n",
      "4\n",
      "5\n",
      "6\n",
      "7\n",
      "8\n",
      "9\n",
      "i is no longer less than 10\n"
     ]
    }
   ],
   "source": [
    "i = 1\n",
    "while i < 10:  #this loop will continue until i is greater than or equal to 10\n",
    "  print(i)\n",
    "  i += 1\n",
    "else:\n",
    "  print(\"i is no longer less than 10\")"
   ]
  },
  {
   "cell_type": "code",
   "execution_count": 36,
   "id": "24179794-f028-4deb-9cf4-73b69c346dac",
   "metadata": {},
   "outputs": [
    {
     "name": "stdout",
     "output_type": "stream",
     "text": [
      "0\n",
      "0\n",
      "1\n",
      "0\n",
      "0\n",
      "0\n",
      "1\n",
      "0\n",
      "1\n"
     ]
    }
   ],
   "source": [
    "import random\n",
    "i = 1\n",
    "while i < 10:\n",
    "  print(random.randint(0,1))   #coin toss\n",
    "  i += 1"
   ]
  },
  {
   "cell_type": "code",
   "execution_count": 37,
   "id": "8315ef3d-4656-4671-aa60-483f13b1b207",
   "metadata": {},
   "outputs": [
    {
     "name": "stdout",
     "output_type": "stream",
     "text": [
      "[10, 12, 14, 16, 18]\n"
     ]
    }
   ],
   "source": [
    "print(list(range(10,20,2)))\n",
    "\n"
   ]
  },
  {
   "cell_type": "code",
   "execution_count": null,
   "id": "2d5e0f83-5db6-45e3-b181-c5b96323642d",
   "metadata": {},
   "outputs": [],
   "source": []
  }
 ],
 "metadata": {
  "kernelspec": {
   "display_name": "Python 3 (ipykernel)",
   "language": "python",
   "name": "python3"
  },
  "language_info": {
   "codemirror_mode": {
    "name": "ipython",
    "version": 3
   },
   "file_extension": ".py",
   "mimetype": "text/x-python",
   "name": "python",
   "nbconvert_exporter": "python",
   "pygments_lexer": "ipython3",
   "version": "3.9.13"
  }
 },
 "nbformat": 4,
 "nbformat_minor": 5
}
