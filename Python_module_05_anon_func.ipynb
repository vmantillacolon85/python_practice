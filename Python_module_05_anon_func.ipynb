{
 "cells": [
  {
   "cell_type": "markdown",
   "id": "30a2dbfe-2179-4417-9e76-57dc57f9777d",
   "metadata": {},
   "source": [
    "# Python Module 5: Anonymous Functions"
   ]
  },
  {
   "cell_type": "markdown",
   "id": "23105496-f479-4b8d-b8f3-8a6615619b05",
   "metadata": {},
   "source": [
    "## 1.0 Anonymous Functions = Lambda Expressions."
   ]
  },
  {
   "cell_type": "markdown",
   "id": "e041a79f-fbb2-45d9-a66b-37c70a039825",
   "metadata": {},
   "source": [
    "In Python, an anonymous function is a function that is defined without a name.\n",
    "While normal functions are defined using the def keyword in Python, anonymous functions are defined using the lambda keyword.\n",
    "Hence, anonymous functions are also called lambda functions."
   ]
  },
  {
   "cell_type": "markdown",
   "id": "7df38d51-8f1d-452d-94fa-aa80b23f29cb",
   "metadata": {
    "tags": []
   },
   "source": [
    "### Print vs Return"
   ]
  },
  {
   "cell_type": "markdown",
   "id": "41754af9-1103-4e0e-ac48-e9d3db74be6c",
   "metadata": {},
   "source": [
    "Use print when you want to show a value to a human, `return` is a different beast however. When a return statement is reached, Python will stop the execution of the current function, sending a value out to where the function was called. Use `return` when you want to send a value from one point in your code to another."
   ]
  },
  {
   "cell_type": "code",
   "execution_count": 1,
   "id": "f5ed90a4-239f-4277-a557-3131056a4805",
   "metadata": {},
   "outputs": [
    {
     "name": "stdout",
     "output_type": "stream",
     "text": [
      "4\n"
     ]
    }
   ],
   "source": [
    "def print_double(x):\n",
    "    print(x*2)\n",
    "    \n",
    "print_double(2)"
   ]
  },
  {
   "cell_type": "code",
   "execution_count": 2,
   "id": "0c7181fb-3887-4f86-a26d-141600676348",
   "metadata": {},
   "outputs": [
    {
     "data": {
      "text/plain": [
       "4"
      ]
     },
     "execution_count": 2,
     "metadata": {},
     "output_type": "execute_result"
    }
   ],
   "source": [
    "def return_double(x):\n",
    "    return x*2\n",
    "\n",
    "return_double(2)"
   ]
  },
  {
   "cell_type": "code",
   "execution_count": 3,
   "id": "585bf686-9ced-4c37-b2ea-7a1d79264b28",
   "metadata": {},
   "outputs": [],
   "source": [
    "#x = print_double(print_double(2))\n",
    "#x"
   ]
  },
  {
   "cell_type": "code",
   "execution_count": 4,
   "id": "22102962-6562-447d-9f8a-8a6204f630fe",
   "metadata": {},
   "outputs": [
    {
     "data": {
      "text/plain": [
       "4"
      ]
     },
     "execution_count": 4,
     "metadata": {},
     "output_type": "execute_result"
    }
   ],
   "source": [
    "x = return_double(2)\n",
    "x"
   ]
  },
  {
   "cell_type": "code",
   "execution_count": 5,
   "id": "9db4cc7d-5b15-489f-a2f8-b8b17dd63954",
   "metadata": {},
   "outputs": [
    {
     "data": {
      "text/plain": [
       "8"
      ]
     },
     "execution_count": 5,
     "metadata": {},
     "output_type": "execute_result"
    }
   ],
   "source": [
    "# Nesting Functions With Return\n",
    "x = return_double(return_double(2))\n",
    "x"
   ]
  },
  {
   "cell_type": "markdown",
   "id": "4272dfc3-817d-4e30-bf49-ca5df574716c",
   "metadata": {},
   "source": [
    "Whenever you create a function that may be later used in other functions, pretty much always, use `return`."
   ]
  },
  {
   "cell_type": "markdown",
   "id": "4249f584-424b-4a88-91ec-6f59082a1254",
   "metadata": {},
   "source": [
    "### 1.1 Making a function by traditional methods"
   ]
  },
  {
   "cell_type": "markdown",
   "id": "d791b2cd-b626-4208-b6c5-b69b0d247c11",
   "metadata": {},
   "source": [
    "`def function_name(inputs):`  there can be zero or more inputs  \n",
    "`   return expression_or_logic`"
   ]
  },
  {
   "cell_type": "code",
   "execution_count": 6,
   "id": "763ea7e9-8f59-44bf-ab3b-3869f7767004",
   "metadata": {},
   "outputs": [],
   "source": [
    "# Define a function that converts degrees celcius to degrees fahreheit\n",
    "\n",
    "def celcius_to_fahrenheit_temp_converter(temp_celcius):\n",
    "    return \"Temp Fahrenheit: \" + str(temp_celcius * 9/5 + 32)"
   ]
  },
  {
   "cell_type": "code",
   "execution_count": 7,
   "id": "a29bd9e9-eeab-4d2e-83c1-0a001153ebce",
   "metadata": {},
   "outputs": [
    {
     "data": {
      "text/plain": [
       "'Temp Fahrenheit: -4.0'"
      ]
     },
     "execution_count": 7,
     "metadata": {},
     "output_type": "execute_result"
    }
   ],
   "source": [
    "# Call the function at any time to use the conversion\n",
    "\n",
    "celcius_to_fahrenheit_temp_converter(-20)"
   ]
  },
  {
   "cell_type": "markdown",
   "id": "086c0916-b5d3-45ed-bdb5-6107edd89a83",
   "metadata": {},
   "source": [
    "### 1.2 Lambda Expressions: \n",
    "`lambda input_name: formula_for_output`"
   ]
  },
  {
   "cell_type": "code",
   "execution_count": 8,
   "id": "ec23e0d6-6277-4f45-a880-cee5bbf9c720",
   "metadata": {},
   "outputs": [
    {
     "data": {
      "text/plain": [
       "<function __main__.<lambda>(temp_celcius)>"
      ]
     },
     "execution_count": 8,
     "metadata": {},
     "output_type": "execute_result"
    }
   ],
   "source": [
    "# Create a lambda expression\n",
    "\n",
    "lambda temp_celcius: \"Temp Fahrenheit: \" + str(temp_celcius * 9/5 + 32)\n",
    "\n",
    "#the function is not named and therefore anonymous"
   ]
  },
  {
   "cell_type": "markdown",
   "id": "d60b6281-1beb-409c-9349-37ca1c2acb7d",
   "metadata": {},
   "source": [
    "To use the function we will need to name it"
   ]
  },
  {
   "cell_type": "code",
   "execution_count": 9,
   "id": "4dc1d59c-5f22-40e2-bc65-98bd323b694f",
   "metadata": {},
   "outputs": [],
   "source": [
    "g = lambda temp_celcius: \"Temp Fahrenheit: \" + str(temp_celcius * 9/5 + 32)"
   ]
  },
  {
   "cell_type": "markdown",
   "id": "fca19434-6265-4cda-bfad-c922a59b733b",
   "metadata": {},
   "source": [
    "Having named the function we can now use it same as any other function"
   ]
  },
  {
   "cell_type": "code",
   "execution_count": 10,
   "id": "f7a8c90b-1041-42cc-b7d5-898e915d485e",
   "metadata": {},
   "outputs": [
    {
     "data": {
      "text/plain": [
       "'Temp Fahrenheit: 59.0'"
      ]
     },
     "execution_count": 10,
     "metadata": {},
     "output_type": "execute_result"
    }
   ],
   "source": [
    "g(15)"
   ]
  },
  {
   "cell_type": "markdown",
   "id": "e9b8614d-5278-41f3-801c-ef92238a45cb",
   "metadata": {},
   "source": [
    "Q1. Define a function and a lambda function that provides the square of any number"
   ]
  },
  {
   "cell_type": "code",
   "execution_count": 11,
   "id": "2058905d-2256-422b-932c-579b00d48ae8",
   "metadata": {},
   "outputs": [
    {
     "data": {
      "text/plain": [
       "9"
      ]
     },
     "execution_count": 11,
     "metadata": {},
     "output_type": "execute_result"
    }
   ],
   "source": [
    "def sq(x):\n",
    "    return(x*x)\n",
    "\n",
    "sq(4)\n",
    "\n",
    "g = lambda x: x * x\n",
    "g(3)"
   ]
  },
  {
   "cell_type": "markdown",
   "id": "06cf9863-c8d5-45e5-891f-c3ecf604ea68",
   "metadata": {},
   "source": [
    "Let's create a function for taking in our users first name and last name\n",
    "- The .strip() string method removes leading and trailing spaces\n",
    "- The .title() string method capitalizes the first letter of the word\n",
    "- You may remember these methods as TRIM() and PROPER() from MS Excel"
   ]
  },
  {
   "cell_type": "code",
   "execution_count": 12,
   "id": "8e5d43b7-7cc4-4cdc-ae56-58b38929d8e2",
   "metadata": {},
   "outputs": [],
   "source": [
    "def full_name(first_name,last_name):\n",
    "    return first_name.strip().title() + \" \" + last_name.strip().title() "
   ]
  },
  {
   "cell_type": "code",
   "execution_count": 13,
   "id": "77fa4c1a-fc6a-49d2-b61d-196035efb10c",
   "metadata": {
    "tags": []
   },
   "outputs": [
    {
     "data": {
      "text/plain": [
       "'Benedict Cumberbatch'"
      ]
     },
     "execution_count": 13,
     "metadata": {},
     "output_type": "execute_result"
    }
   ],
   "source": [
    "full_name(\"beNedict\",\"  cumberbatch  \")"
   ]
  },
  {
   "cell_type": "markdown",
   "id": "2aa37cf3-f557-40c8-bc1e-38c97a54c0bc",
   "metadata": {},
   "source": [
    "Let's try a lambda expression"
   ]
  },
  {
   "cell_type": "code",
   "execution_count": 14,
   "id": "1de9f101-0bd2-45ca-b0e4-8ebbf2869da2",
   "metadata": {},
   "outputs": [],
   "source": [
    "full_name = lambda first_name, last_name: first_name.strip().title() + \" \" + last_name.strip().title() "
   ]
  },
  {
   "cell_type": "code",
   "execution_count": 15,
   "id": "07563c40-3dc2-4465-9038-1786a866661e",
   "metadata": {},
   "outputs": [
    {
     "data": {
      "text/plain": [
       "'Mark Zuckerberg'"
      ]
     },
     "execution_count": 15,
     "metadata": {},
     "output_type": "execute_result"
    }
   ],
   "source": [
    "full_name(\" maRk\",\"  zuckerberg\")"
   ]
  },
  {
   "cell_type": "markdown",
   "id": "e88fdd37-dcd7-4cb5-b768-3c7f9429a57e",
   "metadata": {
    "tags": []
   },
   "source": [
    "### Map()"
   ]
  },
  {
   "cell_type": "markdown",
   "id": "161f7c01-3ef6-4f4e-b69b-471a88b8d02e",
   "metadata": {},
   "source": [
    "`map(fun, iter)`"
   ]
  },
  {
   "cell_type": "markdown",
   "id": "6afdba7f-bdbf-4340-8e3a-7a64fc8238e5",
   "metadata": {},
   "source": [
    "function that returns a map object(which is an iterator) of the results after applying the given function to each item of a given iterable (list, tuple etc.)"
   ]
  },
  {
   "cell_type": "code",
   "execution_count": 16,
   "id": "97a13a7b-9f19-4f08-a82b-58d583d6a1bb",
   "metadata": {},
   "outputs": [],
   "source": [
    "# We want to make a function that squares a number\n",
    "\n",
    "def sq(x):\n",
    "    return x*x"
   ]
  },
  {
   "cell_type": "code",
   "execution_count": 17,
   "id": "7dccbc7b-02f9-42e4-a0d1-71cb69cc5dc4",
   "metadata": {},
   "outputs": [
    {
     "name": "stdout",
     "output_type": "stream",
     "text": [
      "[1, 4, 9, 16, 25, 36, 49, 64, 81, 100]\n"
     ]
    }
   ],
   "source": [
    "# We want to square every number in a list\n",
    "\n",
    "lst = [1,2,3,4,5,6,7,8,9,10]\n",
    "lst2=[]\n",
    "\n",
    "for x in lst:\n",
    "    lst2.append(sq(x))\n",
    "    \n",
    "print(lst2)"
   ]
  },
  {
   "cell_type": "code",
   "execution_count": 18,
   "id": "e6b4b493-ed34-4dac-b6ca-56caf581c093",
   "metadata": {},
   "outputs": [
    {
     "name": "stdout",
     "output_type": "stream",
     "text": [
      "[1, 4, 9, 16, 25, 36, 49, 64, 81, 100]\n"
     ]
    }
   ],
   "source": [
    "# With map() function we can apply a function to every element of a list\n",
    "\n",
    "print(list(map(sq, lst)))"
   ]
  },
  {
   "cell_type": "code",
   "execution_count": 19,
   "id": "60661135-2645-45bd-a2d8-b57cb9a8b1f2",
   "metadata": {},
   "outputs": [
    {
     "name": "stdout",
     "output_type": "stream",
     "text": [
      "[1, 4, 9, 16, 25, 36, 49, 64, 81, 100]\n"
     ]
    }
   ],
   "source": [
    "print(list(map(lambda x: x*x, lst)))"
   ]
  },
  {
   "cell_type": "code",
   "execution_count": 20,
   "id": "f8c5e3e8-b253-4e69-a060-0c984d0f74b0",
   "metadata": {},
   "outputs": [
    {
     "data": {
      "text/plain": [
       "[5, 6, 7, 8, 9, 10, 11, 12, 13, 14, 15, 16, 17, 18, 19, 20, 21, 22, 23, 24, 25]"
      ]
     },
     "execution_count": 20,
     "metadata": {},
     "output_type": "execute_result"
    }
   ],
   "source": [
    "lst = list(range(5,26))\n",
    "lst"
   ]
  },
  {
   "cell_type": "markdown",
   "id": "805ac04e-d9c9-4108-bcc7-20aac34eaadc",
   "metadata": {},
   "source": [
    "Challenge 1:\n",
    "\n",
    "In one line print the output of a function that takes 10% of every value in lst, triples it and prints it out in a list."
   ]
  },
  {
   "cell_type": "code",
   "execution_count": 21,
   "id": "c576ef5d-e776-4151-8d41-8a2c70533edc",
   "metadata": {},
   "outputs": [
    {
     "name": "stdout",
     "output_type": "stream",
     "text": [
      "[1.5, 1.8, 2.1, 2.4, 2.7, 3.0, 3.3, 3.6, 3.9, 4.2, 4.5, 4.8, 5.1, 5.4, 5.7, 6.0, 6.3, 6.6, 6.9, 7.2, 7.5]\n"
     ]
    }
   ],
   "source": [
    "lst = [5, 6, 7, 8, 9, 10, 11, 12, 13, 14, 15, 16, 17, 18, 19, 20, 21, 22, 23, 24, 25]\n",
    "print(list((map(lambda x: round((x*.1)*3,2),lst))))"
   ]
  },
  {
   "cell_type": "markdown",
   "id": "180c7104-4f8f-4e4b-bbbb-5f8a18b94d07",
   "metadata": {},
   "source": [
    "Combine two lists of first names and last names into a single name called full_name (trim and proper please)\n",
    "\n",
    "Hint: lambda input1, input2: expression"
   ]
  },
  {
   "cell_type": "code",
   "execution_count": 22,
   "id": "ac628721-9cd3-4e1c-b0ba-5f01a75c60ae",
   "metadata": {},
   "outputs": [],
   "source": [
    "fname = [\"Phillip\",\" anDrew \", \" vinny\"]\n",
    "lname = [\"dick \", \"GARFIeld\", \"testaverde\"]"
   ]
  },
  {
   "cell_type": "code",
   "execution_count": 23,
   "id": "52166923-9be6-484e-86bf-2535e19d4bfc",
   "metadata": {},
   "outputs": [
    {
     "name": "stdout",
     "output_type": "stream",
     "text": [
      "[5, 6, 7, 8, 9, 10, 11, 12, 13, 14, 15, 16, 17, 18, 19, 20, 21, 22, 23, 24, 25]\n"
     ]
    }
   ],
   "source": [
    "print(lst)"
   ]
  },
  {
   "cell_type": "code",
   "execution_count": 24,
   "id": "835c6750-9945-42bd-a9ea-aadfa38607c1",
   "metadata": {},
   "outputs": [
    {
     "name": "stdout",
     "output_type": "stream",
     "text": [
      "10\n"
     ]
    }
   ],
   "source": [
    "print(x)"
   ]
  },
  {
   "cell_type": "code",
   "execution_count": null,
   "id": "1300a977-e125-4d2e-984e-3944182b8d77",
   "metadata": {},
   "outputs": [],
   "source": []
  }
 ],
 "metadata": {
  "kernelspec": {
   "display_name": "Python 3 (ipykernel)",
   "language": "python",
   "name": "python3"
  },
  "language_info": {
   "codemirror_mode": {
    "name": "ipython",
    "version": 3
   },
   "file_extension": ".py",
   "mimetype": "text/x-python",
   "name": "python",
   "nbconvert_exporter": "python",
   "pygments_lexer": "ipython3",
   "version": "3.9.13"
  }
 },
 "nbformat": 4,
 "nbformat_minor": 5
}
