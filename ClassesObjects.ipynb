{
 "cells": [
  {
   "cell_type": "markdown",
   "id": "d9fd33ad",
   "metadata": {},
   "source": [
    "# Python - Classes and Objects"
   ]
  },
  {
   "cell_type": "markdown",
   "id": "fef36644",
   "metadata": {},
   "source": [
    "## Review: loops and functions"
   ]
  },
  {
   "cell_type": "code",
   "execution_count": 2,
   "id": "56f6015b",
   "metadata": {},
   "outputs": [
    {
     "name": "stdout",
     "output_type": "stream",
     "text": [
      "Larry\n",
      "Mo\n",
      "Curly\n"
     ]
    }
   ],
   "source": [
    "stooges = [\"Larry\", \"Mo\", \"Curly\"]\n",
    "\n",
    "for n in stooges: \n",
    "    print(n)"
   ]
  },
  {
   "cell_type": "code",
   "execution_count": 8,
   "id": "34e86e74",
   "metadata": {},
   "outputs": [
    {
     "name": "stdout",
     "output_type": "stream",
     "text": [
      "1\n",
      "2\n",
      "3\n",
      "4\n",
      "5\n",
      "6\n",
      "7\n",
      "8\n",
      "9\n",
      "10\n"
     ]
    }
   ],
   "source": [
    "i = 1\n",
    "while i <= 10:\n",
    "  print(i)\n",
    "  i += 1"
   ]
  },
  {
   "cell_type": "markdown",
   "id": "a5b00cd4",
   "metadata": {},
   "source": [
    "## Review: If Elif Else"
   ]
  },
  {
   "cell_type": "code",
   "execution_count": 11,
   "id": "5a46eec6",
   "metadata": {},
   "outputs": [
    {
     "name": "stdout",
     "output_type": "stream",
     "text": [
      "water\n"
     ]
    }
   ],
   "source": [
    "c_temp = 30\n",
    "\n",
    "if c_temp < 0: \n",
    "    state='ice'\n",
    "elif c_temp < 100: \n",
    "    state='water'\n",
    "else: state='steam'\n",
    "  \n",
    "print(state)"
   ]
  },
  {
   "cell_type": "markdown",
   "id": "20f19684-148b-4ba9-a327-8a026296a782",
   "metadata": {},
   "source": [
    "## Functions"
   ]
  },
  {
   "cell_type": "code",
   "execution_count": 5,
   "id": "5ac616c0",
   "metadata": {},
   "outputs": [
    {
     "name": "stdout",
     "output_type": "stream",
     "text": [
      "[68.34, 70.55, 50.71, 26.46, 24.25, 55.12]\n"
     ]
    }
   ],
   "source": [
    "def kg_to_lbs(k):\n",
    "    pounds=k*2.20462\n",
    "    return round(pounds,2)\n",
    "\n",
    "weights_kg = [31, 32, 23, 12, 11, 25]\n",
    "weights_lb = []\n",
    "for n in weights_kg: \n",
    "    weights_lb.append(kg_to_lbs(n))\n",
    "    \n",
    "print (weights_lb)\n"
   ]
  },
  {
   "cell_type": "markdown",
   "id": "a04b3343",
   "metadata": {},
   "source": [
    "## Anonymous (lambda) functions and map()"
   ]
  },
  {
   "cell_type": "markdown",
   "id": "f100883d-76a7-4ae4-9c5d-57a77083f5b9",
   "metadata": {},
   "source": [
    "The map() function makes is possible to iterate through a list (or other iterable object) \n",
    "without using a for or while loop.  Use map (function, object) to apply function to object"
   ]
  },
  {
   "cell_type": "code",
   "execution_count": 43,
   "id": "81d4355a-d870-4340-8120-211cb9fb1014",
   "metadata": {},
   "outputs": [
    {
     "name": "stdout",
     "output_type": "stream",
     "text": [
      "[2, 4, 6, 8]\n"
     ]
    }
   ],
   "source": [
    "# This function will return double of n (whatever is sent in as an argument)\n",
    "def double(n):\n",
    "    return n + n\n",
    " \n",
    "# We double all numbers using map()\n",
    "numbers = (1, 2, 3, 4)\n",
    "result = map(double, numbers)\n",
    "print(list(result))"
   ]
  },
  {
   "cell_type": "markdown",
   "id": "625b8976-10b1-460c-a159-2de049e1c53e",
   "metadata": {},
   "source": [
    "A lambda function is an inline (i.e. on the fly) function that can be declared and used in the same line"
   ]
  },
  {
   "cell_type": "code",
   "execution_count": 7,
   "id": "4f834e19",
   "metadata": {},
   "outputs": [
    {
     "name": "stdout",
     "output_type": "stream",
     "text": [
      "[11.02, 22.05, 8.82, 26.46, 46.3, 52.91]\n"
     ]
    }
   ],
   "source": [
    "kg_list = [5, 10, 4, 12, 21, 24] \n",
    "lb_list = list(map(lambda kg:  round((kg *2.20462),2),kg_list)) \n",
    "print(lb_list)\n"
   ]
  },
  {
   "cell_type": "code",
   "execution_count": null,
   "id": "1ed8ff2c-8501-41a7-a1ae-074ff4f2f638",
   "metadata": {},
   "outputs": [],
   "source": []
  },
  {
   "cell_type": "code",
   "execution_count": null,
   "id": "122725fa-d4f9-4b01-8626-84e9a723a533",
   "metadata": {},
   "outputs": [],
   "source": []
  },
  {
   "cell_type": "markdown",
   "id": "cd368162",
   "metadata": {},
   "source": [
    "## Classes and Objects"
   ]
  },
  {
   "cell_type": "markdown",
   "id": "271b0b22-bbfa-454e-a7c3-75df414ef29c",
   "metadata": {},
   "source": [
    "Let's say we want to keep records on our employees. \n",
    "We can create a class called 'employee' that defines the attributes of a generic employee.  Then we can instantiate (make a specific instance of) the class for each actual employee.  In this way each employee becomes an object.  "
   ]
  },
  {
   "cell_type": "code",
   "execution_count": null,
   "id": "d0a90237",
   "metadata": {},
   "outputs": [
    {
     "name": "stdout",
     "output_type": "stream",
     "text": [
      "45\n",
      "46\n"
     ]
    }
   ],
   "source": [
    "\n",
    "class employee:  \n",
    "      \n",
    "    # init method or constructor   \n",
    "    def __init__(self, name, age):  \n",
    "        self.name = name  \n",
    "        self.age = age\n",
    "        \n",
    "    #  This is a Class Method   \n",
    "    def have_a_birthday(self):  \n",
    "        self.age+=1\n",
    "      \n"
   ]
  },
  {
   "cell_type": "code",
   "execution_count": 35,
   "id": "ca7d4a0f-8ce2-4667-8d7c-2c55001d797d",
   "metadata": {},
   "outputs": [
    {
     "name": "stdout",
     "output_type": "stream",
     "text": [
      "45\n"
     ]
    }
   ],
   "source": [
    "#Now we can instantiate an employee   \n",
    "    \n",
    "r = employee('Rona', 45)\n",
    "print(r.age)"
   ]
  },
  {
   "cell_type": "code",
   "execution_count": 36,
   "id": "631adf49-5cd3-471d-b738-64392e3443fc",
   "metadata": {},
   "outputs": [
    {
     "name": "stdout",
     "output_type": "stream",
     "text": [
      "46\n"
     ]
    }
   ],
   "source": [
    "\n",
    "#Now we can give her a birthday, incrementing her age by 1\n",
    "\n",
    "r.have_a_birthday()\n",
    "print(r.age)"
   ]
  },
  {
   "cell_type": "markdown",
   "id": "fdcd4cde-1609-43e7-8d66-65670cff57f7",
   "metadata": {},
   "source": [
    "Having we can instantiate a different employee with different characteristics but the same structure.  "
   ]
  },
  {
   "cell_type": "code",
   "execution_count": 26,
   "id": "a625d52d",
   "metadata": {},
   "outputs": [
    {
     "name": "stdout",
     "output_type": "stream",
     "text": [
      "25\n",
      "26\n"
     ]
    }
   ],
   "source": [
    "t = employee('Tomi', 25)\n",
    "print(t.age)\n",
    "t.have_a_birthday()\n",
    "print(t.age)"
   ]
  },
  {
   "cell_type": "markdown",
   "id": "bf4272da-ab24-42d1-b021-02b447df981c",
   "metadata": {},
   "source": [
    "In this example we'll create a generic gauge for measuring anything and keeping track of its measurements.   "
   ]
  },
  {
   "cell_type": "code",
   "execution_count": 27,
   "id": "7a7b2940-80b0-45f6-bb8a-0dae378d5407",
   "metadata": {},
   "outputs": [],
   "source": [
    "class gauge:  \n",
    "      \n",
    "    # init method or constructor   \n",
    "    def __init__(self, name, gauge_type):  \n",
    "        self.name = name  \n",
    "        self.type = gauge_type\n",
    "        self.readings=[]\n",
    "      \n",
    "    #  Method   \n",
    "    def add_reading(self,reading):  \n",
    "        self.readings.append(reading)\n",
    "      "
   ]
  },
  {
   "cell_type": "markdown",
   "id": "c41e69e3-57cf-4fc3-b66e-4abbae6505b9",
   "metadata": {},
   "source": [
    "Now we can create a specific gauge (a rain gauge in Brooklyn) and we can simulate a week's worth of rainfall readings"
   ]
  },
  {
   "cell_type": "code",
   "execution_count": 33,
   "id": "b396d7f0-487c-42fb-8122-41c22c20a514",
   "metadata": {},
   "outputs": [
    {
     "name": "stdout",
     "output_type": "stream",
     "text": [
      "[3.98, 2.25, 3.33, 2.7, 0.46, 1.63, 0.79]\n"
     ]
    }
   ],
   "source": [
    "import random\n",
    "rain_gauge = gauge(\"Brooklyn Weather\", \"rain\")\n",
    "for i in range(7):\n",
    "    rainfall=round(random.uniform(0, 4),2)\n",
    "    rain_gauge.add_reading(rainfall)\n",
    "    \n",
    "\n",
    "print (rain_gauge.readings)\n"
   ]
  },
  {
   "cell_type": "code",
   "execution_count": 41,
   "id": "3e93f67b-6529-4927-a05f-d244c80be9d4",
   "metadata": {},
   "outputs": [],
   "source": [
    "average_rainfall = sum(rain_gauge.readings)/len(rain_gauge.readings)"
   ]
  },
  {
   "cell_type": "code",
   "execution_count": 42,
   "id": "37197fdb-ad06-4b26-925e-8336aa168f5f",
   "metadata": {},
   "outputs": [
    {
     "name": "stdout",
     "output_type": "stream",
     "text": [
      "Average rainfall = 2.162857142857143\n"
     ]
    }
   ],
   "source": [
    "print (\"Average rainfall =\", average_rainfall)"
   ]
  },
  {
   "cell_type": "code",
   "execution_count": null,
   "id": "7c75d1fd-2648-42d7-b02b-1857e4d8c4a8",
   "metadata": {},
   "outputs": [],
   "source": []
  },
  {
   "cell_type": "markdown",
   "id": "526b1960",
   "metadata": {},
   "source": [
    "## Importing Libraries and Modules (aka other people's objects)"
   ]
  },
  {
   "cell_type": "code",
   "execution_count": 27,
   "id": "60bdf9c7",
   "metadata": {},
   "outputs": [
    {
     "name": "stdout",
     "output_type": "stream",
     "text": [
      "25.132741228718345\n",
      "2.0\n"
     ]
    }
   ],
   "source": [
    "import math\n",
    "\n",
    "r=4\n",
    "x=2*math.pi*r\n",
    "print(x)\n",
    "\n",
    "y=math.log10(100)\n",
    "print(y)\n"
   ]
  },
  {
   "cell_type": "code",
   "execution_count": 30,
   "id": "400b8101",
   "metadata": {},
   "outputs": [
    {
     "name": "stdout",
     "output_type": "stream",
     "text": [
      "32.0\n"
     ]
    }
   ],
   "source": [
    "from math import pow\n",
    "z = pow(2,5)\n",
    "print(z)"
   ]
  },
  {
   "cell_type": "code",
   "execution_count": 48,
   "id": "27fa81d8",
   "metadata": {},
   "outputs": [
    {
     "name": "stdout",
     "output_type": "stream",
     "text": [
      "36 days, 10:04:20\n"
     ]
    }
   ],
   "source": [
    "import datetime\n",
    "# datetime(year, month, day, hour, minute, second)\n",
    "a = datetime.datetime(2017, 6, 21, 18, 25, 30)\n",
    "b = datetime.datetime(2017, 5, 16, 8, 21, 10)\n",
    "  \n",
    "# returns a timedelta object\n",
    "c = a-b\n",
    "print(c)"
   ]
  },
  {
   "cell_type": "code",
   "execution_count": null,
   "id": "4a8d2461",
   "metadata": {},
   "outputs": [],
   "source": [
    "\n"
   ]
  }
 ],
 "metadata": {
  "kernelspec": {
   "display_name": "Python 3 (ipykernel)",
   "language": "python",
   "name": "python3"
  },
  "language_info": {
   "codemirror_mode": {
    "name": "ipython",
    "version": 3
   },
   "file_extension": ".py",
   "mimetype": "text/x-python",
   "name": "python",
   "nbconvert_exporter": "python",
   "pygments_lexer": "ipython3",
   "version": "3.9.13"
  }
 },
 "nbformat": 4,
 "nbformat_minor": 5
}
