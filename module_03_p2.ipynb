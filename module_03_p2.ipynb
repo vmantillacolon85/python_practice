{
 "cells": [
  {
   "cell_type": "markdown",
   "id": "dca7f792-bdf1-443d-8a4c-8269308df55c",
   "metadata": {},
   "source": [
    "# Module 3 Calculations in Python"
   ]
  },
  {
   "cell_type": "markdown",
   "id": "8dd92cb5-beea-4529-a383-540b444dfa9c",
   "metadata": {},
   "source": [
    "# `type()` and `dir()` are more powerful than you can imagine"
   ]
  },
  {
   "cell_type": "code",
   "execution_count": 1,
   "id": "f12c9834-67b7-42e4-97c4-88cf21d785e0",
   "metadata": {},
   "outputs": [],
   "source": [
    "import math"
   ]
  },
  {
   "cell_type": "code",
   "execution_count": 2,
   "id": "c5a63858-38c4-4410-848d-f8c37dbb09b5",
   "metadata": {},
   "outputs": [
    {
     "data": {
      "text/plain": [
       "['__doc__',\n",
       " '__file__',\n",
       " '__loader__',\n",
       " '__name__',\n",
       " '__package__',\n",
       " '__spec__',\n",
       " 'acos',\n",
       " 'acosh',\n",
       " 'asin',\n",
       " 'asinh',\n",
       " 'atan',\n",
       " 'atan2',\n",
       " 'atanh',\n",
       " 'ceil',\n",
       " 'comb',\n",
       " 'copysign',\n",
       " 'cos',\n",
       " 'cosh',\n",
       " 'degrees',\n",
       " 'dist',\n",
       " 'e',\n",
       " 'erf',\n",
       " 'erfc',\n",
       " 'exp',\n",
       " 'expm1',\n",
       " 'fabs',\n",
       " 'factorial',\n",
       " 'floor',\n",
       " 'fmod',\n",
       " 'frexp',\n",
       " 'fsum',\n",
       " 'gamma',\n",
       " 'gcd',\n",
       " 'hypot',\n",
       " 'inf',\n",
       " 'isclose',\n",
       " 'isfinite',\n",
       " 'isinf',\n",
       " 'isnan',\n",
       " 'isqrt',\n",
       " 'lcm',\n",
       " 'ldexp',\n",
       " 'lgamma',\n",
       " 'log',\n",
       " 'log10',\n",
       " 'log1p',\n",
       " 'log2',\n",
       " 'modf',\n",
       " 'nan',\n",
       " 'nextafter',\n",
       " 'perm',\n",
       " 'pi',\n",
       " 'pow',\n",
       " 'prod',\n",
       " 'radians',\n",
       " 'remainder',\n",
       " 'sin',\n",
       " 'sinh',\n",
       " 'sqrt',\n",
       " 'tan',\n",
       " 'tanh',\n",
       " 'tau',\n",
       " 'trunc',\n",
       " 'ulp']"
      ]
     },
     "execution_count": 2,
     "metadata": {},
     "output_type": "execute_result"
    }
   ],
   "source": [
    "type(math)\n",
    "dir(math)"
   ]
  },
  {
   "cell_type": "code",
   "execution_count": 3,
   "id": "6ce61163-43ee-4612-b940-bc3a3790eefd",
   "metadata": {},
   "outputs": [],
   "source": [
    "import pandas"
   ]
  },
  {
   "cell_type": "code",
   "execution_count": 4,
   "id": "f10e7814-e74c-44a6-9efc-2b3843525891",
   "metadata": {},
   "outputs": [
    {
     "data": {
      "text/plain": [
       "['BooleanDtype',\n",
       " 'Categorical',\n",
       " 'CategoricalDtype',\n",
       " 'CategoricalIndex',\n",
       " 'DataFrame',\n",
       " 'DateOffset',\n",
       " 'DatetimeIndex',\n",
       " 'DatetimeTZDtype',\n",
       " 'ExcelFile',\n",
       " 'ExcelWriter',\n",
       " 'Flags',\n",
       " 'Float32Dtype',\n",
       " 'Float64Dtype',\n",
       " 'Float64Index',\n",
       " 'Grouper',\n",
       " 'HDFStore',\n",
       " 'Index',\n",
       " 'IndexSlice',\n",
       " 'Int16Dtype',\n",
       " 'Int32Dtype',\n",
       " 'Int64Dtype',\n",
       " 'Int64Index',\n",
       " 'Int8Dtype',\n",
       " 'Interval',\n",
       " 'IntervalDtype',\n",
       " 'IntervalIndex',\n",
       " 'MultiIndex',\n",
       " 'NA',\n",
       " 'NaT',\n",
       " 'NamedAgg',\n",
       " 'Period',\n",
       " 'PeriodDtype',\n",
       " 'PeriodIndex',\n",
       " 'RangeIndex',\n",
       " 'Series',\n",
       " 'SparseDtype',\n",
       " 'StringDtype',\n",
       " 'Timedelta',\n",
       " 'TimedeltaIndex',\n",
       " 'Timestamp',\n",
       " 'UInt16Dtype',\n",
       " 'UInt32Dtype',\n",
       " 'UInt64Dtype',\n",
       " 'UInt64Index',\n",
       " 'UInt8Dtype',\n",
       " '__all__',\n",
       " '__builtins__',\n",
       " '__cached__',\n",
       " '__deprecated_num_index_names',\n",
       " '__dir__',\n",
       " '__doc__',\n",
       " '__docformat__',\n",
       " '__file__',\n",
       " '__getattr__',\n",
       " '__git_version__',\n",
       " '__loader__',\n",
       " '__name__',\n",
       " '__package__',\n",
       " '__path__',\n",
       " '__spec__',\n",
       " '__version__',\n",
       " '_config',\n",
       " '_is_numpy_dev',\n",
       " '_libs',\n",
       " '_testing',\n",
       " '_typing',\n",
       " '_version',\n",
       " 'api',\n",
       " 'array',\n",
       " 'arrays',\n",
       " 'bdate_range',\n",
       " 'compat',\n",
       " 'concat',\n",
       " 'core',\n",
       " 'crosstab',\n",
       " 'cut',\n",
       " 'date_range',\n",
       " 'describe_option',\n",
       " 'errors',\n",
       " 'eval',\n",
       " 'factorize',\n",
       " 'get_dummies',\n",
       " 'get_option',\n",
       " 'infer_freq',\n",
       " 'interval_range',\n",
       " 'io',\n",
       " 'isna',\n",
       " 'isnull',\n",
       " 'json_normalize',\n",
       " 'lreshape',\n",
       " 'melt',\n",
       " 'merge',\n",
       " 'merge_asof',\n",
       " 'merge_ordered',\n",
       " 'notna',\n",
       " 'notnull',\n",
       " 'offsets',\n",
       " 'option_context',\n",
       " 'options',\n",
       " 'pandas',\n",
       " 'period_range',\n",
       " 'pivot',\n",
       " 'pivot_table',\n",
       " 'plotting',\n",
       " 'qcut',\n",
       " 'read_clipboard',\n",
       " 'read_csv',\n",
       " 'read_excel',\n",
       " 'read_feather',\n",
       " 'read_fwf',\n",
       " 'read_gbq',\n",
       " 'read_hdf',\n",
       " 'read_html',\n",
       " 'read_json',\n",
       " 'read_orc',\n",
       " 'read_parquet',\n",
       " 'read_pickle',\n",
       " 'read_sas',\n",
       " 'read_spss',\n",
       " 'read_sql',\n",
       " 'read_sql_query',\n",
       " 'read_sql_table',\n",
       " 'read_stata',\n",
       " 'read_table',\n",
       " 'read_xml',\n",
       " 'reset_option',\n",
       " 'set_eng_float_format',\n",
       " 'set_option',\n",
       " 'show_versions',\n",
       " 'test',\n",
       " 'testing',\n",
       " 'timedelta_range',\n",
       " 'to_datetime',\n",
       " 'to_numeric',\n",
       " 'to_pickle',\n",
       " 'to_timedelta',\n",
       " 'tseries',\n",
       " 'unique',\n",
       " 'util',\n",
       " 'value_counts',\n",
       " 'wide_to_long']"
      ]
     },
     "execution_count": 4,
     "metadata": {},
     "output_type": "execute_result"
    }
   ],
   "source": [
    "dir(pandas)"
   ]
  },
  {
   "cell_type": "markdown",
   "id": "e464a49a-8a1a-441b-a645-5d8a1ed0feaa",
   "metadata": {},
   "source": [
    "## Tuples"
   ]
  },
  {
   "cell_type": "markdown",
   "id": "8654eae5-4fb7-462d-94b9-f6c558b12537",
   "metadata": {},
   "source": [
    "**Tuples** are used to store multiple items of one or multiple data types in a single variable.\n",
    "\n",
    "Tuple is one of 4 built-in data types in Python used to store collections of data, the other 3 are List, Set, and Dictionary, all with different qualities and usage.\n",
    "\n",
    "A tuple is a collection which is ordered and immutable.\n",
    "\n",
    "A sequence of data surrounded py parenthesis."
   ]
  },
  {
   "cell_type": "code",
   "execution_count": 14,
   "id": "0c8dceb5-c2af-4675-b0ac-b54ba694151b",
   "metadata": {},
   "outputs": [
    {
     "data": {
      "text/plain": [
       "(tuple, tuple, tuple, str, tuple)"
      ]
     },
     "execution_count": 14,
     "metadata": {},
     "output_type": "execute_result"
    }
   ],
   "source": [
    "t1 = (1,3,5,6,9)\n",
    "t2 = (\"Ham\", \"Turkey\", \"Roast Beef\")\n",
    "t3 = (1, \"Ham\", 3.2, True)\n",
    "t4 = (\"Ham\")\n",
    "t5 = (\"Ham\",)\n",
    "\n",
    "type(t1), type(t2), type(t3), type(t4), type(t5)"
   ]
  },
  {
   "cell_type": "markdown",
   "id": "b2b2deb4-d606-46d1-a8b7-5d7b3a07c601",
   "metadata": {},
   "source": [
    "Python defaults to tuples when creating collections (even in the absence of parentheses because it reads the presence of the comma which hints to the computer that a collection is possibly being made)"
   ]
  },
  {
   "cell_type": "code",
   "execution_count": 15,
   "id": "697070b5-e8b2-4a4d-a0d7-4d562ede6447",
   "metadata": {},
   "outputs": [
    {
     "data": {
      "text/plain": [
       "(tuple, tuple, tuple, str, tuple)"
      ]
     },
     "execution_count": 15,
     "metadata": {},
     "output_type": "execute_result"
    }
   ],
   "source": [
    "t1 = 1,3,5,6,9\n",
    "t2 = \"Ham\", \"Turkey\", \"Roast Beef\"\n",
    "t3 = 1, \"Ham\", 3.2, True\n",
    "t4 = \"Ham\"\n",
    "t5 = \"Ham\",\n",
    "\n",
    "\n",
    "type(t1), type(t2), type(t3), type(t4), type(t5)"
   ]
  },
  {
   "cell_type": "markdown",
   "id": "3c9d7b15-6dd8-4b18-8580-893ed08cd21b",
   "metadata": {},
   "source": [
    "You can iterate over a tuple"
   ]
  },
  {
   "cell_type": "code",
   "execution_count": 23,
   "id": "fddfc6e9-2343-4746-99c0-f49c5c53c28f",
   "metadata": {},
   "outputs": [
    {
     "name": "stdout",
     "output_type": "stream",
     "text": [
      "1\n",
      "Turkey\n"
     ]
    }
   ],
   "source": [
    "print(t1[0])\n",
    "print(t2[1])"
   ]
  },
  {
   "cell_type": "markdown",
   "id": "75cef079-5992-4272-9bb7-8b660d2f10d7",
   "metadata": {},
   "source": [
    "Some elements have an Index"
   ]
  },
  {
   "cell_type": "code",
   "execution_count": 24,
   "id": "cea893b4-83f1-4262-8ee4-a3541108d1c9",
   "metadata": {},
   "outputs": [
    {
     "name": "stdout",
     "output_type": "stream",
     "text": [
      "T\n"
     ]
    }
   ],
   "source": [
    "a = t2[1]\n",
    "print(a[0])"
   ]
  },
  {
   "cell_type": "markdown",
   "id": "151fb66a-2da3-4544-a789-16f402beb2e4",
   "metadata": {},
   "source": [
    "You can use the `len()` function to display the number of elements in a tuple. "
   ]
  },
  {
   "cell_type": "code",
   "execution_count": 27,
   "id": "0360ccb9-d918-4d0b-82de-c14f2ddde504",
   "metadata": {},
   "outputs": [
    {
     "name": "stdout",
     "output_type": "stream",
     "text": [
      "5\n",
      "3\n"
     ]
    }
   ],
   "source": [
    "print(len(t1))\n",
    "print(len(t2))"
   ]
  },
  {
   "cell_type": "markdown",
   "id": "7b573030-7dcc-4987-bbcc-2b5ccf9dbec6",
   "metadata": {},
   "source": [
    "Tuples are not associated with a whole lot of methods and are pretty light on the memory."
   ]
  },
  {
   "cell_type": "code",
   "execution_count": 29,
   "id": "9dd9d0ee-d9db-4539-8308-052eefc4b13c",
   "metadata": {},
   "outputs": [
    {
     "data": {
      "text/plain": [
       "['__add__',\n",
       " '__class__',\n",
       " '__class_getitem__',\n",
       " '__contains__',\n",
       " '__delattr__',\n",
       " '__dir__',\n",
       " '__doc__',\n",
       " '__eq__',\n",
       " '__format__',\n",
       " '__ge__',\n",
       " '__getattribute__',\n",
       " '__getitem__',\n",
       " '__getnewargs__',\n",
       " '__gt__',\n",
       " '__hash__',\n",
       " '__init__',\n",
       " '__init_subclass__',\n",
       " '__iter__',\n",
       " '__le__',\n",
       " '__len__',\n",
       " '__lt__',\n",
       " '__mul__',\n",
       " '__ne__',\n",
       " '__new__',\n",
       " '__reduce__',\n",
       " '__reduce_ex__',\n",
       " '__repr__',\n",
       " '__rmul__',\n",
       " '__setattr__',\n",
       " '__sizeof__',\n",
       " '__str__',\n",
       " '__subclasshook__',\n",
       " 'count',\n",
       " 'index']"
      ]
     },
     "execution_count": 29,
     "metadata": {},
     "output_type": "execute_result"
    }
   ],
   "source": [
    "dir(t1)"
   ]
  },
  {
   "cell_type": "markdown",
   "id": "51bf32c3-280b-4995-a5e8-7ae454948eda",
   "metadata": {},
   "source": [
    "How to use tuples in a data analysis context"
   ]
  },
  {
   "cell_type": "code",
   "execution_count": 30,
   "id": "c596146e-55b8-488c-854a-f8cb0af8be95",
   "metadata": {},
   "outputs": [],
   "source": [
    "survey_results = (\"Vadim\", \"Flushing\", 12345)"
   ]
  },
  {
   "cell_type": "markdown",
   "id": "3e22d64f-166e-4f95-bb15-f4bbeb15d466",
   "metadata": {},
   "source": [
    "then you want to assign variables quickly"
   ]
  },
  {
   "cell_type": "code",
   "execution_count": 31,
   "id": "921ccdc4-5bbf-47a5-b8ca-7f95d55dc6a7",
   "metadata": {},
   "outputs": [],
   "source": [
    "name, location, high_score = survey_results"
   ]
  },
  {
   "cell_type": "code",
   "execution_count": 32,
   "id": "2cf1714f-f6f4-49d2-a483-c5a2ea658b00",
   "metadata": {},
   "outputs": [
    {
     "name": "stdout",
     "output_type": "stream",
     "text": [
      "Name:  Vadim\n",
      "Location:  Flushing\n",
      "High score:  12345\n"
     ]
    }
   ],
   "source": [
    "print(\"Name: \", name)\n",
    "print(\"Location: \", location)\n",
    "print(\"High score: \", high_score)"
   ]
  },
  {
   "cell_type": "code",
   "execution_count": 35,
   "id": "b0e544c4-5841-4010-b90e-ad312812e1fc",
   "metadata": {},
   "outputs": [
    {
     "name": "stdout",
     "output_type": "stream",
     "text": [
      "(1, 'Ham', 'Llama', 'Cheese')\n"
     ]
    }
   ],
   "source": [
    "my_tuple = (1, 'Ham', 'Llama', 'Cheese')\n",
    "v1, v2, v3, v4 = my_tuple\n",
    "print(my_tuple)"
   ]
  },
  {
   "cell_type": "markdown",
   "id": "8a577da4-27bc-495d-916e-ce3c177f45c5",
   "metadata": {},
   "source": [
    "## Lists"
   ]
  },
  {
   "cell_type": "markdown",
   "id": "dbd6cddf-6521-413a-8f69-8ee89012e8cc",
   "metadata": {},
   "source": [
    "#### 3.1 Intro"
   ]
  },
  {
   "cell_type": "markdown",
   "id": "3785d666-4a38-4416-bc96-a65e1dbe8d67",
   "metadata": {},
   "source": [
    "Lists are used to store multiple items of one or more data types in a single variable.\n",
    "\n",
    "Lists are one of 4 built-in data types in Python used to store collections of data, the other 3 are Tuple, Set, and Dictionary, all with different qualities and usage.\n",
    "\n",
    "Lists are mutable (You can add remove or change data)\n",
    "\n",
    "Lists are created using square brackets:"
   ]
  },
  {
   "cell_type": "code",
   "execution_count": 47,
   "id": "6dca3264-cc5c-42b5-b0fd-382053eea375",
   "metadata": {},
   "outputs": [
    {
     "name": "stdout",
     "output_type": "stream",
     "text": [
      "[['a', 'b'], [3, 4], ['e', 'f']]\n"
     ]
    }
   ],
   "source": [
    "#lst1 = [\"a\",\"b\",\"c\",\"d\",\"e\",\"f\",\"g\"]\n",
    "#lst2 = [a,b,c,d,e,f,g]\n",
    "#lst3 = [1,2,3,4,5,6,7]\n",
    "#lst4 = [1,\"b\",3,\"d\",5,\"f\",7]\n",
    "#lst5 = [\"1\",\"b\",\"3\",\"d\",\"5\",\"f\",\"7\"]\n",
    "#lst6 = [[1,2],[3,4],[5,6,7,8]] \n",
    "lst7 = [[\"a\",\"b\"],[3,4],[\"e\",\"f\"]]\n",
    "\n",
    "print(lst7)\n",
    "#print(type(lst3))\n",
    "#print(lst7[0])"
   ]
  },
  {
   "cell_type": "markdown",
   "id": "2e0d943b-c65c-4c1b-bb8c-1a1b80c2f5dc",
   "metadata": {},
   "source": [
    "Use the 'append()' method to add a list to the list"
   ]
  },
  {
   "cell_type": "code",
   "execution_count": null,
   "id": "cf1721b1-39b8-4873-b880-d9e0d61f7e17",
   "metadata": {},
   "outputs": [],
   "source": [
    "#dir(lst7)"
   ]
  },
  {
   "cell_type": "code",
   "execution_count": 50,
   "id": "5082a8a2-a6b4-448f-9cf1-2cd066fbf8e9",
   "metadata": {},
   "outputs": [],
   "source": [
    "lst7.append([\"Ham\", \"Cheese\"])"
   ]
  },
  {
   "cell_type": "code",
   "execution_count": 51,
   "id": "dfdacfdc-2eb8-443c-9255-1592b9ae2bab",
   "metadata": {},
   "outputs": [
    {
     "data": {
      "text/plain": [
       "[['a', 'b'], [3, 4], ['e', 'f'], ['Ham', 'Cheese']]"
      ]
     },
     "execution_count": 51,
     "metadata": {},
     "output_type": "execute_result"
    }
   ],
   "source": [
    "print(lst7)"
   ]
  },
  {
   "cell_type": "markdown",
   "id": "a300d111-9f82-4661-976b-06445e9aab2e",
   "metadata": {},
   "source": [
    "Remove an element using the \"pop(index)\" method"
   ]
  },
  {
   "cell_type": "code",
   "execution_count": 55,
   "id": "114b2c84-65a1-4c38-910e-b259fd278832",
   "metadata": {},
   "outputs": [
    {
     "data": {
      "text/plain": [
       "[['a', 'b'], [3, 4], ['e', 'f'], ['Ham', 'Cheese']]"
      ]
     },
     "execution_count": 55,
     "metadata": {},
     "output_type": "execute_result"
    }
   ],
   "source": [
    "lst7"
   ]
  },
  {
   "cell_type": "code",
   "execution_count": 56,
   "id": "536ba610-84ab-4cfb-b13b-d083c97ed395",
   "metadata": {},
   "outputs": [
    {
     "data": {
      "text/plain": [
       "[['a', 'b'], [3, 4], ['e', 'f']]"
      ]
     },
     "execution_count": 56,
     "metadata": {},
     "output_type": "execute_result"
    }
   ],
   "source": [
    "lst7.pop(3)\n",
    "lst7"
   ]
  },
  {
   "cell_type": "markdown",
   "id": "85f53094-3525-4561-a216-27128be700d3",
   "metadata": {},
   "source": [
    "Remove an element using the \"remove(element)\" method using the element itself"
   ]
  },
  {
   "cell_type": "code",
   "execution_count": 57,
   "id": "ee3117b0-8f77-45bb-b525-f73819162f1a",
   "metadata": {},
   "outputs": [],
   "source": [
    "lst7.remove([3,4])"
   ]
  },
  {
   "cell_type": "code",
   "execution_count": 58,
   "id": "d1da2649-54a7-46df-9669-87abaaf9fc35",
   "metadata": {},
   "outputs": [
    {
     "data": {
      "text/plain": [
       "[['a', 'b'], ['e', 'f']]"
      ]
     },
     "execution_count": 58,
     "metadata": {},
     "output_type": "execute_result"
    }
   ],
   "source": [
    "print(lst7)"
   ]
  },
  {
   "cell_type": "markdown",
   "id": "4dc2f126-3f54-46d6-927c-c70d2c7fd21a",
   "metadata": {},
   "source": [
    "To insert a value at a given index, use the \"insert(index, element)\" method"
   ]
  },
  {
   "cell_type": "code",
   "execution_count": 60,
   "id": "9bf26a86-de4e-4dba-8af4-1b547722a56d",
   "metadata": {},
   "outputs": [],
   "source": [
    "lst7.insert(1,[\"c\", \"d\"])"
   ]
  },
  {
   "cell_type": "code",
   "execution_count": 62,
   "id": "7342c7c1-4820-4366-a86b-d63eb11ce618",
   "metadata": {},
   "outputs": [
    {
     "name": "stdout",
     "output_type": "stream",
     "text": [
      "[['a', 'b'], ['c', 'd'], ['e', 'f']]\n"
     ]
    }
   ],
   "source": [
    "print(lst7)"
   ]
  },
  {
   "cell_type": "markdown",
   "id": "bd9d56b5-28ec-4201-849e-03e138263237",
   "metadata": {
    "tags": []
   },
   "source": [
    "# Sets"
   ]
  },
  {
   "cell_type": "markdown",
   "id": "a27d0b82-d482-4fef-be7a-cceb36f6eb25",
   "metadata": {},
   "source": [
    "**Sets** are used to store multiple items in a single variable.\n",
    "\n",
    "Set is one of 4 built-in data types in Python used to store collections of data, the other 3 are List, Tuple, and Dictionary, all with different qualities and usage.\n",
    "\n",
    "A set is a collection which is unique, unordered, unchangeable*, and unindexed."
   ]
  },
  {
   "cell_type": "code",
   "execution_count": 63,
   "id": "91964ff7-0df7-48e8-a143-a63ae8e9a993",
   "metadata": {},
   "outputs": [],
   "source": [
    "set1 = {1,2,3}"
   ]
  },
  {
   "cell_type": "code",
   "execution_count": 64,
   "id": "a22bf3a7-0937-46c0-b216-b20fa9b7085f",
   "metadata": {},
   "outputs": [
    {
     "data": {
      "text/plain": [
       "3"
      ]
     },
     "execution_count": 64,
     "metadata": {},
     "output_type": "execute_result"
    }
   ],
   "source": [
    "len(set1)"
   ]
  },
  {
   "cell_type": "code",
   "execution_count": 65,
   "id": "af964ee7-641f-42c6-bd50-c87ca2c730e3",
   "metadata": {},
   "outputs": [
    {
     "data": {
      "text/plain": [
       "['__and__',\n",
       " '__class__',\n",
       " '__class_getitem__',\n",
       " '__contains__',\n",
       " '__delattr__',\n",
       " '__dir__',\n",
       " '__doc__',\n",
       " '__eq__',\n",
       " '__format__',\n",
       " '__ge__',\n",
       " '__getattribute__',\n",
       " '__gt__',\n",
       " '__hash__',\n",
       " '__iand__',\n",
       " '__init__',\n",
       " '__init_subclass__',\n",
       " '__ior__',\n",
       " '__isub__',\n",
       " '__iter__',\n",
       " '__ixor__',\n",
       " '__le__',\n",
       " '__len__',\n",
       " '__lt__',\n",
       " '__ne__',\n",
       " '__new__',\n",
       " '__or__',\n",
       " '__rand__',\n",
       " '__reduce__',\n",
       " '__reduce_ex__',\n",
       " '__repr__',\n",
       " '__ror__',\n",
       " '__rsub__',\n",
       " '__rxor__',\n",
       " '__setattr__',\n",
       " '__sizeof__',\n",
       " '__str__',\n",
       " '__sub__',\n",
       " '__subclasshook__',\n",
       " '__xor__',\n",
       " 'add',\n",
       " 'clear',\n",
       " 'copy',\n",
       " 'difference',\n",
       " 'difference_update',\n",
       " 'discard',\n",
       " 'intersection',\n",
       " 'intersection_update',\n",
       " 'isdisjoint',\n",
       " 'issubset',\n",
       " 'issuperset',\n",
       " 'pop',\n",
       " 'remove',\n",
       " 'symmetric_difference',\n",
       " 'symmetric_difference_update',\n",
       " 'union',\n",
       " 'update']"
      ]
     },
     "execution_count": 65,
     "metadata": {},
     "output_type": "execute_result"
    }
   ],
   "source": [
    "dir(set1)"
   ]
  },
  {
   "cell_type": "code",
   "execution_count": 69,
   "id": "167cd8bb-cdea-4976-b826-3181583db8c0",
   "metadata": {},
   "outputs": [
    {
     "data": {
      "text/plain": [
       "{1, 2, 3, 4}"
      ]
     },
     "execution_count": 69,
     "metadata": {},
     "output_type": "execute_result"
    }
   ],
   "source": [
    "set1.add(4)\n",
    "set1"
   ]
  },
  {
   "cell_type": "code",
   "execution_count": 71,
   "id": "1ee7d974-c96c-44e8-a567-c7e22ba0b424",
   "metadata": {},
   "outputs": [
    {
     "data": {
      "text/plain": [
       "{1, 2, 3, 4, 5}"
      ]
     },
     "execution_count": 71,
     "metadata": {},
     "output_type": "execute_result"
    }
   ],
   "source": [
    "set1.add(5)\n",
    "set1"
   ]
  },
  {
   "cell_type": "code",
   "execution_count": 72,
   "id": "f083e323-83b5-4160-9e6d-61865ebfb6bc",
   "metadata": {},
   "outputs": [
    {
     "data": {
      "text/plain": [
       "{1, 2, 3, 4}"
      ]
     },
     "execution_count": 72,
     "metadata": {},
     "output_type": "execute_result"
    }
   ],
   "source": [
    "set1.remove(5)\n",
    "set1"
   ]
  },
  {
   "cell_type": "markdown",
   "id": "e6fb86d1-a5f5-4475-b123-653b9d6b61fb",
   "metadata": {},
   "source": [
    "##### Operations on sets with `|`,`&`,`-`"
   ]
  },
  {
   "cell_type": "code",
   "execution_count": 73,
   "id": "7626cbab-bfe3-4373-99f4-3e4d9f61dfdf",
   "metadata": {},
   "outputs": [],
   "source": [
    "set1 = {4,5,6,7}\n",
    "set2 = {1,2,3,4,5,6,7}"
   ]
  },
  {
   "cell_type": "code",
   "execution_count": 74,
   "id": "516ee5ac-9780-4501-a6df-4b14a83077a5",
   "metadata": {},
   "outputs": [],
   "source": [
    "set2 = {1,2,3,4,5,6,7}"
   ]
  },
  {
   "cell_type": "code",
   "execution_count": 75,
   "id": "ad373627-c46d-4dca-96f6-9e0d488053b1",
   "metadata": {},
   "outputs": [
    {
     "data": {
      "text/plain": [
       "{1, 2, 3, 4, 5, 6, 7}"
      ]
     },
     "execution_count": 75,
     "metadata": {},
     "output_type": "execute_result"
    }
   ],
   "source": [
    "set3 = set1|set2\n",
    "set3"
   ]
  },
  {
   "cell_type": "code",
   "execution_count": 76,
   "id": "48995a5c-1c87-4600-8cc9-444466016d11",
   "metadata": {},
   "outputs": [
    {
     "data": {
      "text/plain": [
       "{4, 5, 6, 7}"
      ]
     },
     "execution_count": 76,
     "metadata": {},
     "output_type": "execute_result"
    }
   ],
   "source": [
    "set4 = set1&set2\n",
    "set4"
   ]
  },
  {
   "cell_type": "code",
   "execution_count": 77,
   "id": "dc100387-6131-42c0-93ff-e63f41d0ae2c",
   "metadata": {},
   "outputs": [
    {
     "data": {
      "text/plain": [
       "{1, 2, 3}"
      ]
     },
     "execution_count": 77,
     "metadata": {},
     "output_type": "execute_result"
    }
   ],
   "source": [
    "set5 = set2-set1\n",
    "set5"
   ]
  },
  {
   "cell_type": "code",
   "execution_count": 79,
   "id": "b2243384-0fe1-42e7-9860-a65cbdb8632b",
   "metadata": {},
   "outputs": [
    {
     "data": {
      "text/plain": [
       "{1, 2, 3, 4, 5, 6, 7}"
      ]
     },
     "execution_count": 79,
     "metadata": {},
     "output_type": "execute_result"
    }
   ],
   "source": [
    "lst1 = [1,1,1,2,2,2,3,4,5,6,7,7,7]\n",
    "\n",
    "unique_set = set(lst1)\n",
    "\n",
    "unique_set"
   ]
  },
  {
   "cell_type": "markdown",
   "id": "8596460e-1a36-4c75-83e8-f4cd8c4512b3",
   "metadata": {},
   "source": [
    "# Dictionaries"
   ]
  },
  {
   "cell_type": "markdown",
   "id": "7ca93998-a33f-4aea-9992-42da276367c9",
   "metadata": {},
   "source": [
    "Dictionaries are used to store data values in key:value pairs.\n",
    "\n",
    "A dictionary is a collection which is ordered*, mutable and do not allow duplicates.\n",
    "\n",
    "dictionary = {key1:value1, key2:value2....}"
   ]
  },
  {
   "cell_type": "markdown",
   "id": "f3572dad-f7e8-46a0-bbfc-63ff9b0f2f3f",
   "metadata": {},
   "source": [
    "How you create a dictionary:"
   ]
  },
  {
   "cell_type": "code",
   "execution_count": 80,
   "id": "8830e48b-3b99-4f2b-91a9-431710d70b5b",
   "metadata": {},
   "outputs": [],
   "source": [
    "capitals = {\"USA\":\"Washington D.C.\",\n",
    "            \"Japan\": \"Tokyo\",\n",
    "            \"India\":\"New Delhi\",\n",
    "            \"Cuba\": \"Santiago\",\n",
    "           \"Switzerland\":\"Bern\"}"
   ]
  },
  {
   "cell_type": "markdown",
   "id": "8cf97582-b09f-4e5c-bba5-c081bf7ea6e5",
   "metadata": {},
   "source": [
    "To retrive a value from a dictrionary use the key"
   ]
  },
  {
   "cell_type": "code",
   "execution_count": 81,
   "id": "54b55699-f080-4f9e-a7f5-47442282adce",
   "metadata": {},
   "outputs": [
    {
     "name": "stdout",
     "output_type": "stream",
     "text": [
      "New Delhi\n"
     ]
    }
   ],
   "source": [
    "print(capitals[\"India\"])"
   ]
  },
  {
   "cell_type": "markdown",
   "id": "5caf56d4-511c-4a0d-ae7f-4e1153cf49a9",
   "metadata": {},
   "source": [
    "##### Add key/value pair to dictionary with the `update()` method"
   ]
  },
  {
   "cell_type": "code",
   "execution_count": 82,
   "id": "4add9d18-baf2-4fab-945c-7d1199ac9ecd",
   "metadata": {},
   "outputs": [],
   "source": [
    "capitals.update({\"Germany\":\"Berlin\"})"
   ]
  },
  {
   "cell_type": "code",
   "execution_count": 83,
   "id": "68050876-ea09-4c93-8c3b-e3c9e33741e2",
   "metadata": {},
   "outputs": [
    {
     "name": "stdout",
     "output_type": "stream",
     "text": [
      "{'USA': 'Washington D.C.', 'Japan': 'Tokyo', 'India': 'New Delhi', 'Cuba': 'Santiago', 'Switzerland': 'Bern', 'Germany': 'Berlin'}\n"
     ]
    }
   ],
   "source": [
    "print(capitals)"
   ]
  },
  {
   "cell_type": "markdown",
   "id": "5d027fed-566c-46ae-a50b-d0aa6bb05fa2",
   "metadata": {},
   "source": [
    "##### Alter key/value pair in the dictionary with the `update()` method"
   ]
  },
  {
   "cell_type": "code",
   "execution_count": 84,
   "id": "de31380b-15e0-4b7d-96d8-32082d68ec4b",
   "metadata": {},
   "outputs": [],
   "source": [
    "capitals.update({\"Cuba\":\"Havana\"})"
   ]
  },
  {
   "cell_type": "code",
   "execution_count": 85,
   "id": "e14fd456-32cb-4afa-8eef-f3d8f0a77be0",
   "metadata": {},
   "outputs": [
    {
     "name": "stdout",
     "output_type": "stream",
     "text": [
      "{'USA': 'Washington D.C.', 'Japan': 'Tokyo', 'India': 'New Delhi', 'Cuba': 'Havana', 'Switzerland': 'Bern', 'Germany': 'Berlin'}\n"
     ]
    }
   ],
   "source": [
    "print(capitals)"
   ]
  },
  {
   "cell_type": "markdown",
   "id": "11df20bd-eb9d-4d1d-b057-7c323d6305af",
   "metadata": {},
   "source": [
    "##### Remove key/value pair from the dictionary with the `pop()` method"
   ]
  },
  {
   "cell_type": "code",
   "execution_count": 86,
   "id": "3bf758a5-b9b9-427d-bf7b-090cc351bbf1",
   "metadata": {},
   "outputs": [
    {
     "data": {
      "text/plain": [
       "'Bern'"
      ]
     },
     "execution_count": 86,
     "metadata": {},
     "output_type": "execute_result"
    }
   ],
   "source": [
    "capitals.pop(\"Switzerland\")"
   ]
  },
  {
   "cell_type": "code",
   "execution_count": 87,
   "id": "6b9286b6-6175-4139-8a0d-9062cc4a78c8",
   "metadata": {},
   "outputs": [
    {
     "name": "stdout",
     "output_type": "stream",
     "text": [
      "{'USA': 'Washington D.C.', 'Japan': 'Tokyo', 'India': 'New Delhi', 'Cuba': 'Havana', 'Germany': 'Berlin'}\n"
     ]
    }
   ],
   "source": [
    "print(capitals)"
   ]
  },
  {
   "cell_type": "markdown",
   "id": "e83f9376-0c97-4daa-b531-3bd001b6098f",
   "metadata": {},
   "source": [
    "##### Remove most recent key/value pair with `popitem()`"
   ]
  },
  {
   "cell_type": "code",
   "execution_count": 88,
   "id": "4954bc2e-55b6-4e5c-a0a1-cd607f4e0a97",
   "metadata": {},
   "outputs": [
    {
     "data": {
      "text/plain": [
       "('Germany', 'Berlin')"
      ]
     },
     "execution_count": 88,
     "metadata": {},
     "output_type": "execute_result"
    }
   ],
   "source": [
    "capitals.popitem()"
   ]
  },
  {
   "cell_type": "code",
   "execution_count": 89,
   "id": "eebd6493-3dbb-485c-8482-567c54c0215c",
   "metadata": {},
   "outputs": [
    {
     "name": "stdout",
     "output_type": "stream",
     "text": [
      "{'USA': 'Washington D.C.', 'Japan': 'Tokyo', 'India': 'New Delhi', 'Cuba': 'Havana'}\n"
     ]
    }
   ],
   "source": [
    "print(capitals)"
   ]
  },
  {
   "cell_type": "markdown",
   "id": "eeda7324-3b33-4e8c-8566-bd93488ce56f",
   "metadata": {},
   "source": [
    "##### Retrieve all keys in dictionary with the `keys()` method"
   ]
  },
  {
   "cell_type": "code",
   "execution_count": 90,
   "id": "a5a0bf63-163e-41e8-b40c-dab49a50381d",
   "metadata": {},
   "outputs": [],
   "source": [
    "keys = capitals.keys()"
   ]
  },
  {
   "cell_type": "code",
   "execution_count": 91,
   "id": "a9bb981c-d90c-47e7-97a8-73e3c66aa2f7",
   "metadata": {},
   "outputs": [
    {
     "data": {
      "text/plain": [
       "dict_keys(['USA', 'Japan', 'India', 'Cuba'])"
      ]
     },
     "execution_count": 91,
     "metadata": {},
     "output_type": "execute_result"
    }
   ],
   "source": [
    "keys"
   ]
  },
  {
   "cell_type": "markdown",
   "id": "c009efb9-6f8b-43b5-b35f-758fb9706a35",
   "metadata": {},
   "source": [
    "##### Retrieve all values in dictionary with the `values()` method"
   ]
  },
  {
   "cell_type": "code",
   "execution_count": 92,
   "id": "530fff7a-58c0-4ff4-a8f0-81cf5d057fec",
   "metadata": {},
   "outputs": [],
   "source": [
    "values = capitals.keys()"
   ]
  },
  {
   "cell_type": "code",
   "execution_count": 93,
   "id": "cd5bc36c-322b-4b2f-a295-9cb61dac4482",
   "metadata": {},
   "outputs": [
    {
     "data": {
      "text/plain": [
       "dict_keys(['USA', 'Japan', 'India', 'Cuba'])"
      ]
     },
     "execution_count": 93,
     "metadata": {},
     "output_type": "execute_result"
    }
   ],
   "source": [
    "values"
   ]
  },
  {
   "cell_type": "code",
   "execution_count": null,
   "id": "171ccbd0-b5a5-4514-a590-d3bd8bc76e97",
   "metadata": {},
   "outputs": [],
   "source": []
  }
 ],
 "metadata": {
  "kernelspec": {
   "display_name": "Python 3 (ipykernel)",
   "language": "python",
   "name": "python3"
  },
  "language_info": {
   "codemirror_mode": {
    "name": "ipython",
    "version": 3
   },
   "file_extension": ".py",
   "mimetype": "text/x-python",
   "name": "python",
   "nbconvert_exporter": "python",
   "pygments_lexer": "ipython3",
   "version": "3.9.13"
  }
 },
 "nbformat": 4,
 "nbformat_minor": 5
}
