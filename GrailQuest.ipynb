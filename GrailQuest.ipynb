{
 "cells": [
  {
   "cell_type": "markdown",
   "id": "8d7912d1-bfca-47a7-a77d-e3ada927a3c4",
   "metadata": {},
   "source": [
    "# We seek the GRAIL!"
   ]
  },
  {
   "cell_type": "code",
   "execution_count": 4,
   "id": "4fa35fb9-f4ac-46f9-ba4d-12afcb523096",
   "metadata": {},
   "outputs": [],
   "source": [
    "#There was supposed to be a 15% discount, but Gimli worries that he spent too much.  \n",
    "#The items he purchased cost: \n",
    "#[32, 52, 16, 26, 61, 19, 33, 53, 23, 6, 68, 82]"
   ]
  },
  {
   "cell_type": "code",
   "execution_count": 7,
   "id": "a5796fbc-3ac0-42aa-994b-13627784ec87",
   "metadata": {},
   "outputs": [
    {
     "name": "stdout",
     "output_type": "stream",
     "text": [
      "400.35\n"
     ]
    }
   ],
   "source": [
    "prices = [32, 52, 16, 26, 61, 19, 33, 53, 23, 6, 68, 82]\n",
    "sum_of_prices = sum(prices)\n",
    "total=round(.85*sum_of_prices,2)\n",
    "print(total)"
   ]
  },
  {
   "cell_type": "code",
   "execution_count": 10,
   "id": "13d416a1-455a-440e-adca-807174ad3945",
   "metadata": {},
   "outputs": [
    {
     "name": "stdout",
     "output_type": "stream",
     "text": [
      "400.35\n"
     ]
    }
   ],
   "source": [
    "#alternate method \n",
    "total=0\n",
    "for i in prices:\n",
    "    total+=i\n",
    "print (round(total*.85,2))  # what is 85% of the sum of all the prices?"
   ]
  },
  {
   "cell_type": "code",
   "execution_count": null,
   "id": "c3f67f61-a32a-44e2-a8fd-2e7755789e94",
   "metadata": {},
   "outputs": [],
   "source": [
    "#The troll doesn't know how to retrieve information from the dictionary.  Can you help him find Sir Lancelot's favorite color?  "
   ]
  },
  {
   "cell_type": "code",
   "execution_count": 9,
   "id": "5f4a9aad-7640-47f4-be7e-bcc3fd16c650",
   "metadata": {},
   "outputs": [],
   "source": [
    "visitor_info = {\n",
    "\n",
    "    \"name\": \"Sir Lancelot\",\n",
    "    \"quest\": \"To seek the Holy Grail\",\n",
    "    \"favorite_color\": \"Blue\"\n",
    "}"
   ]
  },
  {
   "cell_type": "code",
   "execution_count": 2,
   "id": "98365e64-0dc1-4c1d-a76f-9e8bdbdd7477",
   "metadata": {},
   "outputs": [
    {
     "name": "stdout",
     "output_type": "stream",
     "text": [
      "Blue\n"
     ]
    }
   ],
   "source": [
    "print (visitor_info['favorite_color'])"
   ]
  },
  {
   "cell_type": "code",
   "execution_count": null,
   "id": "d1172811-edf2-4c8e-a3e7-045bede9e38d",
   "metadata": {},
   "outputs": [],
   "source": []
  },
  {
   "cell_type": "code",
   "execution_count": null,
   "id": "ceb9295d-0797-49c9-a631-62a91d1d4033",
   "metadata": {},
   "outputs": [],
   "source": [
    "#The carriages weigh 825 pounds each.  The bridge can only hold 3000 pounds.  \n",
    "#How many carriages can cross the bridge at one time?\" "
   ]
  },
  {
   "cell_type": "code",
   "execution_count": 48,
   "id": "364e726f-1caf-4d7e-ba26-2debad9aecba",
   "metadata": {},
   "outputs": [
    {
     "name": "stdout",
     "output_type": "stream",
     "text": [
      "3\n"
     ]
    }
   ],
   "source": [
    "# floor division\n",
    "carriages = 3000//825\n",
    "print (carriages)   "
   ]
  },
  {
   "cell_type": "code",
   "execution_count": 61,
   "id": "251540c5-57b4-442a-bcef-0889c7b5016f",
   "metadata": {},
   "outputs": [
    {
     "name": "stdout",
     "output_type": "stream",
     "text": [
      "20\n"
     ]
    }
   ],
   "source": [
    "import math\n",
    "if 11%carriages==0:\n",
    "   trips = (11//carriages)*5\n",
    "else: \n",
    "    trips = (11//carriages+1)*5\n",
    "print (trips)"
   ]
  },
  {
   "cell_type": "code",
   "execution_count": 62,
   "id": "0cb55426-ded6-4f89-81c3-cd580830733c",
   "metadata": {},
   "outputs": [
    {
     "name": "stdout",
     "output_type": "stream",
     "text": [
      "20\n"
     ]
    }
   ],
   "source": [
    "# you can also use the ceiling function in the math library \n",
    "trips = math.ceil(11/carriages)*5\n",
    "print (trips)"
   ]
  },
  {
   "cell_type": "code",
   "execution_count": null,
   "id": "a43f087d-c352-4ea1-b277-adcac79732be",
   "metadata": {},
   "outputs": [],
   "source": [
    "#The door has two locks and the man mutters as if with two voices at once with \n",
    "#every odd word sounding in one voice and every even word sounding in another:\n",
    "\n",
    "#\"The to memory obtain and something the something senses\n",
    "# of are equal but value the must nourishment be of given creation\""
   ]
  },
  {
   "cell_type": "code",
   "execution_count": 63,
   "id": "c8d2e759-c452-4b0b-ae74-b96e8fb19ec1",
   "metadata": {},
   "outputs": [],
   "source": [
    "string = \"The to memory obtain and something the something senses of are equal but value the must nourishment be of given creation\"\n",
    "words = string.split()"
   ]
  },
  {
   "cell_type": "code",
   "execution_count": 74,
   "id": "0ec203bc-d39d-4bc0-b9e1-71e15e42c4cf",
   "metadata": {},
   "outputs": [
    {
     "name": "stdout",
     "output_type": "stream",
     "text": [
      "['The', 'memory', 'and', 'the', 'senses', 'are', 'but', 'the', 'nourishment', 'of', 'creation']\n",
      "['to', 'obtain', 'something', 'something', 'of', 'equal', 'value', 'must', 'be', 'given']\n"
     ]
    }
   ],
   "source": [
    "password1 = words[0::2]\n",
    "password2 = words[1::2]\n",
    "print (password1)\n",
    "print (password2)"
   ]
  },
  {
   "cell_type": "code",
   "execution_count": 64,
   "id": "53240b98-f7bd-474f-8fad-25e749adda7a",
   "metadata": {},
   "outputs": [
    {
     "name": "stdout",
     "output_type": "stream",
     "text": [
      "['The', 'memory', 'and', 'the', 'senses', 'are', 'but', 'the', 'nourishment', 'of', 'creation']\n",
      "['to', 'obtain', 'something', 'something', 'of', 'equal', 'value', 'must', 'be', 'given']\n"
     ]
    }
   ],
   "source": [
    "counter=0\n",
    "phrase1=[]\n",
    "phrase2=[]\n",
    "for word in words:\n",
    "    if (counter%2==0):\n",
    "       phrase1.append(word)\n",
    "    else:\n",
    "       phrase2.append(word)\n",
    "    counter+=1\n",
    "print (phrase1)\n",
    "print (phrase2)"
   ]
  },
  {
   "cell_type": "code",
   "execution_count": 68,
   "id": "5f5864ff-0532-40d9-9489-91700c5bd78c",
   "metadata": {},
   "outputs": [],
   "source": [
    "phrase1 = ' '.join(map(str,phrase1))\n",
    "phrase2 = ' '.join(map(str,phrase2))\n"
   ]
  },
  {
   "cell_type": "code",
   "execution_count": 69,
   "id": "9f1505c4-4bad-4703-9628-470df02b761f",
   "metadata": {},
   "outputs": [
    {
     "name": "stdout",
     "output_type": "stream",
     "text": [
      "The memory and the senses are but the nourishment of creation\n",
      "to obtain something something of equal value must be given\n"
     ]
    }
   ],
   "source": [
    "print (phrase1)\n",
    "print (phrase2)"
   ]
  },
  {
   "cell_type": "code",
   "execution_count": null,
   "id": "3252bd4e-1357-473b-875e-f01191e80106",
   "metadata": {},
   "outputs": [],
   "source": [
    "#I remember that there were 3 digits in the combination.  \n",
    "#The sum of the digits is 7 and the product of all the digits is 8.   \n",
    "#Also,  the second digit is larger than the first, and the third digit is larger than the second. "
   ]
  },
  {
   "cell_type": "code",
   "execution_count": 77,
   "id": "7d8c9450-025b-4c20-bc72-d506a1f7dd16",
   "metadata": {},
   "outputs": [
    {
     "name": "stdout",
     "output_type": "stream",
     "text": [
      "124 7 8\n"
     ]
    }
   ],
   "source": [
    "#has to be a 3 digit number\n",
    "for i in range (1000):\n",
    "    istring = str(i)\n",
    "    sum=0\n",
    "    product=1\n",
    "    for digit in istring:\n",
    "      #print (digit)\n",
    "      sum = sum+int(digit)\n",
    "      product = product*int(digit)  \n",
    "      if sum==7 and product==8 and int(istring[2])>int(istring[1]) and int(istring[1])>int(istring[0]):\n",
    "         print (i, sum, product)"
   ]
  },
  {
   "cell_type": "code",
   "execution_count": null,
   "id": "001ad607-d302-48d2-b922-099dae4c8cab",
   "metadata": {},
   "outputs": [],
   "source": []
  },
  {
   "cell_type": "code",
   "execution_count": 66,
   "id": "34893bdd-8fb2-4315-a979-5b3ba2c4dd11",
   "metadata": {},
   "outputs": [],
   "source": [
    "# bonus question: what's the 20th number in the fibonacci sequence"
   ]
  },
  {
   "cell_type": "code",
   "execution_count": 80,
   "id": "38b4a663-1ffc-4851-91cd-0587de896be5",
   "metadata": {
    "tags": []
   },
   "outputs": [
    {
     "name": "stdout",
     "output_type": "stream",
     "text": [
      "6765\n"
     ]
    }
   ],
   "source": [
    "def fibonacci(n):\n",
    "    if n == 0:\n",
    "        return 0\n",
    "    elif n == 1:\n",
    "        return 1\n",
    "    else:\n",
    "        return fibonacci(n-1) + fibonacci(n-2)\n",
    "\n",
    "# Example usage\n",
    "print(fibonacci(20))"
   ]
  },
  {
   "cell_type": "code",
   "execution_count": null,
   "id": "2f6cf7f0-1295-41ba-82c6-630fa3424819",
   "metadata": {},
   "outputs": [],
   "source": []
  }
 ],
 "metadata": {
  "kernelspec": {
   "display_name": "Python 3 (ipykernel)",
   "language": "python",
   "name": "python3"
  },
  "language_info": {
   "codemirror_mode": {
    "name": "ipython",
    "version": 3
   },
   "file_extension": ".py",
   "mimetype": "text/x-python",
   "name": "python",
   "nbconvert_exporter": "python",
   "pygments_lexer": "ipython3",
   "version": "3.9.7"
  }
 },
 "nbformat": 4,
 "nbformat_minor": 5
}
